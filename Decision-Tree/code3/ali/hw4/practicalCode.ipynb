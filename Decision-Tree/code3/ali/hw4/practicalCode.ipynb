{
 "cells": [
  {
   "cell_type": "code",
   "execution_count": 64,
   "metadata": {},
   "outputs": [],
   "source": [
    "KB = {\n",
    "    'R1' : \"not p11\",\n",
    "    'R2' : \"iff ( b11 , p12 and p21 )\",\n",
    "    'R3' : \"iff ( b21 , p11 or p22 )\" ,\n",
    "    'R4' : \"not b11\"\n",
    "}"
   ]
  },
  {
   "cell_type": "code",
   "execution_count": 65,
   "metadata": {},
   "outputs": [],
   "source": [
    "alpha = \"p21\""
   ]
  },
  {
   "cell_type": "code",
   "execution_count": 50,
   "metadata": {},
   "outputs": [],
   "source": [
    "def implies (a,b):\n",
    "    return not a or b "
   ]
  },
  {
   "cell_type": "code",
   "execution_count": 51,
   "metadata": {},
   "outputs": [],
   "source": [
    "def iff (a,b):\n",
    "    return (not a or b) and (not b or a)"
   ]
  },
  {
   "cell_type": "code",
   "execution_count": 52,
   "metadata": {},
   "outputs": [],
   "source": [
    "def makeSentence (KB):\n",
    "    sentence = ''\n",
    "    for i in KB:\n",
    "        sentence = sentence + KB[i]\n",
    "        sentence = sentence + \" \" + \"and\" + \" \"\n",
    "    \n",
    "    return sentence[:-5]"
   ]
  },
  {
   "cell_type": "code",
   "execution_count": 53,
   "metadata": {},
   "outputs": [],
   "source": [
    "def extractSym (sentence):\n",
    "    resault = []\n",
    "    for i in range(len(sentence)):\n",
    "        if sentence[i] == 'b' or sentence[i] == 'p' :\n",
    "            if sentence[i] + sentence[i + 1] + sentence[i + 2] not in resault :\n",
    "                resault.append(sentence[i] + sentence[i + 1] + sentence[i + 2] )\n",
    "    return resault"
   ]
  },
  {
   "cell_type": "code",
   "execution_count": 54,
   "metadata": {},
   "outputs": [],
   "source": [
    "def PL_True (sentence , model):\n",
    "    for i in model:\n",
    "        exec(i)\n",
    "    return eval(sentence)"
   ]
  },
  {
   "cell_type": "code",
   "execution_count": 67,
   "metadata": {},
   "outputs": [],
   "source": [
    "KBinSentence = makeSentence(KB)"
   ]
  },
  {
   "cell_type": "code",
   "execution_count": 56,
   "metadata": {},
   "outputs": [],
   "source": [
    "import copy\n",
    "def tt_check_all(KB , alpha , symbols , model):\n",
    "    if len( symbols ) == 0 :\n",
    "        if PL_True(KB , model):\n",
    "            return PL_True(alpha , model)\n",
    "        else :\n",
    "            return True\n",
    "    else :\n",
    "        p = symbols[0]\n",
    "        rest = symbols[1:]\n",
    "        firstVariance = copy.deepcopy( model )\n",
    "        model.append(f\"{p}=True\")\n",
    "        firstVariance.append(f\"{p}=False\")\n",
    "        return tt_check_all(KB , alpha , rest , model) and tt_check_all(KB , alpha , rest , firstVariance )"
   ]
  },
  {
   "cell_type": "code",
   "execution_count": 57,
   "metadata": {},
   "outputs": [],
   "source": [
    "def tt_entails(kb , alpha):\n",
    "    symbols = []\n",
    "    symbols.extend(extractSym(kb + \" \" + alpha))\n",
    "    model = []\n",
    "    return tt_check_all(kb , alpha , symbols , model)"
   ]
  },
  {
   "cell_type": "code",
   "execution_count": 68,
   "metadata": {},
   "outputs": [
    {
     "name": "stdout",
     "output_type": "stream",
     "text": [
      "kb is : {'R1': 'not p11', 'R2': 'iff ( b11 , p12 and p21 )', 'R3': 'iff ( b21 , p11 or p22 )', 'R4': 'not b11'}\n",
      "alpha is : p21\n",
      "False\n"
     ]
    }
   ],
   "source": [
    "print(f\"kb is : {KB}\")\n",
    "print(f\"alpha is : {alpha}\")\n",
    "print( tt_entails(KBinSentence , alpha) )"
   ]
  }
 ],
 "metadata": {
  "kernelspec": {
   "display_name": "Python 3.9.12 ('base')",
   "language": "python",
   "name": "python3"
  },
  "language_info": {
   "codemirror_mode": {
    "name": "ipython",
    "version": 3
   },
   "file_extension": ".py",
   "mimetype": "text/x-python",
   "name": "python",
   "nbconvert_exporter": "python",
   "pygments_lexer": "ipython3",
   "version": "3.9.12"
  },
  "orig_nbformat": 4,
  "vscode": {
   "interpreter": {
    "hash": "19d1d53a962d236aa061289c2ac16dc8e6d9648c89fe79f459ae9a3493bc67b4"
   }
  }
 },
 "nbformat": 4,
 "nbformat_minor": 2
}
