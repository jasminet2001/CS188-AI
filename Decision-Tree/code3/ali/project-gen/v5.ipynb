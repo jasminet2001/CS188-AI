{
 "cells": [
  {
   "cell_type": "markdown",
   "metadata": {},
   "source": [
    "**version 5 :** \n",
    "trying to get better resault in main Algorithm & solved somethings!\n",
    "<br>\n",
    "**changes :**\n",
    "- keeps alive the 20% of the top (after 50 % progress)\n",
    "- solved the math problems with epsilon \n",
    "- some of the hyper parameters had tunned"
   ]
  },
  {
   "cell_type": "markdown",
   "metadata": {},
   "source": [
    "**insights :**\n",
    "<br>\n",
    "- list of hyperparameter must tune that recognize:\n",
    " 1. number of geneerations (time and fitness trade-off) => set to at least 20 times .\n",
    " <br>\n",
    " 2. number of each populations => set to 100 .\n",
    " <br>\n",
    " 3. possibilities of having mutations\n",
    " <br>\n",
    " 4. maximum number of depth that each tree can have\n",
    " <br>\n",
    " 5. the way of crossovers (completely random or something diffrent)\n",
    " <br>\n",
    " 6. change the power of mse in middle of way\n",
    " <br>\n",
    " 7. the time that is better to keeps them alive \n",
    " <br>\n",
    " 8. the percentage of each gen must keeps alive\n",
    " <br>\n",
    "</list>\n",
    "- problems of domain in caclulates and infinity => cuz of cos or sin of infinity => soloutuon : add an epsilon! \n"
   ]
  },
  {
   "cell_type": "markdown",
   "metadata": {},
   "source": [
    "setups:\n",
    "- number of gens : 20 \n",
    "- number of each popluations : 100\n",
    "- chance of mutation : 5 % \n",
    "- percentege of saves per population : 20 % (after 50 % of way .)\n",
    "- maximum number of depth : 5 "
   ]
  },
  {
   "cell_type": "code",
   "execution_count": 232,
   "metadata": {},
   "outputs": [],
   "source": [
    "import random\n",
    "import plotly.express as px\n",
    "import matplotlib.pyplot as plt\n",
    "import pandas as pd\n",
    "import numpy as np\n",
    "from sklearn.metrics import mean_squared_error\n",
    "import math\n",
    "operators = [\"+\" , \"-\" , \"*\" , \"/\" ] # can add pow to the set \"^\"\n",
    "singleOperators = [\"sin\" , \"cos\"] # in sin & cos , right node is always NULL\n",
    "epsilon = 0.0000001\n",
    "x1 = 2\n",
    "x2 = 5\n",
    "defaultValues = (x1 , x2 )\n",
    "listOfInputs = [\"x1\" , \"x2\"]\n",
    "CoefficientsRagne = 10\n",
    "allOperators = []\n",
    "allOperators.extend(operators)\n",
    "allOperators.extend(singleOperators)"
   ]
  },
  {
   "cell_type": "code",
   "execution_count": 2,
   "metadata": {},
   "outputs": [],
   "source": [
    "class node ():\n",
    "    def __init__(self , operator , rightnode = None , leftnode = None  , father = None):\n",
    "        self.father = father\n",
    "        self.leaf = False\n",
    "        self.rightnode = rightnode\n",
    "        self.leftnode = leftnode\n",
    "        if operator in operators or operator in singleOperators  :\n",
    "            self.operator = operator\n",
    "        elif (type (operator) is int) or operator in listOfInputs : # this is the way we know the leaf and nodes\n",
    "            self.leaf = True\n",
    "            self.operator = operator \n",
    "        else :\n",
    "            print(\"operator not assigned - wrong input\")\n",
    "        \n",
    "    def assignOperator (self ):\n",
    "        x = input()\n",
    "        while (x not in operators and x not in singleOperators ) and not x.isnumeric():\n",
    "            print(\"x is not true ! try again !\")\n",
    "            x = input()\n",
    "        self.operator = x\n",
    "        if x.isnumeric() : # clear the down nodes\n",
    "            self.leaf = True\n",
    "            self.leftnode = None\n",
    "            self.rightnode = None\n",
    "    def addNode (self , node):\n",
    "        if self.leaf == False :\n",
    "            if self.leftnode == None :\n",
    "                self.leftnode = node\n",
    "                node.father = self\n",
    "                return True\n",
    "            elif self.rightnode == None and self.operator not in singleOperators:\n",
    "                self.rightnode = node\n",
    "                node.father = self\n",
    "                return True\n",
    "            else:\n",
    "                if self.leftnode.addNode(node) :\n",
    "                    return True\n",
    "                if self.operator not in singleOperators:\n",
    "                    if self.rightnode.addNode(node) :\n",
    "                        return True\n",
    "            return False\n",
    "        return False"
   ]
  },
  {
   "cell_type": "code",
   "execution_count": 3,
   "metadata": {},
   "outputs": [
    {
     "name": "stdout",
     "output_type": "stream",
     "text": [
      "operator not assigned - wrong input\n"
     ]
    }
   ],
   "source": [
    "test = node(\"\")"
   ]
  },
  {
   "cell_type": "code",
   "execution_count": 4,
   "metadata": {},
   "outputs": [],
   "source": [
    "test.assignOperator()"
   ]
  },
  {
   "cell_type": "code",
   "execution_count": 5,
   "metadata": {},
   "outputs": [
    {
     "data": {
      "text/plain": [
       "<__main__.node at 0x21ac496b160>"
      ]
     },
     "execution_count": 5,
     "metadata": {},
     "output_type": "execute_result"
    }
   ],
   "source": [
    "test"
   ]
  },
  {
   "cell_type": "code",
   "execution_count": 6,
   "metadata": {},
   "outputs": [
    {
     "data": {
      "text/plain": [
       "'+'"
      ]
     },
     "execution_count": 6,
     "metadata": {},
     "output_type": "execute_result"
    }
   ],
   "source": [
    "test.operator"
   ]
  },
  {
   "cell_type": "code",
   "execution_count": 3,
   "metadata": {},
   "outputs": [],
   "source": [
    "class tree ():\n",
    "    def __init__(self , root):\n",
    "        self.numnerOfNodes = 1\n",
    "        self.LeafList = []\n",
    "        self.LeafList.append(root)\n",
    "        if type( root ) is node :\n",
    "            self.root = root\n",
    "        else:\n",
    "            print(\"try another time plz . \")\n",
    "    def calculateFather(self,node):\n",
    "        counter = 1 \n",
    "        temp = node.father\n",
    "        if temp != None :\n",
    "            while temp.father != None :\n",
    "                temp = temp.father\n",
    "                counter = counter + 1\n",
    "        return counter\n",
    "    def addNodeInSurf (self , node ):\n",
    "        MaxNumsOfFather = 1000\n",
    "        nodeTemp = None\n",
    "        for item in self.LeafList : \n",
    "            temp = self.calculateFather(item)\n",
    "            if temp < MaxNumsOfFather :\n",
    "                MaxNumsOfFather = temp\n",
    "                nodeTemp = item\n",
    "        if nodeTemp.leftnode == None :\n",
    "            nodeTemp.leftnode = node\n",
    "            node.father = nodeTemp\n",
    "            self.LeafList.append(node)\n",
    "            if nodeTemp.rightnode != None or nodeTemp.operator in singleOperators :\n",
    "                self.LeafList.remove(nodeTemp)\n",
    "        elif nodeTemp.rightnode == None and nodeTemp.operator not in singleOperators:\n",
    "            nodeTemp.rightnode = node\n",
    "            node.father = nodeTemp\n",
    "            self.LeafList.append(node)\n",
    "            if nodeTemp.leftnode != None : \n",
    "                self.LeafList.remove(nodeTemp)\n",
    "        self.numnerOfNodes = self.numnerOfNodes + 1\n",
    "    def addNodeIndepth (self , node):    \n",
    "        if self.root.addNode(node) :\n",
    "            self.LeafList.append(node)\n",
    "            if node.father.operator in singleOperators :\n",
    "                self.LeafList.remove(node.father)\n",
    "        self.numnerOfNodes = self.numnerOfNodes + 1\n",
    "    def isComplete(self):\n",
    "        for item in self.LeafList :\n",
    "            if item.leaf == False:\n",
    "                return False\n",
    "        return True\n",
    "    def PostorderTraversal(self, root):\n",
    "        res = []\n",
    "        if root:\n",
    "            res = self.PostorderTraversal(root.left)\n",
    "            res = res + self.PostorderTraversal(root.right)\n",
    "            res.append(root.data)\n",
    "        return res"
   ]
  },
  {
   "cell_type": "code",
   "execution_count": 10,
   "metadata": {},
   "outputs": [],
   "source": [
    "# test1 = node(\"-\")\n",
    "# test.addNode(test1)\n",
    "# test.addNode(node(2))"
   ]
  },
  {
   "cell_type": "code",
   "execution_count": 86,
   "metadata": {},
   "outputs": [],
   "source": [
    "def calculate (node , args = defaultValues):\n",
    "    if node.leaf == True:\n",
    "        # if node.operator == \"x1\" :\n",
    "        #    return args[0]\n",
    "        # if node.operator == \"x2\" :\n",
    "        #    return args[1]\n",
    "        for x , y  in zip(args , listOfInputs) :\n",
    "            if y == node.operator :\n",
    "                return x\n",
    "        return node.operator\n",
    "    if node.operator == \"+\" :\n",
    "        return calculate(node.leftnode , args) + calculate(node.rightnode , args)\n",
    "    elif node.operator == \"-\" :\n",
    "        return calculate(node.leftnode , args) - calculate(node.rightnode , args)\n",
    "    elif node.operator == \"/\" :\n",
    "        divded = calculate(node.rightnode , args)\n",
    "        if divded == 0 :\n",
    "            divded = epsilon \n",
    "        return calculate(node.leftnode , args) / divded\n",
    "    elif node.operator == \"*\" :\n",
    "        return calculate(node.leftnode , args) * calculate(node.rightnode , args)\n",
    "    elif node.operator == \"^\" :\n",
    "        return pow( calculate(node.leftnode , args) , calculate(node.rightnode , args) )\n",
    "    elif node.operator == \"sin\" :\n",
    "        return math.sin(calculate(node.leftnode , args))\n",
    "    elif node.operator == \"cos\" :\n",
    "        # print(node.leftnode.operator)\n",
    "        return math.cos(calculate(node.leftnode , args))"
   ]
  },
  {
   "cell_type": "code",
   "execution_count": 5,
   "metadata": {},
   "outputs": [],
   "source": [
    "def showtree(node) :\n",
    "    if node.leaf == True:\n",
    "        return  f\"{node.operator}\"\n",
    "    if node.operator == \"+\" :\n",
    "        return f\"({showtree(node.leftnode)}) + ({showtree(node.rightnode)})\"\n",
    "    elif node.operator == \"-\" :\n",
    "        return f\"({showtree(node.leftnode)}) - ({showtree(node.rightnode)})\"\n",
    "    elif node.operator == \"/\" :\n",
    "        return f\"({showtree(node.leftnode)}) / ({showtree(node.rightnode)})\"\n",
    "    elif node.operator == \"*\" :\n",
    "        return f\"({showtree(node.leftnode)}) * ({showtree(node.rightnode)})\"\n",
    "    elif node.operator == \"^\" :\n",
    "        return f\"({showtree(node.leftnode)}) ^ ({showtree(node.rightnode)})\"\n",
    "    elif node.operator == \"sin\" :\n",
    "        return f\"sin({showtree(node.leftnode)})\"\n",
    "    elif node.operator == \"cos\" :\n",
    "        return f\"cos({showtree(node.leftnode)})\""
   ]
  },
  {
   "cell_type": "code",
   "execution_count": 6,
   "metadata": {},
   "outputs": [],
   "source": [
    "def createRandomTree(max , Coefficients):\n",
    "    numberOfDepth = random.randint(1 , max)\n",
    "    # create the root\n",
    "    firstOperator = random.randint(0 , len(allOperators) - 1)\n",
    "    temptree = tree(node(allOperators[firstOperator]))\n",
    "    # create the tree structure \n",
    "    for _ in range (0 , (2 ^ numberOfDepth) - 1) :\n",
    "        firstOperator = random.randint(0 , len(allOperators) - 1)\n",
    "        randomnode = temptree.LeafList[random.randint(1 , len(temptree.LeafList)) - 1]\n",
    "        if temptree.calculateFather(randomnode) <= max :\n",
    "            if firstOperator % 2 == 0 :\n",
    "                if randomnode.rightnode == None and randomnode.operator not in singleOperators: \n",
    "                    randomnode.rightnode = node(allOperators[random.randint(0 , len(allOperators) - 1)] , father=randomnode)\n",
    "                    temptree.numnerOfNodes = temptree.numnerOfNodes + 1\n",
    "                    temptree.LeafList.append(randomnode.rightnode)\n",
    "                elif randomnode.leftnode != None :\n",
    "                    temptree.LeafList.remove(randomnode)\n",
    "                else :\n",
    "                    randomnode.leftnode = node(allOperators[random.randint(0 , len(allOperators) - 1)] , father=randomnode)\n",
    "                    temptree.numnerOfNodes = temptree.numnerOfNodes + 1\n",
    "                    temptree.LeafList.append(randomnode.leftnode)\n",
    "                    temptree.LeafList.remove(randomnode)\n",
    "            else:\n",
    "                if randomnode.leftnode == None : \n",
    "                    randomnode.leftnode = node(allOperators[random.randint(0 , len(allOperators) - 1)] , father=randomnode)\n",
    "                    temptree.numnerOfNodes = temptree.numnerOfNodes + 1\n",
    "                    temptree.LeafList.append(randomnode.leftnode)\n",
    "                elif randomnode.rightnode != None or randomnode.operator in singleOperators:\n",
    "                    temptree.LeafList.remove(randomnode)\n",
    "                else :\n",
    "                    randomnode.rightnode = node(allOperators[random.randint(0 , len(allOperators) - 1)] , father=randomnode)\n",
    "                    temptree.numnerOfNodes = temptree.numnerOfNodes + 1\n",
    "                    temptree.LeafList.remove(randomnode)\n",
    "                    temptree.LeafList.append(randomnode.rightnode)\n",
    "            \n",
    "    # fill the leafs\n",
    "    templist = temptree.LeafList.copy()\n",
    "    for lastnode in templist :\n",
    "        firstOperator = random.randint(0 , len(allOperators) - 1)\n",
    "        if lastnode.rightnode == None :\n",
    "            if firstOperator % 2 == 0 :\n",
    "                lastnode.rightnode = node( listOfInputs[random.randint(0 , len(listOfInputs) - 1)] , father=lastnode )\n",
    "                temptree.numnerOfNodes = temptree.numnerOfNodes + 1\n",
    "                temptree.LeafList.append(lastnode.rightnode)\n",
    "            else :\n",
    "                lastnode.rightnode = node( random.randint(-1 * Coefficients , Coefficients ) , father=lastnode )\n",
    "                temptree.numnerOfNodes = temptree.numnerOfNodes + 1\n",
    "                temptree.LeafList.append(lastnode.rightnode)\n",
    "            if lastnode.leftnode != None :\n",
    "                temptree.LeafList.remove(lastnode)\n",
    "                #templist.remove(lastnode)\n",
    "        if lastnode.leftnode == None :\n",
    "            if firstOperator % 2 == 1 :\n",
    "                lastnode.leftnode = node( listOfInputs[random.randint(0 , len(listOfInputs) - 1)] , father=lastnode )\n",
    "                temptree.numnerOfNodes = temptree.numnerOfNodes + 1\n",
    "                temptree.LeafList.append(lastnode.leftnode)\n",
    "            else :\n",
    "                lastnode.leftnode = node( random.randint (-1 * Coefficients , Coefficients ) , father=lastnode )\n",
    "                temptree.numnerOfNodes = temptree.numnerOfNodes + 1\n",
    "                temptree.LeafList.append(lastnode.leftnode)\n",
    "            if lastnode.rightnode != None :\n",
    "                temptree.LeafList.remove(lastnode)\n",
    "                #templist.remove(lastnode)\n",
    "    return temptree\n",
    "        \n",
    "        "
   ]
  },
  {
   "cell_type": "markdown",
   "metadata": {},
   "source": [
    "**test the add in surf**"
   ]
  },
  {
   "cell_type": "code",
   "execution_count": 114,
   "metadata": {},
   "outputs": [],
   "source": [
    "testtree2= tree(test)"
   ]
  },
  {
   "cell_type": "code",
   "execution_count": 115,
   "metadata": {},
   "outputs": [
    {
     "data": {
      "text/plain": [
       "[<__main__.node at 0x2080deda1c0>]"
      ]
     },
     "execution_count": 115,
     "metadata": {},
     "output_type": "execute_result"
    }
   ],
   "source": [
    "testtree2.LeafList"
   ]
  },
  {
   "cell_type": "code",
   "execution_count": 116,
   "metadata": {},
   "outputs": [],
   "source": [
    "testtree2.addNodeInSurf(node(\"+\"))"
   ]
  },
  {
   "cell_type": "code",
   "execution_count": 117,
   "metadata": {},
   "outputs": [],
   "source": [
    "testtree2.addNodeInSurf(node(\"+\"))"
   ]
  },
  {
   "cell_type": "code",
   "execution_count": 118,
   "metadata": {},
   "outputs": [],
   "source": [
    "testtree2.addNodeInSurf(node(\"-\"))"
   ]
  },
  {
   "cell_type": "code",
   "execution_count": 119,
   "metadata": {},
   "outputs": [],
   "source": [
    "testtree2.addNodeInSurf(node(\"-\"))"
   ]
  },
  {
   "cell_type": "markdown",
   "metadata": {},
   "source": [
    "**test add in depth**"
   ]
  },
  {
   "cell_type": "code",
   "execution_count": 120,
   "metadata": {},
   "outputs": [],
   "source": [
    "testtree2.addNodeIndepth(node(\"-\"))"
   ]
  },
  {
   "cell_type": "code",
   "execution_count": 121,
   "metadata": {},
   "outputs": [],
   "source": [
    "testtree2.addNodeIndepth(node(\"-\"))"
   ]
  },
  {
   "cell_type": "markdown",
   "metadata": {},
   "source": [
    "**test the calculate**"
   ]
  },
  {
   "cell_type": "code",
   "execution_count": 11,
   "metadata": {},
   "outputs": [],
   "source": [
    "testtree = tree(node(\"sin\"))"
   ]
  },
  {
   "cell_type": "code",
   "execution_count": 12,
   "metadata": {},
   "outputs": [
    {
     "name": "stdout",
     "output_type": "stream",
     "text": [
      "-0.9589242746631385\n"
     ]
    }
   ],
   "source": [
    "#simple test with \n",
    "testtree.addNodeInSurf(node(\"/\"))\n",
    "testtree.addNodeInSurf(node(\"*\"))\n",
    "testtree.addNodeInSurf(node(x1))\n",
    "testtree.addNodeInSurf(node(x2))\n",
    "testtree.addNodeInSurf(node(x1))\n",
    "testtree.addNodeInSurf(node(x2))\n",
    "print( calculate(testtree.root , (2 , 5)) )"
   ]
  },
  {
   "cell_type": "markdown",
   "metadata": {},
   "source": [
    "**test the showtree**"
   ]
  },
  {
   "cell_type": "code",
   "execution_count": 13,
   "metadata": {},
   "outputs": [
    {
     "name": "stdout",
     "output_type": "stream",
     "text": [
      "sin(((5) * (2)) / (2))\n"
     ]
    }
   ],
   "source": [
    "print(showtree(testtree.root))"
   ]
  },
  {
   "cell_type": "markdown",
   "metadata": {},
   "source": [
    "**test the random creation**"
   ]
  },
  {
   "cell_type": "code",
   "execution_count": 20,
   "metadata": {},
   "outputs": [],
   "source": [
    "testRandom1 =  createRandomTree(10 , 5)"
   ]
  },
  {
   "cell_type": "code",
   "execution_count": 21,
   "metadata": {},
   "outputs": [
    {
     "name": "stdout",
     "output_type": "stream",
     "text": [
      "((-4) - (((2) / (x1)) / ((cos(x1)) * (x1)))) * (sin(cos(cos((3) + (x1)))))\n"
     ]
    }
   ],
   "source": [
    "print(showtree(testRandom1.root))"
   ]
  },
  {
   "cell_type": "code",
   "execution_count": 22,
   "metadata": {},
   "outputs": [
    {
     "name": "stdout",
     "output_type": "stream",
     "text": [
      "-2.0481313613372\n"
     ]
    }
   ],
   "source": [
    "print(calculate( testRandom1.root , (3 , 6)))"
   ]
  },
  {
   "cell_type": "code",
   "execution_count": 23,
   "metadata": {},
   "outputs": [
    {
     "data": {
      "text/plain": [
       "19"
      ]
     },
     "execution_count": 23,
     "metadata": {},
     "output_type": "execute_result"
    }
   ],
   "source": [
    "testRandom1.numnerOfNodes"
   ]
  },
  {
   "cell_type": "markdown",
   "metadata": {},
   "source": [
    "**the main function**"
   ]
  },
  {
   "cell_type": "code",
   "execution_count": 87,
   "metadata": {},
   "outputs": [],
   "source": [
    "def calculateValue(inputValues , root):\n",
    "    predicted = []\n",
    "    for tupleIn in inputValues:\n",
    "        predicted.append( calculate(root , tupleIn))\n",
    "    return predicted"
   ]
  },
  {
   "cell_type": "code",
   "execution_count": 88,
   "metadata": {},
   "outputs": [],
   "source": [
    "def RandomSelection(mses , population):\n",
    "    total = []\n",
    "    cumsum = 0 \n",
    "    for i in mses :\n",
    "        cumsum = cumsum + i\n",
    "        total.append(cumsum)\n",
    "    rnd = random.random() * cumsum\n",
    "    for i, uptotal in enumerate(total):\n",
    "        if rnd < uptotal:\n",
    "            return population[i]\n",
    "    return population[-1] # if something goes wrong !"
   ]
  },
  {
   "cell_type": "code",
   "execution_count": 89,
   "metadata": {},
   "outputs": [],
   "source": [
    "import copy\n",
    "def iterate ( node , numberOfrotate , visited):\n",
    "    # temp = copy.deepcopy(node)\n",
    "    # print(numberOfrotate)\n",
    "    visited = []\n",
    "    counter = 0 \n",
    "    while counter != numberOfrotate:\n",
    "        if node.rightnode != None and node.rightnode not in visited:\n",
    "            counter = counter + 1\n",
    "            visited.append(node.rightnode)\n",
    "            node = node.rightnode\n",
    "        elif node.leftnode != None and node.leftnode not in visited :\n",
    "            counter = counter + 1\n",
    "            visited.append(node.leftnode)\n",
    "            node = node.leftnode\n",
    "        else :\n",
    "            if node.father != None :\n",
    "                node = node.father\n",
    "            else :\n",
    "                node = node.leftnode\n",
    "                counter = counter + 1\n",
    "    return node   "
   ]
  },
  {
   "cell_type": "code",
   "execution_count": 10,
   "metadata": {},
   "outputs": [
    {
     "name": "stdout",
     "output_type": "stream",
     "text": [
      "((4) + (((x1) - (7)) + ((x2) - (5)))) - (4)\n"
     ]
    }
   ],
   "source": [
    "testtree = tree(node(\"-\"))\n",
    "testtree.root.leftnode = node(\"+\" , father=testtree.root)\n",
    "testtree.root.rightnode = node(4 , father=testtree.root)\n",
    "testtree.root.leftnode.leftnode = node(4 , father=testtree.root.leftnode)\n",
    "testtree.root.leftnode.rightnode = node(\"+\" , father = testtree.root.leftnode)\n",
    "testtree.root.leftnode.rightnode.leftnode = node(\"-\" , father=testtree.root.leftnode.rightnode)\n",
    "testtree.root.leftnode.rightnode.leftnode.leftnode = node(\"x1\" , father=testtree.root.leftnode.rightnode.leftnode)\n",
    "testtree.root.leftnode.rightnode.leftnode.rightnode = node(7, father=testtree.root.leftnode.rightnode.leftnode)\n",
    "testtree.root.leftnode.rightnode.rightnode = node(\"-\" , father=testtree.root.leftnode.rightnode)\n",
    "testtree.root.leftnode.rightnode.rightnode.leftnode = node(\"x2\" , father=testtree.root.leftnode.rightnode.rightnode)\n",
    "testtree.root.leftnode.rightnode.rightnode.rightnode = node(5 , father=testtree.root.leftnode.rightnode.rightnode)\n",
    "testtree.numnerOfNodes = 11\n",
    "print(showtree(testtree.root))"
   ]
  },
  {
   "cell_type": "code",
   "execution_count": 17,
   "metadata": {},
   "outputs": [],
   "source": [
    "Mutation(testtree)"
   ]
  },
  {
   "cell_type": "code",
   "execution_count": 18,
   "metadata": {},
   "outputs": [
    {
     "name": "stdout",
     "output_type": "stream",
     "text": [
      "((4) + (((x1) - (7)) + ((x1) - (5)))) - (4)\n"
     ]
    }
   ],
   "source": [
    "print(showtree(testtree.root))"
   ]
  },
  {
   "cell_type": "markdown",
   "metadata": {},
   "source": [
    "**test the iterate**\n"
   ]
  },
  {
   "cell_type": "code",
   "execution_count": 31,
   "metadata": {},
   "outputs": [
    {
     "name": "stdout",
     "output_type": "stream",
     "text": [
      "(2) + (5)\n",
      "5\n"
     ]
    }
   ],
   "source": [
    "testtree2 = tree(node(\"+\"))\n",
    "testtree2.addNodeInSurf(node(x1))\n",
    "testtree2.addNodeInSurf(node(x2))\n",
    "print(showtree(testtree2.root))\n",
    "print(iterate(testtree2.root , 1 , [] ).operator)"
   ]
  },
  {
   "cell_type": "code",
   "execution_count": 12,
   "metadata": {},
   "outputs": [],
   "source": [
    "import copy\n",
    "\n",
    "def CrossOver (x , y) :\n",
    "    maxOfNodes = 0 \n",
    "    if x.numnerOfNodes > y.numnerOfNodes :\n",
    "        maxOfNodes = y.numnerOfNodes\n",
    "    else :\n",
    "        maxOfNodes = x.numnerOfNodes\n",
    "    rnd = random.randint( 1 , maxOfNodes - 1 )\n",
    "    # print(rnd)\n",
    "    \n",
    "    temptree = copy.deepcopy(x)\n",
    "    temptree1 = copy.deepcopy(y)\n",
    "    \n",
    "    firstNode = iterate(temptree.root , rnd , [])\n",
    "    secondNode = iterate(temptree1.root , rnd , [])\n",
    "    firstFather =  firstNode.father \n",
    "    secondFather =  secondNode.father \n",
    "    \n",
    "    temp = copy.deepcopy(firstNode)\n",
    "    # print(temp.operator)\n",
    "    temp1 = copy.deepcopy(secondNode)\n",
    "    # print(temp1.operator)\n",
    "    \n",
    "    \n",
    "    if firstFather.leftnode == firstNode :\n",
    "        firstFather.leftnode = temp1\n",
    "    else :\n",
    "        firstFather.rightnode = temp1\n",
    "    \n",
    "    if secondFather.leftnode == secondNode :\n",
    "        secondFather.leftnode = temp\n",
    "    else :\n",
    "        secondFather.rightnode = temp\n",
    "    \n",
    "    temp1.father = firstFather\n",
    "    temp.father = secondFather\n",
    "    \n",
    "    del firstNode\n",
    "    del secondNode\n",
    "    \n",
    "    return temptree , temptree1"
   ]
  },
  {
   "cell_type": "markdown",
   "metadata": {},
   "source": [
    "**test the CrossOver**"
   ]
  },
  {
   "cell_type": "code",
   "execution_count": 28,
   "metadata": {},
   "outputs": [
    {
     "name": "stdout",
     "output_type": "stream",
     "text": [
      "(5) - (2)\n",
      "(2) + (5)\n",
      "(5) - (5)\n",
      "(2) + (2)\n"
     ]
    }
   ],
   "source": [
    "testtree = tree(node(\"-\")) # check the cross over\n",
    "testtree.addNodeInSurf(node(x2))\n",
    "testtree.addNodeInSurf(node(x1))\n",
    "print(showtree(testtree.root))\n",
    "testtree2 = tree(node(\"+\"))\n",
    "testtree2.addNodeInSurf(node(x1))\n",
    "testtree2.addNodeInSurf(node(x2))\n",
    "print(showtree(testtree2.root))\n",
    "temptest , temptest1 = CrossOver(testtree , testtree2)\n",
    "print(showtree(temptest.root))\n",
    "print(showtree(temptest1.root))\n"
   ]
  },
  {
   "cell_type": "code",
   "execution_count": 13,
   "metadata": {},
   "outputs": [],
   "source": [
    "def Mutation (tree) :\n",
    "    rnd = random.randint( 1 , tree.numnerOfNodes - 1 )\n",
    "    #print(showtree(tree.root))\n",
    "    changeNode = iterate(  tree.root , rnd , [] )\n",
    "    if changeNode.operator in allOperators :\n",
    "        changeNode.operator = allOperators[random.randint(0 , len(allOperators) - 1)]        \n",
    "        if changeNode.operator in singleOperators :\n",
    "            changeNode.rightnode = None\n",
    "        elif changeNode.rightnode == None :\n",
    "            changeNode.rightnode = node( listOfInputs[random.randint(0 , len(listOfInputs) - 1)] , father=changeNode )           \n",
    "    else:\n",
    "        if rnd % 2 == 0 :\n",
    "            changeNode.operator = listOfInputs[random.randint(0 , len(listOfInputs) - 1)]\n",
    "        else :\n",
    "            changeNode.operator = random.randint (-1 * CoefficientsRagne , CoefficientsRagne )"
   ]
  },
  {
   "cell_type": "code",
   "execution_count": 26,
   "metadata": {},
   "outputs": [],
   "source": [
    "AllData = []"
   ]
  },
  {
   "cell_type": "code",
   "execution_count": 113,
   "metadata": {},
   "outputs": [],
   "source": [
    "def general_algorithm(NumOfFirstPop , maxOfDepth , numsOfGenereations , inputValue , trueValue , AllMses):\n",
    "    # first create a population \n",
    "    bests = []\n",
    "    population = []\n",
    "    for _ in range(0 , NumOfFirstPop):\n",
    "        population.append(createRandomTree(maxOfDepth , CoefficientsRagne))\n",
    "    # main loop\n",
    "    AllMses = []\n",
    "    counter = 0 \n",
    "    while counter != numsOfGenereations :\n",
    "        # fitness values\n",
    "        mses = []\n",
    "        for i in range(0 , NumOfFirstPop):\n",
    "            mses.append(mean_squared_error(trueValue , calculateValue(inputValue , population[i].root ) ))    \n",
    "        #print(mses)\n",
    "        # keep bests alive!\n",
    "        newPopulation = []\n",
    "        if counter >= numsOfGenereations / 2 :\n",
    "            tempList = [X for _ , X in sorted(zip( mses , population ) , key= lambda elem : elem[0])]\n",
    "            sortedmses = [x for x in sorted(mses)]\n",
    "            templegends = []\n",
    "            for i in range(math.floor( len(population) * 0.2)) :\n",
    "                newPopulation.append(tempList[i])\n",
    "                templegends.append(sortedmses[i])\n",
    "            bests.append(templegends)\n",
    "        # change the mse up to it is negetive fitness\n",
    "        AllMses.append(mses)\n",
    "        MaxOfmses = max( mses )\n",
    "        for i in range(0 , NumOfFirstPop):\n",
    "            mses[i] = mses[i] * -1 + MaxOfmses\n",
    "        # select randomly with their fitness\n",
    "        for _ in range(math.floor( (len(population) - len(newPopulation)) / 2)):\n",
    "            # random select each tree for crossover\n",
    "            firstNode = RandomSelection(mses , population)    \n",
    "            secondNode = RandomSelection(mses , population)\n",
    "            firstNewTree , secondNewTree = CrossOver(firstNode , secondNode)\n",
    "            # mutations !\n",
    "            rnd = random.randint(1 , 100)\n",
    "            if rnd % 20 == 0 : \n",
    "                Mutation(firstNewTree) \n",
    "            rnd = random.randint(1 , 100)\n",
    "            if rnd % 20 == 1 : \n",
    "                Mutation(secondNewTree) \n",
    "            newPopulation.append(firstNewTree)\n",
    "            newPopulation.append(secondNewTree)\n",
    "        population = newPopulation\n",
    "        counter = counter + 1\n",
    "    # return the best\n",
    "    indexOfBest = 0 \n",
    "    MaxOfmses = 0  \n",
    "    for index , mse in enumerate (mses) :\n",
    "        if mse > MaxOfmses : \n",
    "            indexOfBest = index \n",
    "            MaxOfmses = mse\n",
    "    #print(-1 * (max(mses) - MaxOfmses))\n",
    "    return  AllMses , bests , population[indexOfBest]"
   ]
  },
  {
   "cell_type": "markdown",
   "metadata": {},
   "source": [
    "**create the test for the Main Algorithm**"
   ]
  },
  {
   "cell_type": "code",
   "execution_count": 197,
   "metadata": {},
   "outputs": [
    {
     "name": "stdout",
     "output_type": "stream",
     "text": [
      "(sin((5) + ((7) * ((x1) / (-2))))) * (x1)\n"
     ]
    }
   ],
   "source": [
    "# test \n",
    "# test tree with 5 depth\n",
    "testMain1 = createRandomTree(5 , CoefficientsRagne )\n",
    "# 300 input values\n",
    "x1valuse = [x for x in range(0 , 300)]\n",
    "x2values = [x for x in range(0 , 300)]\n",
    "inputValue = list( zip(x1valuse , x2values) )\n",
    "trueValues = []\n",
    "trueValues = calculateValue(inputValue , testMain1.root)\n",
    "print(showtree(testMain1.root))"
   ]
  },
  {
   "cell_type": "code",
   "execution_count": 230,
   "metadata": {},
   "outputs": [
    {
     "data": {
      "text/plain": [
       "'(x1) ^ (2)'"
      ]
     },
     "execution_count": 230,
     "metadata": {},
     "output_type": "execute_result"
    }
   ],
   "source": [
    "#create a simple power tree\n",
    "powertree = tree(node(\"^\"))\n",
    "powertree.root.leftnode = node(\"x1\")\n",
    "powertree.root.rightnode = node(2)\n",
    "showtree(powertree.root)"
   ]
  },
  {
   "cell_type": "code",
   "execution_count": 231,
   "metadata": {},
   "outputs": [],
   "source": [
    "x1valuse = [x for x in range(0 , 300)]\n",
    "x2values = [x for x in range(0 , 300)]\n",
    "inputValue = list( zip(x1valuse , x2values) )\n",
    "trueValues = []\n",
    "trueValues = calculateValue(inputValue , powertree.root)"
   ]
  },
  {
   "cell_type": "code",
   "execution_count": 221,
   "metadata": {},
   "outputs": [
    {
     "data": {
      "text/plain": [
       "[0,\n",
       " 1,\n",
       " 4,\n",
       " 9,\n",
       " 16,\n",
       " 25,\n",
       " 36,\n",
       " 49,\n",
       " 64,\n",
       " 81,\n",
       " 100,\n",
       " 121,\n",
       " 144,\n",
       " 169,\n",
       " 196,\n",
       " 225,\n",
       " 256,\n",
       " 289,\n",
       " 324,\n",
       " 361,\n",
       " 400,\n",
       " 441,\n",
       " 484,\n",
       " 529,\n",
       " 576,\n",
       " 625,\n",
       " 676,\n",
       " 729,\n",
       " 784,\n",
       " 841,\n",
       " 900,\n",
       " 961,\n",
       " 1024,\n",
       " 1089,\n",
       " 1156,\n",
       " 1225,\n",
       " 1296,\n",
       " 1369,\n",
       " 1444,\n",
       " 1521,\n",
       " 1600,\n",
       " 1681,\n",
       " 1764,\n",
       " 1849,\n",
       " 1936,\n",
       " 2025,\n",
       " 2116,\n",
       " 2209,\n",
       " 2304,\n",
       " 2401,\n",
       " 2500,\n",
       " 2601,\n",
       " 2704,\n",
       " 2809,\n",
       " 2916,\n",
       " 3025,\n",
       " 3136,\n",
       " 3249,\n",
       " 3364,\n",
       " 3481,\n",
       " 3600,\n",
       " 3721,\n",
       " 3844,\n",
       " 3969,\n",
       " 4096,\n",
       " 4225,\n",
       " 4356,\n",
       " 4489,\n",
       " 4624,\n",
       " 4761,\n",
       " 4900,\n",
       " 5041,\n",
       " 5184,\n",
       " 5329,\n",
       " 5476,\n",
       " 5625,\n",
       " 5776,\n",
       " 5929,\n",
       " 6084,\n",
       " 6241,\n",
       " 6400,\n",
       " 6561,\n",
       " 6724,\n",
       " 6889,\n",
       " 7056,\n",
       " 7225,\n",
       " 7396,\n",
       " 7569,\n",
       " 7744,\n",
       " 7921,\n",
       " 8100,\n",
       " 8281,\n",
       " 8464,\n",
       " 8649,\n",
       " 8836,\n",
       " 9025,\n",
       " 9216,\n",
       " 9409,\n",
       " 9604,\n",
       " 9801,\n",
       " 10000,\n",
       " 10201,\n",
       " 10404,\n",
       " 10609,\n",
       " 10816,\n",
       " 11025,\n",
       " 11236,\n",
       " 11449,\n",
       " 11664,\n",
       " 11881,\n",
       " 12100,\n",
       " 12321,\n",
       " 12544,\n",
       " 12769,\n",
       " 12996,\n",
       " 13225,\n",
       " 13456,\n",
       " 13689,\n",
       " 13924,\n",
       " 14161,\n",
       " 14400,\n",
       " 14641,\n",
       " 14884,\n",
       " 15129,\n",
       " 15376,\n",
       " 15625,\n",
       " 15876,\n",
       " 16129,\n",
       " 16384,\n",
       " 16641,\n",
       " 16900,\n",
       " 17161,\n",
       " 17424,\n",
       " 17689,\n",
       " 17956,\n",
       " 18225,\n",
       " 18496,\n",
       " 18769,\n",
       " 19044,\n",
       " 19321,\n",
       " 19600,\n",
       " 19881,\n",
       " 20164,\n",
       " 20449,\n",
       " 20736,\n",
       " 21025,\n",
       " 21316,\n",
       " 21609,\n",
       " 21904,\n",
       " 22201,\n",
       " 22500,\n",
       " 22801,\n",
       " 23104,\n",
       " 23409,\n",
       " 23716,\n",
       " 24025,\n",
       " 24336,\n",
       " 24649,\n",
       " 24964,\n",
       " 25281,\n",
       " 25600,\n",
       " 25921,\n",
       " 26244,\n",
       " 26569,\n",
       " 26896,\n",
       " 27225,\n",
       " 27556,\n",
       " 27889,\n",
       " 28224,\n",
       " 28561,\n",
       " 28900,\n",
       " 29241,\n",
       " 29584,\n",
       " 29929,\n",
       " 30276,\n",
       " 30625,\n",
       " 30976,\n",
       " 31329,\n",
       " 31684,\n",
       " 32041,\n",
       " 32400,\n",
       " 32761,\n",
       " 33124,\n",
       " 33489,\n",
       " 33856,\n",
       " 34225,\n",
       " 34596,\n",
       " 34969,\n",
       " 35344,\n",
       " 35721,\n",
       " 36100,\n",
       " 36481,\n",
       " 36864,\n",
       " 37249,\n",
       " 37636,\n",
       " 38025,\n",
       " 38416,\n",
       " 38809,\n",
       " 39204,\n",
       " 39601,\n",
       " 40000,\n",
       " 40401,\n",
       " 40804,\n",
       " 41209,\n",
       " 41616,\n",
       " 42025,\n",
       " 42436,\n",
       " 42849,\n",
       " 43264,\n",
       " 43681,\n",
       " 44100,\n",
       " 44521,\n",
       " 44944,\n",
       " 45369,\n",
       " 45796,\n",
       " 46225,\n",
       " 46656,\n",
       " 47089,\n",
       " 47524,\n",
       " 47961,\n",
       " 48400,\n",
       " 48841,\n",
       " 49284,\n",
       " 49729,\n",
       " 50176,\n",
       " 50625,\n",
       " 51076,\n",
       " 51529,\n",
       " 51984,\n",
       " 52441,\n",
       " 52900,\n",
       " 53361,\n",
       " 53824,\n",
       " 54289,\n",
       " 54756,\n",
       " 55225,\n",
       " 55696,\n",
       " 56169,\n",
       " 56644,\n",
       " 57121,\n",
       " 57600,\n",
       " 58081,\n",
       " 58564,\n",
       " 59049,\n",
       " 59536,\n",
       " 60025,\n",
       " 60516,\n",
       " 61009,\n",
       " 61504,\n",
       " 62001,\n",
       " 62500,\n",
       " 63001,\n",
       " 63504,\n",
       " 64009,\n",
       " 64516,\n",
       " 65025,\n",
       " 65536,\n",
       " 66049,\n",
       " 66564,\n",
       " 67081,\n",
       " 67600,\n",
       " 68121,\n",
       " 68644,\n",
       " 69169,\n",
       " 69696,\n",
       " 70225,\n",
       " 70756,\n",
       " 71289,\n",
       " 71824,\n",
       " 72361,\n",
       " 72900,\n",
       " 73441,\n",
       " 73984,\n",
       " 74529,\n",
       " 75076,\n",
       " 75625,\n",
       " 76176,\n",
       " 76729,\n",
       " 77284,\n",
       " 77841,\n",
       " 78400,\n",
       " 78961,\n",
       " 79524,\n",
       " 80089,\n",
       " 80656,\n",
       " 81225,\n",
       " 81796,\n",
       " 82369,\n",
       " 82944,\n",
       " 83521,\n",
       " 84100,\n",
       " 84681,\n",
       " 85264,\n",
       " 85849,\n",
       " 86436,\n",
       " 87025,\n",
       " 87616,\n",
       " 88209,\n",
       " 88804,\n",
       " 89401]"
      ]
     },
     "execution_count": 221,
     "metadata": {},
     "output_type": "execute_result"
    }
   ],
   "source": [
    "trueValues"
   ]
  },
  {
   "cell_type": "code",
   "execution_count": 233,
   "metadata": {},
   "outputs": [],
   "source": [
    "AllData , legends , bestNode = general_algorithm(100 , 5 , 20 , inputValue , trueValues , AllData) "
   ]
  },
  {
   "cell_type": "code",
   "execution_count": 234,
   "metadata": {},
   "outputs": [
    {
     "data": {
      "text/plain": [
       "(20, 100)"
      ]
     },
     "execution_count": 234,
     "metadata": {},
     "output_type": "execute_result"
    }
   ],
   "source": [
    "np.shape(AllData)"
   ]
  },
  {
   "cell_type": "code",
   "execution_count": 235,
   "metadata": {},
   "outputs": [],
   "source": [
    "legends = np.transpose(legends)\n",
    "np.shape(legends)\n",
    "avg_of_legends = legends.mean(axis=0)"
   ]
  },
  {
   "cell_type": "code",
   "execution_count": 236,
   "metadata": {},
   "outputs": [
    {
     "data": {
      "text/plain": [
       "array([ 1.40012900e+08,  1.17989660e+08,  7.87510477e+07,  8.15787410e+06,\n",
       "       -1.06701714e+06, -4.74941950e+06, -5.30573621e+06, -1.15192011e+07,\n",
       "       -2.08573978e+07, -2.92698665e+07])"
      ]
     },
     "execution_count": 236,
     "metadata": {},
     "output_type": "execute_result"
    }
   ],
   "source": [
    "avg_of_legends"
   ]
  },
  {
   "cell_type": "code",
   "execution_count": 237,
   "metadata": {},
   "outputs": [
    {
     "data": {
      "application/vnd.plotly.v1+json": {
       "config": {
        "plotlyServerURL": "https://plot.ly"
       },
       "data": [
        {
         "hovertemplate": "variable=0<br>index=%{x}<br>value=%{y}<extra></extra>",
         "legendgroup": "0",
         "line": {
          "color": "#636efa",
          "dash": "solid"
         },
         "marker": {
          "symbol": "circle"
         },
         "mode": "lines",
         "name": "0",
         "orientation": "v",
         "showlegend": true,
         "type": "scatter",
         "x": [
          0,
          1,
          2,
          3,
          4,
          5,
          6,
          7,
          8,
          9
         ],
         "xaxis": "x",
         "y": [
          140012900.46981904,
          117989660.13541389,
          78751047.66168973,
          8157874.102913981,
          -1067017.1425055026,
          -4749419.499477583,
          -5305736.214,
          -11519201.148666665,
          -20857397.846333332,
          -29269866.52766667
         ],
         "yaxis": "y"
        }
       ],
       "layout": {
        "legend": {
         "title": {
          "text": "variable"
         },
         "tracegroupgap": 0
        },
        "margin": {
         "t": 60
        },
        "template": {
         "data": {
          "bar": [
           {
            "error_x": {
             "color": "#2a3f5f"
            },
            "error_y": {
             "color": "#2a3f5f"
            },
            "marker": {
             "line": {
              "color": "#E5ECF6",
              "width": 0.5
             },
             "pattern": {
              "fillmode": "overlay",
              "size": 10,
              "solidity": 0.2
             }
            },
            "type": "bar"
           }
          ],
          "barpolar": [
           {
            "marker": {
             "line": {
              "color": "#E5ECF6",
              "width": 0.5
             },
             "pattern": {
              "fillmode": "overlay",
              "size": 10,
              "solidity": 0.2
             }
            },
            "type": "barpolar"
           }
          ],
          "carpet": [
           {
            "aaxis": {
             "endlinecolor": "#2a3f5f",
             "gridcolor": "white",
             "linecolor": "white",
             "minorgridcolor": "white",
             "startlinecolor": "#2a3f5f"
            },
            "baxis": {
             "endlinecolor": "#2a3f5f",
             "gridcolor": "white",
             "linecolor": "white",
             "minorgridcolor": "white",
             "startlinecolor": "#2a3f5f"
            },
            "type": "carpet"
           }
          ],
          "choropleth": [
           {
            "colorbar": {
             "outlinewidth": 0,
             "ticks": ""
            },
            "type": "choropleth"
           }
          ],
          "contour": [
           {
            "colorbar": {
             "outlinewidth": 0,
             "ticks": ""
            },
            "colorscale": [
             [
              0,
              "#0d0887"
             ],
             [
              0.1111111111111111,
              "#46039f"
             ],
             [
              0.2222222222222222,
              "#7201a8"
             ],
             [
              0.3333333333333333,
              "#9c179e"
             ],
             [
              0.4444444444444444,
              "#bd3786"
             ],
             [
              0.5555555555555556,
              "#d8576b"
             ],
             [
              0.6666666666666666,
              "#ed7953"
             ],
             [
              0.7777777777777778,
              "#fb9f3a"
             ],
             [
              0.8888888888888888,
              "#fdca26"
             ],
             [
              1,
              "#f0f921"
             ]
            ],
            "type": "contour"
           }
          ],
          "contourcarpet": [
           {
            "colorbar": {
             "outlinewidth": 0,
             "ticks": ""
            },
            "type": "contourcarpet"
           }
          ],
          "heatmap": [
           {
            "colorbar": {
             "outlinewidth": 0,
             "ticks": ""
            },
            "colorscale": [
             [
              0,
              "#0d0887"
             ],
             [
              0.1111111111111111,
              "#46039f"
             ],
             [
              0.2222222222222222,
              "#7201a8"
             ],
             [
              0.3333333333333333,
              "#9c179e"
             ],
             [
              0.4444444444444444,
              "#bd3786"
             ],
             [
              0.5555555555555556,
              "#d8576b"
             ],
             [
              0.6666666666666666,
              "#ed7953"
             ],
             [
              0.7777777777777778,
              "#fb9f3a"
             ],
             [
              0.8888888888888888,
              "#fdca26"
             ],
             [
              1,
              "#f0f921"
             ]
            ],
            "type": "heatmap"
           }
          ],
          "heatmapgl": [
           {
            "colorbar": {
             "outlinewidth": 0,
             "ticks": ""
            },
            "colorscale": [
             [
              0,
              "#0d0887"
             ],
             [
              0.1111111111111111,
              "#46039f"
             ],
             [
              0.2222222222222222,
              "#7201a8"
             ],
             [
              0.3333333333333333,
              "#9c179e"
             ],
             [
              0.4444444444444444,
              "#bd3786"
             ],
             [
              0.5555555555555556,
              "#d8576b"
             ],
             [
              0.6666666666666666,
              "#ed7953"
             ],
             [
              0.7777777777777778,
              "#fb9f3a"
             ],
             [
              0.8888888888888888,
              "#fdca26"
             ],
             [
              1,
              "#f0f921"
             ]
            ],
            "type": "heatmapgl"
           }
          ],
          "histogram": [
           {
            "marker": {
             "pattern": {
              "fillmode": "overlay",
              "size": 10,
              "solidity": 0.2
             }
            },
            "type": "histogram"
           }
          ],
          "histogram2d": [
           {
            "colorbar": {
             "outlinewidth": 0,
             "ticks": ""
            },
            "colorscale": [
             [
              0,
              "#0d0887"
             ],
             [
              0.1111111111111111,
              "#46039f"
             ],
             [
              0.2222222222222222,
              "#7201a8"
             ],
             [
              0.3333333333333333,
              "#9c179e"
             ],
             [
              0.4444444444444444,
              "#bd3786"
             ],
             [
              0.5555555555555556,
              "#d8576b"
             ],
             [
              0.6666666666666666,
              "#ed7953"
             ],
             [
              0.7777777777777778,
              "#fb9f3a"
             ],
             [
              0.8888888888888888,
              "#fdca26"
             ],
             [
              1,
              "#f0f921"
             ]
            ],
            "type": "histogram2d"
           }
          ],
          "histogram2dcontour": [
           {
            "colorbar": {
             "outlinewidth": 0,
             "ticks": ""
            },
            "colorscale": [
             [
              0,
              "#0d0887"
             ],
             [
              0.1111111111111111,
              "#46039f"
             ],
             [
              0.2222222222222222,
              "#7201a8"
             ],
             [
              0.3333333333333333,
              "#9c179e"
             ],
             [
              0.4444444444444444,
              "#bd3786"
             ],
             [
              0.5555555555555556,
              "#d8576b"
             ],
             [
              0.6666666666666666,
              "#ed7953"
             ],
             [
              0.7777777777777778,
              "#fb9f3a"
             ],
             [
              0.8888888888888888,
              "#fdca26"
             ],
             [
              1,
              "#f0f921"
             ]
            ],
            "type": "histogram2dcontour"
           }
          ],
          "mesh3d": [
           {
            "colorbar": {
             "outlinewidth": 0,
             "ticks": ""
            },
            "type": "mesh3d"
           }
          ],
          "parcoords": [
           {
            "line": {
             "colorbar": {
              "outlinewidth": 0,
              "ticks": ""
             }
            },
            "type": "parcoords"
           }
          ],
          "pie": [
           {
            "automargin": true,
            "type": "pie"
           }
          ],
          "scatter": [
           {
            "fillpattern": {
             "fillmode": "overlay",
             "size": 10,
             "solidity": 0.2
            },
            "type": "scatter"
           }
          ],
          "scatter3d": [
           {
            "line": {
             "colorbar": {
              "outlinewidth": 0,
              "ticks": ""
             }
            },
            "marker": {
             "colorbar": {
              "outlinewidth": 0,
              "ticks": ""
             }
            },
            "type": "scatter3d"
           }
          ],
          "scattercarpet": [
           {
            "marker": {
             "colorbar": {
              "outlinewidth": 0,
              "ticks": ""
             }
            },
            "type": "scattercarpet"
           }
          ],
          "scattergeo": [
           {
            "marker": {
             "colorbar": {
              "outlinewidth": 0,
              "ticks": ""
             }
            },
            "type": "scattergeo"
           }
          ],
          "scattergl": [
           {
            "marker": {
             "colorbar": {
              "outlinewidth": 0,
              "ticks": ""
             }
            },
            "type": "scattergl"
           }
          ],
          "scattermapbox": [
           {
            "marker": {
             "colorbar": {
              "outlinewidth": 0,
              "ticks": ""
             }
            },
            "type": "scattermapbox"
           }
          ],
          "scatterpolar": [
           {
            "marker": {
             "colorbar": {
              "outlinewidth": 0,
              "ticks": ""
             }
            },
            "type": "scatterpolar"
           }
          ],
          "scatterpolargl": [
           {
            "marker": {
             "colorbar": {
              "outlinewidth": 0,
              "ticks": ""
             }
            },
            "type": "scatterpolargl"
           }
          ],
          "scatterternary": [
           {
            "marker": {
             "colorbar": {
              "outlinewidth": 0,
              "ticks": ""
             }
            },
            "type": "scatterternary"
           }
          ],
          "surface": [
           {
            "colorbar": {
             "outlinewidth": 0,
             "ticks": ""
            },
            "colorscale": [
             [
              0,
              "#0d0887"
             ],
             [
              0.1111111111111111,
              "#46039f"
             ],
             [
              0.2222222222222222,
              "#7201a8"
             ],
             [
              0.3333333333333333,
              "#9c179e"
             ],
             [
              0.4444444444444444,
              "#bd3786"
             ],
             [
              0.5555555555555556,
              "#d8576b"
             ],
             [
              0.6666666666666666,
              "#ed7953"
             ],
             [
              0.7777777777777778,
              "#fb9f3a"
             ],
             [
              0.8888888888888888,
              "#fdca26"
             ],
             [
              1,
              "#f0f921"
             ]
            ],
            "type": "surface"
           }
          ],
          "table": [
           {
            "cells": {
             "fill": {
              "color": "#EBF0F8"
             },
             "line": {
              "color": "white"
             }
            },
            "header": {
             "fill": {
              "color": "#C8D4E3"
             },
             "line": {
              "color": "white"
             }
            },
            "type": "table"
           }
          ]
         },
         "layout": {
          "annotationdefaults": {
           "arrowcolor": "#2a3f5f",
           "arrowhead": 0,
           "arrowwidth": 1
          },
          "autotypenumbers": "strict",
          "coloraxis": {
           "colorbar": {
            "outlinewidth": 0,
            "ticks": ""
           }
          },
          "colorscale": {
           "diverging": [
            [
             0,
             "#8e0152"
            ],
            [
             0.1,
             "#c51b7d"
            ],
            [
             0.2,
             "#de77ae"
            ],
            [
             0.3,
             "#f1b6da"
            ],
            [
             0.4,
             "#fde0ef"
            ],
            [
             0.5,
             "#f7f7f7"
            ],
            [
             0.6,
             "#e6f5d0"
            ],
            [
             0.7,
             "#b8e186"
            ],
            [
             0.8,
             "#7fbc41"
            ],
            [
             0.9,
             "#4d9221"
            ],
            [
             1,
             "#276419"
            ]
           ],
           "sequential": [
            [
             0,
             "#0d0887"
            ],
            [
             0.1111111111111111,
             "#46039f"
            ],
            [
             0.2222222222222222,
             "#7201a8"
            ],
            [
             0.3333333333333333,
             "#9c179e"
            ],
            [
             0.4444444444444444,
             "#bd3786"
            ],
            [
             0.5555555555555556,
             "#d8576b"
            ],
            [
             0.6666666666666666,
             "#ed7953"
            ],
            [
             0.7777777777777778,
             "#fb9f3a"
            ],
            [
             0.8888888888888888,
             "#fdca26"
            ],
            [
             1,
             "#f0f921"
            ]
           ],
           "sequentialminus": [
            [
             0,
             "#0d0887"
            ],
            [
             0.1111111111111111,
             "#46039f"
            ],
            [
             0.2222222222222222,
             "#7201a8"
            ],
            [
             0.3333333333333333,
             "#9c179e"
            ],
            [
             0.4444444444444444,
             "#bd3786"
            ],
            [
             0.5555555555555556,
             "#d8576b"
            ],
            [
             0.6666666666666666,
             "#ed7953"
            ],
            [
             0.7777777777777778,
             "#fb9f3a"
            ],
            [
             0.8888888888888888,
             "#fdca26"
            ],
            [
             1,
             "#f0f921"
            ]
           ]
          },
          "colorway": [
           "#636efa",
           "#EF553B",
           "#00cc96",
           "#ab63fa",
           "#FFA15A",
           "#19d3f3",
           "#FF6692",
           "#B6E880",
           "#FF97FF",
           "#FECB52"
          ],
          "font": {
           "color": "#2a3f5f"
          },
          "geo": {
           "bgcolor": "white",
           "lakecolor": "white",
           "landcolor": "#E5ECF6",
           "showlakes": true,
           "showland": true,
           "subunitcolor": "white"
          },
          "hoverlabel": {
           "align": "left"
          },
          "hovermode": "closest",
          "mapbox": {
           "style": "light"
          },
          "paper_bgcolor": "white",
          "plot_bgcolor": "#E5ECF6",
          "polar": {
           "angularaxis": {
            "gridcolor": "white",
            "linecolor": "white",
            "ticks": ""
           },
           "bgcolor": "#E5ECF6",
           "radialaxis": {
            "gridcolor": "white",
            "linecolor": "white",
            "ticks": ""
           }
          },
          "scene": {
           "xaxis": {
            "backgroundcolor": "#E5ECF6",
            "gridcolor": "white",
            "gridwidth": 2,
            "linecolor": "white",
            "showbackground": true,
            "ticks": "",
            "zerolinecolor": "white"
           },
           "yaxis": {
            "backgroundcolor": "#E5ECF6",
            "gridcolor": "white",
            "gridwidth": 2,
            "linecolor": "white",
            "showbackground": true,
            "ticks": "",
            "zerolinecolor": "white"
           },
           "zaxis": {
            "backgroundcolor": "#E5ECF6",
            "gridcolor": "white",
            "gridwidth": 2,
            "linecolor": "white",
            "showbackground": true,
            "ticks": "",
            "zerolinecolor": "white"
           }
          },
          "shapedefaults": {
           "line": {
            "color": "#2a3f5f"
           }
          },
          "ternary": {
           "aaxis": {
            "gridcolor": "white",
            "linecolor": "white",
            "ticks": ""
           },
           "baxis": {
            "gridcolor": "white",
            "linecolor": "white",
            "ticks": ""
           },
           "bgcolor": "#E5ECF6",
           "caxis": {
            "gridcolor": "white",
            "linecolor": "white",
            "ticks": ""
           }
          },
          "title": {
           "x": 0.05
          },
          "xaxis": {
           "automargin": true,
           "gridcolor": "white",
           "linecolor": "white",
           "ticks": "",
           "title": {
            "standoff": 15
           },
           "zerolinecolor": "white",
           "zerolinewidth": 2
          },
          "yaxis": {
           "automargin": true,
           "gridcolor": "white",
           "linecolor": "white",
           "ticks": "",
           "title": {
            "standoff": 15
           },
           "zerolinecolor": "white",
           "zerolinewidth": 2
          }
         }
        },
        "xaxis": {
         "anchor": "y",
         "domain": [
          0,
          1
         ],
         "title": {
          "text": "index"
         }
        },
        "yaxis": {
         "anchor": "x",
         "domain": [
          0,
          1
         ],
         "title": {
          "text": "value"
         }
        }
       }
      }
     },
     "metadata": {},
     "output_type": "display_data"
    }
   ],
   "source": [
    "# line plot of growing the bests\n",
    "px.line(avg_of_legends)"
   ]
  },
  {
   "cell_type": "code",
   "execution_count": 238,
   "metadata": {},
   "outputs": [
    {
     "data": {
      "text/plain": [
       "'(x2) * ((x1) * ((x2) + (x2)))'"
      ]
     },
     "execution_count": 238,
     "metadata": {},
     "output_type": "execute_result"
    }
   ],
   "source": [
    "showtree(bestNode.root)"
   ]
  },
  {
   "cell_type": "code",
   "execution_count": 239,
   "metadata": {},
   "outputs": [
    {
     "data": {
      "text/plain": [
       "'(x1) ^ (2)'"
      ]
     },
     "execution_count": 239,
     "metadata": {},
     "output_type": "execute_result"
    }
   ],
   "source": [
    "showtree( powertree.root )"
   ]
  },
  {
   "cell_type": "code",
   "execution_count": 240,
   "metadata": {},
   "outputs": [
    {
     "data": {
      "image/png": "[encoded data removed]",
      "text/plain": [
       "<Figure size 640x480 with 1 Axes>"
      ]
     },
     "metadata": {},
     "output_type": "display_data"
    }
   ],
   "source": [
    "plt.plot(inputValue , trueValues)\n",
    "plt.plot(inputValue , calculateValue(inputValue , bestNode.root) , '-.')\n",
    "plt.xlabel(\"X-axis data\")\n",
    "plt.ylabel(\"Y-axis data\")\n",
    "plt.title(\"compare best vs realOne!\")\n",
    "plt.show()"
   ]
  },
  {
   "cell_type": "code",
   "execution_count": null,
   "metadata": {},
   "outputs": [],
   "source": []
  }
 ],
 "metadata": {
  "kernelspec": {
   "display_name": "Python 3.9.12 ('insta')",
   "language": "python",
   "name": "python3"
  },
  "language_info": {
   "codemirror_mode": {
    "name": "ipython",
    "version": 3
   },
   "file_extension": ".py",
   "mimetype": "text/x-python",
   "name": "python",
   "nbconvert_exporter": "python",
   "pygments_lexer": "ipython3",
   "version": "3.9.12"
  },
  "orig_nbformat": 4,
  "vscode": {
   "interpreter": {
    "hash": "b0616622e670fd58f9292b36f2e3689d12ca973b5ecffe1ed42939b0efd1bc58"
   }
  }
 },
 "nbformat": 4,
 "nbformat_minor": 2
}
