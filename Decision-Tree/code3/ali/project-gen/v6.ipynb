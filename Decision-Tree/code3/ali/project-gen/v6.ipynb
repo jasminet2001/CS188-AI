{
 "cells": [
  {
   "cell_type": "markdown",
   "metadata": {},
   "source": [
    "**version 5 :** \n",
    "trying to get better resault in main Algorithm & solved somethings!\n",
    "<br>\n",
    "**changes :**\n",
    "- keeps alive the 20% of the top (all time)\n",
    "- add the floating numbeer to the Coefficients"
   ]
  },
  {
   "cell_type": "markdown",
   "metadata": {},
   "source": [
    "**insights :**\n",
    "<br>\n",
    "- list of hyperparameter must tune that recognize:\n",
    " 1. number of geneerations (time and fitness trade-off) => set to at least 20 times .\n",
    " <br>\n",
    " 2. number of each populations => set to 100 .\n",
    " <br>\n",
    " 3. possibilities of having mutations\n",
    " <br>\n",
    " 4. maximum number of depth that each tree can have\n",
    " <br>\n",
    " 5. the way of crossovers (completely random or something diffrent)\n",
    " <br>\n",
    " 6. change the power of mse in middle of way\n",
    " <br>\n",
    " 7. the time that is better to keeps them alive \n",
    " <br>\n",
    " 8. the percentage of each gen must keeps alive\n",
    " <br>\n",
    "</list>\n",
    "- problems of domain in caclulates and infinity => cuz of cos or sin of infinity => soloutuon : add an epsilon! \n"
   ]
  },
  {
   "cell_type": "markdown",
   "metadata": {},
   "source": [
    "setups:\n",
    "- number of gens : 20 \n",
    "- number of each popluations : 100\n",
    "- chance of mutation : 5 % \n",
    "- percentege of saves per population : 20 % (from first of way .)\n",
    "- maximum number of depth : 5 "
   ]
  },
  {
   "cell_type": "code",
   "execution_count": 308,
   "metadata": {},
   "outputs": [],
   "source": [
    "import random\n",
    "import plotly.express as px\n",
    "import matplotlib.pyplot as plt\n",
    "import pandas as pd\n",
    "import numpy as np\n",
    "from sklearn.metrics import mean_squared_error\n",
    "import math\n",
    "operators = [\"+\" , \"-\" , \"*\" , \"/\" ] # can add pow to the set \"^\"\n",
    "singleOperators = [\"sin\" , \"cos\"] # in sin & cos , right node is always NULL\n",
    "epsilon = 0.0000001\n",
    "x1 = 2\n",
    "x2 = 5\n",
    "defaultValues = (x1 , x2 )\n",
    "listOfInputs = [\"x1\" , \"x2\"]\n",
    "CoefficientsRagne = 10\n",
    "presicionInCeo = 2\n",
    "allOperators = []\n",
    "allOperators.extend(operators)\n",
    "allOperators.extend(singleOperators)"
   ]
  },
  {
   "cell_type": "code",
   "execution_count": 255,
   "metadata": {},
   "outputs": [],
   "source": [
    "class node ():\n",
    "    def __init__(self , operator , rightnode = None , leftnode = None  , father = None):\n",
    "        self.father = father\n",
    "        self.leaf = False\n",
    "        self.rightnode = rightnode\n",
    "        self.leftnode = leftnode\n",
    "        if operator in operators or operator in singleOperators  :\n",
    "            self.operator = operator\n",
    "        elif (type (operator) is int) or (type (operator) is float) or operator in listOfInputs : # this is the way we know the leaf and nodes\n",
    "            self.leaf = True\n",
    "            self.operator = operator \n",
    "        else :\n",
    "            print(\"operator not assigned - wrong input\")\n",
    "        \n",
    "    def assignOperator (self ):\n",
    "        x = input()\n",
    "        while (x not in operators and x not in singleOperators ) and not x.isnumeric():\n",
    "            print(\"x is not true ! try again !\")\n",
    "            x = input()\n",
    "        self.operator = x\n",
    "        if x.isnumeric() : # clear the down nodes\n",
    "            self.leaf = True\n",
    "            self.leftnode = None\n",
    "            self.rightnode = None\n",
    "    def addNode (self , node):\n",
    "        if self.leaf == False :\n",
    "            if self.leftnode == None :\n",
    "                self.leftnode = node\n",
    "                node.father = self\n",
    "                return True\n",
    "            elif self.rightnode == None and self.operator not in singleOperators:\n",
    "                self.rightnode = node\n",
    "                node.father = self\n",
    "                return True\n",
    "            else:\n",
    "                if self.leftnode.addNode(node) :\n",
    "                    return True\n",
    "                if self.operator not in singleOperators:\n",
    "                    if self.rightnode.addNode(node) :\n",
    "                        return True\n",
    "            return False\n",
    "        return False"
   ]
  },
  {
   "cell_type": "code",
   "execution_count": 3,
   "metadata": {},
   "outputs": [
    {
     "name": "stdout",
     "output_type": "stream",
     "text": [
      "operator not assigned - wrong input\n"
     ]
    }
   ],
   "source": [
    "test = node(\"\")"
   ]
  },
  {
   "cell_type": "code",
   "execution_count": 4,
   "metadata": {},
   "outputs": [],
   "source": [
    "test.assignOperator()"
   ]
  },
  {
   "cell_type": "code",
   "execution_count": 5,
   "metadata": {},
   "outputs": [
    {
     "data": {
      "text/plain": [
       "<__main__.node at 0x21ac496b160>"
      ]
     },
     "execution_count": 5,
     "metadata": {},
     "output_type": "execute_result"
    }
   ],
   "source": [
    "test"
   ]
  },
  {
   "cell_type": "code",
   "execution_count": 6,
   "metadata": {},
   "outputs": [
    {
     "data": {
      "text/plain": [
       "'+'"
      ]
     },
     "execution_count": 6,
     "metadata": {},
     "output_type": "execute_result"
    }
   ],
   "source": [
    "test.operator"
   ]
  },
  {
   "cell_type": "code",
   "execution_count": 244,
   "metadata": {},
   "outputs": [],
   "source": [
    "class tree ():\n",
    "    def __init__(self , root):\n",
    "        self.numnerOfNodes = 1\n",
    "        self.LeafList = []\n",
    "        self.LeafList.append(root)\n",
    "        if type( root ) is node :\n",
    "            self.root = root\n",
    "        else:\n",
    "            print(\"try another time plz . \")\n",
    "    def calculateFather(self,node):\n",
    "        counter = 1 \n",
    "        temp = node.father\n",
    "        if temp != None :\n",
    "            while temp.father != None :\n",
    "                temp = temp.father\n",
    "                counter = counter + 1\n",
    "        return counter\n",
    "    def addNodeInSurf (self , node ):\n",
    "        MaxNumsOfFather = 1000\n",
    "        nodeTemp = None\n",
    "        for item in self.LeafList : \n",
    "            temp = self.calculateFather(item)\n",
    "            if temp < MaxNumsOfFather :\n",
    "                MaxNumsOfFather = temp\n",
    "                nodeTemp = item\n",
    "        if nodeTemp.leftnode == None :\n",
    "            nodeTemp.leftnode = node\n",
    "            node.father = nodeTemp\n",
    "            self.LeafList.append(node)\n",
    "            if nodeTemp.rightnode != None or nodeTemp.operator in singleOperators :\n",
    "                self.LeafList.remove(nodeTemp)\n",
    "        elif nodeTemp.rightnode == None and nodeTemp.operator not in singleOperators:\n",
    "            nodeTemp.rightnode = node\n",
    "            node.father = nodeTemp\n",
    "            self.LeafList.append(node)\n",
    "            if nodeTemp.leftnode != None : \n",
    "                self.LeafList.remove(nodeTemp)\n",
    "        self.numnerOfNodes = self.numnerOfNodes + 1\n",
    "    def addNodeIndepth (self , node):    \n",
    "        if self.root.addNode(node) :\n",
    "            self.LeafList.append(node)\n",
    "            if node.father.operator in singleOperators :\n",
    "                self.LeafList.remove(node.father)\n",
    "        self.numnerOfNodes = self.numnerOfNodes + 1\n",
    "    def isComplete(self):\n",
    "        for item in self.LeafList :\n",
    "            if item.leaf == False:\n",
    "                return False\n",
    "        return True\n",
    "    def PostorderTraversal(self, root):\n",
    "        res = []\n",
    "        if root:\n",
    "            res = self.PostorderTraversal(root.left)\n",
    "            res = res + self.PostorderTraversal(root.right)\n",
    "            res.append(root.data)\n",
    "        return res"
   ]
  },
  {
   "cell_type": "code",
   "execution_count": 10,
   "metadata": {},
   "outputs": [],
   "source": [
    "# test1 = node(\"-\")\n",
    "# test.addNode(test1)\n",
    "# test.addNode(node(2))"
   ]
  },
  {
   "cell_type": "code",
   "execution_count": 245,
   "metadata": {},
   "outputs": [],
   "source": [
    "def calculate (node , args = defaultValues):\n",
    "    if node.leaf == True:\n",
    "        # if node.operator == \"x1\" :\n",
    "        #    return args[0]\n",
    "        # if node.operator == \"x2\" :\n",
    "        #    return args[1]\n",
    "        for x , y  in zip(args , listOfInputs) :\n",
    "            if y == node.operator :\n",
    "                return x\n",
    "        return node.operator\n",
    "    if node.operator == \"+\" :\n",
    "        return calculate(node.leftnode , args) + calculate(node.rightnode , args)\n",
    "    elif node.operator == \"-\" :\n",
    "        return calculate(node.leftnode , args) - calculate(node.rightnode , args)\n",
    "    elif node.operator == \"/\" :\n",
    "        divded = calculate(node.rightnode , args)\n",
    "        if divded == 0 :\n",
    "            divded = epsilon \n",
    "        return calculate(node.leftnode , args) / divded\n",
    "    elif node.operator == \"*\" :\n",
    "        return calculate(node.leftnode , args) * calculate(node.rightnode , args)\n",
    "    elif node.operator == \"^\" :\n",
    "        return pow( calculate(node.leftnode , args) , calculate(node.rightnode , args) )\n",
    "    elif node.operator == \"sin\" :\n",
    "        return math.sin(calculate(node.leftnode , args))\n",
    "    elif node.operator == \"cos\" :\n",
    "        # print(node.leftnode.operator)\n",
    "        return math.cos(calculate(node.leftnode , args))"
   ]
  },
  {
   "cell_type": "code",
   "execution_count": 246,
   "metadata": {},
   "outputs": [],
   "source": [
    "def showtree(node) :\n",
    "    if node.leaf == True:\n",
    "        return  f\"{node.operator}\"\n",
    "    if node.operator == \"+\" :\n",
    "        return f\"({showtree(node.leftnode)}) + ({showtree(node.rightnode)})\"\n",
    "    elif node.operator == \"-\" :\n",
    "        return f\"({showtree(node.leftnode)}) - ({showtree(node.rightnode)})\"\n",
    "    elif node.operator == \"/\" :\n",
    "        return f\"({showtree(node.leftnode)}) / ({showtree(node.rightnode)})\"\n",
    "    elif node.operator == \"*\" :\n",
    "        return f\"({showtree(node.leftnode)}) * ({showtree(node.rightnode)})\"\n",
    "    elif node.operator == \"^\" :\n",
    "        return f\"({showtree(node.leftnode)}) ^ ({showtree(node.rightnode)})\"\n",
    "    elif node.operator == \"sin\" :\n",
    "        return f\"sin({showtree(node.leftnode)})\"\n",
    "    elif node.operator == \"cos\" :\n",
    "        return f\"cos({showtree(node.leftnode)})\""
   ]
  },
  {
   "cell_type": "code",
   "execution_count": 247,
   "metadata": {},
   "outputs": [],
   "source": [
    "def createRandomTree(max , Coefficients):\n",
    "    numberOfDepth = random.randint(1 , max)\n",
    "    # create the root\n",
    "    firstOperator = random.randint(0 , len(allOperators) - 1)\n",
    "    temptree = tree(node(allOperators[firstOperator]))\n",
    "    # create the tree structure \n",
    "    for _ in range (0 , (2 ^ numberOfDepth) - 1) :\n",
    "        firstOperator = random.randint(0 , len(allOperators) - 1)\n",
    "        randomnode = temptree.LeafList[random.randint(1 , len(temptree.LeafList)) - 1]\n",
    "        if temptree.calculateFather(randomnode) <= max :\n",
    "            if firstOperator % 2 == 0 :\n",
    "                if randomnode.rightnode == None and randomnode.operator not in singleOperators: \n",
    "                    randomnode.rightnode = node(allOperators[random.randint(0 , len(allOperators) - 1)] , father=randomnode)\n",
    "                    temptree.numnerOfNodes = temptree.numnerOfNodes + 1\n",
    "                    temptree.LeafList.append(randomnode.rightnode)\n",
    "                elif randomnode.leftnode != None :\n",
    "                    temptree.LeafList.remove(randomnode)\n",
    "                else :\n",
    "                    randomnode.leftnode = node(allOperators[random.randint(0 , len(allOperators) - 1)] , father=randomnode)\n",
    "                    temptree.numnerOfNodes = temptree.numnerOfNodes + 1\n",
    "                    temptree.LeafList.append(randomnode.leftnode)\n",
    "                    temptree.LeafList.remove(randomnode)\n",
    "            else:\n",
    "                if randomnode.leftnode == None : \n",
    "                    randomnode.leftnode = node(allOperators[random.randint(0 , len(allOperators) - 1)] , father=randomnode)\n",
    "                    temptree.numnerOfNodes = temptree.numnerOfNodes + 1\n",
    "                    temptree.LeafList.append(randomnode.leftnode)\n",
    "                elif randomnode.rightnode != None or randomnode.operator in singleOperators:\n",
    "                    temptree.LeafList.remove(randomnode)\n",
    "                else :\n",
    "                    randomnode.rightnode = node(allOperators[random.randint(0 , len(allOperators) - 1)] , father=randomnode)\n",
    "                    temptree.numnerOfNodes = temptree.numnerOfNodes + 1\n",
    "                    temptree.LeafList.remove(randomnode)\n",
    "                    temptree.LeafList.append(randomnode.rightnode)\n",
    "            \n",
    "    # fill the leafs\n",
    "    templist = temptree.LeafList.copy()\n",
    "    for lastnode in templist :\n",
    "        firstOperator = random.randint(0 , len(allOperators) - 1)\n",
    "        if lastnode.rightnode == None :\n",
    "            if firstOperator % 2 == 0 :\n",
    "                lastnode.rightnode = node( listOfInputs[random.randint(0 , len(listOfInputs) - 1)] , father=lastnode )\n",
    "                temptree.numnerOfNodes = temptree.numnerOfNodes + 1\n",
    "                temptree.LeafList.append(lastnode.rightnode)\n",
    "            else :\n",
    "                lastnode.rightnode = node( round( random.uniform(-1 * Coefficients , Coefficients) , presicionInCeo ) , father=lastnode )\n",
    "                temptree.numnerOfNodes = temptree.numnerOfNodes + 1\n",
    "                temptree.LeafList.append(lastnode.rightnode)\n",
    "            if lastnode.leftnode != None :\n",
    "                temptree.LeafList.remove(lastnode)\n",
    "                #templist.remove(lastnode)\n",
    "        if lastnode.leftnode == None :\n",
    "            if firstOperator % 2 == 1 :\n",
    "                lastnode.leftnode = node( listOfInputs[random.randint(0 , len(listOfInputs) - 1)] , father=lastnode )\n",
    "                temptree.numnerOfNodes = temptree.numnerOfNodes + 1\n",
    "                temptree.LeafList.append(lastnode.leftnode)\n",
    "            else :\n",
    "                lastnode.leftnode = node( round( random.uniform (-1 * Coefficients , Coefficients ) , presicionInCeo ) , father=lastnode )\n",
    "                temptree.numnerOfNodes = temptree.numnerOfNodes + 1\n",
    "                temptree.LeafList.append(lastnode.leftnode)\n",
    "            if lastnode.rightnode != None :\n",
    "                temptree.LeafList.remove(lastnode)\n",
    "                #templist.remove(lastnode)\n",
    "    return temptree\n",
    "        \n",
    "        "
   ]
  },
  {
   "cell_type": "markdown",
   "metadata": {},
   "source": [
    "**test the add in surf**"
   ]
  },
  {
   "cell_type": "code",
   "execution_count": 114,
   "metadata": {},
   "outputs": [],
   "source": [
    "testtree2= tree(test)"
   ]
  },
  {
   "cell_type": "code",
   "execution_count": 115,
   "metadata": {},
   "outputs": [
    {
     "data": {
      "text/plain": [
       "[<__main__.node at 0x2080deda1c0>]"
      ]
     },
     "execution_count": 115,
     "metadata": {},
     "output_type": "execute_result"
    }
   ],
   "source": [
    "testtree2.LeafList"
   ]
  },
  {
   "cell_type": "code",
   "execution_count": 116,
   "metadata": {},
   "outputs": [],
   "source": [
    "testtree2.addNodeInSurf(node(\"+\"))"
   ]
  },
  {
   "cell_type": "code",
   "execution_count": 117,
   "metadata": {},
   "outputs": [],
   "source": [
    "testtree2.addNodeInSurf(node(\"+\"))"
   ]
  },
  {
   "cell_type": "code",
   "execution_count": 118,
   "metadata": {},
   "outputs": [],
   "source": [
    "testtree2.addNodeInSurf(node(\"-\"))"
   ]
  },
  {
   "cell_type": "code",
   "execution_count": 119,
   "metadata": {},
   "outputs": [],
   "source": [
    "testtree2.addNodeInSurf(node(\"-\"))"
   ]
  },
  {
   "cell_type": "markdown",
   "metadata": {},
   "source": [
    "**test add in depth**"
   ]
  },
  {
   "cell_type": "code",
   "execution_count": 120,
   "metadata": {},
   "outputs": [],
   "source": [
    "testtree2.addNodeIndepth(node(\"-\"))"
   ]
  },
  {
   "cell_type": "code",
   "execution_count": 121,
   "metadata": {},
   "outputs": [],
   "source": [
    "testtree2.addNodeIndepth(node(\"-\"))"
   ]
  },
  {
   "cell_type": "markdown",
   "metadata": {},
   "source": [
    "**test the calculate**"
   ]
  },
  {
   "cell_type": "code",
   "execution_count": 11,
   "metadata": {},
   "outputs": [],
   "source": [
    "testtree = tree(node(\"sin\"))"
   ]
  },
  {
   "cell_type": "code",
   "execution_count": 12,
   "metadata": {},
   "outputs": [
    {
     "name": "stdout",
     "output_type": "stream",
     "text": [
      "-0.9589242746631385\n"
     ]
    }
   ],
   "source": [
    "#simple test with \n",
    "testtree.addNodeInSurf(node(\"/\"))\n",
    "testtree.addNodeInSurf(node(\"*\"))\n",
    "testtree.addNodeInSurf(node(x1))\n",
    "testtree.addNodeInSurf(node(x2))\n",
    "testtree.addNodeInSurf(node(x1))\n",
    "testtree.addNodeInSurf(node(x2))\n",
    "print( calculate(testtree.root , (2 , 5)) )"
   ]
  },
  {
   "cell_type": "markdown",
   "metadata": {},
   "source": [
    "**test the showtree**"
   ]
  },
  {
   "cell_type": "code",
   "execution_count": 13,
   "metadata": {},
   "outputs": [
    {
     "name": "stdout",
     "output_type": "stream",
     "text": [
      "sin(((5) * (2)) / (2))\n"
     ]
    }
   ],
   "source": [
    "print(showtree(testtree.root))"
   ]
  },
  {
   "cell_type": "markdown",
   "metadata": {},
   "source": [
    "**test the random creation**"
   ]
  },
  {
   "cell_type": "code",
   "execution_count": 20,
   "metadata": {},
   "outputs": [],
   "source": [
    "testRandom1 =  createRandomTree(10 , 5)"
   ]
  },
  {
   "cell_type": "code",
   "execution_count": 21,
   "metadata": {},
   "outputs": [
    {
     "name": "stdout",
     "output_type": "stream",
     "text": [
      "((-4) - (((2) / (x1)) / ((cos(x1)) * (x1)))) * (sin(cos(cos((3) + (x1)))))\n"
     ]
    }
   ],
   "source": [
    "print(showtree(testRandom1.root))"
   ]
  },
  {
   "cell_type": "code",
   "execution_count": 22,
   "metadata": {},
   "outputs": [
    {
     "name": "stdout",
     "output_type": "stream",
     "text": [
      "-2.0481313613372\n"
     ]
    }
   ],
   "source": [
    "print(calculate( testRandom1.root , (3 , 6)))"
   ]
  },
  {
   "cell_type": "code",
   "execution_count": 23,
   "metadata": {},
   "outputs": [
    {
     "data": {
      "text/plain": [
       "19"
      ]
     },
     "execution_count": 23,
     "metadata": {},
     "output_type": "execute_result"
    }
   ],
   "source": [
    "testRandom1.numnerOfNodes"
   ]
  },
  {
   "cell_type": "markdown",
   "metadata": {},
   "source": [
    "**the main function**"
   ]
  },
  {
   "cell_type": "code",
   "execution_count": 248,
   "metadata": {},
   "outputs": [],
   "source": [
    "def calculateValue(inputValues , root):\n",
    "    predicted = []\n",
    "    for tupleIn in inputValues:\n",
    "        predicted.append( calculate(root , tupleIn))\n",
    "    return predicted"
   ]
  },
  {
   "cell_type": "code",
   "execution_count": 249,
   "metadata": {},
   "outputs": [],
   "source": [
    "def RandomSelection(mses , population):\n",
    "    total = []\n",
    "    cumsum = 0 \n",
    "    for i in mses :\n",
    "        cumsum = cumsum + i\n",
    "        total.append(cumsum)\n",
    "    rnd = random.random() * cumsum\n",
    "    for i, uptotal in enumerate(total):\n",
    "        if rnd < uptotal:\n",
    "            return population[i]\n",
    "    return population[-1] # if something goes wrong !"
   ]
  },
  {
   "cell_type": "code",
   "execution_count": 250,
   "metadata": {},
   "outputs": [],
   "source": [
    "import copy\n",
    "def iterate ( node , numberOfrotate , visited):\n",
    "    # temp = copy.deepcopy(node)\n",
    "    # print(numberOfrotate)\n",
    "    visited = []\n",
    "    counter = 0 \n",
    "    while counter != numberOfrotate:\n",
    "        if node.rightnode != None and node.rightnode not in visited:\n",
    "            counter = counter + 1\n",
    "            visited.append(node.rightnode)\n",
    "            node = node.rightnode\n",
    "        elif node.leftnode != None and node.leftnode not in visited :\n",
    "            counter = counter + 1\n",
    "            visited.append(node.leftnode)\n",
    "            node = node.leftnode\n",
    "        else :\n",
    "            if node.father != None :\n",
    "                node = node.father\n",
    "            else :\n",
    "                node = node.leftnode\n",
    "                counter = counter + 1\n",
    "    return node   "
   ]
  },
  {
   "cell_type": "code",
   "execution_count": 10,
   "metadata": {},
   "outputs": [
    {
     "name": "stdout",
     "output_type": "stream",
     "text": [
      "((4) + (((x1) - (7)) + ((x2) - (5)))) - (4)\n"
     ]
    }
   ],
   "source": [
    "testtree = tree(node(\"-\"))\n",
    "testtree.root.leftnode = node(\"+\" , father=testtree.root)\n",
    "testtree.root.rightnode = node(4 , father=testtree.root)\n",
    "testtree.root.leftnode.leftnode = node(4 , father=testtree.root.leftnode)\n",
    "testtree.root.leftnode.rightnode = node(\"+\" , father = testtree.root.leftnode)\n",
    "testtree.root.leftnode.rightnode.leftnode = node(\"-\" , father=testtree.root.leftnode.rightnode)\n",
    "testtree.root.leftnode.rightnode.leftnode.leftnode = node(\"x1\" , father=testtree.root.leftnode.rightnode.leftnode)\n",
    "testtree.root.leftnode.rightnode.leftnode.rightnode = node(7, father=testtree.root.leftnode.rightnode.leftnode)\n",
    "testtree.root.leftnode.rightnode.rightnode = node(\"-\" , father=testtree.root.leftnode.rightnode)\n",
    "testtree.root.leftnode.rightnode.rightnode.leftnode = node(\"x2\" , father=testtree.root.leftnode.rightnode.rightnode)\n",
    "testtree.root.leftnode.rightnode.rightnode.rightnode = node(5 , father=testtree.root.leftnode.rightnode.rightnode)\n",
    "testtree.numnerOfNodes = 11\n",
    "print(showtree(testtree.root))"
   ]
  },
  {
   "cell_type": "code",
   "execution_count": 17,
   "metadata": {},
   "outputs": [],
   "source": [
    "Mutation(testtree)"
   ]
  },
  {
   "cell_type": "code",
   "execution_count": 18,
   "metadata": {},
   "outputs": [
    {
     "name": "stdout",
     "output_type": "stream",
     "text": [
      "((4) + (((x1) - (7)) + ((x1) - (5)))) - (4)\n"
     ]
    }
   ],
   "source": [
    "print(showtree(testtree.root))"
   ]
  },
  {
   "cell_type": "markdown",
   "metadata": {},
   "source": [
    "**test the iterate**\n"
   ]
  },
  {
   "cell_type": "code",
   "execution_count": 31,
   "metadata": {},
   "outputs": [
    {
     "name": "stdout",
     "output_type": "stream",
     "text": [
      "(2) + (5)\n",
      "5\n"
     ]
    }
   ],
   "source": [
    "testtree2 = tree(node(\"+\"))\n",
    "testtree2.addNodeInSurf(node(x1))\n",
    "testtree2.addNodeInSurf(node(x2))\n",
    "print(showtree(testtree2.root))\n",
    "print(iterate(testtree2.root , 1 , [] ).operator)"
   ]
  },
  {
   "cell_type": "code",
   "execution_count": 251,
   "metadata": {},
   "outputs": [],
   "source": [
    "import copy\n",
    "\n",
    "def CrossOver (x , y) :\n",
    "    maxOfNodes = 0 \n",
    "    if x.numnerOfNodes > y.numnerOfNodes :\n",
    "        maxOfNodes = y.numnerOfNodes\n",
    "    else :\n",
    "        maxOfNodes = x.numnerOfNodes\n",
    "    rnd = random.randint( 1 , maxOfNodes - 1 )\n",
    "    # print(rnd)\n",
    "    \n",
    "    temptree = copy.deepcopy(x)\n",
    "    temptree1 = copy.deepcopy(y)\n",
    "    \n",
    "    firstNode = iterate(temptree.root , rnd , [])\n",
    "    secondNode = iterate(temptree1.root , rnd , [])\n",
    "    firstFather =  firstNode.father \n",
    "    secondFather =  secondNode.father \n",
    "    \n",
    "    temp = copy.deepcopy(firstNode)\n",
    "    # print(temp.operator)\n",
    "    temp1 = copy.deepcopy(secondNode)\n",
    "    # print(temp1.operator)\n",
    "    \n",
    "    \n",
    "    if firstFather.leftnode == firstNode :\n",
    "        firstFather.leftnode = temp1\n",
    "    else :\n",
    "        firstFather.rightnode = temp1\n",
    "    \n",
    "    if secondFather.leftnode == secondNode :\n",
    "        secondFather.leftnode = temp\n",
    "    else :\n",
    "        secondFather.rightnode = temp\n",
    "    \n",
    "    temp1.father = firstFather\n",
    "    temp.father = secondFather\n",
    "    \n",
    "    del firstNode\n",
    "    del secondNode\n",
    "    \n",
    "    return temptree , temptree1"
   ]
  },
  {
   "cell_type": "markdown",
   "metadata": {},
   "source": [
    "**test the CrossOver**"
   ]
  },
  {
   "cell_type": "code",
   "execution_count": 28,
   "metadata": {},
   "outputs": [
    {
     "name": "stdout",
     "output_type": "stream",
     "text": [
      "(5) - (2)\n",
      "(2) + (5)\n",
      "(5) - (5)\n",
      "(2) + (2)\n"
     ]
    }
   ],
   "source": [
    "testtree = tree(node(\"-\")) # check the cross over\n",
    "testtree.addNodeInSurf(node(x2))\n",
    "testtree.addNodeInSurf(node(x1))\n",
    "print(showtree(testtree.root))\n",
    "testtree2 = tree(node(\"+\"))\n",
    "testtree2.addNodeInSurf(node(x1))\n",
    "testtree2.addNodeInSurf(node(x2))\n",
    "print(showtree(testtree2.root))\n",
    "temptest , temptest1 = CrossOver(testtree , testtree2)\n",
    "print(showtree(temptest.root))\n",
    "print(showtree(temptest1.root))\n"
   ]
  },
  {
   "cell_type": "code",
   "execution_count": 252,
   "metadata": {},
   "outputs": [],
   "source": [
    "def Mutation (tree) :\n",
    "    rnd = random.randint( 1 , tree.numnerOfNodes - 1 )\n",
    "    #print(showtree(tree.root))\n",
    "    changeNode = iterate(  tree.root , rnd , [] )\n",
    "    if changeNode.operator in allOperators :\n",
    "        changeNode.operator = allOperators[random.randint(0 , len(allOperators) - 1)]        \n",
    "        if changeNode.operator in singleOperators :\n",
    "            changeNode.rightnode = None\n",
    "        elif changeNode.rightnode == None :\n",
    "            changeNode.rightnode = node( listOfInputs[random.randint(0 , len(listOfInputs) - 1)] , father=changeNode )           \n",
    "    else:\n",
    "        if rnd % 2 == 0 :\n",
    "            changeNode.operator = listOfInputs[random.randint(0 , len(listOfInputs) - 1)]\n",
    "        else :\n",
    "            changeNode.operator = random.randint (-1 * CoefficientsRagne , CoefficientsRagne )"
   ]
  },
  {
   "cell_type": "code",
   "execution_count": 26,
   "metadata": {},
   "outputs": [],
   "source": [
    "AllData = []"
   ]
  },
  {
   "cell_type": "code",
   "execution_count": 289,
   "metadata": {},
   "outputs": [],
   "source": [
    "def general_algorithm(NumOfFirstPop , maxOfDepth , numsOfGenereations , inputValue , trueValue , AllMses):\n",
    "    # first create a population \n",
    "    bests = []\n",
    "    population = []\n",
    "    for _ in range(0 , NumOfFirstPop):\n",
    "        population.append(createRandomTree(maxOfDepth , CoefficientsRagne))\n",
    "    # main loop\n",
    "    AllMses = []\n",
    "    counter = 0 \n",
    "    while counter != numsOfGenereations :\n",
    "        # fitness values\n",
    "        mses = []\n",
    "        for i in range(0 , NumOfFirstPop):\n",
    "            mses.append(mean_squared_error(trueValue , calculateValue(inputValue , population[i].root ) ))    \n",
    "        #print(mses)\n",
    "        # keep bests alive!\n",
    "        newPopulation = []\n",
    "        if counter >= 0 :\n",
    "            tempList = [X for _ , X in sorted(zip( mses , population ) , key= lambda elem : elem[0])]\n",
    "            sortedmses = [x for x in sorted(mses)]\n",
    "            templegends = []\n",
    "            for i in range(math.floor( len(population) * 0.2)) :\n",
    "                newPopulation.append(tempList[i])\n",
    "                templegends.append(sortedmses[i])\n",
    "            bests.append(templegends)\n",
    "        # change the mse up to it is negetive fitness\n",
    "        AllMses.append(mses)\n",
    "        MaxOfmses = max( mses )\n",
    "        for i in range(0 , NumOfFirstPop):\n",
    "            mses[i] = mses[i] * -1 + MaxOfmses\n",
    "        # select randomly with their fitness\n",
    "        for _ in range(math.floor( (len(population) - len(newPopulation)) / 2)):\n",
    "            # random select each tree for crossover\n",
    "            firstNode = RandomSelection(mses , population)    \n",
    "            secondNode = RandomSelection(mses , population)\n",
    "            firstNewTree , secondNewTree = CrossOver(firstNode , secondNode)\n",
    "            # mutations !\n",
    "            rnd = random.randint(1 , 100)\n",
    "            if rnd % 20 == 0 : \n",
    "                Mutation(firstNewTree) \n",
    "            rnd = random.randint(1 , 100)\n",
    "            if rnd % 20 == 1 : \n",
    "                Mutation(secondNewTree) \n",
    "            newPopulation.append(firstNewTree)\n",
    "            newPopulation.append(secondNewTree)\n",
    "        population = newPopulation\n",
    "        counter = counter + 1\n",
    "    # return the best\n",
    "    indexOfBest = 0 \n",
    "    MaxOfmses = 0  \n",
    "    for index , mse in enumerate (mses) :\n",
    "        if mse > MaxOfmses : \n",
    "            indexOfBest = index \n",
    "            MaxOfmses = mse\n",
    "    #print(-1 * (max(mses) - MaxOfmses))\n",
    "    return  AllMses , bests , population[indexOfBest]"
   ]
  },
  {
   "cell_type": "markdown",
   "metadata": {},
   "source": [
    "**create the test for the Main Algorithm**"
   ]
  },
  {
   "cell_type": "code",
   "execution_count": 365,
   "metadata": {},
   "outputs": [
    {
     "name": "stdout",
     "output_type": "stream",
     "text": [
      "((2.19) / (x2)) - (((-2.36) * (x1)) * (((x1) + (4.32)) / (-0.75)))\n"
     ]
    }
   ],
   "source": [
    "# test \n",
    "# test tree with 5 depth\n",
    "testMain1 = createRandomTree(5 , CoefficientsRagne )\n",
    "# 300 input values\n",
    "x1valuse = [x for x in range(0 , 300)]\n",
    "x2values = [x for x in range(0 , 300)]\n",
    "inputValue = list( zip(x1valuse , x2values) )\n",
    "trueValues = []\n",
    "trueValues = calculateValue(inputValue , testMain1.root)\n",
    "print(showtree(testMain1.root))"
   ]
  },
  {
   "cell_type": "code",
   "execution_count": 305,
   "metadata": {},
   "outputs": [
    {
     "data": {
      "text/plain": [
       "'(x1) ^ (2)'"
      ]
     },
     "execution_count": 305,
     "metadata": {},
     "output_type": "execute_result"
    }
   ],
   "source": [
    "#create a simple power tree\n",
    "powertree = tree(node(\"^\"))\n",
    "powertree.root.leftnode = node(\"x1\")\n",
    "powertree.root.rightnode = node(2)\n",
    "showtree(powertree.root)"
   ]
  },
  {
   "cell_type": "code",
   "execution_count": 306,
   "metadata": {},
   "outputs": [],
   "source": [
    "x1valuse = [x for x in range(0 , 300)]\n",
    "x2values = [x for x in range(-150 , 150)]\n",
    "inputValue = list( zip(x1valuse , x2values) )\n",
    "trueValues = []\n",
    "trueValues = calculateValue(inputValue , powertree.root)"
   ]
  },
  {
   "cell_type": "code",
   "execution_count": 366,
   "metadata": {},
   "outputs": [
    {
     "data": {
      "text/plain": [
       "[21900000.0,\n",
       " -14.550266666666667,\n",
       " -38.67886666666667,\n",
       " -68.37079999999999,\n",
       " -104.17356666666666,\n",
       " -146.1966666666667,\n",
       " -194.4766,\n",
       " -249.02900952380952,\n",
       " -309.8617166666666,\n",
       " -376.97906666666665,\n",
       " -450.3836666666666,\n",
       " -530.0771757575757,\n",
       " -616.0607,\n",
       " -708.3350051282051,\n",
       " -806.900638095238,\n",
       " -911.758,\n",
       " -1022.9073916666666,\n",
       " -1140.3490431372547,\n",
       " -1264.0831333333333,\n",
       " -1394.1098035087718,\n",
       " -1530.4291666666666,\n",
       " -1673.0413142857142,\n",
       " -1821.9463212121211,\n",
       " -1977.1442492753622,\n",
       " -2138.63515,\n",
       " -2306.419066666667,\n",
       " -2480.4960358974363,\n",
       " -2660.8660888888885,\n",
       " -2847.5292523809526,\n",
       " -3040.4855494252874,\n",
       " -3239.7349999999997,\n",
       " -3445.277621505376,\n",
       " -3657.1134291666667,\n",
       " -3875.242436363636,\n",
       " -4099.664654901961,\n",
       " -4330.380095238095,\n",
       " -4567.388766666667,\n",
       " -4810.690677477477,\n",
       " -5060.285835087719,\n",
       " -5316.174246153846,\n",
       " -5578.3559166666655,\n",
       " -5846.83085203252,\n",
       " -6121.5990571428565,\n",
       " -6402.660536434108,\n",
       " -6690.015293939393,\n",
       " -6983.663333333333,\n",
       " -7283.604657971014,\n",
       " -7589.839270921985,\n",
       " -7902.367175000001,\n",
       " -8221.188372789116,\n",
       " -8546.302866666667,\n",
       " -8877.71065882353,\n",
       " -9215.411751282052,\n",
       " -9559.40614591195,\n",
       " -9909.693844444446,\n",
       " -10266.274848484847,\n",
       " -10629.14915952381,\n",
       " -10998.316778947368,\n",
       " -11373.777708045976,\n",
       " -11755.531948022597,\n",
       " -12143.579499999998,\n",
       " -12537.920365027318,\n",
       " -12938.55454408602,\n",
       " -13345.482038095235,\n",
       " -13758.702847916666,\n",
       " -14178.216974358975,\n",
       " -14604.024418181816,\n",
       " -15036.1251800995,\n",
       " -15474.519260784313,\n",
       " -15919.206660869564,\n",
       " -16370.187380952379,\n",
       " -16827.461421596243,\n",
       " -17291.028783333328,\n",
       " -17760.889466666664,\n",
       " -18237.04347207207,\n",
       " -18719.490799999996,\n",
       " -19208.231450877192,\n",
       " -19703.265425108224,\n",
       " -20204.59272307692,\n",
       " -20712.213345147677,\n",
       " -21226.127291666664,\n",
       " -21746.33456296296,\n",
       " -22272.83515934959,\n",
       " -22805.629081124498,\n",
       " -23344.716328571423,\n",
       " -23890.09690196078,\n",
       " -24441.770801550385,\n",
       " -24999.738027586205,\n",
       " -25563.998580303025,\n",
       " -26134.552459925093,\n",
       " -26711.39966666666,\n",
       " -27294.540200732594,\n",
       " -27883.974062318834,\n",
       " -28479.7012516129,\n",
       " -29081.721768794323,\n",
       " -29690.03561403508,\n",
       " -30304.642787499997,\n",
       " -30925.543289347075,\n",
       " -31552.737119727888,\n",
       " -32186.224278787875,\n",
       " -32826.004766666665,\n",
       " -33472.07858349835,\n",
       " -34124.44572941177,\n",
       " -34783.10620453074,\n",
       " -35448.06000897435,\n",
       " -36119.307142857135,\n",
       " -36796.84760628931,\n",
       " -37480.68139937695,\n",
       " -38170.808522222214,\n",
       " -38867.22897492355,\n",
       " -39569.94275757575,\n",
       " -40278.94987027027,\n",
       " -40994.25031309524,\n",
       " -41715.84408613569,\n",
       " -42443.73118947368,\n",
       " -43177.911623188396,\n",
       " -43918.38538735631,\n",
       " -44665.15248205128,\n",
       " -45418.21290734463,\n",
       " -46177.56666330531,\n",
       " -46943.213749999995,\n",
       " -47715.154167493114,\n",
       " -48493.38791584698,\n",
       " -49277.914995121944,\n",
       " -50068.73540537634,\n",
       " -50865.84914666666,\n",
       " -51669.25621904761,\n",
       " -52478.95662257217,\n",
       " -53294.95035729166,\n",
       " -54117.237423255814,\n",
       " -54945.81782051282,\n",
       " -55780.691549109404,\n",
       " -56621.8586090909,\n",
       " -57469.31900050125,\n",
       " -58323.07272338308,\n",
       " -59183.11977777777,\n",
       " -60049.46016372549,\n",
       " -60922.0938812652,\n",
       " -61801.02093043478,\n",
       " -62686.24131127098,\n",
       " -63577.755023809514,\n",
       " -64475.562068085106,\n",
       " -65379.662444131456,\n",
       " -66290.05615198133,\n",
       " -67206.74319166665,\n",
       " -68129.7235632184,\n",
       " -69058.99726666666,\n",
       " -69994.5643020408,\n",
       " -70936.42466936937,\n",
       " -71884.57836868007,\n",
       " -72839.0254,\n",
       " -73799.76576335539,\n",
       " -74766.79945877191,\n",
       " -75740.1264862745,\n",
       " -76719.74684588745,\n",
       " -77705.66053763438,\n",
       " -78697.86756153846,\n",
       " -79696.36791762208,\n",
       " -80701.16160590715,\n",
       " -81712.2486264151,\n",
       " -82729.62897916665,\n",
       " -83753.30266418219,\n",
       " -84783.26968148147,\n",
       " -85819.53003108385,\n",
       " -86862.08371300812,\n",
       " -87910.93072727272,\n",
       " -88966.07107389557,\n",
       " -90027.50475289421,\n",
       " -91095.2317642857,\n",
       " -92169.25210808677,\n",
       " -93249.56578431372,\n",
       " -94336.17279298246,\n",
       " -95429.07313410852,\n",
       " -96528.26680770713,\n",
       " -97633.7538137931,\n",
       " -98745.53415238095,\n",
       " -99863.60782348484,\n",
       " -100987.97482711864,\n",
       " -102118.63516329587,\n",
       " -103255.58883202978,\n",
       " -104398.83583333332,\n",
       " -105548.37616721915,\n",
       " -106704.20983369963,\n",
       " -107866.33683278688,\n",
       " -109034.75716449275,\n",
       " -110209.47082882881,\n",
       " -111390.47782580643,\n",
       " -112577.77815543671,\n",
       " -113771.37181773048,\n",
       " -114971.25881269839,\n",
       " -116177.43914035085,\n",
       " -117389.91280069808,\n",
       " -118608.67979375,\n",
       " -119833.74011951638,\n",
       " -121065.09377800688,\n",
       " -122302.74076923076,\n",
       " -123546.68109319726,\n",
       " -124796.91474991539,\n",
       " -126053.44173939392,\n",
       " -127316.26206164152,\n",
       " -128585.37571666668,\n",
       " -129860.7827044776,\n",
       " -131142.4830250825,\n",
       " -132430.47667848933,\n",
       " -133724.76366470588,\n",
       " -135025.34398373982,\n",
       " -136332.2176355987,\n",
       " -137645.38462028984,\n",
       " -138964.8449378205,\n",
       " -140290.59858819775,\n",
       " -141622.64557142855,\n",
       " -142960.98588751972,\n",
       " -144305.61953647799,\n",
       " -145656.54651830986,\n",
       " -147013.76683302177,\n",
       " -148377.28048062016,\n",
       " -149747.08746111108,\n",
       " -151123.18777450075,\n",
       " -152505.58142079512,\n",
       " -153894.26839999997,\n",
       " -155289.2487121212,\n",
       " -156690.5223571644,\n",
       " -158098.08933513513,\n",
       " -159511.94964603885,\n",
       " -160932.10328988096,\n",
       " -162358.55026666666,\n",
       " -163791.29057640117,\n",
       " -165230.32421908958,\n",
       " -166675.65119473683,\n",
       " -168127.27150334785,\n",
       " -169585.18514492753,\n",
       " -171049.3921194805,\n",
       " -172519.89242701148,\n",
       " -173996.68606752504,\n",
       " -175479.77304102565,\n",
       " -176969.15334751774,\n",
       " -178464.82698700562,\n",
       " -179966.79395949363,\n",
       " -181475.05426498599,\n",
       " -182989.60790348673,\n",
       " -184510.45487499997,\n",
       " -186037.59517952974,\n",
       " -187571.0288170799,\n",
       " -189110.7557876543,\n",
       " -190656.7760912568,\n",
       " -192209.08972789114,\n",
       " -193767.69669756095,\n",
       " -195332.5970002699,\n",
       " -196903.7906360215,\n",
       " -198481.27760481925,\n",
       " -200065.05790666665,\n",
       " -201655.13154156707,\n",
       " -203251.49850952378,\n",
       " -204854.15881054016,\n",
       " -206463.1124446194,\n",
       " -208078.3594117647,\n",
       " -209699.89971197915,\n",
       " -211327.7333452659,\n",
       " -212961.8603116279,\n",
       " -214602.28061106818,\n",
       " -216248.99424358975,\n",
       " -217902.00120919535,\n",
       " -219561.30150788798,\n",
       " -221226.89513967044,\n",
       " -222898.78210454542,\n",
       " -224576.9624025157,\n",
       " -226261.43603358394,\n",
       " -227952.2029977528,\n",
       " -229649.26329502487,\n",
       " -231352.6169254027,\n",
       " -233062.26388888885,\n",
       " -234778.20418548584,\n",
       " -236500.43781519606,\n",
       " -238228.96477802197,\n",
       " -239963.7850739659,\n",
       " -241704.8987030303,\n",
       " -243452.3056652174,\n",
       " -245206.00596052944,\n",
       " -246965.99958896879,\n",
       " -248732.28655053762,\n",
       " -250504.86684523808,\n",
       " -252283.74047307236,\n",
       " -254068.90743404254,\n",
       " -255860.36772815074,\n",
       " -257658.12135539908,\n",
       " -259462.16831578943,\n",
       " -261272.50860932397,\n",
       " -263089.14223600464,\n",
       " -264912.0691958333,\n",
       " -266741.289488812,\n",
       " -268576.8031149425,\n",
       " -270418.6100742268,\n",
       " -272266.71036666667,\n",
       " -274121.10399226396,\n",
       " -275981.7909510204,\n",
       " -277848.7712429378,\n",
       " -279722.044868018,\n",
       " -281601.6118262626,\n",
       " -283487.4721176734,\n",
       " -285379.6257422519]"
      ]
     },
     "execution_count": 366,
     "metadata": {},
     "output_type": "execute_result"
    }
   ],
   "source": [
    "trueValues"
   ]
  },
  {
   "cell_type": "code",
   "execution_count": 367,
   "metadata": {},
   "outputs": [],
   "source": [
    "AllData , legends , bestNode = general_algorithm(100 , 5 , 20 , inputValue , trueValues , AllData) "
   ]
  },
  {
   "cell_type": "code",
   "execution_count": 368,
   "metadata": {},
   "outputs": [
    {
     "data": {
      "text/plain": [
       "(20, 100)"
      ]
     },
     "execution_count": 368,
     "metadata": {},
     "output_type": "execute_result"
    }
   ],
   "source": [
    "np.shape(AllData)"
   ]
  },
  {
   "cell_type": "code",
   "execution_count": 369,
   "metadata": {},
   "outputs": [],
   "source": [
    "legends = np.transpose(legends)\n",
    "np.shape(legends)\n",
    "avg_of_legends = legends.mean(axis=0)"
   ]
  },
  {
   "cell_type": "code",
   "execution_count": 370,
   "metadata": {},
   "outputs": [
    {
     "data": {
      "text/plain": [
       "array([1.28919773e+12, 1.14832228e+12, 7.58587791e+11, 5.32110267e+11,\n",
       "       2.55562095e+11, 2.46665638e+11, 2.02941279e+11, 1.64866918e+11,\n",
       "       1.55577869e+11, 1.24921754e+11, 8.59115185e+10, 5.79811673e+10,\n",
       "       3.73176994e+10, 2.13995371e+10, 2.11595272e+10, 2.06795151e+10,\n",
       "       1.92394968e+10, 1.73195268e+10, 1.73195154e+10, 1.73195140e+10])"
      ]
     },
     "execution_count": 370,
     "metadata": {},
     "output_type": "execute_result"
    }
   ],
   "source": [
    "avg_of_legends"
   ]
  },
  {
   "cell_type": "code",
   "execution_count": 371,
   "metadata": {},
   "outputs": [
    {
     "data": {
      "application/vnd.plotly.v1+json": {
       "config": {
        "plotlyServerURL": "https://plot.ly"
       },
       "data": [
        {
         "hovertemplate": "variable=0<br>index=%{x}<br>value=%{y}<extra></extra>",
         "legendgroup": "0",
         "line": {
          "color": "#636efa",
          "dash": "solid"
         },
         "marker": {
          "symbol": "circle"
         },
         "mode": "lines",
         "name": "0",
         "orientation": "v",
         "showlegend": true,
         "type": "scatter",
         "x": [
          0,
          1,
          2,
          3,
          4,
          5,
          6,
          7,
          8,
          9,
          10,
          11,
          12,
          13,
          14,
          15,
          16,
          17,
          18,
          19
         ],
         "xaxis": "x",
         "y": [
          1289197733672.4048,
          1148322279953.5764,
          758587790885.7621,
          532110267154.9457,
          255562095256.74106,
          246665638318.8644,
          202941278567.87073,
          164866917940.80338,
          155577869478.84113,
          124921753622.03447,
          85911518533.54251,
          57981167323.68153,
          37317699356.08573,
          21399537078.572212,
          21159527169.77658,
          20679515146.146626,
          19239496779.651886,
          17319526835.902554,
          17319515439.96349,
          17319514026.130444
         ],
         "yaxis": "y"
        }
       ],
       "layout": {
        "legend": {
         "title": {
          "text": "variable"
         },
         "tracegroupgap": 0
        },
        "margin": {
         "t": 60
        },
        "template": {
         "data": {
          "bar": [
           {
            "error_x": {
             "color": "#2a3f5f"
            },
            "error_y": {
             "color": "#2a3f5f"
            },
            "marker": {
             "line": {
              "color": "#E5ECF6",
              "width": 0.5
             },
             "pattern": {
              "fillmode": "overlay",
              "size": 10,
              "solidity": 0.2
             }
            },
            "type": "bar"
           }
          ],
          "barpolar": [
           {
            "marker": {
             "line": {
              "color": "#E5ECF6",
              "width": 0.5
             },
             "pattern": {
              "fillmode": "overlay",
              "size": 10,
              "solidity": 0.2
             }
            },
            "type": "barpolar"
           }
          ],
          "carpet": [
           {
            "aaxis": {
             "endlinecolor": "#2a3f5f",
             "gridcolor": "white",
             "linecolor": "white",
             "minorgridcolor": "white",
             "startlinecolor": "#2a3f5f"
            },
            "baxis": {
             "endlinecolor": "#2a3f5f",
             "gridcolor": "white",
             "linecolor": "white",
             "minorgridcolor": "white",
             "startlinecolor": "#2a3f5f"
            },
            "type": "carpet"
           }
          ],
          "choropleth": [
           {
            "colorbar": {
             "outlinewidth": 0,
             "ticks": ""
            },
            "type": "choropleth"
           }
          ],
          "contour": [
           {
            "colorbar": {
             "outlinewidth": 0,
             "ticks": ""
            },
            "colorscale": [
             [
              0,
              "#0d0887"
             ],
             [
              0.1111111111111111,
              "#46039f"
             ],
             [
              0.2222222222222222,
              "#7201a8"
             ],
             [
              0.3333333333333333,
              "#9c179e"
             ],
             [
              0.4444444444444444,
              "#bd3786"
             ],
             [
              0.5555555555555556,
              "#d8576b"
             ],
             [
              0.6666666666666666,
              "#ed7953"
             ],
             [
              0.7777777777777778,
              "#fb9f3a"
             ],
             [
              0.8888888888888888,
              "#fdca26"
             ],
             [
              1,
              "#f0f921"
             ]
            ],
            "type": "contour"
           }
          ],
          "contourcarpet": [
           {
            "colorbar": {
             "outlinewidth": 0,
             "ticks": ""
            },
            "type": "contourcarpet"
           }
          ],
          "heatmap": [
           {
            "colorbar": {
             "outlinewidth": 0,
             "ticks": ""
            },
            "colorscale": [
             [
              0,
              "#0d0887"
             ],
             [
              0.1111111111111111,
              "#46039f"
             ],
             [
              0.2222222222222222,
              "#7201a8"
             ],
             [
              0.3333333333333333,
              "#9c179e"
             ],
             [
              0.4444444444444444,
              "#bd3786"
             ],
             [
              0.5555555555555556,
              "#d8576b"
             ],
             [
              0.6666666666666666,
              "#ed7953"
             ],
             [
              0.7777777777777778,
              "#fb9f3a"
             ],
             [
              0.8888888888888888,
              "#fdca26"
             ],
             [
              1,
              "#f0f921"
             ]
            ],
            "type": "heatmap"
           }
          ],
          "heatmapgl": [
           {
            "colorbar": {
             "outlinewidth": 0,
             "ticks": ""
            },
            "colorscale": [
             [
              0,
              "#0d0887"
             ],
             [
              0.1111111111111111,
              "#46039f"
             ],
             [
              0.2222222222222222,
              "#7201a8"
             ],
             [
              0.3333333333333333,
              "#9c179e"
             ],
             [
              0.4444444444444444,
              "#bd3786"
             ],
             [
              0.5555555555555556,
              "#d8576b"
             ],
             [
              0.6666666666666666,
              "#ed7953"
             ],
             [
              0.7777777777777778,
              "#fb9f3a"
             ],
             [
              0.8888888888888888,
              "#fdca26"
             ],
             [
              1,
              "#f0f921"
             ]
            ],
            "type": "heatmapgl"
           }
          ],
          "histogram": [
           {
            "marker": {
             "pattern": {
              "fillmode": "overlay",
              "size": 10,
              "solidity": 0.2
             }
            },
            "type": "histogram"
           }
          ],
          "histogram2d": [
           {
            "colorbar": {
             "outlinewidth": 0,
             "ticks": ""
            },
            "colorscale": [
             [
              0,
              "#0d0887"
             ],
             [
              0.1111111111111111,
              "#46039f"
             ],
             [
              0.2222222222222222,
              "#7201a8"
             ],
             [
              0.3333333333333333,
              "#9c179e"
             ],
             [
              0.4444444444444444,
              "#bd3786"
             ],
             [
              0.5555555555555556,
              "#d8576b"
             ],
             [
              0.6666666666666666,
              "#ed7953"
             ],
             [
              0.7777777777777778,
              "#fb9f3a"
             ],
             [
              0.8888888888888888,
              "#fdca26"
             ],
             [
              1,
              "#f0f921"
             ]
            ],
            "type": "histogram2d"
           }
          ],
          "histogram2dcontour": [
           {
            "colorbar": {
             "outlinewidth": 0,
             "ticks": ""
            },
            "colorscale": [
             [
              0,
              "#0d0887"
             ],
             [
              0.1111111111111111,
              "#46039f"
             ],
             [
              0.2222222222222222,
              "#7201a8"
             ],
             [
              0.3333333333333333,
              "#9c179e"
             ],
             [
              0.4444444444444444,
              "#bd3786"
             ],
             [
              0.5555555555555556,
              "#d8576b"
             ],
             [
              0.6666666666666666,
              "#ed7953"
             ],
             [
              0.7777777777777778,
              "#fb9f3a"
             ],
             [
              0.8888888888888888,
              "#fdca26"
             ],
             [
              1,
              "#f0f921"
             ]
            ],
            "type": "histogram2dcontour"
           }
          ],
          "mesh3d": [
           {
            "colorbar": {
             "outlinewidth": 0,
             "ticks": ""
            },
            "type": "mesh3d"
           }
          ],
          "parcoords": [
           {
            "line": {
             "colorbar": {
              "outlinewidth": 0,
              "ticks": ""
             }
            },
            "type": "parcoords"
           }
          ],
          "pie": [
           {
            "automargin": true,
            "type": "pie"
           }
          ],
          "scatter": [
           {
            "fillpattern": {
             "fillmode": "overlay",
             "size": 10,
             "solidity": 0.2
            },
            "type": "scatter"
           }
          ],
          "scatter3d": [
           {
            "line": {
             "colorbar": {
              "outlinewidth": 0,
              "ticks": ""
             }
            },
            "marker": {
             "colorbar": {
              "outlinewidth": 0,
              "ticks": ""
             }
            },
            "type": "scatter3d"
           }
          ],
          "scattercarpet": [
           {
            "marker": {
             "colorbar": {
              "outlinewidth": 0,
              "ticks": ""
             }
            },
            "type": "scattercarpet"
           }
          ],
          "scattergeo": [
           {
            "marker": {
             "colorbar": {
              "outlinewidth": 0,
              "ticks": ""
             }
            },
            "type": "scattergeo"
           }
          ],
          "scattergl": [
           {
            "marker": {
             "colorbar": {
              "outlinewidth": 0,
              "ticks": ""
             }
            },
            "type": "scattergl"
           }
          ],
          "scattermapbox": [
           {
            "marker": {
             "colorbar": {
              "outlinewidth": 0,
              "ticks": ""
             }
            },
            "type": "scattermapbox"
           }
          ],
          "scatterpolar": [
           {
            "marker": {
             "colorbar": {
              "outlinewidth": 0,
              "ticks": ""
             }
            },
            "type": "scatterpolar"
           }
          ],
          "scatterpolargl": [
           {
            "marker": {
             "colorbar": {
              "outlinewidth": 0,
              "ticks": ""
             }
            },
            "type": "scatterpolargl"
           }
          ],
          "scatterternary": [
           {
            "marker": {
             "colorbar": {
              "outlinewidth": 0,
              "ticks": ""
             }
            },
            "type": "scatterternary"
           }
          ],
          "surface": [
           {
            "colorbar": {
             "outlinewidth": 0,
             "ticks": ""
            },
            "colorscale": [
             [
              0,
              "#0d0887"
             ],
             [
              0.1111111111111111,
              "#46039f"
             ],
             [
              0.2222222222222222,
              "#7201a8"
             ],
             [
              0.3333333333333333,
              "#9c179e"
             ],
             [
              0.4444444444444444,
              "#bd3786"
             ],
             [
              0.5555555555555556,
              "#d8576b"
             ],
             [
              0.6666666666666666,
              "#ed7953"
             ],
             [
              0.7777777777777778,
              "#fb9f3a"
             ],
             [
              0.8888888888888888,
              "#fdca26"
             ],
             [
              1,
              "#f0f921"
             ]
            ],
            "type": "surface"
           }
          ],
          "table": [
           {
            "cells": {
             "fill": {
              "color": "#EBF0F8"
             },
             "line": {
              "color": "white"
             }
            },
            "header": {
             "fill": {
              "color": "#C8D4E3"
             },
             "line": {
              "color": "white"
             }
            },
            "type": "table"
           }
          ]
         },
         "layout": {
          "annotationdefaults": {
           "arrowcolor": "#2a3f5f",
           "arrowhead": 0,
           "arrowwidth": 1
          },
          "autotypenumbers": "strict",
          "coloraxis": {
           "colorbar": {
            "outlinewidth": 0,
            "ticks": ""
           }
          },
          "colorscale": {
           "diverging": [
            [
             0,
             "#8e0152"
            ],
            [
             0.1,
             "#c51b7d"
            ],
            [
             0.2,
             "#de77ae"
            ],
            [
             0.3,
             "#f1b6da"
            ],
            [
             0.4,
             "#fde0ef"
            ],
            [
             0.5,
             "#f7f7f7"
            ],
            [
             0.6,
             "#e6f5d0"
            ],
            [
             0.7,
             "#b8e186"
            ],
            [
             0.8,
             "#7fbc41"
            ],
            [
             0.9,
             "#4d9221"
            ],
            [
             1,
             "#276419"
            ]
           ],
           "sequential": [
            [
             0,
             "#0d0887"
            ],
            [
             0.1111111111111111,
             "#46039f"
            ],
            [
             0.2222222222222222,
             "#7201a8"
            ],
            [
             0.3333333333333333,
             "#9c179e"
            ],
            [
             0.4444444444444444,
             "#bd3786"
            ],
            [
             0.5555555555555556,
             "#d8576b"
            ],
            [
             0.6666666666666666,
             "#ed7953"
            ],
            [
             0.7777777777777778,
             "#fb9f3a"
            ],
            [
             0.8888888888888888,
             "#fdca26"
            ],
            [
             1,
             "#f0f921"
            ]
           ],
           "sequentialminus": [
            [
             0,
             "#0d0887"
            ],
            [
             0.1111111111111111,
             "#46039f"
            ],
            [
             0.2222222222222222,
             "#7201a8"
            ],
            [
             0.3333333333333333,
             "#9c179e"
            ],
            [
             0.4444444444444444,
             "#bd3786"
            ],
            [
             0.5555555555555556,
             "#d8576b"
            ],
            [
             0.6666666666666666,
             "#ed7953"
            ],
            [
             0.7777777777777778,
             "#fb9f3a"
            ],
            [
             0.8888888888888888,
             "#fdca26"
            ],
            [
             1,
             "#f0f921"
            ]
           ]
          },
          "colorway": [
           "#636efa",
           "#EF553B",
           "#00cc96",
           "#ab63fa",
           "#FFA15A",
           "#19d3f3",
           "#FF6692",
           "#B6E880",
           "#FF97FF",
           "#FECB52"
          ],
          "font": {
           "color": "#2a3f5f"
          },
          "geo": {
           "bgcolor": "white",
           "lakecolor": "white",
           "landcolor": "#E5ECF6",
           "showlakes": true,
           "showland": true,
           "subunitcolor": "white"
          },
          "hoverlabel": {
           "align": "left"
          },
          "hovermode": "closest",
          "mapbox": {
           "style": "light"
          },
          "paper_bgcolor": "white",
          "plot_bgcolor": "#E5ECF6",
          "polar": {
           "angularaxis": {
            "gridcolor": "white",
            "linecolor": "white",
            "ticks": ""
           },
           "bgcolor": "#E5ECF6",
           "radialaxis": {
            "gridcolor": "white",
            "linecolor": "white",
            "ticks": ""
           }
          },
          "scene": {
           "xaxis": {
            "backgroundcolor": "#E5ECF6",
            "gridcolor": "white",
            "gridwidth": 2,
            "linecolor": "white",
            "showbackground": true,
            "ticks": "",
            "zerolinecolor": "white"
           },
           "yaxis": {
            "backgroundcolor": "#E5ECF6",
            "gridcolor": "white",
            "gridwidth": 2,
            "linecolor": "white",
            "showbackground": true,
            "ticks": "",
            "zerolinecolor": "white"
           },
           "zaxis": {
            "backgroundcolor": "#E5ECF6",
            "gridcolor": "white",
            "gridwidth": 2,
            "linecolor": "white",
            "showbackground": true,
            "ticks": "",
            "zerolinecolor": "white"
           }
          },
          "shapedefaults": {
           "line": {
            "color": "#2a3f5f"
           }
          },
          "ternary": {
           "aaxis": {
            "gridcolor": "white",
            "linecolor": "white",
            "ticks": ""
           },
           "baxis": {
            "gridcolor": "white",
            "linecolor": "white",
            "ticks": ""
           },
           "bgcolor": "#E5ECF6",
           "caxis": {
            "gridcolor": "white",
            "linecolor": "white",
            "ticks": ""
           }
          },
          "title": {
           "x": 0.05
          },
          "xaxis": {
           "automargin": true,
           "gridcolor": "white",
           "linecolor": "white",
           "ticks": "",
           "title": {
            "standoff": 15
           },
           "zerolinecolor": "white",
           "zerolinewidth": 2
          },
          "yaxis": {
           "automargin": true,
           "gridcolor": "white",
           "linecolor": "white",
           "ticks": "",
           "title": {
            "standoff": 15
           },
           "zerolinecolor": "white",
           "zerolinewidth": 2
          }
         }
        },
        "xaxis": {
         "anchor": "y",
         "domain": [
          0,
          1
         ],
         "title": {
          "text": "index"
         }
        },
        "yaxis": {
         "anchor": "x",
         "domain": [
          0,
          1
         ],
         "title": {
          "text": "value"
         }
        }
       }
      }
     },
     "metadata": {},
     "output_type": "display_data"
    }
   ],
   "source": [
    "# line plot of growing the bests\n",
    "px.line(avg_of_legends)"
   ]
  },
  {
   "cell_type": "code",
   "execution_count": 372,
   "metadata": {},
   "outputs": [
    {
     "data": {
      "text/plain": [
       "'(2.24) / ((sin(x2)) / (2.06))'"
      ]
     },
     "execution_count": 372,
     "metadata": {},
     "output_type": "execute_result"
    }
   ],
   "source": [
    "showtree(bestNode.root)"
   ]
  },
  {
   "cell_type": "code",
   "execution_count": 373,
   "metadata": {},
   "outputs": [
    {
     "data": {
      "text/plain": [
       "'((2.19) / (x2)) - (((-2.36) * (x1)) * (((x1) + (4.32)) / (-0.75)))'"
      ]
     },
     "execution_count": 373,
     "metadata": {},
     "output_type": "execute_result"
    }
   ],
   "source": [
    "showtree( testMain1.root )"
   ]
  },
  {
   "cell_type": "code",
   "execution_count": 374,
   "metadata": {},
   "outputs": [
    {
     "data": {
      "image/png": "[encoded data removed]",
      "text/plain": [
       "<Figure size 640x480 with 1 Axes>"
      ]
     },
     "metadata": {},
     "output_type": "display_data"
    }
   ],
   "source": [
    "plt.plot(inputValue , trueValues)\n",
    "plt.plot(inputValue , calculateValue(inputValue , bestNode.root) , '-.')\n",
    "plt.xlabel(\"X-axis data\")\n",
    "plt.ylabel(\"Y-axis data\")\n",
    "plt.title(\"compare best vs realOne!\")\n",
    "plt.show()"
   ]
  }
 ],
 "metadata": {
  "kernelspec": {
   "display_name": "Python 3.9.12 ('insta')",
   "language": "python",
   "name": "python3"
  },
  "language_info": {
   "codemirror_mode": {
    "name": "ipython",
    "version": 3
   },
   "file_extension": ".py",
   "mimetype": "text/x-python",
   "name": "python",
   "nbconvert_exporter": "python",
   "pygments_lexer": "ipython3",
   "version": "3.9.12"
  },
  "orig_nbformat": 4,
  "vscode": {
   "interpreter": {
    "hash": "b0616622e670fd58f9292b36f2e3689d12ca973b5ecffe1ed42939b0efd1bc58"
   }
  }
 },
 "nbformat": 4,
 "nbformat_minor": 2
}
