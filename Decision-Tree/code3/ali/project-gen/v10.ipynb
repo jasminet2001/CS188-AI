{
 "cells": [
  {
   "cell_type": "markdown",
   "metadata": {},
   "source": [
    "**version 10 :** \n",
    "more ideas to prevent produce samethings! => now has a potential to let have more gens\n",
    "<br>\n",
    "**changes :**\n",
    "- add a must mutate in situation that crossover and child is same \n",
    "- improve the chance of mutate in last cromosoms"
   ]
  },
  {
   "cell_type": "markdown",
   "metadata": {},
   "source": [
    "**insights :**\n",
    "<br>\n",
    "- problem in the end of way, in low differences mses , progress is going to dead . => a little solved by change the way of calculate fitness AND add the new cromosoms\n"
   ]
  },
  {
   "cell_type": "markdown",
   "metadata": {},
   "source": [
    "setups:\n",
    "- number of gens : 20 \n",
    "- number of each popluations : 100\n",
    "- chance of mutation : varies! => use anealing algorithm : (min 5 % , max 10 %) \n",
    "- percentege of saves per population : 20 % (from first of way .)\n",
    "- percentages of create per gens : 5 % (from 5th gen)\n",
    "- maximum number of depth : 5 \n",
    "- complex way of calculate mse"
   ]
  },
  {
   "cell_type": "code",
   "execution_count": 140,
   "metadata": {},
   "outputs": [],
   "source": [
    "import random\n",
    "import plotly.express as px\n",
    "import matplotlib.pyplot as plt\n",
    "import pandas as pd\n",
    "import numpy as np\n",
    "from sklearn.metrics import mean_squared_error\n",
    "from sklearn.metrics import mean_absolute_error\n",
    "import math\n",
    "operators = [\"+\" , \"-\" , \"*\" , \"/\"  ] # can add pow to the set \"^\"\n",
    "singleOperators = [\"sin\" , \"cos\"] # in sin & cos , right node is always NULL\n",
    "epsilon = 0.0000001\n",
    "x1 = 2\n",
    "x2 = 5\n",
    "defaultValues = (x1 , x2 )\n",
    "listOfInputs = [\"x1\" , \"x2\"]\n",
    "CoefficientsRagne = 10\n",
    "presicionInCeo = 2\n",
    "allOperators = []\n",
    "allOperators.extend(operators)\n",
    "allOperators.extend(singleOperators)"
   ]
  },
  {
   "cell_type": "code",
   "execution_count": 4,
   "metadata": {},
   "outputs": [],
   "source": [
    "class node ():\n",
    "    def __init__(self , operator , rightnode = None , leftnode = None  , father = None):\n",
    "        self.father = father\n",
    "        self.leaf = False\n",
    "        self.rightnode = rightnode\n",
    "        self.leftnode = leftnode\n",
    "        if operator in operators or operator in singleOperators  :\n",
    "            self.operator = operator\n",
    "        elif (type (operator) is int) or (type (operator) is float) or operator in listOfInputs : # this is the way we know the leaf and nodes\n",
    "            self.leaf = True\n",
    "            self.operator = operator \n",
    "        else :\n",
    "            print(\"operator not assigned - wrong input\")\n",
    "        \n",
    "    def assignOperator (self ):\n",
    "        x = input()\n",
    "        while (x not in operators and x not in singleOperators ) and not x.isnumeric():\n",
    "            print(\"x is not true ! try again !\")\n",
    "            x = input()\n",
    "        self.operator = x\n",
    "        if x.isnumeric() : # clear the down nodes\n",
    "            self.leaf = True\n",
    "            self.leftnode = None\n",
    "            self.rightnode = None\n",
    "    def addNode (self , node):\n",
    "        if self.leaf == False :\n",
    "            if self.leftnode == None :\n",
    "                self.leftnode = node\n",
    "                node.father = self\n",
    "                return True\n",
    "            elif self.rightnode == None and self.operator not in singleOperators:\n",
    "                self.rightnode = node\n",
    "                node.father = self\n",
    "                return True\n",
    "            else:\n",
    "                if self.leftnode.addNode(node) :\n",
    "                    return True\n",
    "                if self.operator not in singleOperators:\n",
    "                    if self.rightnode.addNode(node) :\n",
    "                        return True\n",
    "            return False\n",
    "        return False"
   ]
  },
  {
   "cell_type": "code",
   "execution_count": 3,
   "metadata": {},
   "outputs": [
    {
     "name": "stdout",
     "output_type": "stream",
     "text": [
      "operator not assigned - wrong input\n"
     ]
    }
   ],
   "source": [
    "test = node(\"\")"
   ]
  },
  {
   "cell_type": "code",
   "execution_count": 4,
   "metadata": {},
   "outputs": [],
   "source": [
    "test.assignOperator()"
   ]
  },
  {
   "cell_type": "code",
   "execution_count": 5,
   "metadata": {},
   "outputs": [
    {
     "data": {
      "text/plain": [
       "<__main__.node at 0x21ac496b160>"
      ]
     },
     "execution_count": 5,
     "metadata": {},
     "output_type": "execute_result"
    }
   ],
   "source": [
    "test"
   ]
  },
  {
   "cell_type": "code",
   "execution_count": 6,
   "metadata": {},
   "outputs": [
    {
     "data": {
      "text/plain": [
       "'+'"
      ]
     },
     "execution_count": 6,
     "metadata": {},
     "output_type": "execute_result"
    }
   ],
   "source": [
    "test.operator"
   ]
  },
  {
   "cell_type": "code",
   "execution_count": 5,
   "metadata": {},
   "outputs": [],
   "source": [
    "class tree ():\n",
    "    def __init__(self , root):\n",
    "        self.numnerOfNodes = 1\n",
    "        self.LeafList = []\n",
    "        self.LeafList.append(root)\n",
    "        if type( root ) is node :\n",
    "            self.root = root\n",
    "        else:\n",
    "            print(\"try another time plz . \")\n",
    "    def calculateFather(self,node):\n",
    "        counter = 1 \n",
    "        temp = node.father\n",
    "        if temp != None :\n",
    "            while temp.father != None :\n",
    "                temp = temp.father\n",
    "                counter = counter + 1\n",
    "        return counter\n",
    "    def addNodeInSurf (self , node ):\n",
    "        MaxNumsOfFather = 1000\n",
    "        nodeTemp = None\n",
    "        for item in self.LeafList : \n",
    "            temp = self.calculateFather(item)\n",
    "            if temp < MaxNumsOfFather :\n",
    "                MaxNumsOfFather = temp\n",
    "                nodeTemp = item\n",
    "        if nodeTemp.leftnode == None :\n",
    "            nodeTemp.leftnode = node\n",
    "            node.father = nodeTemp\n",
    "            self.LeafList.append(node)\n",
    "            if nodeTemp.rightnode != None or nodeTemp.operator in singleOperators :\n",
    "                self.LeafList.remove(nodeTemp)\n",
    "        elif nodeTemp.rightnode == None and nodeTemp.operator not in singleOperators:\n",
    "            nodeTemp.rightnode = node\n",
    "            node.father = nodeTemp\n",
    "            self.LeafList.append(node)\n",
    "            if nodeTemp.leftnode != None : \n",
    "                self.LeafList.remove(nodeTemp)\n",
    "        self.numnerOfNodes = self.numnerOfNodes + 1\n",
    "    def addNodeIndepth (self , node):    \n",
    "        if self.root.addNode(node) :\n",
    "            self.LeafList.append(node)\n",
    "            if node.father.operator in singleOperators :\n",
    "                self.LeafList.remove(node.father)\n",
    "        self.numnerOfNodes = self.numnerOfNodes + 1\n",
    "    def isComplete(self):\n",
    "        for item in self.LeafList :\n",
    "            if item.leaf == False:\n",
    "                return False\n",
    "        return True\n",
    "    def PostorderTraversal(self, root):\n",
    "        res = []\n",
    "        if root:\n",
    "            res = self.PostorderTraversal(root.left)\n",
    "            res = res + self.PostorderTraversal(root.right)\n",
    "            res.append(root.data)\n",
    "        return res"
   ]
  },
  {
   "cell_type": "code",
   "execution_count": 10,
   "metadata": {},
   "outputs": [],
   "source": [
    "# test1 = node(\"-\")\n",
    "# test.addNode(test1)\n",
    "# test.addNode(node(2))"
   ]
  },
  {
   "cell_type": "code",
   "execution_count": 6,
   "metadata": {},
   "outputs": [],
   "source": [
    "def calculate (node , args = defaultValues):\n",
    "    if node.leaf == True:\n",
    "        # if node.operator == \"x1\" :\n",
    "        #    return args[0]\n",
    "        # if node.operator == \"x2\" :\n",
    "        #    return args[1]\n",
    "        for x , y  in zip(args , listOfInputs) :\n",
    "            if y == node.operator :\n",
    "                return x\n",
    "        return node.operator\n",
    "    if node.operator == \"+\" :\n",
    "        return calculate(node.leftnode , args) + calculate(node.rightnode , args)\n",
    "    elif node.operator == \"-\" :\n",
    "        return calculate(node.leftnode , args) - calculate(node.rightnode , args)\n",
    "    elif node.operator == \"/\" :\n",
    "        divded = calculate(node.rightnode , args)\n",
    "        if divded == 0 :\n",
    "            divded = epsilon \n",
    "        return calculate(node.leftnode , args) / divded\n",
    "    elif node.operator == \"*\" :\n",
    "        return calculate(node.leftnode , args) * calculate(node.rightnode , args)\n",
    "    elif node.operator == \"^\" :\n",
    "        return pow( calculate(node.leftnode , args) , calculate(node.rightnode , args) )\n",
    "    elif node.operator == \"sin\" :\n",
    "        return math.sin(calculate(node.leftnode , args))\n",
    "    elif node.operator == \"cos\" :\n",
    "        # print(node.leftnode.operator)\n",
    "        return math.cos(calculate(node.leftnode , args))"
   ]
  },
  {
   "cell_type": "code",
   "execution_count": 7,
   "metadata": {},
   "outputs": [],
   "source": [
    "def showtree(node) :\n",
    "    if node.leaf == True:\n",
    "        return  f\"{node.operator}\"\n",
    "    if node.operator == \"+\" :\n",
    "        return f\"({showtree(node.leftnode)}) + ({showtree(node.rightnode)})\"\n",
    "    elif node.operator == \"-\" :\n",
    "        return f\"({showtree(node.leftnode)}) - ({showtree(node.rightnode)})\"\n",
    "    elif node.operator == \"/\" :\n",
    "        return f\"({showtree(node.leftnode)}) / ({showtree(node.rightnode)})\"\n",
    "    elif node.operator == \"*\" :\n",
    "        return f\"({showtree(node.leftnode)}) * ({showtree(node.rightnode)})\"\n",
    "    elif node.operator == \"^\" :\n",
    "        return f\"({showtree(node.leftnode)}) ^ ({showtree(node.rightnode)})\"\n",
    "    elif node.operator == \"sin\" :\n",
    "        return f\"sin({showtree(node.leftnode)})\"\n",
    "    elif node.operator == \"cos\" :\n",
    "        return f\"cos({showtree(node.leftnode)})\""
   ]
  },
  {
   "cell_type": "code",
   "execution_count": 8,
   "metadata": {},
   "outputs": [],
   "source": [
    "def createRandomTree(max , Coefficients):\n",
    "    numberOfDepth = random.randint(1 , max)\n",
    "    # create the root\n",
    "    firstOperator = random.randint(0 , len(allOperators) - 1)\n",
    "    temptree = tree(node(allOperators[firstOperator]))\n",
    "    # create the tree structure \n",
    "    for _ in range (0 , (2 ^ numberOfDepth) - 1) :\n",
    "        firstOperator = random.randint(0 , len(allOperators) - 1)\n",
    "        randomnode = temptree.LeafList[random.randint(1 , len(temptree.LeafList)) - 1]\n",
    "        if temptree.calculateFather(randomnode) <= max :\n",
    "            if firstOperator % 2 == 0 :\n",
    "                if randomnode.rightnode == None and randomnode.operator not in singleOperators: \n",
    "                    randomnode.rightnode = node(allOperators[random.randint(0 , len(allOperators) - 1)] , father=randomnode)\n",
    "                    temptree.numnerOfNodes = temptree.numnerOfNodes + 1\n",
    "                    temptree.LeafList.append(randomnode.rightnode)\n",
    "                elif randomnode.leftnode != None :\n",
    "                    temptree.LeafList.remove(randomnode)\n",
    "                else :\n",
    "                    randomnode.leftnode = node(allOperators[random.randint(0 , len(allOperators) - 1)] , father=randomnode)\n",
    "                    temptree.numnerOfNodes = temptree.numnerOfNodes + 1\n",
    "                    temptree.LeafList.append(randomnode.leftnode)\n",
    "                    temptree.LeafList.remove(randomnode)\n",
    "            else:\n",
    "                if randomnode.leftnode == None : \n",
    "                    randomnode.leftnode = node(allOperators[random.randint(0 , len(allOperators) - 1)] , father=randomnode)\n",
    "                    temptree.numnerOfNodes = temptree.numnerOfNodes + 1\n",
    "                    temptree.LeafList.append(randomnode.leftnode)\n",
    "                elif randomnode.rightnode != None or randomnode.operator in singleOperators:\n",
    "                    temptree.LeafList.remove(randomnode)\n",
    "                else :\n",
    "                    randomnode.rightnode = node(allOperators[random.randint(0 , len(allOperators) - 1)] , father=randomnode)\n",
    "                    temptree.numnerOfNodes = temptree.numnerOfNodes + 1\n",
    "                    temptree.LeafList.remove(randomnode)\n",
    "                    temptree.LeafList.append(randomnode.rightnode)\n",
    "            \n",
    "    # fill the leafs\n",
    "    templist = temptree.LeafList.copy()\n",
    "    for lastnode in templist :\n",
    "        firstOperator = random.randint(0 , len(allOperators) - 1)\n",
    "        if lastnode.rightnode == None :\n",
    "            if firstOperator % 2 == 0 :\n",
    "                lastnode.rightnode = node( listOfInputs[random.randint(0 , len(listOfInputs) - 1)] , father=lastnode )\n",
    "                temptree.numnerOfNodes = temptree.numnerOfNodes + 1\n",
    "                temptree.LeafList.append(lastnode.rightnode)\n",
    "            else :\n",
    "                lastnode.rightnode = node( round( random.uniform(-1 * Coefficients , Coefficients) , presicionInCeo ) , father=lastnode )\n",
    "                temptree.numnerOfNodes = temptree.numnerOfNodes + 1\n",
    "                temptree.LeafList.append(lastnode.rightnode)\n",
    "            if lastnode.leftnode != None :\n",
    "                temptree.LeafList.remove(lastnode)\n",
    "                #templist.remove(lastnode)\n",
    "        if lastnode.leftnode == None :\n",
    "            if firstOperator % 2 == 1 :\n",
    "                lastnode.leftnode = node( listOfInputs[random.randint(0 , len(listOfInputs) - 1)] , father=lastnode )\n",
    "                temptree.numnerOfNodes = temptree.numnerOfNodes + 1\n",
    "                temptree.LeafList.append(lastnode.leftnode)\n",
    "            else :\n",
    "                lastnode.leftnode = node( round( random.uniform (-1 * Coefficients , Coefficients ) , presicionInCeo ) , father=lastnode )\n",
    "                temptree.numnerOfNodes = temptree.numnerOfNodes + 1\n",
    "                temptree.LeafList.append(lastnode.leftnode)\n",
    "            if lastnode.rightnode != None :\n",
    "                temptree.LeafList.remove(lastnode)\n",
    "                #templist.remove(lastnode)\n",
    "    return temptree\n",
    "        \n",
    "        "
   ]
  },
  {
   "cell_type": "markdown",
   "metadata": {},
   "source": [
    "**test the add in surf**"
   ]
  },
  {
   "cell_type": "code",
   "execution_count": 114,
   "metadata": {},
   "outputs": [],
   "source": [
    "testtree2= tree(test)"
   ]
  },
  {
   "cell_type": "code",
   "execution_count": 115,
   "metadata": {},
   "outputs": [
    {
     "data": {
      "text/plain": [
       "[<__main__.node at 0x2080deda1c0>]"
      ]
     },
     "execution_count": 115,
     "metadata": {},
     "output_type": "execute_result"
    }
   ],
   "source": [
    "testtree2.LeafList"
   ]
  },
  {
   "cell_type": "code",
   "execution_count": 116,
   "metadata": {},
   "outputs": [],
   "source": [
    "testtree2.addNodeInSurf(node(\"+\"))"
   ]
  },
  {
   "cell_type": "code",
   "execution_count": 117,
   "metadata": {},
   "outputs": [],
   "source": [
    "testtree2.addNodeInSurf(node(\"+\"))"
   ]
  },
  {
   "cell_type": "code",
   "execution_count": 118,
   "metadata": {},
   "outputs": [],
   "source": [
    "testtree2.addNodeInSurf(node(\"-\"))"
   ]
  },
  {
   "cell_type": "code",
   "execution_count": 119,
   "metadata": {},
   "outputs": [],
   "source": [
    "testtree2.addNodeInSurf(node(\"-\"))"
   ]
  },
  {
   "cell_type": "markdown",
   "metadata": {},
   "source": [
    "**test add in depth**"
   ]
  },
  {
   "cell_type": "code",
   "execution_count": 120,
   "metadata": {},
   "outputs": [],
   "source": [
    "testtree2.addNodeIndepth(node(\"-\"))"
   ]
  },
  {
   "cell_type": "code",
   "execution_count": 121,
   "metadata": {},
   "outputs": [],
   "source": [
    "testtree2.addNodeIndepth(node(\"-\"))"
   ]
  },
  {
   "cell_type": "markdown",
   "metadata": {},
   "source": [
    "**test the calculate**"
   ]
  },
  {
   "cell_type": "code",
   "execution_count": 11,
   "metadata": {},
   "outputs": [],
   "source": [
    "testtree = tree(node(\"sin\"))"
   ]
  },
  {
   "cell_type": "code",
   "execution_count": 12,
   "metadata": {},
   "outputs": [
    {
     "name": "stdout",
     "output_type": "stream",
     "text": [
      "-0.9589242746631385\n"
     ]
    }
   ],
   "source": [
    "#simple test with \n",
    "testtree.addNodeInSurf(node(\"/\"))\n",
    "testtree.addNodeInSurf(node(\"*\"))\n",
    "testtree.addNodeInSurf(node(x1))\n",
    "testtree.addNodeInSurf(node(x2))\n",
    "testtree.addNodeInSurf(node(x1))\n",
    "testtree.addNodeInSurf(node(x2))\n",
    "print( calculate(testtree.root , (2 , 5)) )"
   ]
  },
  {
   "cell_type": "markdown",
   "metadata": {},
   "source": [
    "**test the showtree**"
   ]
  },
  {
   "cell_type": "code",
   "execution_count": 13,
   "metadata": {},
   "outputs": [
    {
     "name": "stdout",
     "output_type": "stream",
     "text": [
      "sin(((5) * (2)) / (2))\n"
     ]
    }
   ],
   "source": [
    "print(showtree(testtree.root))"
   ]
  },
  {
   "cell_type": "markdown",
   "metadata": {},
   "source": [
    "**test the random creation**"
   ]
  },
  {
   "cell_type": "code",
   "execution_count": 20,
   "metadata": {},
   "outputs": [],
   "source": [
    "testRandom1 =  createRandomTree(10 , 5)"
   ]
  },
  {
   "cell_type": "code",
   "execution_count": 21,
   "metadata": {},
   "outputs": [
    {
     "name": "stdout",
     "output_type": "stream",
     "text": [
      "((-4) - (((2) / (x1)) / ((cos(x1)) * (x1)))) * (sin(cos(cos((3) + (x1)))))\n"
     ]
    }
   ],
   "source": [
    "print(showtree(testRandom1.root))"
   ]
  },
  {
   "cell_type": "code",
   "execution_count": 22,
   "metadata": {},
   "outputs": [
    {
     "name": "stdout",
     "output_type": "stream",
     "text": [
      "-2.0481313613372\n"
     ]
    }
   ],
   "source": [
    "print(calculate( testRandom1.root , (3 , 6)))"
   ]
  },
  {
   "cell_type": "code",
   "execution_count": 23,
   "metadata": {},
   "outputs": [
    {
     "data": {
      "text/plain": [
       "19"
      ]
     },
     "execution_count": 23,
     "metadata": {},
     "output_type": "execute_result"
    }
   ],
   "source": [
    "testRandom1.numnerOfNodes"
   ]
  },
  {
   "cell_type": "markdown",
   "metadata": {},
   "source": [
    "**the main function**"
   ]
  },
  {
   "cell_type": "code",
   "execution_count": 9,
   "metadata": {},
   "outputs": [],
   "source": [
    "def calculateValue(inputValues , root):\n",
    "    predicted = []\n",
    "    for tupleIn in inputValues:\n",
    "        predicted.append( calculate(root , tupleIn))\n",
    "    return predicted"
   ]
  },
  {
   "cell_type": "code",
   "execution_count": 10,
   "metadata": {},
   "outputs": [],
   "source": [
    "def RandomSelection(mses , population):\n",
    "    total = []\n",
    "    cumsum = 0 \n",
    "    for i in mses :\n",
    "        cumsum = cumsum + i\n",
    "        total.append(cumsum)\n",
    "    rnd = random.random() * cumsum\n",
    "    for i, uptotal in enumerate(total):\n",
    "        if rnd < uptotal:\n",
    "            return population[i]\n",
    "    return population[-1] # if something goes wrong !"
   ]
  },
  {
   "cell_type": "code",
   "execution_count": 11,
   "metadata": {},
   "outputs": [],
   "source": [
    "import copy\n",
    "def iterate ( node , numberOfrotate , visited):\n",
    "    # temp = copy.deepcopy(node)\n",
    "    # print(numberOfrotate)\n",
    "    visited = []\n",
    "    counter = 0 \n",
    "    while counter != numberOfrotate:\n",
    "        if node.rightnode != None and node.rightnode not in visited:\n",
    "            counter = counter + 1\n",
    "            visited.append(node.rightnode)\n",
    "            node = node.rightnode\n",
    "        elif node.leftnode != None and node.leftnode not in visited :\n",
    "            counter = counter + 1\n",
    "            visited.append(node.leftnode)\n",
    "            node = node.leftnode\n",
    "        else :\n",
    "            if node.father != None :\n",
    "                node = node.father\n",
    "            else :\n",
    "                node = node.leftnode\n",
    "                counter = counter + 1\n",
    "    return node   "
   ]
  },
  {
   "cell_type": "code",
   "execution_count": 10,
   "metadata": {},
   "outputs": [
    {
     "name": "stdout",
     "output_type": "stream",
     "text": [
      "((4) + (((x1) - (7)) + ((x2) - (5)))) - (4)\n"
     ]
    }
   ],
   "source": [
    "testtree = tree(node(\"-\"))\n",
    "testtree.root.leftnode = node(\"+\" , father=testtree.root)\n",
    "testtree.root.rightnode = node(4 , father=testtree.root)\n",
    "testtree.root.leftnode.leftnode = node(4 , father=testtree.root.leftnode)\n",
    "testtree.root.leftnode.rightnode = node(\"+\" , father = testtree.root.leftnode)\n",
    "testtree.root.leftnode.rightnode.leftnode = node(\"-\" , father=testtree.root.leftnode.rightnode)\n",
    "testtree.root.leftnode.rightnode.leftnode.leftnode = node(\"x1\" , father=testtree.root.leftnode.rightnode.leftnode)\n",
    "testtree.root.leftnode.rightnode.leftnode.rightnode = node(7, father=testtree.root.leftnode.rightnode.leftnode)\n",
    "testtree.root.leftnode.rightnode.rightnode = node(\"-\" , father=testtree.root.leftnode.rightnode)\n",
    "testtree.root.leftnode.rightnode.rightnode.leftnode = node(\"x2\" , father=testtree.root.leftnode.rightnode.rightnode)\n",
    "testtree.root.leftnode.rightnode.rightnode.rightnode = node(5 , father=testtree.root.leftnode.rightnode.rightnode)\n",
    "testtree.numnerOfNodes = 11\n",
    "print(showtree(testtree.root))"
   ]
  },
  {
   "cell_type": "code",
   "execution_count": 17,
   "metadata": {},
   "outputs": [],
   "source": [
    "Mutation(testtree)"
   ]
  },
  {
   "cell_type": "code",
   "execution_count": 18,
   "metadata": {},
   "outputs": [
    {
     "name": "stdout",
     "output_type": "stream",
     "text": [
      "((4) + (((x1) - (7)) + ((x1) - (5)))) - (4)\n"
     ]
    }
   ],
   "source": [
    "print(showtree(testtree.root))"
   ]
  },
  {
   "cell_type": "markdown",
   "metadata": {},
   "source": [
    "**test the iterate**\n"
   ]
  },
  {
   "cell_type": "code",
   "execution_count": 31,
   "metadata": {},
   "outputs": [
    {
     "name": "stdout",
     "output_type": "stream",
     "text": [
      "(2) + (5)\n",
      "5\n"
     ]
    }
   ],
   "source": [
    "testtree2 = tree(node(\"+\"))\n",
    "testtree2.addNodeInSurf(node(x1))\n",
    "testtree2.addNodeInSurf(node(x2))\n",
    "print(showtree(testtree2.root))\n",
    "print(iterate(testtree2.root , 1 , [] ).operator)"
   ]
  },
  {
   "cell_type": "code",
   "execution_count": 12,
   "metadata": {},
   "outputs": [],
   "source": [
    "import copy\n",
    "\n",
    "def CrossOver (x , y) :\n",
    "    maxOfNodes = 0 \n",
    "    if x.numnerOfNodes > y.numnerOfNodes :\n",
    "        maxOfNodes = y.numnerOfNodes\n",
    "    else :\n",
    "        maxOfNodes = x.numnerOfNodes\n",
    "    rnd = random.randint( 1 , maxOfNodes - 1 )\n",
    "    # print(rnd)\n",
    "    \n",
    "    temptree = copy.deepcopy(x)\n",
    "    temptree1 = copy.deepcopy(y)\n",
    "    \n",
    "    firstNode = iterate(temptree.root , rnd , [])\n",
    "    secondNode = iterate(temptree1.root , rnd , [])\n",
    "    firstFather =  firstNode.father \n",
    "    secondFather =  secondNode.father \n",
    "    \n",
    "    temp = copy.deepcopy(firstNode)\n",
    "    # print(temp.operator)\n",
    "    temp1 = copy.deepcopy(secondNode)\n",
    "    # print(temp1.operator)\n",
    "    \n",
    "    \n",
    "    if firstFather.leftnode == firstNode :\n",
    "        firstFather.leftnode = temp1\n",
    "    else :\n",
    "        firstFather.rightnode = temp1\n",
    "    \n",
    "    if secondFather.leftnode == secondNode :\n",
    "        secondFather.leftnode = temp\n",
    "    else :\n",
    "        secondFather.rightnode = temp\n",
    "    \n",
    "    temp1.father = firstFather\n",
    "    temp.father = secondFather\n",
    "    \n",
    "    del firstNode\n",
    "    del secondNode\n",
    "    \n",
    "    return temptree , temptree1"
   ]
  },
  {
   "cell_type": "markdown",
   "metadata": {},
   "source": [
    "**test the CrossOver**"
   ]
  },
  {
   "cell_type": "code",
   "execution_count": 28,
   "metadata": {},
   "outputs": [
    {
     "name": "stdout",
     "output_type": "stream",
     "text": [
      "(5) - (2)\n",
      "(2) + (5)\n",
      "(5) - (5)\n",
      "(2) + (2)\n"
     ]
    }
   ],
   "source": [
    "testtree = tree(node(\"-\")) # check the cross over\n",
    "testtree.addNodeInSurf(node(x2))\n",
    "testtree.addNodeInSurf(node(x1))\n",
    "print(showtree(testtree.root))\n",
    "testtree2 = tree(node(\"+\"))\n",
    "testtree2.addNodeInSurf(node(x1))\n",
    "testtree2.addNodeInSurf(node(x2))\n",
    "print(showtree(testtree2.root))\n",
    "temptest , temptest1 = CrossOver(testtree , testtree2)\n",
    "print(showtree(temptest.root))\n",
    "print(showtree(temptest1.root))\n"
   ]
  },
  {
   "cell_type": "code",
   "execution_count": 13,
   "metadata": {},
   "outputs": [],
   "source": [
    "def Mutation (tree) :\n",
    "    rnd = random.randint( 1 , tree.numnerOfNodes - 1 )\n",
    "    #print(showtree(tree.root))\n",
    "    changeNode = iterate(  tree.root , rnd , [] )\n",
    "    if changeNode.operator in allOperators :\n",
    "        changeNode.operator = allOperators[random.randint(0 , len(allOperators) - 1)]        \n",
    "        if changeNode.operator in singleOperators :\n",
    "            changeNode.rightnode = None\n",
    "        elif changeNode.rightnode == None :\n",
    "            changeNode.rightnode = node( listOfInputs[random.randint(0 , len(listOfInputs) - 1)] , father=changeNode )           \n",
    "    else:\n",
    "        if rnd % 2 == 0 :\n",
    "            changeNode.operator = listOfInputs[random.randint(0 , len(listOfInputs) - 1)]\n",
    "        else :\n",
    "            changeNode.operator =  round( random.uniform(-1 * CoefficientsRagne , CoefficientsRagne) , presicionInCeo ) "
   ]
  },
  {
   "cell_type": "code",
   "execution_count": 19,
   "metadata": {},
   "outputs": [],
   "source": [
    "AllData = []"
   ]
  },
  {
   "cell_type": "code",
   "execution_count": 255,
   "metadata": {},
   "outputs": [],
   "source": [
    "def general_algorithm(NumOfFirstPop , maxOfDepth , numsOfGenereations , inputValue , trueValue , AllMses):\n",
    "    # first create a population \n",
    "    allTrees = []\n",
    "    bests = []\n",
    "    population = []\n",
    "    for _ in range(0 , NumOfFirstPop):\n",
    "        population.append(createRandomTree(maxOfDepth , CoefficientsRagne))\n",
    "    # main loop\n",
    "    AllMses = []\n",
    "    counter = 0 \n",
    "    while counter != numsOfGenereations :\n",
    "        # fitness values\n",
    "        mses = []\n",
    "        if counter == 0 :\n",
    "            for i in range(0 , NumOfFirstPop):\n",
    "                mses.append(mean_squared_error(trueValue , calculateValue(inputValue , population[i].root ) ))    \n",
    "        elif avg_of_legends_inside[counter - 1] >= 1 :\n",
    "            print(avg_of_legends_inside[counter - 1])\n",
    "            for i in range(0 , NumOfFirstPop):\n",
    "                mses.append(mean_squared_error(trueValue , calculateValue(inputValue , population[i].root ) )) \n",
    "        else:\n",
    "            print(avg_of_legends_inside[counter - 1])\n",
    "            for i in range(0 , NumOfFirstPop):\n",
    "                mses.append(math.pow( mean_absolute_error(trueValue , calculateValue(inputValue , population[i].root )) , 0.9) ) \n",
    "        #print(mses)\n",
    "        # keep bests alive!\n",
    "        newPopulation = []\n",
    "        if counter >= 0 :\n",
    "            tempList = [X for _ , X in sorted(zip( mses , population ) , key= lambda elem : elem[0])]\n",
    "            sortedmses = [x for x in sorted(mses)]\n",
    "            templegends = []\n",
    "            for i in range(math.floor( len(population) * 0.2)) :\n",
    "                newPopulation.append(tempList[i])\n",
    "                templegends.append(sortedmses[i])\n",
    "            bests.append(templegends)\n",
    "        # change the mse up to it is negetive fitness\n",
    "        AllMses.append(mses)\n",
    "        MaxOfmses = max( mses )\n",
    "        # info for changing way of calculate mses \n",
    "        legends_inside = np.transpose(bests)\n",
    "        avg_of_legends_inside = legends_inside.mean(axis=0)\n",
    "        # change the fitness func with situation\n",
    "        if avg_of_legends_inside[counter] >= 1000 :\n",
    "            for i in range(0 , NumOfFirstPop):\n",
    "                if mses[i] != 0 :\n",
    "                    mses[i] = 1 / mses[i]\n",
    "        else:\n",
    "            for i in range(0 , NumOfFirstPop):\n",
    "                mses[i] = mses[i] * -1 + MaxOfmses\n",
    "        if counter >= 5 :\n",
    "            for i in range(math.floor( len(population) * 0.04)):\n",
    "                newPopulation.append(createRandomTree(maxOfDepth , CoefficientsRagne))\n",
    "        # select randomly with their fitness\n",
    "        for _ in range(math.floor( (len(population) - len(newPopulation)) / 2)):\n",
    "            # random select each tree for crossover\n",
    "            firstNode = RandomSelection(mses , population)    \n",
    "            secondNode = RandomSelection(mses , population)\n",
    "            firstNewTree , secondNewTree = CrossOver(firstNode , secondNode)\n",
    "            # mutations !\n",
    "            if showtree( firstNewTree.root )  ==  showtree(firstNode.root) or showtree( firstNewTree.root )  ==  showtree(secondNode.root):\n",
    "                # prevent produce samethings in firstNewTree\n",
    "                Mutation (firstNewTree)\n",
    "            else:\n",
    "                rnd = random.randint(1 , 100)\n",
    "                # use anealing algorithm\n",
    "                # if rnd % (20 - ((counter/ 2) + (counter / 3) + (counter / 4))) == 0 : \n",
    "                if rnd % (20 - ((numsOfGenereations - counter)/ 2)) == 0 :\n",
    "                    Mutation(firstNewTree) \n",
    "            if showtree( secondNewTree.root )  ==  showtree(firstNode.root) or showtree( secondNewTree.root )  ==  showtree(secondNode.root):\n",
    "                # prevent produce samethings in secondNewTree\n",
    "                Mutation(secondNewTree)\n",
    "            else:\n",
    "                rnd = random.randint(1 , 100)\n",
    "                # use anealing algorithm\n",
    "                # if rnd % (20 - ((counter/ 2) + (counter / 3) + (counter / 4))) == 1 : \n",
    "                if rnd % (20 - ((numsOfGenereations - counter)/ 2)) == 0 :\n",
    "                    Mutation(secondNewTree)  \n",
    "            newPopulation.append(firstNewTree)\n",
    "            newPopulation.append(secondNewTree)\n",
    "        allTrees.append(population)\n",
    "        population = newPopulation\n",
    "        counter = counter + 1\n",
    "    # return the best\n",
    "    indexOfBest = 0 \n",
    "    MaxOfmses = 0  \n",
    "    for index , mse in enumerate (mses) :\n",
    "        if mse > MaxOfmses : \n",
    "            indexOfBest = index \n",
    "            MaxOfmses = mse\n",
    "    return  AllMses , bests , population[indexOfBest] , allTrees"
   ]
  },
  {
   "cell_type": "markdown",
   "metadata": {},
   "source": [
    "**create the test for the Main Algorithm**"
   ]
  },
  {
   "cell_type": "code",
   "execution_count": 134,
   "metadata": {},
   "outputs": [
    {
     "data": {
      "text/plain": [
       "'(x1) ^ (2)'"
      ]
     },
     "execution_count": 134,
     "metadata": {},
     "output_type": "execute_result"
    }
   ],
   "source": [
    "#create a simple power tree\n",
    "powertree = tree(node(\"^\"))\n",
    "powertree.root.leftnode = node(\"x1\")\n",
    "powertree.root.rightnode = node(2)\n",
    "showtree(powertree.root)"
   ]
  },
  {
   "cell_type": "code",
   "execution_count": 327,
   "metadata": {},
   "outputs": [
    {
     "data": {
      "text/plain": [
       "'(sin(x2)) * (x1)'"
      ]
     },
     "execution_count": 327,
     "metadata": {},
     "output_type": "execute_result"
    }
   ],
   "source": [
    "finaltree = tree(node(\"*\"))\n",
    "finaltree.root.leftnode = node(\"sin\")\n",
    "finaltree.root.rightnode = node(\"x1\")\n",
    "finaltree.root.leftnode.leftnode = node(\"x2\")\n",
    "showtree(finaltree.root)"
   ]
  },
  {
   "cell_type": "code",
   "execution_count": 138,
   "metadata": {},
   "outputs": [],
   "source": [
    "x1valuse = [x for x in range(0 , 300)]\n",
    "x2values = [x for x in range(-150 , 150)]\n",
    "inputValue = list( zip(x1valuse , x2values) )\n",
    "trueValues = []\n",
    "trueValues = calculateValue(inputValue , powertree.root)"
   ]
  },
  {
   "cell_type": "code",
   "execution_count": 248,
   "metadata": {},
   "outputs": [
    {
     "name": "stdout",
     "output_type": "stream",
     "text": [
      "(3.74) - (x1)\n"
     ]
    }
   ],
   "source": [
    "# test \n",
    "# test tree with 5 depth\n",
    "testMain1 = createRandomTree(5 , CoefficientsRagne )\n",
    "# 300 input values\n",
    "x1valuse = [x for x in range(0 , 300)]\n",
    "x2values = [x for x in range(-150 , 150)]\n",
    "inputValue = list( zip(x1valuse , x2values) )\n",
    "trueValues = []\n",
    "trueValues = calculateValue(inputValue , testMain1.root)\n",
    "print(showtree(testMain1.root))"
   ]
  },
  {
   "cell_type": "code",
   "execution_count": 249,
   "metadata": {},
   "outputs": [
    {
     "data": {
      "text/plain": [
       "[3.74,\n",
       " 2.74,\n",
       " 1.7400000000000002,\n",
       " 0.7400000000000002,\n",
       " -0.2599999999999998,\n",
       " -1.2599999999999998,\n",
       " -2.26,\n",
       " -3.26,\n",
       " -4.26,\n",
       " -5.26,\n",
       " -6.26,\n",
       " -7.26,\n",
       " -8.26,\n",
       " -9.26,\n",
       " -10.26,\n",
       " -11.26,\n",
       " -12.26,\n",
       " -13.26,\n",
       " -14.26,\n",
       " -15.26,\n",
       " -16.259999999999998,\n",
       " -17.259999999999998,\n",
       " -18.259999999999998,\n",
       " -19.259999999999998,\n",
       " -20.259999999999998,\n",
       " -21.259999999999998,\n",
       " -22.259999999999998,\n",
       " -23.259999999999998,\n",
       " -24.259999999999998,\n",
       " -25.259999999999998,\n",
       " -26.259999999999998,\n",
       " -27.259999999999998,\n",
       " -28.259999999999998,\n",
       " -29.259999999999998,\n",
       " -30.259999999999998,\n",
       " -31.259999999999998,\n",
       " -32.26,\n",
       " -33.26,\n",
       " -34.26,\n",
       " -35.26,\n",
       " -36.26,\n",
       " -37.26,\n",
       " -38.26,\n",
       " -39.26,\n",
       " -40.26,\n",
       " -41.26,\n",
       " -42.26,\n",
       " -43.26,\n",
       " -44.26,\n",
       " -45.26,\n",
       " -46.26,\n",
       " -47.26,\n",
       " -48.26,\n",
       " -49.26,\n",
       " -50.26,\n",
       " -51.26,\n",
       " -52.26,\n",
       " -53.26,\n",
       " -54.26,\n",
       " -55.26,\n",
       " -56.26,\n",
       " -57.26,\n",
       " -58.26,\n",
       " -59.26,\n",
       " -60.26,\n",
       " -61.26,\n",
       " -62.26,\n",
       " -63.26,\n",
       " -64.26,\n",
       " -65.26,\n",
       " -66.26,\n",
       " -67.26,\n",
       " -68.26,\n",
       " -69.26,\n",
       " -70.26,\n",
       " -71.26,\n",
       " -72.26,\n",
       " -73.26,\n",
       " -74.26,\n",
       " -75.26,\n",
       " -76.26,\n",
       " -77.26,\n",
       " -78.26,\n",
       " -79.26,\n",
       " -80.26,\n",
       " -81.26,\n",
       " -82.26,\n",
       " -83.26,\n",
       " -84.26,\n",
       " -85.26,\n",
       " -86.26,\n",
       " -87.26,\n",
       " -88.26,\n",
       " -89.26,\n",
       " -90.26,\n",
       " -91.26,\n",
       " -92.26,\n",
       " -93.26,\n",
       " -94.26,\n",
       " -95.26,\n",
       " -96.26,\n",
       " -97.26,\n",
       " -98.26,\n",
       " -99.26,\n",
       " -100.26,\n",
       " -101.26,\n",
       " -102.26,\n",
       " -103.26,\n",
       " -104.26,\n",
       " -105.26,\n",
       " -106.26,\n",
       " -107.26,\n",
       " -108.26,\n",
       " -109.26,\n",
       " -110.26,\n",
       " -111.26,\n",
       " -112.26,\n",
       " -113.26,\n",
       " -114.26,\n",
       " -115.26,\n",
       " -116.26,\n",
       " -117.26,\n",
       " -118.26,\n",
       " -119.26,\n",
       " -120.26,\n",
       " -121.26,\n",
       " -122.26,\n",
       " -123.26,\n",
       " -124.26,\n",
       " -125.26,\n",
       " -126.26,\n",
       " -127.26,\n",
       " -128.26,\n",
       " -129.26,\n",
       " -130.26,\n",
       " -131.26,\n",
       " -132.26,\n",
       " -133.26,\n",
       " -134.26,\n",
       " -135.26,\n",
       " -136.26,\n",
       " -137.26,\n",
       " -138.26,\n",
       " -139.26,\n",
       " -140.26,\n",
       " -141.26,\n",
       " -142.26,\n",
       " -143.26,\n",
       " -144.26,\n",
       " -145.26,\n",
       " -146.26,\n",
       " -147.26,\n",
       " -148.26,\n",
       " -149.26,\n",
       " -150.26,\n",
       " -151.26,\n",
       " -152.26,\n",
       " -153.26,\n",
       " -154.26,\n",
       " -155.26,\n",
       " -156.26,\n",
       " -157.26,\n",
       " -158.26,\n",
       " -159.26,\n",
       " -160.26,\n",
       " -161.26,\n",
       " -162.26,\n",
       " -163.26,\n",
       " -164.26,\n",
       " -165.26,\n",
       " -166.26,\n",
       " -167.26,\n",
       " -168.26,\n",
       " -169.26,\n",
       " -170.26,\n",
       " -171.26,\n",
       " -172.26,\n",
       " -173.26,\n",
       " -174.26,\n",
       " -175.26,\n",
       " -176.26,\n",
       " -177.26,\n",
       " -178.26,\n",
       " -179.26,\n",
       " -180.26,\n",
       " -181.26,\n",
       " -182.26,\n",
       " -183.26,\n",
       " -184.26,\n",
       " -185.26,\n",
       " -186.26,\n",
       " -187.26,\n",
       " -188.26,\n",
       " -189.26,\n",
       " -190.26,\n",
       " -191.26,\n",
       " -192.26,\n",
       " -193.26,\n",
       " -194.26,\n",
       " -195.26,\n",
       " -196.26,\n",
       " -197.26,\n",
       " -198.26,\n",
       " -199.26,\n",
       " -200.26,\n",
       " -201.26,\n",
       " -202.26,\n",
       " -203.26,\n",
       " -204.26,\n",
       " -205.26,\n",
       " -206.26,\n",
       " -207.26,\n",
       " -208.26,\n",
       " -209.26,\n",
       " -210.26,\n",
       " -211.26,\n",
       " -212.26,\n",
       " -213.26,\n",
       " -214.26,\n",
       " -215.26,\n",
       " -216.26,\n",
       " -217.26,\n",
       " -218.26,\n",
       " -219.26,\n",
       " -220.26,\n",
       " -221.26,\n",
       " -222.26,\n",
       " -223.26,\n",
       " -224.26,\n",
       " -225.26,\n",
       " -226.26,\n",
       " -227.26,\n",
       " -228.26,\n",
       " -229.26,\n",
       " -230.26,\n",
       " -231.26,\n",
       " -232.26,\n",
       " -233.26,\n",
       " -234.26,\n",
       " -235.26,\n",
       " -236.26,\n",
       " -237.26,\n",
       " -238.26,\n",
       " -239.26,\n",
       " -240.26,\n",
       " -241.26,\n",
       " -242.26,\n",
       " -243.26,\n",
       " -244.26,\n",
       " -245.26,\n",
       " -246.26,\n",
       " -247.26,\n",
       " -248.26,\n",
       " -249.26,\n",
       " -250.26,\n",
       " -251.26,\n",
       " -252.26,\n",
       " -253.26,\n",
       " -254.26,\n",
       " -255.26,\n",
       " -256.26,\n",
       " -257.26,\n",
       " -258.26,\n",
       " -259.26,\n",
       " -260.26,\n",
       " -261.26,\n",
       " -262.26,\n",
       " -263.26,\n",
       " -264.26,\n",
       " -265.26,\n",
       " -266.26,\n",
       " -267.26,\n",
       " -268.26,\n",
       " -269.26,\n",
       " -270.26,\n",
       " -271.26,\n",
       " -272.26,\n",
       " -273.26,\n",
       " -274.26,\n",
       " -275.26,\n",
       " -276.26,\n",
       " -277.26,\n",
       " -278.26,\n",
       " -279.26,\n",
       " -280.26,\n",
       " -281.26,\n",
       " -282.26,\n",
       " -283.26,\n",
       " -284.26,\n",
       " -285.26,\n",
       " -286.26,\n",
       " -287.26,\n",
       " -288.26,\n",
       " -289.26,\n",
       " -290.26,\n",
       " -291.26,\n",
       " -292.26,\n",
       " -293.26,\n",
       " -294.26,\n",
       " -295.26]"
      ]
     },
     "execution_count": 249,
     "metadata": {},
     "output_type": "execute_result"
    }
   ],
   "source": [
    "trueValues"
   ]
  },
  {
   "cell_type": "code",
   "execution_count": 256,
   "metadata": {},
   "outputs": [
    {
     "name": "stdout",
     "output_type": "stream",
     "text": [
      "21858.168818065795\n",
      "6906.518794174922\n",
      "4359.649566012778\n",
      "2534.974024346111\n",
      "1080.1493510127773\n",
      "287.73966657318556\n",
      "122.03065499999998\n",
      "113.20081499999995\n",
      "96.19095124999994\n",
      "79.0955805132252\n",
      "69.53129214064276\n",
      "58.48321824133384\n",
      "20.908068877219286\n",
      "9.963591364478656\n",
      "5.668637283955047\n",
      "5.668637283955047\n",
      "3.8230845054017246\n",
      "1.3461558690500153\n",
      "1.2633158690500141\n"
     ]
    }
   ],
   "source": [
    "AllData , legends , bestNode , allTrees = general_algorithm(100 , 5 , 20 , inputValue , trueValues , AllData) "
   ]
  },
  {
   "cell_type": "code",
   "execution_count": 195,
   "metadata": {},
   "outputs": [
    {
     "data": {
      "text/plain": [
       "(20, 100)"
      ]
     },
     "execution_count": 195,
     "metadata": {},
     "output_type": "execute_result"
    }
   ],
   "source": [
    "np.shape(AllData)"
   ]
  },
  {
   "cell_type": "code",
   "execution_count": 251,
   "metadata": {},
   "outputs": [],
   "source": [
    "legends = np.transpose(legends)\n",
    "np.shape(legends)\n",
    "avg_of_legends = legends.mean(axis=0)"
   ]
  },
  {
   "cell_type": "code",
   "execution_count": 252,
   "metadata": {},
   "outputs": [
    {
     "data": {
      "text/plain": [
       "[0.0,\n",
       " 26454226200857.41,\n",
       " 26454338411329.08,\n",
       " 26454338411329.08,\n",
       " 26455484876393.105,\n",
       " 26455643137667.516,\n",
       " 26455682989686.58,\n",
       " 26455687092390.08,\n",
       " 26455687092390.08,\n",
       " 26455687092390.08,\n",
       " 26455691366008.723,\n",
       " 26455763965080.168,\n",
       " 26455886330596.426,\n",
       " 26455924801581.67,\n",
       " 26455949674494.62,\n",
       " 26455955093043.246,\n",
       " 26455956507991.0,\n",
       " 26455957182321.336,\n",
       " 26455957891634.984,\n",
       " 26455957997833.63,\n",
       " 26455958039790.305,\n",
       " 26455958039963.766,\n",
       " 26455958040140.71,\n",
       " 26455958044536.84,\n",
       " 26455958084237.594,\n",
       " 26455958087753.95,\n",
       " 26455958104117.836,\n",
       " 26455958105924.297,\n",
       " 26455958113276.504,\n",
       " 26455958113376.152,\n",
       " 26455958113733.688,\n",
       " 26455958113733.688,\n",
       " 26455958113746.785,\n",
       " 26455958113762.676,\n",
       " 26455958113875.074,\n",
       " 26455958113912.984,\n",
       " 26455958113913.2,\n",
       " 26455958115157.582,\n",
       " 26455958118335.2,\n",
       " 26455958118923.78,\n",
       " 26455958125417.836,\n",
       " 26455958126630.742,\n",
       " 26455958127170.17,\n",
       " 26455958127350.07,\n",
       " 26455958127840.516,\n",
       " 26455958127976.082,\n",
       " 26455958128108.035,\n",
       " 26455958128142.277,\n",
       " 26455958128177.31,\n",
       " 26455958128185.195,\n",
       " 26455958128190.8,\n",
       " 26455958128196.113,\n",
       " 26455958128198.145,\n",
       " 26455958128199.473,\n",
       " 26455958128201.273,\n",
       " 26455958128201.273,\n",
       " 26455958128229.664,\n",
       " 26455958128257.88,\n",
       " 26455958128382.844,\n",
       " 26455958128440.555,\n",
       " 26455958128442.164,\n",
       " 26455958128456.887,\n",
       " 26455958129356.055,\n",
       " 26455958129469.92,\n",
       " 26455958144532.754,\n",
       " 26455958148274.49,\n",
       " 26455958150590.99,\n",
       " 26455958151644.746,\n",
       " 26455958154208.523,\n",
       " 26455958154565.906,\n",
       " 26455958155939.4,\n",
       " 26455958155943.33,\n",
       " 26455958156340.652,\n",
       " 26455958156566.86,\n",
       " 26455958156928.49,\n",
       " 26455958156930.633,\n",
       " 26455958156931.645,\n",
       " 26455958156931.645,\n",
       " 26455958156931.645,\n",
       " 26455958156931.72,\n",
       " 26455958156931.72,\n",
       " 26455958156937.62,\n",
       " 26455958156937.62,\n",
       " 26455958156937.62,\n",
       " 26455958156937.62,\n",
       " 26455958156937.62,\n",
       " 26455958156937.62,\n",
       " 26455958156938.082,\n",
       " 26455958156938.082,\n",
       " 26455958156938.082,\n",
       " 26455958156938.082,\n",
       " 26455958156938.082,\n",
       " 26455958156938.082,\n",
       " 26455958156938.082,\n",
       " 26455958156941.53,\n",
       " 26455958156941.53,\n",
       " 26455958156941.53,\n",
       " 26455958156941.53,\n",
       " 26455958156941.53,\n",
       " 26455958156941.754]"
      ]
     },
     "execution_count": 252,
     "metadata": {},
     "output_type": "execute_result"
    }
   ],
   "source": [
    "sorted( AllData[-1])"
   ]
  },
  {
   "cell_type": "code",
   "execution_count": 257,
   "metadata": {},
   "outputs": [
    {
     "data": {
      "text/plain": [
       "array([2.71981522e+04, 2.16038949e+04, 2.00831042e+04, 1.52399322e+04,\n",
       "       1.01318966e+04, 7.08977798e+03, 4.37779469e+03, 2.45794347e+03,\n",
       "       5.83967814e+02, 2.62506669e+02, 1.02390719e+02, 2.60190734e+01,\n",
       "       2.26653826e+01, 2.18168066e+01, 1.94989032e+01, 1.84832632e+01,\n",
       "       1.43875781e+01, 1.09222544e+01, 8.48702967e+00, 7.01861984e+00])"
      ]
     },
     "execution_count": 257,
     "metadata": {},
     "output_type": "execute_result"
    }
   ],
   "source": [
    "avg_of_legends"
   ]
  },
  {
   "cell_type": "code",
   "execution_count": 258,
   "metadata": {},
   "outputs": [
    {
     "data": {
      "application/vnd.plotly.v1+json": {
       "config": {
        "plotlyServerURL": "https://plot.ly"
       },
       "data": [
        {
         "hovertemplate": "variable=0<br>index=%{x}<br>value=%{y}<extra></extra>",
         "legendgroup": "0",
         "line": {
          "color": "#636efa",
          "dash": "solid"
         },
         "marker": {
          "symbol": "circle"
         },
         "mode": "lines",
         "name": "0",
         "orientation": "v",
         "showlegend": true,
         "type": "scatter",
         "x": [
          0,
          1,
          2,
          3,
          4,
          5,
          6,
          7,
          8,
          9,
          10,
          11,
          12,
          13,
          14,
          15,
          16,
          17,
          18,
          19
         ],
         "xaxis": "x",
         "y": [
          27198.152152471757,
          21603.894865871047,
          20083.104206390304,
          15239.932226825444,
          10131.896634873865,
          7089.777979438007,
          4377.794693099246,
          2457.943467304886,
          583.9678140091453,
          262.50666864405395,
          102.39071890520225,
          26.019073375413473,
          22.665382589402054,
          21.816806587519224,
          19.498903246787552,
          18.48326321380335,
          14.387578068332143,
          10.922254430670725,
          8.487029666041805,
          7.018619836519312
         ],
         "yaxis": "y"
        }
       ],
       "layout": {
        "legend": {
         "title": {
          "text": "variable"
         },
         "tracegroupgap": 0
        },
        "margin": {
         "t": 60
        },
        "template": {
         "data": {
          "bar": [
           {
            "error_x": {
             "color": "#2a3f5f"
            },
            "error_y": {
             "color": "#2a3f5f"
            },
            "marker": {
             "line": {
              "color": "#E5ECF6",
              "width": 0.5
             },
             "pattern": {
              "fillmode": "overlay",
              "size": 10,
              "solidity": 0.2
             }
            },
            "type": "bar"
           }
          ],
          "barpolar": [
           {
            "marker": {
             "line": {
              "color": "#E5ECF6",
              "width": 0.5
             },
             "pattern": {
              "fillmode": "overlay",
              "size": 10,
              "solidity": 0.2
             }
            },
            "type": "barpolar"
           }
          ],
          "carpet": [
           {
            "aaxis": {
             "endlinecolor": "#2a3f5f",
             "gridcolor": "white",
             "linecolor": "white",
             "minorgridcolor": "white",
             "startlinecolor": "#2a3f5f"
            },
            "baxis": {
             "endlinecolor": "#2a3f5f",
             "gridcolor": "white",
             "linecolor": "white",
             "minorgridcolor": "white",
             "startlinecolor": "#2a3f5f"
            },
            "type": "carpet"
           }
          ],
          "choropleth": [
           {
            "colorbar": {
             "outlinewidth": 0,
             "ticks": ""
            },
            "type": "choropleth"
           }
          ],
          "contour": [
           {
            "colorbar": {
             "outlinewidth": 0,
             "ticks": ""
            },
            "colorscale": [
             [
              0,
              "#0d0887"
             ],
             [
              0.1111111111111111,
              "#46039f"
             ],
             [
              0.2222222222222222,
              "#7201a8"
             ],
             [
              0.3333333333333333,
              "#9c179e"
             ],
             [
              0.4444444444444444,
              "#bd3786"
             ],
             [
              0.5555555555555556,
              "#d8576b"
             ],
             [
              0.6666666666666666,
              "#ed7953"
             ],
             [
              0.7777777777777778,
              "#fb9f3a"
             ],
             [
              0.8888888888888888,
              "#fdca26"
             ],
             [
              1,
              "#f0f921"
             ]
            ],
            "type": "contour"
           }
          ],
          "contourcarpet": [
           {
            "colorbar": {
             "outlinewidth": 0,
             "ticks": ""
            },
            "type": "contourcarpet"
           }
          ],
          "heatmap": [
           {
            "colorbar": {
             "outlinewidth": 0,
             "ticks": ""
            },
            "colorscale": [
             [
              0,
              "#0d0887"
             ],
             [
              0.1111111111111111,
              "#46039f"
             ],
             [
              0.2222222222222222,
              "#7201a8"
             ],
             [
              0.3333333333333333,
              "#9c179e"
             ],
             [
              0.4444444444444444,
              "#bd3786"
             ],
             [
              0.5555555555555556,
              "#d8576b"
             ],
             [
              0.6666666666666666,
              "#ed7953"
             ],
             [
              0.7777777777777778,
              "#fb9f3a"
             ],
             [
              0.8888888888888888,
              "#fdca26"
             ],
             [
              1,
              "#f0f921"
             ]
            ],
            "type": "heatmap"
           }
          ],
          "heatmapgl": [
           {
            "colorbar": {
             "outlinewidth": 0,
             "ticks": ""
            },
            "colorscale": [
             [
              0,
              "#0d0887"
             ],
             [
              0.1111111111111111,
              "#46039f"
             ],
             [
              0.2222222222222222,
              "#7201a8"
             ],
             [
              0.3333333333333333,
              "#9c179e"
             ],
             [
              0.4444444444444444,
              "#bd3786"
             ],
             [
              0.5555555555555556,
              "#d8576b"
             ],
             [
              0.6666666666666666,
              "#ed7953"
             ],
             [
              0.7777777777777778,
              "#fb9f3a"
             ],
             [
              0.8888888888888888,
              "#fdca26"
             ],
             [
              1,
              "#f0f921"
             ]
            ],
            "type": "heatmapgl"
           }
          ],
          "histogram": [
           {
            "marker": {
             "pattern": {
              "fillmode": "overlay",
              "size": 10,
              "solidity": 0.2
             }
            },
            "type": "histogram"
           }
          ],
          "histogram2d": [
           {
            "colorbar": {
             "outlinewidth": 0,
             "ticks": ""
            },
            "colorscale": [
             [
              0,
              "#0d0887"
             ],
             [
              0.1111111111111111,
              "#46039f"
             ],
             [
              0.2222222222222222,
              "#7201a8"
             ],
             [
              0.3333333333333333,
              "#9c179e"
             ],
             [
              0.4444444444444444,
              "#bd3786"
             ],
             [
              0.5555555555555556,
              "#d8576b"
             ],
             [
              0.6666666666666666,
              "#ed7953"
             ],
             [
              0.7777777777777778,
              "#fb9f3a"
             ],
             [
              0.8888888888888888,
              "#fdca26"
             ],
             [
              1,
              "#f0f921"
             ]
            ],
            "type": "histogram2d"
           }
          ],
          "histogram2dcontour": [
           {
            "colorbar": {
             "outlinewidth": 0,
             "ticks": ""
            },
            "colorscale": [
             [
              0,
              "#0d0887"
             ],
             [
              0.1111111111111111,
              "#46039f"
             ],
             [
              0.2222222222222222,
              "#7201a8"
             ],
             [
              0.3333333333333333,
              "#9c179e"
             ],
             [
              0.4444444444444444,
              "#bd3786"
             ],
             [
              0.5555555555555556,
              "#d8576b"
             ],
             [
              0.6666666666666666,
              "#ed7953"
             ],
             [
              0.7777777777777778,
              "#fb9f3a"
             ],
             [
              0.8888888888888888,
              "#fdca26"
             ],
             [
              1,
              "#f0f921"
             ]
            ],
            "type": "histogram2dcontour"
           }
          ],
          "mesh3d": [
           {
            "colorbar": {
             "outlinewidth": 0,
             "ticks": ""
            },
            "type": "mesh3d"
           }
          ],
          "parcoords": [
           {
            "line": {
             "colorbar": {
              "outlinewidth": 0,
              "ticks": ""
             }
            },
            "type": "parcoords"
           }
          ],
          "pie": [
           {
            "automargin": true,
            "type": "pie"
           }
          ],
          "scatter": [
           {
            "fillpattern": {
             "fillmode": "overlay",
             "size": 10,
             "solidity": 0.2
            },
            "type": "scatter"
           }
          ],
          "scatter3d": [
           {
            "line": {
             "colorbar": {
              "outlinewidth": 0,
              "ticks": ""
             }
            },
            "marker": {
             "colorbar": {
              "outlinewidth": 0,
              "ticks": ""
             }
            },
            "type": "scatter3d"
           }
          ],
          "scattercarpet": [
           {
            "marker": {
             "colorbar": {
              "outlinewidth": 0,
              "ticks": ""
             }
            },
            "type": "scattercarpet"
           }
          ],
          "scattergeo": [
           {
            "marker": {
             "colorbar": {
              "outlinewidth": 0,
              "ticks": ""
             }
            },
            "type": "scattergeo"
           }
          ],
          "scattergl": [
           {
            "marker": {
             "colorbar": {
              "outlinewidth": 0,
              "ticks": ""
             }
            },
            "type": "scattergl"
           }
          ],
          "scattermapbox": [
           {
            "marker": {
             "colorbar": {
              "outlinewidth": 0,
              "ticks": ""
             }
            },
            "type": "scattermapbox"
           }
          ],
          "scatterpolar": [
           {
            "marker": {
             "colorbar": {
              "outlinewidth": 0,
              "ticks": ""
             }
            },
            "type": "scatterpolar"
           }
          ],
          "scatterpolargl": [
           {
            "marker": {
             "colorbar": {
              "outlinewidth": 0,
              "ticks": ""
             }
            },
            "type": "scatterpolargl"
           }
          ],
          "scatterternary": [
           {
            "marker": {
             "colorbar": {
              "outlinewidth": 0,
              "ticks": ""
             }
            },
            "type": "scatterternary"
           }
          ],
          "surface": [
           {
            "colorbar": {
             "outlinewidth": 0,
             "ticks": ""
            },
            "colorscale": [
             [
              0,
              "#0d0887"
             ],
             [
              0.1111111111111111,
              "#46039f"
             ],
             [
              0.2222222222222222,
              "#7201a8"
             ],
             [
              0.3333333333333333,
              "#9c179e"
             ],
             [
              0.4444444444444444,
              "#bd3786"
             ],
             [
              0.5555555555555556,
              "#d8576b"
             ],
             [
              0.6666666666666666,
              "#ed7953"
             ],
             [
              0.7777777777777778,
              "#fb9f3a"
             ],
             [
              0.8888888888888888,
              "#fdca26"
             ],
             [
              1,
              "#f0f921"
             ]
            ],
            "type": "surface"
           }
          ],
          "table": [
           {
            "cells": {
             "fill": {
              "color": "#EBF0F8"
             },
             "line": {
              "color": "white"
             }
            },
            "header": {
             "fill": {
              "color": "#C8D4E3"
             },
             "line": {
              "color": "white"
             }
            },
            "type": "table"
           }
          ]
         },
         "layout": {
          "annotationdefaults": {
           "arrowcolor": "#2a3f5f",
           "arrowhead": 0,
           "arrowwidth": 1
          },
          "autotypenumbers": "strict",
          "coloraxis": {
           "colorbar": {
            "outlinewidth": 0,
            "ticks": ""
           }
          },
          "colorscale": {
           "diverging": [
            [
             0,
             "#8e0152"
            ],
            [
             0.1,
             "#c51b7d"
            ],
            [
             0.2,
             "#de77ae"
            ],
            [
             0.3,
             "#f1b6da"
            ],
            [
             0.4,
             "#fde0ef"
            ],
            [
             0.5,
             "#f7f7f7"
            ],
            [
             0.6,
             "#e6f5d0"
            ],
            [
             0.7,
             "#b8e186"
            ],
            [
             0.8,
             "#7fbc41"
            ],
            [
             0.9,
             "#4d9221"
            ],
            [
             1,
             "#276419"
            ]
           ],
           "sequential": [
            [
             0,
             "#0d0887"
            ],
            [
             0.1111111111111111,
             "#46039f"
            ],
            [
             0.2222222222222222,
             "#7201a8"
            ],
            [
             0.3333333333333333,
             "#9c179e"
            ],
            [
             0.4444444444444444,
             "#bd3786"
            ],
            [
             0.5555555555555556,
             "#d8576b"
            ],
            [
             0.6666666666666666,
             "#ed7953"
            ],
            [
             0.7777777777777778,
             "#fb9f3a"
            ],
            [
             0.8888888888888888,
             "#fdca26"
            ],
            [
             1,
             "#f0f921"
            ]
           ],
           "sequentialminus": [
            [
             0,
             "#0d0887"
            ],
            [
             0.1111111111111111,
             "#46039f"
            ],
            [
             0.2222222222222222,
             "#7201a8"
            ],
            [
             0.3333333333333333,
             "#9c179e"
            ],
            [
             0.4444444444444444,
             "#bd3786"
            ],
            [
             0.5555555555555556,
             "#d8576b"
            ],
            [
             0.6666666666666666,
             "#ed7953"
            ],
            [
             0.7777777777777778,
             "#fb9f3a"
            ],
            [
             0.8888888888888888,
             "#fdca26"
            ],
            [
             1,
             "#f0f921"
            ]
           ]
          },
          "colorway": [
           "#636efa",
           "#EF553B",
           "#00cc96",
           "#ab63fa",
           "#FFA15A",
           "#19d3f3",
           "#FF6692",
           "#B6E880",
           "#FF97FF",
           "#FECB52"
          ],
          "font": {
           "color": "#2a3f5f"
          },
          "geo": {
           "bgcolor": "white",
           "lakecolor": "white",
           "landcolor": "#E5ECF6",
           "showlakes": true,
           "showland": true,
           "subunitcolor": "white"
          },
          "hoverlabel": {
           "align": "left"
          },
          "hovermode": "closest",
          "mapbox": {
           "style": "light"
          },
          "paper_bgcolor": "white",
          "plot_bgcolor": "#E5ECF6",
          "polar": {
           "angularaxis": {
            "gridcolor": "white",
            "linecolor": "white",
            "ticks": ""
           },
           "bgcolor": "#E5ECF6",
           "radialaxis": {
            "gridcolor": "white",
            "linecolor": "white",
            "ticks": ""
           }
          },
          "scene": {
           "xaxis": {
            "backgroundcolor": "#E5ECF6",
            "gridcolor": "white",
            "gridwidth": 2,
            "linecolor": "white",
            "showbackground": true,
            "ticks": "",
            "zerolinecolor": "white"
           },
           "yaxis": {
            "backgroundcolor": "#E5ECF6",
            "gridcolor": "white",
            "gridwidth": 2,
            "linecolor": "white",
            "showbackground": true,
            "ticks": "",
            "zerolinecolor": "white"
           },
           "zaxis": {
            "backgroundcolor": "#E5ECF6",
            "gridcolor": "white",
            "gridwidth": 2,
            "linecolor": "white",
            "showbackground": true,
            "ticks": "",
            "zerolinecolor": "white"
           }
          },
          "shapedefaults": {
           "line": {
            "color": "#2a3f5f"
           }
          },
          "ternary": {
           "aaxis": {
            "gridcolor": "white",
            "linecolor": "white",
            "ticks": ""
           },
           "baxis": {
            "gridcolor": "white",
            "linecolor": "white",
            "ticks": ""
           },
           "bgcolor": "#E5ECF6",
           "caxis": {
            "gridcolor": "white",
            "linecolor": "white",
            "ticks": ""
           }
          },
          "title": {
           "x": 0.05
          },
          "xaxis": {
           "automargin": true,
           "gridcolor": "white",
           "linecolor": "white",
           "ticks": "",
           "title": {
            "standoff": 15
           },
           "zerolinecolor": "white",
           "zerolinewidth": 2
          },
          "yaxis": {
           "automargin": true,
           "gridcolor": "white",
           "linecolor": "white",
           "ticks": "",
           "title": {
            "standoff": 15
           },
           "zerolinecolor": "white",
           "zerolinewidth": 2
          }
         }
        },
        "xaxis": {
         "anchor": "y",
         "domain": [
          0,
          1
         ],
         "title": {
          "text": "index"
         }
        },
        "yaxis": {
         "anchor": "x",
         "domain": [
          0,
          1
         ],
         "title": {
          "text": "value"
         }
        }
       }
      }
     },
     "metadata": {},
     "output_type": "display_data"
    }
   ],
   "source": [
    "# line plot of growing the bests\n",
    "px.line(avg_of_legends)"
   ]
  },
  {
   "cell_type": "code",
   "execution_count": 511,
   "metadata": {},
   "outputs": [
    {
     "data": {
      "text/plain": [
       "'cos((-2.08) - (sin(x1)))'"
      ]
     },
     "execution_count": 511,
     "metadata": {},
     "output_type": "execute_result"
    }
   ],
   "source": [
    "showtree( allTrees[-1][-1].root )"
   ]
  },
  {
   "cell_type": "code",
   "execution_count": 213,
   "metadata": {},
   "outputs": [
    {
     "data": {
      "text/plain": [
       "'(x1) * (8.99)'"
      ]
     },
     "execution_count": 213,
     "metadata": {},
     "output_type": "execute_result"
    }
   ],
   "source": [
    "showtree(bestNode.root)"
   ]
  },
  {
   "cell_type": "code",
   "execution_count": 214,
   "metadata": {},
   "outputs": [
    {
     "data": {
      "text/plain": [
       "'((x1) * (9.0)) - (cos(x2))'"
      ]
     },
     "execution_count": 214,
     "metadata": {},
     "output_type": "execute_result"
    }
   ],
   "source": [
    "showtree(testMain1.root )"
   ]
  },
  {
   "cell_type": "code",
   "execution_count": 201,
   "metadata": {},
   "outputs": [
    {
     "data": {
      "image/png": "[encoded data removed]",
      "text/plain": [
       "<Figure size 640x480 with 1 Axes>"
      ]
     },
     "metadata": {},
     "output_type": "display_data"
    }
   ],
   "source": [
    "fig = plt.figure()\n",
    "ax = fig.add_subplot(111,projection='3d')\n",
    "\n",
    "ax.scatter(x1valuse , x2values , calculateValue(inputValue , bestNode.root) , color = 'r' , marker =\"^\" )\n",
    "ax.scatter(x1valuse , x2values , trueValues , color = 'b' , marker =\"o\" )\n",
    "ax.set_xlabel('X1_Axis')\n",
    "ax.set_ylabel('X2_Axis')\n",
    "ax.set_zlabel('Z_Axis')\n",
    "plt.show()"
   ]
  },
  {
   "cell_type": "code",
   "execution_count": 202,
   "metadata": {},
   "outputs": [
    {
     "data": {
      "application/vnd.plotly.v1+json": {
       "config": {
        "plotlyServerURL": "https://plot.ly"
       },
       "data": [
        {
         "hovertemplate": "x=%{x}<br>y=%{y}<br>z=%{z}<extra></extra>",
         "legendgroup": "",
         "marker": {
          "color": "#636efa",
          "symbol": "circle"
         },
         "mode": "markers",
         "name": "",
         "scene": "scene",
         "showlegend": false,
         "type": "scatter3d",
         "x": [
          0,
          1,
          2,
          3,
          4,
          5,
          6,
          7,
          8,
          9,
          10,
          11,
          12,
          13,
          14,
          15,
          16,
          17,
          18,
          19,
          20,
          21,
          22,
          23,
          24,
          25,
          26,
          27,
          28,
          29,
          30,
          31,
          32,
          33,
          34,
          35,
          36,
          37,
          38,
          39,
          40,
          41,
          42,
          43,
          44,
          45,
          46,
          47,
          48,
          49,
          50,
          51,
          52,
          53,
          54,
          55,
          56,
          57,
          58,
          59,
          60,
          61,
          62,
          63,
          64,
          65,
          66,
          67,
          68,
          69,
          70,
          71,
          72,
          73,
          74,
          75,
          76,
          77,
          78,
          79,
          80,
          81,
          82,
          83,
          84,
          85,
          86,
          87,
          88,
          89,
          90,
          91,
          92,
          93,
          94,
          95,
          96,
          97,
          98,
          99,
          100,
          101,
          102,
          103,
          104,
          105,
          106,
          107,
          108,
          109,
          110,
          111,
          112,
          113,
          114,
          115,
          116,
          117,
          118,
          119,
          120,
          121,
          122,
          123,
          124,
          125,
          126,
          127,
          128,
          129,
          130,
          131,
          132,
          133,
          134,
          135,
          136,
          137,
          138,
          139,
          140,
          141,
          142,
          143,
          144,
          145,
          146,
          147,
          148,
          149,
          150,
          151,
          152,
          153,
          154,
          155,
          156,
          157,
          158,
          159,
          160,
          161,
          162,
          163,
          164,
          165,
          166,
          167,
          168,
          169,
          170,
          171,
          172,
          173,
          174,
          175,
          176,
          177,
          178,
          179,
          180,
          181,
          182,
          183,
          184,
          185,
          186,
          187,
          188,
          189,
          190,
          191,
          192,
          193,
          194,
          195,
          196,
          197,
          198,
          199,
          200,
          201,
          202,
          203,
          204,
          205,
          206,
          207,
          208,
          209,
          210,
          211,
          212,
          213,
          214,
          215,
          216,
          217,
          218,
          219,
          220,
          221,
          222,
          223,
          224,
          225,
          226,
          227,
          228,
          229,
          230,
          231,
          232,
          233,
          234,
          235,
          236,
          237,
          238,
          239,
          240,
          241,
          242,
          243,
          244,
          245,
          246,
          247,
          248,
          249,
          250,
          251,
          252,
          253,
          254,
          255,
          256,
          257,
          258,
          259,
          260,
          261,
          262,
          263,
          264,
          265,
          266,
          267,
          268,
          269,
          270,
          271,
          272,
          273,
          274,
          275,
          276,
          277,
          278,
          279,
          280,
          281,
          282,
          283,
          284,
          285,
          286,
          287,
          288,
          289,
          290,
          291,
          292,
          293,
          294,
          295,
          296,
          297,
          298,
          299
         ],
         "y": [
          -150,
          -149,
          -148,
          -147,
          -146,
          -145,
          -144,
          -143,
          -142,
          -141,
          -140,
          -139,
          -138,
          -137,
          -136,
          -135,
          -134,
          -133,
          -132,
          -131,
          -130,
          -129,
          -128,
          -127,
          -126,
          -125,
          -124,
          -123,
          -122,
          -121,
          -120,
          -119,
          -118,
          -117,
          -116,
          -115,
          -114,
          -113,
          -112,
          -111,
          -110,
          -109,
          -108,
          -107,
          -106,
          -105,
          -104,
          -103,
          -102,
          -101,
          -100,
          -99,
          -98,
          -97,
          -96,
          -95,
          -94,
          -93,
          -92,
          -91,
          -90,
          -89,
          -88,
          -87,
          -86,
          -85,
          -84,
          -83,
          -82,
          -81,
          -80,
          -79,
          -78,
          -77,
          -76,
          -75,
          -74,
          -73,
          -72,
          -71,
          -70,
          -69,
          -68,
          -67,
          -66,
          -65,
          -64,
          -63,
          -62,
          -61,
          -60,
          -59,
          -58,
          -57,
          -56,
          -55,
          -54,
          -53,
          -52,
          -51,
          -50,
          -49,
          -48,
          -47,
          -46,
          -45,
          -44,
          -43,
          -42,
          -41,
          -40,
          -39,
          -38,
          -37,
          -36,
          -35,
          -34,
          -33,
          -32,
          -31,
          -30,
          -29,
          -28,
          -27,
          -26,
          -25,
          -24,
          -23,
          -22,
          -21,
          -20,
          -19,
          -18,
          -17,
          -16,
          -15,
          -14,
          -13,
          -12,
          -11,
          -10,
          -9,
          -8,
          -7,
          -6,
          -5,
          -4,
          -3,
          -2,
          -1,
          0,
          1,
          2,
          3,
          4,
          5,
          6,
          7,
          8,
          9,
          10,
          11,
          12,
          13,
          14,
          15,
          16,
          17,
          18,
          19,
          20,
          21,
          22,
          23,
          24,
          25,
          26,
          27,
          28,
          29,
          30,
          31,
          32,
          33,
          34,
          35,
          36,
          37,
          38,
          39,
          40,
          41,
          42,
          43,
          44,
          45,
          46,
          47,
          48,
          49,
          50,
          51,
          52,
          53,
          54,
          55,
          56,
          57,
          58,
          59,
          60,
          61,
          62,
          63,
          64,
          65,
          66,
          67,
          68,
          69,
          70,
          71,
          72,
          73,
          74,
          75,
          76,
          77,
          78,
          79,
          80,
          81,
          82,
          83,
          84,
          85,
          86,
          87,
          88,
          89,
          90,
          91,
          92,
          93,
          94,
          95,
          96,
          97,
          98,
          99,
          100,
          101,
          102,
          103,
          104,
          105,
          106,
          107,
          108,
          109,
          110,
          111,
          112,
          113,
          114,
          115,
          116,
          117,
          118,
          119,
          120,
          121,
          122,
          123,
          124,
          125,
          126,
          127,
          128,
          129,
          130,
          131,
          132,
          133,
          134,
          135,
          136,
          137,
          138,
          139,
          140,
          141,
          142,
          143,
          144,
          145,
          146,
          147,
          148,
          149
         ],
         "z": [
          -9.8942,
          -0.7541999999999991,
          8.385800000000001,
          17.525800000000004,
          26.665800000000004,
          35.805800000000005,
          44.945800000000006,
          54.085800000000006,
          63.22580000000001,
          72.36580000000001,
          81.50580000000001,
          90.64580000000001,
          99.78580000000001,
          108.92580000000001,
          118.06580000000001,
          127.20580000000002,
          136.3458,
          145.48579999999998,
          154.6258,
          163.7658,
          172.9058,
          182.04579999999999,
          191.1858,
          200.32580000000002,
          209.4658,
          218.6058,
          227.7458,
          236.88580000000002,
          246.0258,
          255.1658,
          264.30580000000003,
          273.4458,
          282.5858,
          291.7258,
          300.8658,
          310.0058,
          319.1458,
          328.2858,
          337.42580000000004,
          346.5658,
          355.7058,
          364.8458,
          373.9858,
          383.1258,
          392.2658,
          401.4058,
          410.54580000000004,
          419.68580000000003,
          428.8258,
          437.9658,
          447.1058,
          456.24580000000003,
          465.3858,
          474.5258,
          483.66580000000005,
          492.80580000000003,
          501.9458,
          511.0858,
          520.2258,
          529.3658,
          538.5058000000001,
          547.6458000000001,
          556.7858000000001,
          565.9258000000001,
          575.0658000000001,
          584.2058000000001,
          593.3458,
          602.4858,
          611.6258,
          620.7658000000001,
          629.9058000000001,
          639.0458000000001,
          648.1858000000001,
          657.3258000000001,
          666.4658000000001,
          675.6058,
          684.7458000000001,
          693.8858000000001,
          703.0258000000001,
          712.1658000000001,
          721.3058000000001,
          730.4458000000001,
          739.5858000000001,
          748.7258,
          757.8658,
          767.0058000000001,
          776.1458000000001,
          785.2858000000001,
          794.4258000000001,
          803.5658000000001,
          812.7058000000001,
          821.8458,
          830.9858000000002,
          840.1258000000001,
          849.2658000000001,
          858.4058000000001,
          867.5458000000001,
          876.6858000000001,
          885.8258000000001,
          894.9658000000001,
          904.1058,
          913.2458000000001,
          922.3858000000001,
          931.5258000000001,
          940.6658000000001,
          949.8058000000001,
          958.9458000000001,
          968.0858000000001,
          977.2258000000002,
          986.3658000000001,
          995.5058000000001,
          1004.6458000000001,
          1013.7858000000001,
          1022.9258000000002,
          1032.0658,
          1041.2058000000002,
          1050.3458,
          1059.4858000000002,
          1068.6258,
          1077.7658000000001,
          1086.9058000000002,
          1096.0458,
          1105.1858000000002,
          1114.3258,
          1123.4658000000002,
          1132.6058,
          1141.7458000000001,
          1150.8858,
          1160.0258000000001,
          1169.1658000000002,
          1178.3058,
          1187.4458000000002,
          1196.5858,
          1205.7258000000002,
          1214.8658,
          1224.0058000000001,
          1233.1458,
          1242.2858,
          1251.4258000000002,
          1260.5658,
          1269.7058000000002,
          1278.8458,
          1287.9858000000002,
          1297.1258,
          1306.2658000000001,
          1315.4058000000002,
          1324.5458,
          1333.6858000000002,
          1342.8258,
          1351.9658000000002,
          1361.1058,
          1370.2458000000001,
          1379.3858000000002,
          1388.5258000000001,
          1397.6658000000002,
          1406.8058,
          1415.9458000000002,
          1425.0858,
          1434.2258000000002,
          1443.3658,
          1452.5058000000001,
          1461.6458000000002,
          1470.7858,
          1479.9258000000002,
          1489.0658,
          1498.2058000000002,
          1507.3458,
          1516.4858000000002,
          1525.6258,
          1534.7658000000001,
          1543.9058000000002,
          1553.0458,
          1562.1858000000002,
          1571.3258,
          1580.4658000000002,
          1589.6058,
          1598.7458000000001,
          1607.8858000000002,
          1617.0258000000001,
          1626.1658000000002,
          1635.3058,
          1644.4458000000002,
          1653.5858,
          1662.7258000000002,
          1671.8658000000003,
          1681.0058000000001,
          1690.1458000000002,
          1699.2858,
          1708.4258000000002,
          1717.5658,
          1726.7058000000002,
          1735.8458,
          1744.9858000000002,
          1754.1258000000003,
          1763.2658000000001,
          1772.4058000000002,
          1781.5458,
          1790.6858000000002,
          1799.8258,
          1808.9658000000002,
          1818.1058,
          1827.2458000000001,
          1836.3858000000002,
          1845.5258000000001,
          1854.6658000000002,
          1863.8058,
          1872.9458000000002,
          1882.0858,
          1891.2258000000002,
          1900.3658000000003,
          1909.5058000000001,
          1918.6458000000002,
          1927.7858,
          1936.9258000000002,
          1946.0658,
          1955.2058000000002,
          1964.3458000000003,
          1973.4858000000002,
          1982.6258000000003,
          1991.7658000000001,
          2000.9058000000002,
          2010.0458,
          2019.1858000000002,
          2028.3258,
          2037.4658000000002,
          2046.6058,
          2055.7458,
          2064.8858,
          2074.0258,
          2083.1657999999998,
          2092.3058,
          2101.4458,
          2110.5858,
          2119.7258,
          2128.8658,
          2138.0058,
          2147.1458,
          2156.2858,
          2165.4258,
          2174.5658,
          2183.7058,
          2192.8458,
          2201.9858,
          2211.1258,
          2220.2658,
          2229.4058,
          2238.5458,
          2247.6857999999997,
          2256.8258,
          2265.9658,
          2275.1058,
          2284.2458,
          2293.3858,
          2302.5258,
          2311.6657999999998,
          2320.8058,
          2329.9458,
          2339.0858,
          2348.2258,
          2357.3658,
          2366.5058,
          2375.6458,
          2384.7858,
          2393.9258,
          2403.0658,
          2412.2058,
          2421.3458,
          2430.4858,
          2439.6258,
          2448.7658,
          2457.9058,
          2467.0458,
          2476.1857999999997,
          2485.3258,
          2494.4658,
          2503.6058,
          2512.7458,
          2521.8858,
          2531.0258,
          2540.1657999999998,
          2549.3058,
          2558.4458,
          2567.5858,
          2576.7258,
          2585.8658,
          2595.0058,
          2604.1458,
          2613.2858,
          2622.4258,
          2631.5658,
          2640.7058,
          2649.8458,
          2658.9858,
          2668.1258,
          2677.2658,
          2686.4058,
          2695.5458,
          2704.6858,
          2713.8258,
          2722.9658
         ]
        },
        {
         "mode": "markers",
         "type": "scatter3d",
         "x": [
          0,
          1,
          2,
          3,
          4,
          5,
          6,
          7,
          8,
          9,
          10,
          11,
          12,
          13,
          14,
          15,
          16,
          17,
          18,
          19,
          20,
          21,
          22,
          23,
          24,
          25,
          26,
          27,
          28,
          29,
          30,
          31,
          32,
          33,
          34,
          35,
          36,
          37,
          38,
          39,
          40,
          41,
          42,
          43,
          44,
          45,
          46,
          47,
          48,
          49,
          50,
          51,
          52,
          53,
          54,
          55,
          56,
          57,
          58,
          59,
          60,
          61,
          62,
          63,
          64,
          65,
          66,
          67,
          68,
          69,
          70,
          71,
          72,
          73,
          74,
          75,
          76,
          77,
          78,
          79,
          80,
          81,
          82,
          83,
          84,
          85,
          86,
          87,
          88,
          89,
          90,
          91,
          92,
          93,
          94,
          95,
          96,
          97,
          98,
          99,
          100,
          101,
          102,
          103,
          104,
          105,
          106,
          107,
          108,
          109,
          110,
          111,
          112,
          113,
          114,
          115,
          116,
          117,
          118,
          119,
          120,
          121,
          122,
          123,
          124,
          125,
          126,
          127,
          128,
          129,
          130,
          131,
          132,
          133,
          134,
          135,
          136,
          137,
          138,
          139,
          140,
          141,
          142,
          143,
          144,
          145,
          146,
          147,
          148,
          149,
          150,
          151,
          152,
          153,
          154,
          155,
          156,
          157,
          158,
          159,
          160,
          161,
          162,
          163,
          164,
          165,
          166,
          167,
          168,
          169,
          170,
          171,
          172,
          173,
          174,
          175,
          176,
          177,
          178,
          179,
          180,
          181,
          182,
          183,
          184,
          185,
          186,
          187,
          188,
          189,
          190,
          191,
          192,
          193,
          194,
          195,
          196,
          197,
          198,
          199,
          200,
          201,
          202,
          203,
          204,
          205,
          206,
          207,
          208,
          209,
          210,
          211,
          212,
          213,
          214,
          215,
          216,
          217,
          218,
          219,
          220,
          221,
          222,
          223,
          224,
          225,
          226,
          227,
          228,
          229,
          230,
          231,
          232,
          233,
          234,
          235,
          236,
          237,
          238,
          239,
          240,
          241,
          242,
          243,
          244,
          245,
          246,
          247,
          248,
          249,
          250,
          251,
          252,
          253,
          254,
          255,
          256,
          257,
          258,
          259,
          260,
          261,
          262,
          263,
          264,
          265,
          266,
          267,
          268,
          269,
          270,
          271,
          272,
          273,
          274,
          275,
          276,
          277,
          278,
          279,
          280,
          281,
          282,
          283,
          284,
          285,
          286,
          287,
          288,
          289,
          290,
          291,
          292,
          293,
          294,
          295,
          296,
          297,
          298,
          299
         ],
         "y": [
          -150,
          -149,
          -148,
          -147,
          -146,
          -145,
          -144,
          -143,
          -142,
          -141,
          -140,
          -139,
          -138,
          -137,
          -136,
          -135,
          -134,
          -133,
          -132,
          -131,
          -130,
          -129,
          -128,
          -127,
          -126,
          -125,
          -124,
          -123,
          -122,
          -121,
          -120,
          -119,
          -118,
          -117,
          -116,
          -115,
          -114,
          -113,
          -112,
          -111,
          -110,
          -109,
          -108,
          -107,
          -106,
          -105,
          -104,
          -103,
          -102,
          -101,
          -100,
          -99,
          -98,
          -97,
          -96,
          -95,
          -94,
          -93,
          -92,
          -91,
          -90,
          -89,
          -88,
          -87,
          -86,
          -85,
          -84,
          -83,
          -82,
          -81,
          -80,
          -79,
          -78,
          -77,
          -76,
          -75,
          -74,
          -73,
          -72,
          -71,
          -70,
          -69,
          -68,
          -67,
          -66,
          -65,
          -64,
          -63,
          -62,
          -61,
          -60,
          -59,
          -58,
          -57,
          -56,
          -55,
          -54,
          -53,
          -52,
          -51,
          -50,
          -49,
          -48,
          -47,
          -46,
          -45,
          -44,
          -43,
          -42,
          -41,
          -40,
          -39,
          -38,
          -37,
          -36,
          -35,
          -34,
          -33,
          -32,
          -31,
          -30,
          -29,
          -28,
          -27,
          -26,
          -25,
          -24,
          -23,
          -22,
          -21,
          -20,
          -19,
          -18,
          -17,
          -16,
          -15,
          -14,
          -13,
          -12,
          -11,
          -10,
          -9,
          -8,
          -7,
          -6,
          -5,
          -4,
          -3,
          -2,
          -1,
          0,
          1,
          2,
          3,
          4,
          5,
          6,
          7,
          8,
          9,
          10,
          11,
          12,
          13,
          14,
          15,
          16,
          17,
          18,
          19,
          20,
          21,
          22,
          23,
          24,
          25,
          26,
          27,
          28,
          29,
          30,
          31,
          32,
          33,
          34,
          35,
          36,
          37,
          38,
          39,
          40,
          41,
          42,
          43,
          44,
          45,
          46,
          47,
          48,
          49,
          50,
          51,
          52,
          53,
          54,
          55,
          56,
          57,
          58,
          59,
          60,
          61,
          62,
          63,
          64,
          65,
          66,
          67,
          68,
          69,
          70,
          71,
          72,
          73,
          74,
          75,
          76,
          77,
          78,
          79,
          80,
          81,
          82,
          83,
          84,
          85,
          86,
          87,
          88,
          89,
          90,
          91,
          92,
          93,
          94,
          95,
          96,
          97,
          98,
          99,
          100,
          101,
          102,
          103,
          104,
          105,
          106,
          107,
          108,
          109,
          110,
          111,
          112,
          113,
          114,
          115,
          116,
          117,
          118,
          119,
          120,
          121,
          122,
          123,
          124,
          125,
          126,
          127,
          128,
          129,
          130,
          131,
          132,
          133,
          134,
          135,
          136,
          137,
          138,
          139,
          140,
          141,
          142,
          143,
          144,
          145,
          146,
          147,
          148,
          149
         ],
         "z": [
          -0.6992508064783751,
          9.223740950135584,
          18.941026309029144,
          27.79313641916648,
          35.91604056325815,
          44.1161366262915,
          53.128852598967654,
          62.94249747465088,
          72.80900990695359,
          81.93172236174352,
          90.19781357400427,
          98.28203589858953,
          107.02635110695049,
          116.66583461736924,
          126.61254823949609,
          135.9960878351412,
          144.46382886885186,
          152.50512777959656,
          161.00140992756002,
          170.4157911828907,
          180.3672913304547,
          189.9811055226494,
          198.69289582192016,
          206.76764089797035,
          215.05601586084768,
          224.21228548785575,
          234.09277620459767,
          243.88796890669187,
          252.86676709105197,
          261.04866360920016,
          269.18581902947346,
          278.07152867926095,
          287.81087057947104,
          297.7240971967005,
          306.9715921906288,
          315.32580980522,
          323.3804793874408,
          332.00473336378286,
          341.54403089555575,
          351.5025443191454,
          360.99902081331464,
          369.57700217894296,
          377.624490402233,
          386.01722041795875,
          395.313513449093,
          405.2409590492362,
          414.9468680107512,
          423.7822308898871,
          431.8984142963034,
          440.10799513021186,
          449.1376811277123,
          458.96017911960683,
          468.81928824529143,
          477.9251475365964,
          486.18043044929107,
          494.26982643900516,
          503.03054063333,
          512.6825712984803,
          522.6264444479103,
          531.9943674609282,
          540.4480736161291,
          548.4898229550583,
          557.0006267163049,
          566.4302496657347,
          576.3836984449497,
          585.9843766433941,
          594.6800234955873,
          602.7504598820267,
          611.0503223021175,
          620.2233140179784,
          630.110387243839,
          639.895970946791,
          648.857803093245,
          657.0309750317313,
          665.1756686688924,
          674.0782487302753,
          683.8282826581692,
          693.7361927182274,
          702.9672505882738,
          711.309022728166,
          719.3666807969137,
          728.0066096202777,
          737.559856977504,
          747.5177697997894,
          756.9996474559664,
          765.5624538512382,
          773.6081427695705,
          782.0141034184174,
          791.3264928376764,
          801.2581016359383,
          810.9524129804151,
          819.7710802229758,
          827.8808198645512,
          836.1001331730308,
          845.1467798922774,
          854.977873243738,
          864.8293098328631,
          873.9182827862121,
          882.1629907807957,
          890.2578458031862,
          899.0350339715079,
          908.6994074562564,
          918.6401443394692,
          927.9923354691509,
          936.4321779448848,
          944.4746780111823,
          953.0001566913523,
          962.4448866984794,
          972.3999853149884,
          981.9873392775238,
          990.6669380616522,
          998.7333570676401,
          1007.0449263559527,
          1016.2345859480547,
          1026.1279636896274,
          1035.9036922050916,
          1044.8485702747846,
          1053.013276747223,
          1061.1657766394935,
          1070.0852576421955,
          1079.8457485501124,
          1089.748057529689,
          1098.9626058663137,
          1107.2921388087339,
          1115.3530806776714,
          1124.0087971881364,
          1133.575820992663,
          1143.5328330203333,
          1152.9999608263947,
          1161.5477292602243,
          1169.5919179381865,
          1178.0112953818134,
          1187.3396832917558,
          1197.2751633380517,
          1206.9576594803234,
          1215.759687912859,
          1223.8632627817922,
          1232.0925532185497,
          1241.1561460412674,
          1250.9955743020118,
          1260.8390715290764,
          1269.9111302618846,
          1278.1455000338085,
          1286.2460977456567,
          1295.0398297133497,
          1304.7163378145367,
          1314.6536436208637,
          1323.9899924966005,
          1332.4161468365471,
          1340.4596976941318,
          1349,
          1358.4596976941318,
          1368.4161468365471,
          1377.9899924966005,
          1386.6536436208637,
          1394.7163378145367,
          1403.0398297133497,
          1412.2460977456567,
          1422.1455000338085,
          1431.9111302618846,
          1440.8390715290764,
          1448.9955743020118,
          1457.1561460412674,
          1466.0925532185497,
          1475.8632627817922,
          1485.759687912859,
          1494.9576594803234,
          1503.2751633380517,
          1511.3396832917558,
          1520.0112953818134,
          1529.5919179381865,
          1539.5477292602243,
          1548.9999608263947,
          1557.5328330203333,
          1565.575820992663,
          1574.0087971881364,
          1583.3530806776714,
          1593.2921388087339,
          1602.9626058663137,
          1611.748057529689,
          1619.8457485501124,
          1628.0852576421955,
          1637.1657766394935,
          1647.013276747223,
          1656.8485702747846,
          1665.9036922050916,
          1674.1279636896274,
          1682.2345859480547,
          1691.0449263559526,
          1700.73335706764,
          1710.6669380616522,
          1719.987339277524,
          1728.3999853149883,
          1736.4448866984794,
          1745.0001566913522,
          1754.4746780111823,
          1764.4321779448849,
          1773.992335469151,
          1782.640144339469,
          1790.6994074562563,
          1799.0350339715078,
          1808.2578458031862,
          1818.1629907807958,
          1827.918282786212,
          1836.8293098328631,
          1844.977873243738,
          1853.1467798922774,
          1862.1001331730308,
          1871.880819864551,
          1881.7710802229758,
          1890.9524129804151,
          1899.2581016359384,
          1907.3264928376764,
          1916.0141034184176,
          1925.6081427695703,
          1935.5624538512382,
          1944.9996474559664,
          1953.5177697997894,
          1961.559856977504,
          1970.0066096202777,
          1979.3666807969137,
          1989.3090227281662,
          1998.9672505882738,
          2007.7361927182274,
          2015.8282826581692,
          2024.0782487302752,
          2033.1756686688925,
          2043.0309750317313,
          2052.857803093245,
          2061.895970946791,
          2070.110387243839,
          2078.2233140179783,
          2087.0503223021174,
          2096.7504598820265,
          2106.680023495587,
          2115.984376643394,
          2124.38369844495,
          2132.4302496657347,
          2141.000626716305,
          2150.489822955058,
          2160.448073616129,
          2169.994367460928,
          2178.62644444791,
          2186.6825712984805,
          2195.03054063333,
          2204.269826439005,
          2214.180430449291,
          2223.9251475365963,
          2232.8192882452913,
          2240.960179119607,
          2249.1376811277123,
          2258.1079951302117,
          2267.8984142963036,
          2277.782230889887,
          2286.946868010751,
          2295.240959049236,
          2303.313513449093,
          2312.017220417959,
          2321.624490402233,
          2331.577002178943,
          2340.9990208133145,
          2349.5025443191453,
          2357.544030895556,
          2366.004733363783,
          2375.3804793874406,
          2385.32580980522,
          2394.9715921906286,
          2403.7240971967003,
          2411.810870579471,
          2420.071528679261,
          2429.1858190294734,
          2439.0486636092,
          2448.8667670910518,
          2457.8879689066916,
          2466.0927762045976,
          2474.2122854878558,
          2483.0560158608478,
          2492.7676408979705,
          2502.69289582192,
          2511.9811055226496,
          2520.367291330455,
          2528.4157911828906,
          2537.00140992756,
          2546.5051277795965,
          2556.463828868852,
          2565.996087835141,
          2574.612548239496,
          2582.6658346173695,
          2591.0263511069506,
          2600.2820358985896,
          2610.197813574004,
          2619.9317223617436,
          2628.8090099069536,
          2636.9424974746507,
          2645.1288525989676,
          2654.1161366262913,
          2663.9160405632583,
          2673.7931364191663,
          2682.941026309029,
          2691.2237409501354
         ]
        }
       ],
       "layout": {
        "legend": {
         "tracegroupgap": 0
        },
        "margin": {
         "t": 60
        },
        "scene": {
         "domain": {
          "x": [
           0,
           1
          ],
          "y": [
           0,
           1
          ]
         },
         "xaxis": {
          "title": {
           "text": "x"
          }
         },
         "yaxis": {
          "title": {
           "text": "y"
          }
         },
         "zaxis": {
          "title": {
           "text": "z"
          }
         }
        },
        "template": {
         "data": {
          "bar": [
           {
            "error_x": {
             "color": "#2a3f5f"
            },
            "error_y": {
             "color": "#2a3f5f"
            },
            "marker": {
             "line": {
              "color": "#E5ECF6",
              "width": 0.5
             },
             "pattern": {
              "fillmode": "overlay",
              "size": 10,
              "solidity": 0.2
             }
            },
            "type": "bar"
           }
          ],
          "barpolar": [
           {
            "marker": {
             "line": {
              "color": "#E5ECF6",
              "width": 0.5
             },
             "pattern": {
              "fillmode": "overlay",
              "size": 10,
              "solidity": 0.2
             }
            },
            "type": "barpolar"
           }
          ],
          "carpet": [
           {
            "aaxis": {
             "endlinecolor": "#2a3f5f",
             "gridcolor": "white",
             "linecolor": "white",
             "minorgridcolor": "white",
             "startlinecolor": "#2a3f5f"
            },
            "baxis": {
             "endlinecolor": "#2a3f5f",
             "gridcolor": "white",
             "linecolor": "white",
             "minorgridcolor": "white",
             "startlinecolor": "#2a3f5f"
            },
            "type": "carpet"
           }
          ],
          "choropleth": [
           {
            "colorbar": {
             "outlinewidth": 0,
             "ticks": ""
            },
            "type": "choropleth"
           }
          ],
          "contour": [
           {
            "colorbar": {
             "outlinewidth": 0,
             "ticks": ""
            },
            "colorscale": [
             [
              0,
              "#0d0887"
             ],
             [
              0.1111111111111111,
              "#46039f"
             ],
             [
              0.2222222222222222,
              "#7201a8"
             ],
             [
              0.3333333333333333,
              "#9c179e"
             ],
             [
              0.4444444444444444,
              "#bd3786"
             ],
             [
              0.5555555555555556,
              "#d8576b"
             ],
             [
              0.6666666666666666,
              "#ed7953"
             ],
             [
              0.7777777777777778,
              "#fb9f3a"
             ],
             [
              0.8888888888888888,
              "#fdca26"
             ],
             [
              1,
              "#f0f921"
             ]
            ],
            "type": "contour"
           }
          ],
          "contourcarpet": [
           {
            "colorbar": {
             "outlinewidth": 0,
             "ticks": ""
            },
            "type": "contourcarpet"
           }
          ],
          "heatmap": [
           {
            "colorbar": {
             "outlinewidth": 0,
             "ticks": ""
            },
            "colorscale": [
             [
              0,
              "#0d0887"
             ],
             [
              0.1111111111111111,
              "#46039f"
             ],
             [
              0.2222222222222222,
              "#7201a8"
             ],
             [
              0.3333333333333333,
              "#9c179e"
             ],
             [
              0.4444444444444444,
              "#bd3786"
             ],
             [
              0.5555555555555556,
              "#d8576b"
             ],
             [
              0.6666666666666666,
              "#ed7953"
             ],
             [
              0.7777777777777778,
              "#fb9f3a"
             ],
             [
              0.8888888888888888,
              "#fdca26"
             ],
             [
              1,
              "#f0f921"
             ]
            ],
            "type": "heatmap"
           }
          ],
          "heatmapgl": [
           {
            "colorbar": {
             "outlinewidth": 0,
             "ticks": ""
            },
            "colorscale": [
             [
              0,
              "#0d0887"
             ],
             [
              0.1111111111111111,
              "#46039f"
             ],
             [
              0.2222222222222222,
              "#7201a8"
             ],
             [
              0.3333333333333333,
              "#9c179e"
             ],
             [
              0.4444444444444444,
              "#bd3786"
             ],
             [
              0.5555555555555556,
              "#d8576b"
             ],
             [
              0.6666666666666666,
              "#ed7953"
             ],
             [
              0.7777777777777778,
              "#fb9f3a"
             ],
             [
              0.8888888888888888,
              "#fdca26"
             ],
             [
              1,
              "#f0f921"
             ]
            ],
            "type": "heatmapgl"
           }
          ],
          "histogram": [
           {
            "marker": {
             "pattern": {
              "fillmode": "overlay",
              "size": 10,
              "solidity": 0.2
             }
            },
            "type": "histogram"
           }
          ],
          "histogram2d": [
           {
            "colorbar": {
             "outlinewidth": 0,
             "ticks": ""
            },
            "colorscale": [
             [
              0,
              "#0d0887"
             ],
             [
              0.1111111111111111,
              "#46039f"
             ],
             [
              0.2222222222222222,
              "#7201a8"
             ],
             [
              0.3333333333333333,
              "#9c179e"
             ],
             [
              0.4444444444444444,
              "#bd3786"
             ],
             [
              0.5555555555555556,
              "#d8576b"
             ],
             [
              0.6666666666666666,
              "#ed7953"
             ],
             [
              0.7777777777777778,
              "#fb9f3a"
             ],
             [
              0.8888888888888888,
              "#fdca26"
             ],
             [
              1,
              "#f0f921"
             ]
            ],
            "type": "histogram2d"
           }
          ],
          "histogram2dcontour": [
           {
            "colorbar": {
             "outlinewidth": 0,
             "ticks": ""
            },
            "colorscale": [
             [
              0,
              "#0d0887"
             ],
             [
              0.1111111111111111,
              "#46039f"
             ],
             [
              0.2222222222222222,
              "#7201a8"
             ],
             [
              0.3333333333333333,
              "#9c179e"
             ],
             [
              0.4444444444444444,
              "#bd3786"
             ],
             [
              0.5555555555555556,
              "#d8576b"
             ],
             [
              0.6666666666666666,
              "#ed7953"
             ],
             [
              0.7777777777777778,
              "#fb9f3a"
             ],
             [
              0.8888888888888888,
              "#fdca26"
             ],
             [
              1,
              "#f0f921"
             ]
            ],
            "type": "histogram2dcontour"
           }
          ],
          "mesh3d": [
           {
            "colorbar": {
             "outlinewidth": 0,
             "ticks": ""
            },
            "type": "mesh3d"
           }
          ],
          "parcoords": [
           {
            "line": {
             "colorbar": {
              "outlinewidth": 0,
              "ticks": ""
             }
            },
            "type": "parcoords"
           }
          ],
          "pie": [
           {
            "automargin": true,
            "type": "pie"
           }
          ],
          "scatter": [
           {
            "fillpattern": {
             "fillmode": "overlay",
             "size": 10,
             "solidity": 0.2
            },
            "type": "scatter"
           }
          ],
          "scatter3d": [
           {
            "line": {
             "colorbar": {
              "outlinewidth": 0,
              "ticks": ""
             }
            },
            "marker": {
             "colorbar": {
              "outlinewidth": 0,
              "ticks": ""
             }
            },
            "type": "scatter3d"
           }
          ],
          "scattercarpet": [
           {
            "marker": {
             "colorbar": {
              "outlinewidth": 0,
              "ticks": ""
             }
            },
            "type": "scattercarpet"
           }
          ],
          "scattergeo": [
           {
            "marker": {
             "colorbar": {
              "outlinewidth": 0,
              "ticks": ""
             }
            },
            "type": "scattergeo"
           }
          ],
          "scattergl": [
           {
            "marker": {
             "colorbar": {
              "outlinewidth": 0,
              "ticks": ""
             }
            },
            "type": "scattergl"
           }
          ],
          "scattermapbox": [
           {
            "marker": {
             "colorbar": {
              "outlinewidth": 0,
              "ticks": ""
             }
            },
            "type": "scattermapbox"
           }
          ],
          "scatterpolar": [
           {
            "marker": {
             "colorbar": {
              "outlinewidth": 0,
              "ticks": ""
             }
            },
            "type": "scatterpolar"
           }
          ],
          "scatterpolargl": [
           {
            "marker": {
             "colorbar": {
              "outlinewidth": 0,
              "ticks": ""
             }
            },
            "type": "scatterpolargl"
           }
          ],
          "scatterternary": [
           {
            "marker": {
             "colorbar": {
              "outlinewidth": 0,
              "ticks": ""
             }
            },
            "type": "scatterternary"
           }
          ],
          "surface": [
           {
            "colorbar": {
             "outlinewidth": 0,
             "ticks": ""
            },
            "colorscale": [
             [
              0,
              "#0d0887"
             ],
             [
              0.1111111111111111,
              "#46039f"
             ],
             [
              0.2222222222222222,
              "#7201a8"
             ],
             [
              0.3333333333333333,
              "#9c179e"
             ],
             [
              0.4444444444444444,
              "#bd3786"
             ],
             [
              0.5555555555555556,
              "#d8576b"
             ],
             [
              0.6666666666666666,
              "#ed7953"
             ],
             [
              0.7777777777777778,
              "#fb9f3a"
             ],
             [
              0.8888888888888888,
              "#fdca26"
             ],
             [
              1,
              "#f0f921"
             ]
            ],
            "type": "surface"
           }
          ],
          "table": [
           {
            "cells": {
             "fill": {
              "color": "#EBF0F8"
             },
             "line": {
              "color": "white"
             }
            },
            "header": {
             "fill": {
              "color": "#C8D4E3"
             },
             "line": {
              "color": "white"
             }
            },
            "type": "table"
           }
          ]
         },
         "layout": {
          "annotationdefaults": {
           "arrowcolor": "#2a3f5f",
           "arrowhead": 0,
           "arrowwidth": 1
          },
          "autotypenumbers": "strict",
          "coloraxis": {
           "colorbar": {
            "outlinewidth": 0,
            "ticks": ""
           }
          },
          "colorscale": {
           "diverging": [
            [
             0,
             "#8e0152"
            ],
            [
             0.1,
             "#c51b7d"
            ],
            [
             0.2,
             "#de77ae"
            ],
            [
             0.3,
             "#f1b6da"
            ],
            [
             0.4,
             "#fde0ef"
            ],
            [
             0.5,
             "#f7f7f7"
            ],
            [
             0.6,
             "#e6f5d0"
            ],
            [
             0.7,
             "#b8e186"
            ],
            [
             0.8,
             "#7fbc41"
            ],
            [
             0.9,
             "#4d9221"
            ],
            [
             1,
             "#276419"
            ]
           ],
           "sequential": [
            [
             0,
             "#0d0887"
            ],
            [
             0.1111111111111111,
             "#46039f"
            ],
            [
             0.2222222222222222,
             "#7201a8"
            ],
            [
             0.3333333333333333,
             "#9c179e"
            ],
            [
             0.4444444444444444,
             "#bd3786"
            ],
            [
             0.5555555555555556,
             "#d8576b"
            ],
            [
             0.6666666666666666,
             "#ed7953"
            ],
            [
             0.7777777777777778,
             "#fb9f3a"
            ],
            [
             0.8888888888888888,
             "#fdca26"
            ],
            [
             1,
             "#f0f921"
            ]
           ],
           "sequentialminus": [
            [
             0,
             "#0d0887"
            ],
            [
             0.1111111111111111,
             "#46039f"
            ],
            [
             0.2222222222222222,
             "#7201a8"
            ],
            [
             0.3333333333333333,
             "#9c179e"
            ],
            [
             0.4444444444444444,
             "#bd3786"
            ],
            [
             0.5555555555555556,
             "#d8576b"
            ],
            [
             0.6666666666666666,
             "#ed7953"
            ],
            [
             0.7777777777777778,
             "#fb9f3a"
            ],
            [
             0.8888888888888888,
             "#fdca26"
            ],
            [
             1,
             "#f0f921"
            ]
           ]
          },
          "colorway": [
           "#636efa",
           "#EF553B",
           "#00cc96",
           "#ab63fa",
           "#FFA15A",
           "#19d3f3",
           "#FF6692",
           "#B6E880",
           "#FF97FF",
           "#FECB52"
          ],
          "font": {
           "color": "#2a3f5f"
          },
          "geo": {
           "bgcolor": "white",
           "lakecolor": "white",
           "landcolor": "#E5ECF6",
           "showlakes": true,
           "showland": true,
           "subunitcolor": "white"
          },
          "hoverlabel": {
           "align": "left"
          },
          "hovermode": "closest",
          "mapbox": {
           "style": "light"
          },
          "paper_bgcolor": "white",
          "plot_bgcolor": "#E5ECF6",
          "polar": {
           "angularaxis": {
            "gridcolor": "white",
            "linecolor": "white",
            "ticks": ""
           },
           "bgcolor": "#E5ECF6",
           "radialaxis": {
            "gridcolor": "white",
            "linecolor": "white",
            "ticks": ""
           }
          },
          "scene": {
           "xaxis": {
            "backgroundcolor": "#E5ECF6",
            "gridcolor": "white",
            "gridwidth": 2,
            "linecolor": "white",
            "showbackground": true,
            "ticks": "",
            "zerolinecolor": "white"
           },
           "yaxis": {
            "backgroundcolor": "#E5ECF6",
            "gridcolor": "white",
            "gridwidth": 2,
            "linecolor": "white",
            "showbackground": true,
            "ticks": "",
            "zerolinecolor": "white"
           },
           "zaxis": {
            "backgroundcolor": "#E5ECF6",
            "gridcolor": "white",
            "gridwidth": 2,
            "linecolor": "white",
            "showbackground": true,
            "ticks": "",
            "zerolinecolor": "white"
           }
          },
          "shapedefaults": {
           "line": {
            "color": "#2a3f5f"
           }
          },
          "ternary": {
           "aaxis": {
            "gridcolor": "white",
            "linecolor": "white",
            "ticks": ""
           },
           "baxis": {
            "gridcolor": "white",
            "linecolor": "white",
            "ticks": ""
           },
           "bgcolor": "#E5ECF6",
           "caxis": {
            "gridcolor": "white",
            "linecolor": "white",
            "ticks": ""
           }
          },
          "title": {
           "x": 0.05
          },
          "xaxis": {
           "automargin": true,
           "gridcolor": "white",
           "linecolor": "white",
           "ticks": "",
           "title": {
            "standoff": 15
           },
           "zerolinecolor": "white",
           "zerolinewidth": 2
          },
          "yaxis": {
           "automargin": true,
           "gridcolor": "white",
           "linecolor": "white",
           "ticks": "",
           "title": {
            "standoff": 15
           },
           "zerolinecolor": "white",
           "zerolinewidth": 2
          }
         }
        }
       }
      }
     },
     "metadata": {},
     "output_type": "display_data"
    }
   ],
   "source": [
    "figScatter = px.scatter_3d(x=x1valuse , y = x2values , z = calculateValue(inputValue , bestNode.root))\n",
    "figScatter.add_scatter3d(x=x1valuse , y = x2values , z = trueValues , mode = \"markers\")\n",
    "figScatter.show()"
   ]
  },
  {
   "cell_type": "code",
   "execution_count": null,
   "metadata": {},
   "outputs": [],
   "source": []
  }
 ],
 "metadata": {
  "kernelspec": {
   "display_name": "Python 3.9.12 ('insta')",
   "language": "python",
   "name": "python3"
  },
  "language_info": {
   "codemirror_mode": {
    "name": "ipython",
    "version": 3
   },
   "file_extension": ".py",
   "mimetype": "text/x-python",
   "name": "python",
   "nbconvert_exporter": "python",
   "pygments_lexer": "ipython3",
   "version": "3.9.12"
  },
  "orig_nbformat": 4,
  "vscode": {
   "interpreter": {
    "hash": "b0616622e670fd58f9292b36f2e3689d12ca973b5ecffe1ed42939b0efd1bc58"
   }
  }
 },
 "nbformat": 4,
 "nbformat_minor": 2
}
