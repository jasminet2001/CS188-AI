{
 "cells": [
  {
   "cell_type": "markdown",
   "metadata": {},
   "source": [
    "version 3 :\n",
    "add the sin and cos in operators . "
   ]
  },
  {
   "cell_type": "code",
   "execution_count": 8,
   "metadata": {},
   "outputs": [],
   "source": [
    "import random\n",
    "import plotly.express as px\n",
    "import pandas as pd\n",
    "import numpy as np\n",
    "from sklearn.metrics import mean_squared_error\n",
    "import math\n",
    "operators = [\"+\" , \"-\" , \"*\" , \"/\"  ] # can add pow to the set \"^\"\n",
    "singleOperators = [\"sin\" , \"cos\"] # in sin & cos , right node is always NULL\n",
    "x1 = 2\n",
    "x2 = 5\n",
    "listOfInputs = [\"x1\" , \"x2\"]\n",
    "CoefficientsRagne = 10\n",
    "allOperators = []\n",
    "allOperators.extend(operators)\n",
    "allOperators.extend(singleOperators)"
   ]
  },
  {
   "cell_type": "code",
   "execution_count": 4,
   "metadata": {},
   "outputs": [],
   "source": [
    "class node ():\n",
    "    def __init__(self , operator , rightnode = None , leftnode = None  , father = None):\n",
    "        self.father = father\n",
    "        self.leaf = False\n",
    "        self.rightnode = rightnode\n",
    "        self.leftnode = leftnode\n",
    "        if operator in operators or operator in singleOperators  :\n",
    "            self.operator = operator\n",
    "        elif (type (operator) is int) or operator in listOfInputs : # this is the way we know the leaf and nodes\n",
    "            self.leaf = True\n",
    "            self.operator = operator \n",
    "        else :\n",
    "            print(\"operator not assigned - wrong input\")\n",
    "        \n",
    "    def assignOperator (self ):\n",
    "        x = input()\n",
    "        while (x not in operators and x not in singleOperators ) and not x.isnumeric():\n",
    "            print(\"x is not true ! try again !\")\n",
    "            x = input()\n",
    "        self.operator = x\n",
    "        if x.isnumeric() : # clear the down nodes\n",
    "            self.leaf = True\n",
    "            self.leftnode = None\n",
    "            self.rightnode = None\n",
    "    def addNode (self , node):\n",
    "        if self.leaf == False :\n",
    "            if self.leftnode == None :\n",
    "                self.leftnode = node\n",
    "                node.father = self\n",
    "                return True\n",
    "            elif self.rightnode == None and self.operator not in singleOperators:\n",
    "                self.rightnode = node\n",
    "                node.father = self\n",
    "                return True\n",
    "            else:\n",
    "                if self.leftnode.addNode(node) :\n",
    "                    return True\n",
    "                if self.operator not in singleOperators:\n",
    "                    if self.rightnode.addNode(node) :\n",
    "                        return True\n",
    "            return False\n",
    "        return False"
   ]
  },
  {
   "cell_type": "code",
   "execution_count": 3,
   "metadata": {},
   "outputs": [
    {
     "name": "stdout",
     "output_type": "stream",
     "text": [
      "operator not assigned - wrong input\n"
     ]
    }
   ],
   "source": [
    "test = node(\"\")"
   ]
  },
  {
   "cell_type": "code",
   "execution_count": 4,
   "metadata": {},
   "outputs": [],
   "source": [
    "test.assignOperator()"
   ]
  },
  {
   "cell_type": "code",
   "execution_count": 5,
   "metadata": {},
   "outputs": [
    {
     "data": {
      "text/plain": [
       "<__main__.node at 0x21ac496b160>"
      ]
     },
     "execution_count": 5,
     "metadata": {},
     "output_type": "execute_result"
    }
   ],
   "source": [
    "test"
   ]
  },
  {
   "cell_type": "code",
   "execution_count": 6,
   "metadata": {},
   "outputs": [
    {
     "data": {
      "text/plain": [
       "'+'"
      ]
     },
     "execution_count": 6,
     "metadata": {},
     "output_type": "execute_result"
    }
   ],
   "source": [
    "test.operator"
   ]
  },
  {
   "cell_type": "code",
   "execution_count": 5,
   "metadata": {},
   "outputs": [],
   "source": [
    "class tree ():\n",
    "    def __init__(self , root):\n",
    "        self.numnerOfNodes = 1\n",
    "        self.LeafList = []\n",
    "        self.LeafList.append(root)\n",
    "        if type( root ) is node :\n",
    "            self.root = root\n",
    "        else:\n",
    "            print(\"try another time plz . \")\n",
    "    def calculateFather(self,node):\n",
    "        counter = 1 \n",
    "        temp = node.father\n",
    "        if temp != None :\n",
    "            while temp.father != None :\n",
    "                temp = temp.father\n",
    "                counter = counter + 1\n",
    "        return counter\n",
    "    def addNodeInSurf (self , node ):\n",
    "        MaxNumsOfFather = 1000\n",
    "        nodeTemp = None\n",
    "        for item in self.LeafList : \n",
    "            temp = self.calculateFather(item)\n",
    "            if temp < MaxNumsOfFather :\n",
    "                MaxNumsOfFather = temp\n",
    "                nodeTemp = item\n",
    "        if nodeTemp.leftnode == None :\n",
    "            nodeTemp.leftnode = node\n",
    "            node.father = nodeTemp\n",
    "            self.LeafList.append(node)\n",
    "            if nodeTemp.rightnode != None or nodeTemp.operator in singleOperators :\n",
    "                self.LeafList.remove(nodeTemp)\n",
    "        elif nodeTemp.rightnode == None and nodeTemp.operator not in singleOperators:\n",
    "            nodeTemp.rightnode = node\n",
    "            node.father = nodeTemp\n",
    "            self.LeafList.append(node)\n",
    "            if nodeTemp.leftnode != None : \n",
    "                self.LeafList.remove(nodeTemp)\n",
    "        self.numnerOfNodes = self.numnerOfNodes + 1\n",
    "    def addNodeIndepth (self , node):    \n",
    "        if self.root.addNode(node) :\n",
    "            self.LeafList.append(node)\n",
    "            if node.father.operator in singleOperators :\n",
    "                self.LeafList.remove(node.father)\n",
    "        self.numnerOfNodes = self.numnerOfNodes + 1\n",
    "    def isComplete(self):\n",
    "        for item in self.LeafList :\n",
    "            if item.leaf == False:\n",
    "                return False\n",
    "        return True\n",
    "    def PostorderTraversal(self, root):\n",
    "        res = []\n",
    "        if root:\n",
    "            res = self.PostorderTraversal(root.left)\n",
    "            res = res + self.PostorderTraversal(root.right)\n",
    "            res.append(root.data)\n",
    "        return res"
   ]
  },
  {
   "cell_type": "code",
   "execution_count": 10,
   "metadata": {},
   "outputs": [],
   "source": [
    "# test1 = node(\"-\")\n",
    "# test.addNode(test1)\n",
    "# test.addNode(node(2))"
   ]
  },
  {
   "cell_type": "code",
   "execution_count": 6,
   "metadata": {},
   "outputs": [],
   "source": [
    "def calculate (node , args):\n",
    "    if node.leaf == True:\n",
    "        if node.operator == \"x1\" :\n",
    "           return args[0]\n",
    "        if node.operator == \"x2\" :\n",
    "           return args[1]\n",
    "        return node.operator\n",
    "    if node.operator == \"+\" :\n",
    "        return calculate(node.leftnode , args) + calculate(node.rightnode , args)\n",
    "    elif node.operator == \"-\" :\n",
    "        return calculate(node.leftnode , args) - calculate(node.rightnode , args)\n",
    "    elif node.operator == \"/\" :\n",
    "        divded = calculate(node.rightnode , args)\n",
    "        if divded == 0 :\n",
    "            return float('inf')\n",
    "        else :\n",
    "            return calculate(node.leftnode , args) / divded\n",
    "    elif node.operator == \"*\" :\n",
    "        return calculate(node.leftnode , args) * calculate(node.rightnode , args)\n",
    "    elif node.operator == \"^\" :\n",
    "        return pow( calculate(node.leftnode , args) , calculate(node.rightnode , args) )\n",
    "    elif node.operator == \"sin\" :\n",
    "        return math.sin(calculate(node.leftnode , args))\n",
    "    elif node.operator == \"cos\" :\n",
    "        return math.cos(calculate(node.leftnode , args))"
   ]
  },
  {
   "cell_type": "code",
   "execution_count": 7,
   "metadata": {},
   "outputs": [],
   "source": [
    "def showtree(node) :\n",
    "    if node.leaf == True:\n",
    "        return  f\"{node.operator}\"\n",
    "    if node.operator == \"+\" :\n",
    "        return f\"({showtree(node.leftnode)}) + ({showtree(node.rightnode)})\"\n",
    "    elif node.operator == \"-\" :\n",
    "        return f\"({showtree(node.leftnode)}) - ({showtree(node.rightnode)})\"\n",
    "    elif node.operator == \"/\" :\n",
    "        return f\"({showtree(node.leftnode)}) / ({showtree(node.rightnode)})\"\n",
    "    elif node.operator == \"*\" :\n",
    "        return f\"({showtree(node.leftnode)}) * ({showtree(node.rightnode)})\"\n",
    "    elif node.operator == \"^\" :\n",
    "        return f\"({showtree(node.leftnode)}) ^ ({showtree(node.rightnode)})\"\n",
    "    elif node.operator == \"sin\" :\n",
    "        return f\"sin({showtree(node.leftnode)})\"\n",
    "    elif node.operator == \"cos\" :\n",
    "        return f\"cos({showtree(node.leftnode)})\""
   ]
  },
  {
   "cell_type": "code",
   "execution_count": 10,
   "metadata": {},
   "outputs": [],
   "source": [
    "def createRandomTree(max , Coefficients):\n",
    "    numberOfDepth = random.randint(1 , max)\n",
    "    # create the root\n",
    "    firstOperator = random.randint(0 , len(allOperators) - 1)\n",
    "    temptree = tree(node(allOperators[firstOperator]))\n",
    "    # create the tree structure \n",
    "    for _ in range (0 , (2 ^ numberOfDepth) - 1) :\n",
    "        firstOperator = random.randint(0 , len(allOperators) - 1)\n",
    "        randomnode = temptree.LeafList[random.randint(1 , len(temptree.LeafList)) - 1]\n",
    "        if temptree.calculateFather(randomnode) <= max :\n",
    "            if firstOperator % 2 == 0 :\n",
    "                if randomnode.rightnode == None and randomnode.operator not in singleOperators: \n",
    "                    randomnode.rightnode = node(allOperators[random.randint(0 , len(allOperators) - 1)] , father=randomnode)\n",
    "                    temptree.numnerOfNodes = temptree.numnerOfNodes + 1\n",
    "                    temptree.LeafList.append(randomnode.rightnode)\n",
    "                elif randomnode.leftnode != None :\n",
    "                    temptree.LeafList.remove(randomnode)\n",
    "                else :\n",
    "                    randomnode.leftnode = node(allOperators[random.randint(0 , len(allOperators) - 1)] , father=randomnode)\n",
    "                    temptree.numnerOfNodes = temptree.numnerOfNodes + 1\n",
    "                    temptree.LeafList.append(randomnode.leftnode)\n",
    "                    temptree.LeafList.remove(randomnode)\n",
    "            else:\n",
    "                if randomnode.leftnode == None : \n",
    "                    randomnode.leftnode = node(allOperators[random.randint(0 , len(allOperators) - 1)] , father=randomnode)\n",
    "                    temptree.numnerOfNodes = temptree.numnerOfNodes + 1\n",
    "                    temptree.LeafList.append(randomnode.leftnode)\n",
    "                elif randomnode.rightnode != None or randomnode.operator in singleOperators:\n",
    "                    temptree.LeafList.remove(randomnode)\n",
    "                else :\n",
    "                    randomnode.rightnode = node(allOperators[random.randint(0 , len(allOperators) - 1)] , father=randomnode)\n",
    "                    temptree.numnerOfNodes = temptree.numnerOfNodes + 1\n",
    "                    temptree.LeafList.remove(randomnode)\n",
    "                    temptree.LeafList.append(randomnode.rightnode)\n",
    "            \n",
    "    # fill the leafs\n",
    "    templist = temptree.LeafList.copy()\n",
    "    for lastnode in templist :\n",
    "        firstOperator = random.randint(0 , len(allOperators) - 1)\n",
    "        if lastnode.rightnode == None :\n",
    "            if firstOperator % 2 == 0 :\n",
    "                lastnode.rightnode = node( listOfInputs[random.randint(0 , len(listOfInputs) - 1)] , father=lastnode )\n",
    "                temptree.numnerOfNodes = temptree.numnerOfNodes + 1\n",
    "                temptree.LeafList.append(lastnode.rightnode)\n",
    "            else :\n",
    "                lastnode.rightnode = node( random.randint(-1 * Coefficients , Coefficients ) , father=lastnode )\n",
    "                temptree.numnerOfNodes = temptree.numnerOfNodes + 1\n",
    "                temptree.LeafList.append(lastnode.rightnode)\n",
    "            if lastnode.leftnode != None :\n",
    "                temptree.LeafList.remove(lastnode)\n",
    "                #templist.remove(lastnode)\n",
    "        if lastnode.leftnode == None :\n",
    "            if firstOperator % 2 == 1 :\n",
    "                lastnode.leftnode = node( listOfInputs[random.randint(0 , len(listOfInputs) - 1)] , father=lastnode )\n",
    "                temptree.numnerOfNodes = temptree.numnerOfNodes + 1\n",
    "                temptree.LeafList.append(lastnode.leftnode)\n",
    "            else :\n",
    "                lastnode.leftnode = node( random.randint (-1 * Coefficients , Coefficients ) , father=lastnode )\n",
    "                temptree.numnerOfNodes = temptree.numnerOfNodes + 1\n",
    "                temptree.LeafList.append(lastnode.leftnode)\n",
    "            if lastnode.rightnode != None :\n",
    "                temptree.LeafList.remove(lastnode)\n",
    "                #templist.remove(lastnode)\n",
    "    return temptree\n",
    "        \n",
    "        "
   ]
  },
  {
   "cell_type": "markdown",
   "metadata": {},
   "source": [
    "**test the add in surf**"
   ]
  },
  {
   "cell_type": "code",
   "execution_count": 114,
   "metadata": {},
   "outputs": [],
   "source": [
    "testtree2= tree(test)"
   ]
  },
  {
   "cell_type": "code",
   "execution_count": 115,
   "metadata": {},
   "outputs": [
    {
     "data": {
      "text/plain": [
       "[<__main__.node at 0x2080deda1c0>]"
      ]
     },
     "execution_count": 115,
     "metadata": {},
     "output_type": "execute_result"
    }
   ],
   "source": [
    "testtree2.LeafList"
   ]
  },
  {
   "cell_type": "code",
   "execution_count": 116,
   "metadata": {},
   "outputs": [],
   "source": [
    "testtree2.addNodeInSurf(node(\"+\"))"
   ]
  },
  {
   "cell_type": "code",
   "execution_count": 117,
   "metadata": {},
   "outputs": [],
   "source": [
    "testtree2.addNodeInSurf(node(\"+\"))"
   ]
  },
  {
   "cell_type": "code",
   "execution_count": 118,
   "metadata": {},
   "outputs": [],
   "source": [
    "testtree2.addNodeInSurf(node(\"-\"))"
   ]
  },
  {
   "cell_type": "code",
   "execution_count": 119,
   "metadata": {},
   "outputs": [],
   "source": [
    "testtree2.addNodeInSurf(node(\"-\"))"
   ]
  },
  {
   "cell_type": "markdown",
   "metadata": {},
   "source": [
    "**test add in depth**"
   ]
  },
  {
   "cell_type": "code",
   "execution_count": 120,
   "metadata": {},
   "outputs": [],
   "source": [
    "testtree2.addNodeIndepth(node(\"-\"))"
   ]
  },
  {
   "cell_type": "code",
   "execution_count": 121,
   "metadata": {},
   "outputs": [],
   "source": [
    "testtree2.addNodeIndepth(node(\"-\"))"
   ]
  },
  {
   "cell_type": "markdown",
   "metadata": {},
   "source": [
    "**test the calculate**"
   ]
  },
  {
   "cell_type": "code",
   "execution_count": 11,
   "metadata": {},
   "outputs": [],
   "source": [
    "testtree = tree(node(\"sin\"))"
   ]
  },
  {
   "cell_type": "code",
   "execution_count": 12,
   "metadata": {},
   "outputs": [
    {
     "name": "stdout",
     "output_type": "stream",
     "text": [
      "-0.9589242746631385\n"
     ]
    }
   ],
   "source": [
    "#simple test with \n",
    "testtree.addNodeInSurf(node(\"/\"))\n",
    "testtree.addNodeInSurf(node(\"*\"))\n",
    "testtree.addNodeInSurf(node(x1))\n",
    "testtree.addNodeInSurf(node(x2))\n",
    "testtree.addNodeInSurf(node(x1))\n",
    "testtree.addNodeInSurf(node(x2))\n",
    "print( calculate(testtree.root , (2 , 5)) )"
   ]
  },
  {
   "cell_type": "markdown",
   "metadata": {},
   "source": [
    "**test the showtree**"
   ]
  },
  {
   "cell_type": "code",
   "execution_count": 13,
   "metadata": {},
   "outputs": [
    {
     "name": "stdout",
     "output_type": "stream",
     "text": [
      "sin(((5) * (2)) / (2))\n"
     ]
    }
   ],
   "source": [
    "print(showtree(testtree.root))"
   ]
  },
  {
   "cell_type": "markdown",
   "metadata": {},
   "source": [
    "**test the random creation**"
   ]
  },
  {
   "cell_type": "code",
   "execution_count": 20,
   "metadata": {},
   "outputs": [],
   "source": [
    "testRandom1 =  createRandomTree(10 , 5)"
   ]
  },
  {
   "cell_type": "code",
   "execution_count": 21,
   "metadata": {},
   "outputs": [
    {
     "name": "stdout",
     "output_type": "stream",
     "text": [
      "((-4) - (((2) / (x1)) / ((cos(x1)) * (x1)))) * (sin(cos(cos((3) + (x1)))))\n"
     ]
    }
   ],
   "source": [
    "print(showtree(testRandom1.root))"
   ]
  },
  {
   "cell_type": "code",
   "execution_count": 22,
   "metadata": {},
   "outputs": [
    {
     "name": "stdout",
     "output_type": "stream",
     "text": [
      "-2.0481313613372\n"
     ]
    }
   ],
   "source": [
    "print(calculate( testRandom1.root , (3 , 6)))"
   ]
  },
  {
   "cell_type": "code",
   "execution_count": 23,
   "metadata": {},
   "outputs": [
    {
     "data": {
      "text/plain": [
       "19"
      ]
     },
     "execution_count": 23,
     "metadata": {},
     "output_type": "execute_result"
    }
   ],
   "source": [
    "testRandom1.numnerOfNodes"
   ]
  },
  {
   "cell_type": "markdown",
   "metadata": {},
   "source": [
    "**the main function**"
   ]
  },
  {
   "cell_type": "code",
   "execution_count": 24,
   "metadata": {},
   "outputs": [],
   "source": [
    "def calculateValue(inputValues , root):\n",
    "    predicted = []\n",
    "    for tupleIn in inputValues:\n",
    "        predicted.append( calculate(root , tupleIn))\n",
    "    return predicted"
   ]
  },
  {
   "cell_type": "code",
   "execution_count": 25,
   "metadata": {},
   "outputs": [],
   "source": [
    "def RandomSelection(mses , population):\n",
    "    total = []\n",
    "    cumsum = 0 \n",
    "    for i in mses :\n",
    "        cumsum = cumsum + i\n",
    "        total.append(cumsum)\n",
    "    rnd = random.random() * cumsum\n",
    "    for i, uptotal in enumerate(total):\n",
    "        if rnd < uptotal:\n",
    "            return population[i]\n",
    "    return population[-1] # if something goes wrong !"
   ]
  },
  {
   "cell_type": "code",
   "execution_count": 26,
   "metadata": {},
   "outputs": [],
   "source": [
    "import copy\n",
    "def iterate ( node , numberOfrotate , visited):\n",
    "    # temp = copy.deepcopy(node)\n",
    "    # print(numberOfrotate)\n",
    "    visited = []\n",
    "    counter = 0 \n",
    "    while counter != numberOfrotate:\n",
    "        if node.rightnode != None and node.rightnode not in visited:\n",
    "            counter = counter + 1\n",
    "            visited.append(node.rightnode)\n",
    "            node = node.rightnode\n",
    "        elif node.leftnode != None and node.leftnode not in visited :\n",
    "            counter = counter + 1\n",
    "            visited.append(node.leftnode)\n",
    "            node = node.leftnode\n",
    "        else :\n",
    "            if node.father != None :\n",
    "                node = node.father\n",
    "            else :\n",
    "                node = node.leftnode\n",
    "                counter = counter + 1\n",
    "    return node   "
   ]
  },
  {
   "cell_type": "code",
   "execution_count": 24,
   "metadata": {},
   "outputs": [
    {
     "name": "stdout",
     "output_type": "stream",
     "text": [
      "((4) + (((x1) - (7)) + ((x2) - (5)))) ^ (4)\n"
     ]
    }
   ],
   "source": [
    "testtree = tree(node(\"-\"))\n",
    "testtree.root.leftnode = node(\"+\" , father=testtree.root)\n",
    "testtree.root.rightnode = node(4 , father=testtree.root)\n",
    "testtree.root.leftnode.leftnode = node(4 , father=testtree.root.leftnode)\n",
    "testtree.root.leftnode.rightnode = node(\"+\" , father = testtree.root.leftnode)\n",
    "testtree.root.leftnode.rightnode.leftnode = node(\"-\" , father=testtree.root.leftnode.rightnode)\n",
    "testtree.root.leftnode.rightnode.leftnode.leftnode = node(\"x1\" , father=testtree.root.leftnode.rightnode.leftnode)\n",
    "testtree.root.leftnode.rightnode.leftnode.rightnode = node(7, father=testtree.root.leftnode.rightnode.leftnode)\n",
    "testtree.root.leftnode.rightnode.rightnode = node(\"-\" , father=testtree.root.leftnode.rightnode)\n",
    "testtree.root.leftnode.rightnode.rightnode.leftnode = node(\"x2\" , father=testtree.root.leftnode.rightnode.rightnode)\n",
    "testtree.root.leftnode.rightnode.rightnode.rightnode = node(5 , father=testtree.root.leftnode.rightnode.rightnode)\n",
    "testtree.numnerOfNodes = 11\n",
    "print(showtree(testtree.root))"
   ]
  },
  {
   "cell_type": "code",
   "execution_count": 29,
   "metadata": {},
   "outputs": [],
   "source": [
    "Mutation(testtree)"
   ]
  },
  {
   "cell_type": "code",
   "execution_count": 30,
   "metadata": {},
   "outputs": [
    {
     "name": "stdout",
     "output_type": "stream",
     "text": [
      "((x1) + (((8) - (7)) ^ ((x2) - (5)))) ^ (4)\n"
     ]
    }
   ],
   "source": [
    "print(showtree(testtree.root))"
   ]
  },
  {
   "cell_type": "markdown",
   "metadata": {},
   "source": [
    "**test the iterate**\n"
   ]
  },
  {
   "cell_type": "code",
   "execution_count": 31,
   "metadata": {},
   "outputs": [
    {
     "name": "stdout",
     "output_type": "stream",
     "text": [
      "(2) + (5)\n",
      "5\n"
     ]
    }
   ],
   "source": [
    "testtree2 = tree(node(\"+\"))\n",
    "testtree2.addNodeInSurf(node(x1))\n",
    "testtree2.addNodeInSurf(node(x2))\n",
    "print(showtree(testtree2.root))\n",
    "print(iterate(testtree2.root , 1 , [] ).operator)"
   ]
  },
  {
   "cell_type": "code",
   "execution_count": 27,
   "metadata": {},
   "outputs": [],
   "source": [
    "import copy\n",
    "\n",
    "def CrossOver (x , y) :\n",
    "    maxOfNodes = 0 \n",
    "    if x.numnerOfNodes > y.numnerOfNodes :\n",
    "        maxOfNodes = y.numnerOfNodes\n",
    "    else :\n",
    "        maxOfNodes = x.numnerOfNodes\n",
    "    rnd = random.randint( 1 , maxOfNodes - 1 )\n",
    "    # print(rnd)\n",
    "    \n",
    "    temptree = copy.deepcopy(x)\n",
    "    temptree1 = copy.deepcopy(y)\n",
    "    \n",
    "    firstNode = iterate(temptree.root , rnd , [])\n",
    "    secondNode = iterate(temptree1.root , rnd , [])\n",
    "    firstFather =  firstNode.father \n",
    "    secondFather =  secondNode.father \n",
    "    \n",
    "    temp = copy.deepcopy(firstNode)\n",
    "    # print(temp.operator)\n",
    "    temp1 = copy.deepcopy(secondNode)\n",
    "    # print(temp1.operator)\n",
    "    \n",
    "    \n",
    "    if firstFather.leftnode == firstNode :\n",
    "        firstFather.leftnode = temp1\n",
    "    else :\n",
    "        firstFather.rightnode = temp1\n",
    "    \n",
    "    if secondFather.leftnode == secondNode :\n",
    "        secondFather.leftnode = temp\n",
    "    else :\n",
    "        secondFather.rightnode = temp\n",
    "    \n",
    "    temp1.father = firstFather\n",
    "    temp.father = secondFather\n",
    "    \n",
    "    del firstNode\n",
    "    del secondNode\n",
    "    \n",
    "    return temptree , temptree1"
   ]
  },
  {
   "cell_type": "markdown",
   "metadata": {},
   "source": [
    "**test the CrossOver**"
   ]
  },
  {
   "cell_type": "code",
   "execution_count": 28,
   "metadata": {},
   "outputs": [
    {
     "name": "stdout",
     "output_type": "stream",
     "text": [
      "(5) - (2)\n",
      "(2) + (5)\n",
      "(5) - (5)\n",
      "(2) + (2)\n"
     ]
    }
   ],
   "source": [
    "testtree = tree(node(\"-\")) # check the cross over\n",
    "testtree.addNodeInSurf(node(x2))\n",
    "testtree.addNodeInSurf(node(x1))\n",
    "print(showtree(testtree.root))\n",
    "testtree2 = tree(node(\"+\"))\n",
    "testtree2.addNodeInSurf(node(x1))\n",
    "testtree2.addNodeInSurf(node(x2))\n",
    "print(showtree(testtree2.root))\n",
    "temptest , temptest1 = CrossOver(testtree , testtree2)\n",
    "print(showtree(temptest.root))\n",
    "print(showtree(temptest1.root))\n"
   ]
  },
  {
   "cell_type": "code",
   "execution_count": 29,
   "metadata": {},
   "outputs": [],
   "source": [
    "def Mutation (tree) :\n",
    "    rnd = random.randint( 1 , tree.numnerOfNodes - 1 )\n",
    "    #print(showtree(tree.root))\n",
    "    changeNode = iterate(  tree.root , rnd , [] )\n",
    "    if changeNode.operator in allOperators :\n",
    "        changeNode.operator = allOperators[random.randint(0 , len(allOperators) - 1)]        \n",
    "        if changeNode.operator in singleOperators :\n",
    "            changeNode.rightnode = None\n",
    "        elif changeNode.rightnode == None :\n",
    "            changeNode.rightnode = node( listOfInputs[random.randint(0 , len(listOfInputs) - 1)] , father=changeNode )\n",
    "            \n",
    "    else:\n",
    "        if rnd % 2 == 0 :\n",
    "            changeNode.operator = listOfInputs[random.randint(0 , len(listOfInputs) - 1)]\n",
    "        else :\n",
    "            changeNode.operator = random.randint (-1 * CoefficientsRagne , CoefficientsRagne )"
   ]
  },
  {
   "cell_type": "code",
   "execution_count": 30,
   "metadata": {},
   "outputs": [],
   "source": [
    "AllData = []"
   ]
  },
  {
   "cell_type": "code",
   "execution_count": 48,
   "metadata": {},
   "outputs": [],
   "source": [
    "def general_algorithm(NumOfFirstPop , maxOfDepth , numsOfGenereations , inputValue , trueValue , AllMses):\n",
    "    # first create a population \n",
    "    population = []\n",
    "    for _ in range(0 , NumOfFirstPop):\n",
    "        population.append(createRandomTree(maxOfDepth , CoefficientsRagne))\n",
    "    # main loop\n",
    "    AllMses = []\n",
    "    counter = 0 \n",
    "    while counter != numsOfGenereations :\n",
    "        # fitness values\n",
    "        mses = []\n",
    "        for i in range(0 , NumOfFirstPop):\n",
    "            mses.append(mean_squared_error(trueValue , calculateValue(inputValue , population[i].root ) ))\n",
    "        # change the mse up to it is negetive fitness\n",
    "        print(mses)\n",
    "        AllMses.append(mses)\n",
    "        MaxOfmses = max( mses )\n",
    "        for i in range(0 , NumOfFirstPop):\n",
    "            mses[i] = mses[i] * -1 + MaxOfmses\n",
    "        # select randomly with their fitness\n",
    "        newPopulation = []\n",
    "        for _ in range(len(population)):\n",
    "            # random select each tree for crossover\n",
    "            firstNode = RandomSelection(mses , population)    \n",
    "            secondNode = RandomSelection(mses , population)\n",
    "            firstNewTree , secondNewTree = CrossOver(firstNode , secondNode)\n",
    "            # mutations !\n",
    "            rnd = random.randint(1 , 100)\n",
    "            if rnd % 9 == 0 : \n",
    "                Mutation(firstNewTree) \n",
    "            rnd = random.randint(1 , 10)\n",
    "            if rnd % 9 == 1 : \n",
    "                Mutation(secondNewTree) \n",
    "            newPopulation.append(firstNewTree)\n",
    "            newPopulation.append(secondNewTree)\n",
    "        population = newPopulation\n",
    "        counter = counter + 1\n",
    "    # return the best\n",
    "    indexOfBest = 0 \n",
    "    MaxOfmses = 0  \n",
    "    for index , mse in enumerate (mses) :\n",
    "        if mse > MaxOfmses : \n",
    "            indexOfBest = index \n",
    "            MaxOfmses = mse\n",
    "    print(-1 * (max(mses) - MaxOfmses))\n",
    "    return  AllMses"
   ]
  },
  {
   "cell_type": "markdown",
   "metadata": {},
   "source": [
    "**create the test for the Main Algorithm**"
   ]
  },
  {
   "cell_type": "code",
   "execution_count": 49,
   "metadata": {},
   "outputs": [
    {
     "name": "stdout",
     "output_type": "stream",
     "text": [
      "((-6) / (x1)) * ((7) + (x2))\n"
     ]
    }
   ],
   "source": [
    "testMain1 = createRandomTree(9 , CoefficientsRagne )\n",
    "inputValue = [(10 , 20) , (20 , 30 ) , ( 40 , 50 ) , (60 , 70 ) , (90 , 80)]\n",
    "trueValues = []\n",
    "trueValues = calculateValue(inputValue , testMain1.root)\n",
    "print(showtree(testMain1.root))"
   ]
  },
  {
   "cell_type": "code",
   "execution_count": 50,
   "metadata": {},
   "outputs": [
    {
     "data": {
      "text/plain": [
       "[-16.2, -11.1, -8.549999999999999, -7.7, -5.8]"
      ]
     },
     "execution_count": 50,
     "metadata": {},
     "output_type": "execute_result"
    }
   ],
   "source": [
    "trueValues"
   ]
  },
  {
   "cell_type": "code",
   "execution_count": 51,
   "metadata": {},
   "outputs": [
    {
     "name": "stdout",
     "output_type": "stream",
     "text": [
      "[109.35452415893937, 470406599.4240556, 1882.7642719808932, 142.24783538896736, 40.06993542788171, 1849.7765, 127.69984604936667, 13128.525936617389, 100.94195767186604, 8698686.305924932]\n",
      "[264404.8712409623, 126.81168556918021, 109.35971098718974, 44.03563399238017, 959.5216851851852, 13081.03822434381, 110.89160910472476, 391.9887186568732, 1805.7581568647613, 126.544897178315]\n",
      "[110.89160910472476, 13093.704992623345, 127.37433762179046, 189.25593552770033, 108.318793595679, 391.9887186568732, 361.3639024859638, 12775.121768835728, 13081.03822434381, 13081.03822434381]\n",
      "[108.318793595679, 108.318793595679, 342.1059585613649, 128.33450331312343, 132.9362934770999, 106.21982578829405, 189.25593552770033, 189.25593552770033, 110.89160910472476, 110.89160910472476]\n",
      "[128.34337811823627, 108.73048919753084, 126.99934471270754, 111.34791881033291, 127.95883231332434, 82.87703947913323, 106.44039259075473, 258.16772980084335, 192.85556236338567, 110.56001131421968]\n",
      "[82.87703947913323, 82.87703947913323, 112.11192044750742, 110.56001131421968, 121.29399409956349, 60.48556027585842, 263.29992763705155, 106.21982578829405, 110.56001131421968, 121.29399409956349]\n",
      "[110.64298982351556, 126.09016048896994, 91.68554344201316, 87.9617532395037, 110.56001131421968, 110.56001131421968, 112.11192044750742, 110.56001131421968, 106.21982578829405, 381.21709743035217]\n",
      "[108.83413754285286, 13334.996775850019, 110.56001131421968, 110.56001131421968, 110.56001131421968, 110.56001131421968, 106.21982578829405, 94.47726904693751, 91.68554344201316, 91.68554344201316]\n",
      "[110.33607006085421, 110.56001131421968, 110.49992378614249, 119.85164197691344, 110.56001131421968, 118.96740924963596, 110.42388286508678, 110.39633462704371, 91.68554344201316, 108.83413754285286]\n",
      "[91.77413326043238, 111.34007531310098, 110.56001131421968, 91.68554344201316, 108.83413754285286, 110.42388286508678, 110.42388286508678, 108.83413754285286, 108.83413754285286, 91.68554344201316]\n",
      "-0.0\n"
     ]
    }
   ],
   "source": [
    "AllData = general_algorithm(10 , 10 , 10 , inputValue , trueValues , AllData) "
   ]
  },
  {
   "cell_type": "code",
   "execution_count": 43,
   "metadata": {},
   "outputs": [
    {
     "data": {
      "text/plain": [
       "(10, 10)"
      ]
     },
     "execution_count": 43,
     "metadata": {},
     "output_type": "execute_result"
    }
   ],
   "source": [
    "np.shape(AllData)"
   ]
  },
  {
   "cell_type": "code",
   "execution_count": 44,
   "metadata": {},
   "outputs": [],
   "source": [
    "df = pd.DataFrame(AllData)"
   ]
  },
  {
   "cell_type": "code",
   "execution_count": 45,
   "metadata": {},
   "outputs": [
    {
     "data": {
      "text/html": [
       "<div>\n",
       "<style scoped>\n",
       "    .dataframe tbody tr th:only-of-type {\n",
       "        vertical-align: middle;\n",
       "    }\n",
       "\n",
       "    .dataframe tbody tr th {\n",
       "        vertical-align: top;\n",
       "    }\n",
       "\n",
       "    .dataframe thead th {\n",
       "        text-align: right;\n",
       "    }\n",
       "</style>\n",
       "<table border=\"1\" class=\"dataframe\">\n",
       "  <thead>\n",
       "    <tr style=\"text-align: right;\">\n",
       "      <th></th>\n",
       "      <th>0</th>\n",
       "      <th>1</th>\n",
       "      <th>2</th>\n",
       "      <th>3</th>\n",
       "      <th>4</th>\n",
       "      <th>5</th>\n",
       "      <th>6</th>\n",
       "      <th>7</th>\n",
       "      <th>8</th>\n",
       "      <th>9</th>\n",
       "    </tr>\n",
       "  </thead>\n",
       "  <tbody>\n",
       "    <tr>\n",
       "      <th>0</th>\n",
       "      <td>3.197774e+05</td>\n",
       "      <td>3.196673e+05</td>\n",
       "      <td>0.000000e+00</td>\n",
       "      <td>3.195210e+05</td>\n",
       "      <td>3.190461e+05</td>\n",
       "      <td>2.053391e+05</td>\n",
       "      <td>3.197108e+05</td>\n",
       "      <td>3.193683e+05</td>\n",
       "      <td>3.197767e+05</td>\n",
       "      <td>3.225784e+05</td>\n",
       "    </tr>\n",
       "    <tr>\n",
       "      <th>1</th>\n",
       "      <td>9.505959e+06</td>\n",
       "      <td>9.506233e+06</td>\n",
       "      <td>9.506004e+06</td>\n",
       "      <td>0.000000e+00</td>\n",
       "      <td>9.506127e+06</td>\n",
       "      <td>9.506082e+06</td>\n",
       "      <td>9.509035e+06</td>\n",
       "      <td>9.505950e+06</td>\n",
       "      <td>9.504082e+06</td>\n",
       "      <td>9.500896e+06</td>\n",
       "    </tr>\n",
       "    <tr>\n",
       "      <th>2</th>\n",
       "      <td>5.856415e+06</td>\n",
       "      <td>5.856330e+06</td>\n",
       "      <td>5.855970e+06</td>\n",
       "      <td>5.856591e+06</td>\n",
       "      <td>5.854547e+06</td>\n",
       "      <td>5.859500e+06</td>\n",
       "      <td>5.859800e+06</td>\n",
       "      <td>5.856592e+06</td>\n",
       "      <td>0.000000e+00</td>\n",
       "      <td>5.856517e+06</td>\n",
       "    </tr>\n",
       "    <tr>\n",
       "      <th>3</th>\n",
       "      <td>1.905540e+06</td>\n",
       "      <td>1.905540e+06</td>\n",
       "      <td>0.000000e+00</td>\n",
       "      <td>1.905046e+06</td>\n",
       "      <td>1.902328e+06</td>\n",
       "      <td>1.900367e+06</td>\n",
       "      <td>1.891895e+06</td>\n",
       "      <td>1.902328e+06</td>\n",
       "      <td>1.902339e+06</td>\n",
       "      <td>1.905678e+06</td>\n",
       "    </tr>\n",
       "    <tr>\n",
       "      <th>4</th>\n",
       "      <td>5.295708e+03</td>\n",
       "      <td>8.562507e+02</td>\n",
       "      <td>5.315668e+03</td>\n",
       "      <td>0.000000e+00</td>\n",
       "      <td>5.417615e+03</td>\n",
       "      <td>5.272331e+03</td>\n",
       "      <td>5.272331e+03</td>\n",
       "      <td>4.160803e+03</td>\n",
       "      <td>5.394151e+03</td>\n",
       "      <td>2.060538e+03</td>\n",
       "    </tr>\n",
       "    <tr>\n",
       "      <th>5</th>\n",
       "      <td>1.564912e+03</td>\n",
       "      <td>3.293303e+03</td>\n",
       "      <td>3.350190e+03</td>\n",
       "      <td>2.717868e+03</td>\n",
       "      <td>2.987922e+03</td>\n",
       "      <td>3.350190e+03</td>\n",
       "      <td>3.235170e+03</td>\n",
       "      <td>0.000000e+00</td>\n",
       "      <td>3.333613e+03</td>\n",
       "      <td>3.333613e+03</td>\n",
       "    </tr>\n",
       "    <tr>\n",
       "      <th>6</th>\n",
       "      <td>1.880484e+05</td>\n",
       "      <td>1.869369e+05</td>\n",
       "      <td>1.881702e+05</td>\n",
       "      <td>0.000000e+00</td>\n",
       "      <td>1.880718e+05</td>\n",
       "      <td>1.881868e+05</td>\n",
       "      <td>1.860651e+05</td>\n",
       "      <td>1.872314e+05</td>\n",
       "      <td>1.880230e+05</td>\n",
       "      <td>1.881937e+05</td>\n",
       "    </tr>\n",
       "    <tr>\n",
       "      <th>7</th>\n",
       "      <td>1.489339e+03</td>\n",
       "      <td>2.006641e+03</td>\n",
       "      <td>8.717358e+02</td>\n",
       "      <td>8.717358e+02</td>\n",
       "      <td>1.957886e+03</td>\n",
       "      <td>2.121661e+03</td>\n",
       "      <td>2.128548e+03</td>\n",
       "      <td>2.128548e+03</td>\n",
       "      <td>2.105083e+03</td>\n",
       "      <td>0.000000e+00</td>\n",
       "    </tr>\n",
       "    <tr>\n",
       "      <th>8</th>\n",
       "      <td>5.754347e+02</td>\n",
       "      <td>6.323220e+02</td>\n",
       "      <td>0.000000e+00</td>\n",
       "      <td>0.000000e+00</td>\n",
       "      <td>5.173024e+02</td>\n",
       "      <td>4.685474e+02</td>\n",
       "      <td>6.323220e+02</td>\n",
       "      <td>5.754347e+02</td>\n",
       "      <td>6.157446e+02</td>\n",
       "      <td>6.323220e+02</td>\n",
       "    </tr>\n",
       "    <tr>\n",
       "      <th>9</th>\n",
       "      <td>1.751453e+02</td>\n",
       "      <td>0.000000e+00</td>\n",
       "      <td>2.235424e+02</td>\n",
       "      <td>5.288056e+01</td>\n",
       "      <td>2.166551e+02</td>\n",
       "      <td>1.016355e+02</td>\n",
       "      <td>2.000778e+02</td>\n",
       "      <td>2.204623e+02</td>\n",
       "      <td>5.288056e+01</td>\n",
       "      <td>1.597678e+02</td>\n",
       "    </tr>\n",
       "  </tbody>\n",
       "</table>\n",
       "</div>"
      ],
      "text/plain": [
       "              0             1             2             3             4  \\\n",
       "0  3.197774e+05  3.196673e+05  0.000000e+00  3.195210e+05  3.190461e+05   \n",
       "1  9.505959e+06  9.506233e+06  9.506004e+06  0.000000e+00  9.506127e+06   \n",
       "2  5.856415e+06  5.856330e+06  5.855970e+06  5.856591e+06  5.854547e+06   \n",
       "3  1.905540e+06  1.905540e+06  0.000000e+00  1.905046e+06  1.902328e+06   \n",
       "4  5.295708e+03  8.562507e+02  5.315668e+03  0.000000e+00  5.417615e+03   \n",
       "5  1.564912e+03  3.293303e+03  3.350190e+03  2.717868e+03  2.987922e+03   \n",
       "6  1.880484e+05  1.869369e+05  1.881702e+05  0.000000e+00  1.880718e+05   \n",
       "7  1.489339e+03  2.006641e+03  8.717358e+02  8.717358e+02  1.957886e+03   \n",
       "8  5.754347e+02  6.323220e+02  0.000000e+00  0.000000e+00  5.173024e+02   \n",
       "9  1.751453e+02  0.000000e+00  2.235424e+02  5.288056e+01  2.166551e+02   \n",
       "\n",
       "              5             6             7             8             9  \n",
       "0  2.053391e+05  3.197108e+05  3.193683e+05  3.197767e+05  3.225784e+05  \n",
       "1  9.506082e+06  9.509035e+06  9.505950e+06  9.504082e+06  9.500896e+06  \n",
       "2  5.859500e+06  5.859800e+06  5.856592e+06  0.000000e+00  5.856517e+06  \n",
       "3  1.900367e+06  1.891895e+06  1.902328e+06  1.902339e+06  1.905678e+06  \n",
       "4  5.272331e+03  5.272331e+03  4.160803e+03  5.394151e+03  2.060538e+03  \n",
       "5  3.350190e+03  3.235170e+03  0.000000e+00  3.333613e+03  3.333613e+03  \n",
       "6  1.881868e+05  1.860651e+05  1.872314e+05  1.880230e+05  1.881937e+05  \n",
       "7  2.121661e+03  2.128548e+03  2.128548e+03  2.105083e+03  0.000000e+00  \n",
       "8  4.685474e+02  6.323220e+02  5.754347e+02  6.157446e+02  6.323220e+02  \n",
       "9  1.016355e+02  2.000778e+02  2.204623e+02  5.288056e+01  1.597678e+02  "
      ]
     },
     "execution_count": 45,
     "metadata": {},
     "output_type": "execute_result"
    }
   ],
   "source": [
    "df"
   ]
  },
  {
   "cell_type": "code",
   "execution_count": 76,
   "metadata": {},
   "outputs": [
    {
     "data": {
      "application/vnd.plotly.v1+json": {
       "config": {
        "plotlyServerURL": "https://plot.ly"
       },
       "data": [
        {
         "hovertemplate": "variable=0<br>index=%{x}<br>value=%{y}<extra></extra>",
         "legendgroup": "0",
         "marker": {
          "color": "#636efa",
          "symbol": "circle"
         },
         "mode": "markers",
         "name": "0",
         "orientation": "v",
         "showlegend": true,
         "type": "scatter",
         "x": [
          0,
          1,
          2,
          3,
          4,
          5,
          6,
          7,
          8,
          9
         ],
         "xaxis": "x",
         "y": [
          83583,
          16556,
          26169,
          4376,
          49,
          4384,
          560,
          4376,
          0,
          4928
         ],
         "yaxis": "y"
        },
        {
         "hovertemplate": "variable=1<br>index=%{x}<br>value=%{y}<extra></extra>",
         "legendgroup": "1",
         "marker": {
          "color": "#EF553B",
          "symbol": "circle"
         },
         "mode": "markers",
         "name": "1",
         "orientation": "v",
         "showlegend": true,
         "type": "scatter",
         "x": [
          0,
          1,
          2,
          3,
          4,
          5,
          6,
          7,
          8,
          9
         ],
         "xaxis": "x",
         "y": [
          104404,
          4543,
          36680,
          3112,
          824,
          4384,
          989,
          4376,
          0,
          0
         ],
         "yaxis": "y"
        },
        {
         "hovertemplate": "variable=2<br>index=%{x}<br>value=%{y}<extra></extra>",
         "legendgroup": "2",
         "marker": {
          "color": "#00cc96",
          "symbol": "circle"
         },
         "mode": "markers",
         "name": "2",
         "orientation": "v",
         "showlegend": true,
         "type": "scatter",
         "x": [
          0,
          1,
          2,
          3,
          4,
          5,
          6,
          7,
          8,
          9
         ],
         "xaxis": "x",
         "y": [
          96300,
          18439,
          35832,
          0,
          544,
          4813,
          0,
          4376,
          88,
          4433
         ],
         "yaxis": "y"
        },
        {
         "hovertemplate": "variable=3<br>index=%{x}<br>value=%{y}<extra></extra>",
         "legendgroup": "3",
         "marker": {
          "color": "#ab63fa",
          "symbol": "circle"
         },
         "mode": "markers",
         "name": "3",
         "orientation": "v",
         "showlegend": true,
         "type": "scatter",
         "x": [
          0,
          1,
          2,
          3,
          4,
          5,
          6,
          7,
          8,
          9
         ],
         "xaxis": "x",
         "y": [
          100967,
          21584,
          37141,
          3552,
          192,
          4016,
          0,
          3920,
          0,
          4928
         ],
         "yaxis": "y"
        },
        {
         "hovertemplate": "variable=4<br>index=%{x}<br>value=%{y}<extra></extra>",
         "legendgroup": "4",
         "marker": {
          "color": "#FFA15A",
          "symbol": "circle"
         },
         "mode": "markers",
         "name": "4",
         "orientation": "v",
         "showlegend": true,
         "type": "scatter",
         "x": [
          0,
          1,
          2,
          3,
          4,
          5,
          6,
          7,
          8,
          9
         ],
         "xaxis": "x",
         "y": [
          69423,
          20044,
          32664,
          3112,
          824,
          4280,
          192,
          4376,
          0,
          4928
         ],
         "yaxis": "y"
        },
        {
         "hovertemplate": "variable=5<br>index=%{x}<br>value=%{y}<extra></extra>",
         "legendgroup": "5",
         "marker": {
          "color": "#19d3f3",
          "symbol": "circle"
         },
         "mode": "markers",
         "name": "5",
         "orientation": "v",
         "showlegend": true,
         "type": "scatter",
         "x": [
          0,
          1,
          2,
          3,
          4,
          5,
          6,
          7,
          8,
          9
         ],
         "xaxis": "x",
         "y": [
          105743,
          21639,
          32664,
          4376,
          0,
          4840,
          1016,
          4376,
          0,
          4928
         ],
         "yaxis": "y"
        },
        {
         "hovertemplate": "variable=6<br>index=%{x}<br>value=%{y}<extra></extra>",
         "legendgroup": "6",
         "marker": {
          "color": "#FF6692",
          "symbol": "circle"
         },
         "mode": "markers",
         "name": "6",
         "orientation": "v",
         "showlegend": true,
         "type": "scatter",
         "x": [
          0,
          1,
          2,
          3,
          4,
          5,
          6,
          7,
          8,
          9
         ],
         "xaxis": "x",
         "y": [
          105000,
          0,
          0,
          2992,
          1280,
          3560,
          989,
          4376,
          0,
          4928
         ],
         "yaxis": "y"
        },
        {
         "hovertemplate": "variable=7<br>index=%{x}<br>value=%{y}<extra></extra>",
         "legendgroup": "7",
         "marker": {
          "color": "#B6E880",
          "symbol": "circle"
         },
         "mode": "markers",
         "name": "7",
         "orientation": "v",
         "showlegend": true,
         "type": "scatter",
         "x": [
          0,
          1,
          2,
          3,
          4,
          5,
          6,
          7,
          8,
          9
         ],
         "xaxis": "x",
         "y": [
          106080,
          20479,
          37088,
          4445,
          1280,
          0,
          1016,
          0,
          0,
          4685
         ],
         "yaxis": "y"
        },
        {
         "hovertemplate": "variable=8<br>index=%{x}<br>value=%{y}<extra></extra>",
         "legendgroup": "8",
         "marker": {
          "color": "#FF97FF",
          "symbol": "circle"
         },
         "mode": "markers",
         "name": "8",
         "orientation": "v",
         "showlegend": true,
         "type": "scatter",
         "x": [
          0,
          1,
          2,
          3,
          4,
          5,
          6,
          7,
          8,
          9
         ],
         "xaxis": "x",
         "y": [
          107052,
          4520,
          36885,
          2040,
          824,
          4840,
          1016,
          4464,
          0,
          4928
         ],
         "yaxis": "y"
        },
        {
         "hovertemplate": "variable=9<br>index=%{x}<br>value=%{y}<extra></extra>",
         "legendgroup": "9",
         "marker": {
          "color": "#FECB52",
          "symbol": "circle"
         },
         "mode": "markers",
         "name": "9",
         "orientation": "v",
         "showlegend": true,
         "type": "scatter",
         "x": [
          0,
          1,
          2,
          3,
          4,
          5,
          6,
          7,
          8,
          9
         ],
         "xaxis": "x",
         "y": [
          0,
          21431,
          35601,
          4349,
          49,
          0,
          1016,
          4376,
          88,
          4928
         ],
         "yaxis": "y"
        }
       ],
       "layout": {
        "legend": {
         "title": {
          "text": "variable"
         },
         "tracegroupgap": 0
        },
        "margin": {
         "t": 60
        },
        "template": {
         "data": {
          "bar": [
           {
            "error_x": {
             "color": "#2a3f5f"
            },
            "error_y": {
             "color": "#2a3f5f"
            },
            "marker": {
             "line": {
              "color": "#E5ECF6",
              "width": 0.5
             },
             "pattern": {
              "fillmode": "overlay",
              "size": 10,
              "solidity": 0.2
             }
            },
            "type": "bar"
           }
          ],
          "barpolar": [
           {
            "marker": {
             "line": {
              "color": "#E5ECF6",
              "width": 0.5
             },
             "pattern": {
              "fillmode": "overlay",
              "size": 10,
              "solidity": 0.2
             }
            },
            "type": "barpolar"
           }
          ],
          "carpet": [
           {
            "aaxis": {
             "endlinecolor": "#2a3f5f",
             "gridcolor": "white",
             "linecolor": "white",
             "minorgridcolor": "white",
             "startlinecolor": "#2a3f5f"
            },
            "baxis": {
             "endlinecolor": "#2a3f5f",
             "gridcolor": "white",
             "linecolor": "white",
             "minorgridcolor": "white",
             "startlinecolor": "#2a3f5f"
            },
            "type": "carpet"
           }
          ],
          "choropleth": [
           {
            "colorbar": {
             "outlinewidth": 0,
             "ticks": ""
            },
            "type": "choropleth"
           }
          ],
          "contour": [
           {
            "colorbar": {
             "outlinewidth": 0,
             "ticks": ""
            },
            "colorscale": [
             [
              0,
              "#0d0887"
             ],
             [
              0.1111111111111111,
              "#46039f"
             ],
             [
              0.2222222222222222,
              "#7201a8"
             ],
             [
              0.3333333333333333,
              "#9c179e"
             ],
             [
              0.4444444444444444,
              "#bd3786"
             ],
             [
              0.5555555555555556,
              "#d8576b"
             ],
             [
              0.6666666666666666,
              "#ed7953"
             ],
             [
              0.7777777777777778,
              "#fb9f3a"
             ],
             [
              0.8888888888888888,
              "#fdca26"
             ],
             [
              1,
              "#f0f921"
             ]
            ],
            "type": "contour"
           }
          ],
          "contourcarpet": [
           {
            "colorbar": {
             "outlinewidth": 0,
             "ticks": ""
            },
            "type": "contourcarpet"
           }
          ],
          "heatmap": [
           {
            "colorbar": {
             "outlinewidth": 0,
             "ticks": ""
            },
            "colorscale": [
             [
              0,
              "#0d0887"
             ],
             [
              0.1111111111111111,
              "#46039f"
             ],
             [
              0.2222222222222222,
              "#7201a8"
             ],
             [
              0.3333333333333333,
              "#9c179e"
             ],
             [
              0.4444444444444444,
              "#bd3786"
             ],
             [
              0.5555555555555556,
              "#d8576b"
             ],
             [
              0.6666666666666666,
              "#ed7953"
             ],
             [
              0.7777777777777778,
              "#fb9f3a"
             ],
             [
              0.8888888888888888,
              "#fdca26"
             ],
             [
              1,
              "#f0f921"
             ]
            ],
            "type": "heatmap"
           }
          ],
          "heatmapgl": [
           {
            "colorbar": {
             "outlinewidth": 0,
             "ticks": ""
            },
            "colorscale": [
             [
              0,
              "#0d0887"
             ],
             [
              0.1111111111111111,
              "#46039f"
             ],
             [
              0.2222222222222222,
              "#7201a8"
             ],
             [
              0.3333333333333333,
              "#9c179e"
             ],
             [
              0.4444444444444444,
              "#bd3786"
             ],
             [
              0.5555555555555556,
              "#d8576b"
             ],
             [
              0.6666666666666666,
              "#ed7953"
             ],
             [
              0.7777777777777778,
              "#fb9f3a"
             ],
             [
              0.8888888888888888,
              "#fdca26"
             ],
             [
              1,
              "#f0f921"
             ]
            ],
            "type": "heatmapgl"
           }
          ],
          "histogram": [
           {
            "marker": {
             "pattern": {
              "fillmode": "overlay",
              "size": 10,
              "solidity": 0.2
             }
            },
            "type": "histogram"
           }
          ],
          "histogram2d": [
           {
            "colorbar": {
             "outlinewidth": 0,
             "ticks": ""
            },
            "colorscale": [
             [
              0,
              "#0d0887"
             ],
             [
              0.1111111111111111,
              "#46039f"
             ],
             [
              0.2222222222222222,
              "#7201a8"
             ],
             [
              0.3333333333333333,
              "#9c179e"
             ],
             [
              0.4444444444444444,
              "#bd3786"
             ],
             [
              0.5555555555555556,
              "#d8576b"
             ],
             [
              0.6666666666666666,
              "#ed7953"
             ],
             [
              0.7777777777777778,
              "#fb9f3a"
             ],
             [
              0.8888888888888888,
              "#fdca26"
             ],
             [
              1,
              "#f0f921"
             ]
            ],
            "type": "histogram2d"
           }
          ],
          "histogram2dcontour": [
           {
            "colorbar": {
             "outlinewidth": 0,
             "ticks": ""
            },
            "colorscale": [
             [
              0,
              "#0d0887"
             ],
             [
              0.1111111111111111,
              "#46039f"
             ],
             [
              0.2222222222222222,
              "#7201a8"
             ],
             [
              0.3333333333333333,
              "#9c179e"
             ],
             [
              0.4444444444444444,
              "#bd3786"
             ],
             [
              0.5555555555555556,
              "#d8576b"
             ],
             [
              0.6666666666666666,
              "#ed7953"
             ],
             [
              0.7777777777777778,
              "#fb9f3a"
             ],
             [
              0.8888888888888888,
              "#fdca26"
             ],
             [
              1,
              "#f0f921"
             ]
            ],
            "type": "histogram2dcontour"
           }
          ],
          "mesh3d": [
           {
            "colorbar": {
             "outlinewidth": 0,
             "ticks": ""
            },
            "type": "mesh3d"
           }
          ],
          "parcoords": [
           {
            "line": {
             "colorbar": {
              "outlinewidth": 0,
              "ticks": ""
             }
            },
            "type": "parcoords"
           }
          ],
          "pie": [
           {
            "automargin": true,
            "type": "pie"
           }
          ],
          "scatter": [
           {
            "fillpattern": {
             "fillmode": "overlay",
             "size": 10,
             "solidity": 0.2
            },
            "type": "scatter"
           }
          ],
          "scatter3d": [
           {
            "line": {
             "colorbar": {
              "outlinewidth": 0,
              "ticks": ""
             }
            },
            "marker": {
             "colorbar": {
              "outlinewidth": 0,
              "ticks": ""
             }
            },
            "type": "scatter3d"
           }
          ],
          "scattercarpet": [
           {
            "marker": {
             "colorbar": {
              "outlinewidth": 0,
              "ticks": ""
             }
            },
            "type": "scattercarpet"
           }
          ],
          "scattergeo": [
           {
            "marker": {
             "colorbar": {
              "outlinewidth": 0,
              "ticks": ""
             }
            },
            "type": "scattergeo"
           }
          ],
          "scattergl": [
           {
            "marker": {
             "colorbar": {
              "outlinewidth": 0,
              "ticks": ""
             }
            },
            "type": "scattergl"
           }
          ],
          "scattermapbox": [
           {
            "marker": {
             "colorbar": {
              "outlinewidth": 0,
              "ticks": ""
             }
            },
            "type": "scattermapbox"
           }
          ],
          "scatterpolar": [
           {
            "marker": {
             "colorbar": {
              "outlinewidth": 0,
              "ticks": ""
             }
            },
            "type": "scatterpolar"
           }
          ],
          "scatterpolargl": [
           {
            "marker": {
             "colorbar": {
              "outlinewidth": 0,
              "ticks": ""
             }
            },
            "type": "scatterpolargl"
           }
          ],
          "scatterternary": [
           {
            "marker": {
             "colorbar": {
              "outlinewidth": 0,
              "ticks": ""
             }
            },
            "type": "scatterternary"
           }
          ],
          "surface": [
           {
            "colorbar": {
             "outlinewidth": 0,
             "ticks": ""
            },
            "colorscale": [
             [
              0,
              "#0d0887"
             ],
             [
              0.1111111111111111,
              "#46039f"
             ],
             [
              0.2222222222222222,
              "#7201a8"
             ],
             [
              0.3333333333333333,
              "#9c179e"
             ],
             [
              0.4444444444444444,
              "#bd3786"
             ],
             [
              0.5555555555555556,
              "#d8576b"
             ],
             [
              0.6666666666666666,
              "#ed7953"
             ],
             [
              0.7777777777777778,
              "#fb9f3a"
             ],
             [
              0.8888888888888888,
              "#fdca26"
             ],
             [
              1,
              "#f0f921"
             ]
            ],
            "type": "surface"
           }
          ],
          "table": [
           {
            "cells": {
             "fill": {
              "color": "#EBF0F8"
             },
             "line": {
              "color": "white"
             }
            },
            "header": {
             "fill": {
              "color": "#C8D4E3"
             },
             "line": {
              "color": "white"
             }
            },
            "type": "table"
           }
          ]
         },
         "layout": {
          "annotationdefaults": {
           "arrowcolor": "#2a3f5f",
           "arrowhead": 0,
           "arrowwidth": 1
          },
          "autotypenumbers": "strict",
          "coloraxis": {
           "colorbar": {
            "outlinewidth": 0,
            "ticks": ""
           }
          },
          "colorscale": {
           "diverging": [
            [
             0,
             "#8e0152"
            ],
            [
             0.1,
             "#c51b7d"
            ],
            [
             0.2,
             "#de77ae"
            ],
            [
             0.3,
             "#f1b6da"
            ],
            [
             0.4,
             "#fde0ef"
            ],
            [
             0.5,
             "#f7f7f7"
            ],
            [
             0.6,
             "#e6f5d0"
            ],
            [
             0.7,
             "#b8e186"
            ],
            [
             0.8,
             "#7fbc41"
            ],
            [
             0.9,
             "#4d9221"
            ],
            [
             1,
             "#276419"
            ]
           ],
           "sequential": [
            [
             0,
             "#0d0887"
            ],
            [
             0.1111111111111111,
             "#46039f"
            ],
            [
             0.2222222222222222,
             "#7201a8"
            ],
            [
             0.3333333333333333,
             "#9c179e"
            ],
            [
             0.4444444444444444,
             "#bd3786"
            ],
            [
             0.5555555555555556,
             "#d8576b"
            ],
            [
             0.6666666666666666,
             "#ed7953"
            ],
            [
             0.7777777777777778,
             "#fb9f3a"
            ],
            [
             0.8888888888888888,
             "#fdca26"
            ],
            [
             1,
             "#f0f921"
            ]
           ],
           "sequentialminus": [
            [
             0,
             "#0d0887"
            ],
            [
             0.1111111111111111,
             "#46039f"
            ],
            [
             0.2222222222222222,
             "#7201a8"
            ],
            [
             0.3333333333333333,
             "#9c179e"
            ],
            [
             0.4444444444444444,
             "#bd3786"
            ],
            [
             0.5555555555555556,
             "#d8576b"
            ],
            [
             0.6666666666666666,
             "#ed7953"
            ],
            [
             0.7777777777777778,
             "#fb9f3a"
            ],
            [
             0.8888888888888888,
             "#fdca26"
            ],
            [
             1,
             "#f0f921"
            ]
           ]
          },
          "colorway": [
           "#636efa",
           "#EF553B",
           "#00cc96",
           "#ab63fa",
           "#FFA15A",
           "#19d3f3",
           "#FF6692",
           "#B6E880",
           "#FF97FF",
           "#FECB52"
          ],
          "font": {
           "color": "#2a3f5f"
          },
          "geo": {
           "bgcolor": "white",
           "lakecolor": "white",
           "landcolor": "#E5ECF6",
           "showlakes": true,
           "showland": true,
           "subunitcolor": "white"
          },
          "hoverlabel": {
           "align": "left"
          },
          "hovermode": "closest",
          "mapbox": {
           "style": "light"
          },
          "paper_bgcolor": "white",
          "plot_bgcolor": "#E5ECF6",
          "polar": {
           "angularaxis": {
            "gridcolor": "white",
            "linecolor": "white",
            "ticks": ""
           },
           "bgcolor": "#E5ECF6",
           "radialaxis": {
            "gridcolor": "white",
            "linecolor": "white",
            "ticks": ""
           }
          },
          "scene": {
           "xaxis": {
            "backgroundcolor": "#E5ECF6",
            "gridcolor": "white",
            "gridwidth": 2,
            "linecolor": "white",
            "showbackground": true,
            "ticks": "",
            "zerolinecolor": "white"
           },
           "yaxis": {
            "backgroundcolor": "#E5ECF6",
            "gridcolor": "white",
            "gridwidth": 2,
            "linecolor": "white",
            "showbackground": true,
            "ticks": "",
            "zerolinecolor": "white"
           },
           "zaxis": {
            "backgroundcolor": "#E5ECF6",
            "gridcolor": "white",
            "gridwidth": 2,
            "linecolor": "white",
            "showbackground": true,
            "ticks": "",
            "zerolinecolor": "white"
           }
          },
          "shapedefaults": {
           "line": {
            "color": "#2a3f5f"
           }
          },
          "ternary": {
           "aaxis": {
            "gridcolor": "white",
            "linecolor": "white",
            "ticks": ""
           },
           "baxis": {
            "gridcolor": "white",
            "linecolor": "white",
            "ticks": ""
           },
           "bgcolor": "#E5ECF6",
           "caxis": {
            "gridcolor": "white",
            "linecolor": "white",
            "ticks": ""
           }
          },
          "title": {
           "x": 0.05
          },
          "xaxis": {
           "automargin": true,
           "gridcolor": "white",
           "linecolor": "white",
           "ticks": "",
           "title": {
            "standoff": 15
           },
           "zerolinecolor": "white",
           "zerolinewidth": 2
          },
          "yaxis": {
           "automargin": true,
           "gridcolor": "white",
           "linecolor": "white",
           "ticks": "",
           "title": {
            "standoff": 15
           },
           "zerolinecolor": "white",
           "zerolinewidth": 2
          }
         }
        },
        "xaxis": {
         "anchor": "y",
         "domain": [
          0,
          1
         ],
         "title": {
          "text": "index"
         }
        },
        "yaxis": {
         "anchor": "x",
         "domain": [
          0,
          1
         ],
         "title": {
          "text": "value"
         }
        }
       }
      }
     },
     "metadata": {},
     "output_type": "display_data"
    }
   ],
   "source": [
    "px.scatter(df    , y = df.columns).show()"
   ]
  },
  {
   "cell_type": "code",
   "execution_count": null,
   "metadata": {},
   "outputs": [],
   "source": []
  }
 ],
 "metadata": {
  "kernelspec": {
   "display_name": "Python 3.9.12 ('insta')",
   "language": "python",
   "name": "python3"
  },
  "language_info": {
   "codemirror_mode": {
    "name": "ipython",
    "version": 3
   },
   "file_extension": ".py",
   "mimetype": "text/x-python",
   "name": "python",
   "nbconvert_exporter": "python",
   "pygments_lexer": "ipython3",
   "version": "3.9.12"
  },
  "orig_nbformat": 4,
  "vscode": {
   "interpreter": {
    "hash": "b0616622e670fd58f9292b36f2e3689d12ca973b5ecffe1ed42939b0efd1bc58"
   }
  }
 },
 "nbformat": 4,
 "nbformat_minor": 2
}
