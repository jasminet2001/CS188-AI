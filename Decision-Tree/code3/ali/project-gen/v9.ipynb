{
 "cells": [
  {
   "cell_type": "markdown",
   "metadata": {},
   "source": [
    "**version 9 :** \n",
    "trying to get better resault in main Algorithm & solved somethings!\n",
    "<br>\n",
    "**changes :**\n",
    "- add a percentage of trees in every geneerations , by random creation , to creeate a chance to have a different operators and sentences"
   ]
  },
  {
   "cell_type": "markdown",
   "metadata": {},
   "source": [
    "**insights :**\n",
    "<br>\n",
    "- problem in the end of way, in low differences mses , progress is going to dead . => a little solved by change the way of calculate fitness AND add the new cromosoms\n"
   ]
  },
  {
   "cell_type": "markdown",
   "metadata": {},
   "source": [
    "setups:\n",
    "- number of gens : 20 \n",
    "- number of each popluations : 100\n",
    "- chance of mutation : 5 % \n",
    "- percentege of saves per population : 20 % (from first of way .)\n",
    "- percentages of create per gens : 5 % (from 5th gen)\n",
    "- maximum number of depth : 5 \n",
    "- complex way of calculate mse"
   ]
  },
  {
   "cell_type": "code",
   "execution_count": 3,
   "metadata": {},
   "outputs": [],
   "source": [
    "import random\n",
    "import plotly.express as px\n",
    "import matplotlib.pyplot as plt\n",
    "import pandas as pd\n",
    "import numpy as np\n",
    "from sklearn.metrics import mean_squared_error\n",
    "from sklearn.metrics import mean_absolute_error\n",
    "import math\n",
    "operators = [\"+\" , \"-\" , \"*\" , \"/\" ] # can add pow to the set \"^\"\n",
    "singleOperators = [\"sin\" , \"cos\"] # in sin & cos , right node is always NULL\n",
    "epsilon = 0.0000001\n",
    "x1 = 2\n",
    "x2 = 5\n",
    "defaultValues = (x1 , x2 )\n",
    "listOfInputs = [\"x1\" , \"x2\"]\n",
    "CoefficientsRagne = 10\n",
    "presicionInCeo = 2\n",
    "allOperators = []\n",
    "allOperators.extend(operators)\n",
    "allOperators.extend(singleOperators)"
   ]
  },
  {
   "cell_type": "code",
   "execution_count": 4,
   "metadata": {},
   "outputs": [],
   "source": [
    "class node ():\n",
    "    def __init__(self , operator , rightnode = None , leftnode = None  , father = None):\n",
    "        self.father = father\n",
    "        self.leaf = False\n",
    "        self.rightnode = rightnode\n",
    "        self.leftnode = leftnode\n",
    "        if operator in operators or operator in singleOperators  :\n",
    "            self.operator = operator\n",
    "        elif (type (operator) is int) or (type (operator) is float) or operator in listOfInputs : # this is the way we know the leaf and nodes\n",
    "            self.leaf = True\n",
    "            self.operator = operator \n",
    "        else :\n",
    "            print(\"operator not assigned - wrong input\")\n",
    "        \n",
    "    def assignOperator (self ):\n",
    "        x = input()\n",
    "        while (x not in operators and x not in singleOperators ) and not x.isnumeric():\n",
    "            print(\"x is not true ! try again !\")\n",
    "            x = input()\n",
    "        self.operator = x\n",
    "        if x.isnumeric() : # clear the down nodes\n",
    "            self.leaf = True\n",
    "            self.leftnode = None\n",
    "            self.rightnode = None\n",
    "    def addNode (self , node):\n",
    "        if self.leaf == False :\n",
    "            if self.leftnode == None :\n",
    "                self.leftnode = node\n",
    "                node.father = self\n",
    "                return True\n",
    "            elif self.rightnode == None and self.operator not in singleOperators:\n",
    "                self.rightnode = node\n",
    "                node.father = self\n",
    "                return True\n",
    "            else:\n",
    "                if self.leftnode.addNode(node) :\n",
    "                    return True\n",
    "                if self.operator not in singleOperators:\n",
    "                    if self.rightnode.addNode(node) :\n",
    "                        return True\n",
    "            return False\n",
    "        return False"
   ]
  },
  {
   "cell_type": "code",
   "execution_count": 3,
   "metadata": {},
   "outputs": [
    {
     "name": "stdout",
     "output_type": "stream",
     "text": [
      "operator not assigned - wrong input\n"
     ]
    }
   ],
   "source": [
    "test = node(\"\")"
   ]
  },
  {
   "cell_type": "code",
   "execution_count": 4,
   "metadata": {},
   "outputs": [],
   "source": [
    "test.assignOperator()"
   ]
  },
  {
   "cell_type": "code",
   "execution_count": 5,
   "metadata": {},
   "outputs": [
    {
     "data": {
      "text/plain": [
       "<__main__.node at 0x21ac496b160>"
      ]
     },
     "execution_count": 5,
     "metadata": {},
     "output_type": "execute_result"
    }
   ],
   "source": [
    "test"
   ]
  },
  {
   "cell_type": "code",
   "execution_count": 6,
   "metadata": {},
   "outputs": [
    {
     "data": {
      "text/plain": [
       "'+'"
      ]
     },
     "execution_count": 6,
     "metadata": {},
     "output_type": "execute_result"
    }
   ],
   "source": [
    "test.operator"
   ]
  },
  {
   "cell_type": "code",
   "execution_count": 5,
   "metadata": {},
   "outputs": [],
   "source": [
    "class tree ():\n",
    "    def __init__(self , root):\n",
    "        self.numnerOfNodes = 1\n",
    "        self.LeafList = []\n",
    "        self.LeafList.append(root)\n",
    "        if type( root ) is node :\n",
    "            self.root = root\n",
    "        else:\n",
    "            print(\"try another time plz . \")\n",
    "    def calculateFather(self,node):\n",
    "        counter = 1 \n",
    "        temp = node.father\n",
    "        if temp != None :\n",
    "            while temp.father != None :\n",
    "                temp = temp.father\n",
    "                counter = counter + 1\n",
    "        return counter\n",
    "    def addNodeInSurf (self , node ):\n",
    "        MaxNumsOfFather = 1000\n",
    "        nodeTemp = None\n",
    "        for item in self.LeafList : \n",
    "            temp = self.calculateFather(item)\n",
    "            if temp < MaxNumsOfFather :\n",
    "                MaxNumsOfFather = temp\n",
    "                nodeTemp = item\n",
    "        if nodeTemp.leftnode == None :\n",
    "            nodeTemp.leftnode = node\n",
    "            node.father = nodeTemp\n",
    "            self.LeafList.append(node)\n",
    "            if nodeTemp.rightnode != None or nodeTemp.operator in singleOperators :\n",
    "                self.LeafList.remove(nodeTemp)\n",
    "        elif nodeTemp.rightnode == None and nodeTemp.operator not in singleOperators:\n",
    "            nodeTemp.rightnode = node\n",
    "            node.father = nodeTemp\n",
    "            self.LeafList.append(node)\n",
    "            if nodeTemp.leftnode != None : \n",
    "                self.LeafList.remove(nodeTemp)\n",
    "        self.numnerOfNodes = self.numnerOfNodes + 1\n",
    "    def addNodeIndepth (self , node):    \n",
    "        if self.root.addNode(node) :\n",
    "            self.LeafList.append(node)\n",
    "            if node.father.operator in singleOperators :\n",
    "                self.LeafList.remove(node.father)\n",
    "        self.numnerOfNodes = self.numnerOfNodes + 1\n",
    "    def isComplete(self):\n",
    "        for item in self.LeafList :\n",
    "            if item.leaf == False:\n",
    "                return False\n",
    "        return True\n",
    "    def PostorderTraversal(self, root):\n",
    "        res = []\n",
    "        if root:\n",
    "            res = self.PostorderTraversal(root.left)\n",
    "            res = res + self.PostorderTraversal(root.right)\n",
    "            res.append(root.data)\n",
    "        return res"
   ]
  },
  {
   "cell_type": "code",
   "execution_count": 10,
   "metadata": {},
   "outputs": [],
   "source": [
    "# test1 = node(\"-\")\n",
    "# test.addNode(test1)\n",
    "# test.addNode(node(2))"
   ]
  },
  {
   "cell_type": "code",
   "execution_count": 6,
   "metadata": {},
   "outputs": [],
   "source": [
    "def calculate (node , args = defaultValues):\n",
    "    if node.leaf == True:\n",
    "        # if node.operator == \"x1\" :\n",
    "        #    return args[0]\n",
    "        # if node.operator == \"x2\" :\n",
    "        #    return args[1]\n",
    "        for x , y  in zip(args , listOfInputs) :\n",
    "            if y == node.operator :\n",
    "                return x\n",
    "        return node.operator\n",
    "    if node.operator == \"+\" :\n",
    "        return calculate(node.leftnode , args) + calculate(node.rightnode , args)\n",
    "    elif node.operator == \"-\" :\n",
    "        return calculate(node.leftnode , args) - calculate(node.rightnode , args)\n",
    "    elif node.operator == \"/\" :\n",
    "        divded = calculate(node.rightnode , args)\n",
    "        if divded == 0 :\n",
    "            divded = epsilon \n",
    "        return calculate(node.leftnode , args) / divded\n",
    "    elif node.operator == \"*\" :\n",
    "        return calculate(node.leftnode , args) * calculate(node.rightnode , args)\n",
    "    elif node.operator == \"^\" :\n",
    "        return pow( calculate(node.leftnode , args) , calculate(node.rightnode , args) )\n",
    "    elif node.operator == \"sin\" :\n",
    "        return math.sin(calculate(node.leftnode , args))\n",
    "    elif node.operator == \"cos\" :\n",
    "        # print(node.leftnode.operator)\n",
    "        return math.cos(calculate(node.leftnode , args))"
   ]
  },
  {
   "cell_type": "code",
   "execution_count": 7,
   "metadata": {},
   "outputs": [],
   "source": [
    "def showtree(node) :\n",
    "    if node.leaf == True:\n",
    "        return  f\"{node.operator}\"\n",
    "    if node.operator == \"+\" :\n",
    "        return f\"({showtree(node.leftnode)}) + ({showtree(node.rightnode)})\"\n",
    "    elif node.operator == \"-\" :\n",
    "        return f\"({showtree(node.leftnode)}) - ({showtree(node.rightnode)})\"\n",
    "    elif node.operator == \"/\" :\n",
    "        return f\"({showtree(node.leftnode)}) / ({showtree(node.rightnode)})\"\n",
    "    elif node.operator == \"*\" :\n",
    "        return f\"({showtree(node.leftnode)}) * ({showtree(node.rightnode)})\"\n",
    "    elif node.operator == \"^\" :\n",
    "        return f\"({showtree(node.leftnode)}) ^ ({showtree(node.rightnode)})\"\n",
    "    elif node.operator == \"sin\" :\n",
    "        return f\"sin({showtree(node.leftnode)})\"\n",
    "    elif node.operator == \"cos\" :\n",
    "        return f\"cos({showtree(node.leftnode)})\""
   ]
  },
  {
   "cell_type": "code",
   "execution_count": 8,
   "metadata": {},
   "outputs": [],
   "source": [
    "def createRandomTree(max , Coefficients):\n",
    "    numberOfDepth = random.randint(1 , max)\n",
    "    # create the root\n",
    "    firstOperator = random.randint(0 , len(allOperators) - 1)\n",
    "    temptree = tree(node(allOperators[firstOperator]))\n",
    "    # create the tree structure \n",
    "    for _ in range (0 , (2 ^ numberOfDepth) - 1) :\n",
    "        firstOperator = random.randint(0 , len(allOperators) - 1)\n",
    "        randomnode = temptree.LeafList[random.randint(1 , len(temptree.LeafList)) - 1]\n",
    "        if temptree.calculateFather(randomnode) <= max :\n",
    "            if firstOperator % 2 == 0 :\n",
    "                if randomnode.rightnode == None and randomnode.operator not in singleOperators: \n",
    "                    randomnode.rightnode = node(allOperators[random.randint(0 , len(allOperators) - 1)] , father=randomnode)\n",
    "                    temptree.numnerOfNodes = temptree.numnerOfNodes + 1\n",
    "                    temptree.LeafList.append(randomnode.rightnode)\n",
    "                elif randomnode.leftnode != None :\n",
    "                    temptree.LeafList.remove(randomnode)\n",
    "                else :\n",
    "                    randomnode.leftnode = node(allOperators[random.randint(0 , len(allOperators) - 1)] , father=randomnode)\n",
    "                    temptree.numnerOfNodes = temptree.numnerOfNodes + 1\n",
    "                    temptree.LeafList.append(randomnode.leftnode)\n",
    "                    temptree.LeafList.remove(randomnode)\n",
    "            else:\n",
    "                if randomnode.leftnode == None : \n",
    "                    randomnode.leftnode = node(allOperators[random.randint(0 , len(allOperators) - 1)] , father=randomnode)\n",
    "                    temptree.numnerOfNodes = temptree.numnerOfNodes + 1\n",
    "                    temptree.LeafList.append(randomnode.leftnode)\n",
    "                elif randomnode.rightnode != None or randomnode.operator in singleOperators:\n",
    "                    temptree.LeafList.remove(randomnode)\n",
    "                else :\n",
    "                    randomnode.rightnode = node(allOperators[random.randint(0 , len(allOperators) - 1)] , father=randomnode)\n",
    "                    temptree.numnerOfNodes = temptree.numnerOfNodes + 1\n",
    "                    temptree.LeafList.remove(randomnode)\n",
    "                    temptree.LeafList.append(randomnode.rightnode)\n",
    "            \n",
    "    # fill the leafs\n",
    "    templist = temptree.LeafList.copy()\n",
    "    for lastnode in templist :\n",
    "        firstOperator = random.randint(0 , len(allOperators) - 1)\n",
    "        if lastnode.rightnode == None :\n",
    "            if firstOperator % 2 == 0 :\n",
    "                lastnode.rightnode = node( listOfInputs[random.randint(0 , len(listOfInputs) - 1)] , father=lastnode )\n",
    "                temptree.numnerOfNodes = temptree.numnerOfNodes + 1\n",
    "                temptree.LeafList.append(lastnode.rightnode)\n",
    "            else :\n",
    "                lastnode.rightnode = node( round( random.uniform(-1 * Coefficients , Coefficients) , presicionInCeo ) , father=lastnode )\n",
    "                temptree.numnerOfNodes = temptree.numnerOfNodes + 1\n",
    "                temptree.LeafList.append(lastnode.rightnode)\n",
    "            if lastnode.leftnode != None :\n",
    "                temptree.LeafList.remove(lastnode)\n",
    "                #templist.remove(lastnode)\n",
    "        if lastnode.leftnode == None :\n",
    "            if firstOperator % 2 == 1 :\n",
    "                lastnode.leftnode = node( listOfInputs[random.randint(0 , len(listOfInputs) - 1)] , father=lastnode )\n",
    "                temptree.numnerOfNodes = temptree.numnerOfNodes + 1\n",
    "                temptree.LeafList.append(lastnode.leftnode)\n",
    "            else :\n",
    "                lastnode.leftnode = node( round( random.uniform (-1 * Coefficients , Coefficients ) , presicionInCeo ) , father=lastnode )\n",
    "                temptree.numnerOfNodes = temptree.numnerOfNodes + 1\n",
    "                temptree.LeafList.append(lastnode.leftnode)\n",
    "            if lastnode.rightnode != None :\n",
    "                temptree.LeafList.remove(lastnode)\n",
    "                #templist.remove(lastnode)\n",
    "    return temptree\n",
    "        \n",
    "        "
   ]
  },
  {
   "cell_type": "markdown",
   "metadata": {},
   "source": [
    "**test the add in surf**"
   ]
  },
  {
   "cell_type": "code",
   "execution_count": 114,
   "metadata": {},
   "outputs": [],
   "source": [
    "testtree2= tree(test)"
   ]
  },
  {
   "cell_type": "code",
   "execution_count": 115,
   "metadata": {},
   "outputs": [
    {
     "data": {
      "text/plain": [
       "[<__main__.node at 0x2080deda1c0>]"
      ]
     },
     "execution_count": 115,
     "metadata": {},
     "output_type": "execute_result"
    }
   ],
   "source": [
    "testtree2.LeafList"
   ]
  },
  {
   "cell_type": "code",
   "execution_count": 116,
   "metadata": {},
   "outputs": [],
   "source": [
    "testtree2.addNodeInSurf(node(\"+\"))"
   ]
  },
  {
   "cell_type": "code",
   "execution_count": 117,
   "metadata": {},
   "outputs": [],
   "source": [
    "testtree2.addNodeInSurf(node(\"+\"))"
   ]
  },
  {
   "cell_type": "code",
   "execution_count": 118,
   "metadata": {},
   "outputs": [],
   "source": [
    "testtree2.addNodeInSurf(node(\"-\"))"
   ]
  },
  {
   "cell_type": "code",
   "execution_count": 119,
   "metadata": {},
   "outputs": [],
   "source": [
    "testtree2.addNodeInSurf(node(\"-\"))"
   ]
  },
  {
   "cell_type": "markdown",
   "metadata": {},
   "source": [
    "**test add in depth**"
   ]
  },
  {
   "cell_type": "code",
   "execution_count": 120,
   "metadata": {},
   "outputs": [],
   "source": [
    "testtree2.addNodeIndepth(node(\"-\"))"
   ]
  },
  {
   "cell_type": "code",
   "execution_count": 121,
   "metadata": {},
   "outputs": [],
   "source": [
    "testtree2.addNodeIndepth(node(\"-\"))"
   ]
  },
  {
   "cell_type": "markdown",
   "metadata": {},
   "source": [
    "**test the calculate**"
   ]
  },
  {
   "cell_type": "code",
   "execution_count": 11,
   "metadata": {},
   "outputs": [],
   "source": [
    "testtree = tree(node(\"sin\"))"
   ]
  },
  {
   "cell_type": "code",
   "execution_count": 12,
   "metadata": {},
   "outputs": [
    {
     "name": "stdout",
     "output_type": "stream",
     "text": [
      "-0.9589242746631385\n"
     ]
    }
   ],
   "source": [
    "#simple test with \n",
    "testtree.addNodeInSurf(node(\"/\"))\n",
    "testtree.addNodeInSurf(node(\"*\"))\n",
    "testtree.addNodeInSurf(node(x1))\n",
    "testtree.addNodeInSurf(node(x2))\n",
    "testtree.addNodeInSurf(node(x1))\n",
    "testtree.addNodeInSurf(node(x2))\n",
    "print( calculate(testtree.root , (2 , 5)) )"
   ]
  },
  {
   "cell_type": "markdown",
   "metadata": {},
   "source": [
    "**test the showtree**"
   ]
  },
  {
   "cell_type": "code",
   "execution_count": 13,
   "metadata": {},
   "outputs": [
    {
     "name": "stdout",
     "output_type": "stream",
     "text": [
      "sin(((5) * (2)) / (2))\n"
     ]
    }
   ],
   "source": [
    "print(showtree(testtree.root))"
   ]
  },
  {
   "cell_type": "markdown",
   "metadata": {},
   "source": [
    "**test the random creation**"
   ]
  },
  {
   "cell_type": "code",
   "execution_count": 20,
   "metadata": {},
   "outputs": [],
   "source": [
    "testRandom1 =  createRandomTree(10 , 5)"
   ]
  },
  {
   "cell_type": "code",
   "execution_count": 21,
   "metadata": {},
   "outputs": [
    {
     "name": "stdout",
     "output_type": "stream",
     "text": [
      "((-4) - (((2) / (x1)) / ((cos(x1)) * (x1)))) * (sin(cos(cos((3) + (x1)))))\n"
     ]
    }
   ],
   "source": [
    "print(showtree(testRandom1.root))"
   ]
  },
  {
   "cell_type": "code",
   "execution_count": 22,
   "metadata": {},
   "outputs": [
    {
     "name": "stdout",
     "output_type": "stream",
     "text": [
      "-2.0481313613372\n"
     ]
    }
   ],
   "source": [
    "print(calculate( testRandom1.root , (3 , 6)))"
   ]
  },
  {
   "cell_type": "code",
   "execution_count": 23,
   "metadata": {},
   "outputs": [
    {
     "data": {
      "text/plain": [
       "19"
      ]
     },
     "execution_count": 23,
     "metadata": {},
     "output_type": "execute_result"
    }
   ],
   "source": [
    "testRandom1.numnerOfNodes"
   ]
  },
  {
   "cell_type": "markdown",
   "metadata": {},
   "source": [
    "**the main function**"
   ]
  },
  {
   "cell_type": "code",
   "execution_count": 9,
   "metadata": {},
   "outputs": [],
   "source": [
    "def calculateValue(inputValues , root):\n",
    "    predicted = []\n",
    "    for tupleIn in inputValues:\n",
    "        predicted.append( calculate(root , tupleIn))\n",
    "    return predicted"
   ]
  },
  {
   "cell_type": "code",
   "execution_count": 10,
   "metadata": {},
   "outputs": [],
   "source": [
    "def RandomSelection(mses , population):\n",
    "    total = []\n",
    "    cumsum = 0 \n",
    "    for i in mses :\n",
    "        cumsum = cumsum + i\n",
    "        total.append(cumsum)\n",
    "    rnd = random.random() * cumsum\n",
    "    for i, uptotal in enumerate(total):\n",
    "        if rnd < uptotal:\n",
    "            return population[i]\n",
    "    return population[-1] # if something goes wrong !"
   ]
  },
  {
   "cell_type": "code",
   "execution_count": 11,
   "metadata": {},
   "outputs": [],
   "source": [
    "import copy\n",
    "def iterate ( node , numberOfrotate , visited):\n",
    "    # temp = copy.deepcopy(node)\n",
    "    # print(numberOfrotate)\n",
    "    visited = []\n",
    "    counter = 0 \n",
    "    while counter != numberOfrotate:\n",
    "        if node.rightnode != None and node.rightnode not in visited:\n",
    "            counter = counter + 1\n",
    "            visited.append(node.rightnode)\n",
    "            node = node.rightnode\n",
    "        elif node.leftnode != None and node.leftnode not in visited :\n",
    "            counter = counter + 1\n",
    "            visited.append(node.leftnode)\n",
    "            node = node.leftnode\n",
    "        else :\n",
    "            if node.father != None :\n",
    "                node = node.father\n",
    "            else :\n",
    "                node = node.leftnode\n",
    "                counter = counter + 1\n",
    "    return node   "
   ]
  },
  {
   "cell_type": "code",
   "execution_count": 10,
   "metadata": {},
   "outputs": [
    {
     "name": "stdout",
     "output_type": "stream",
     "text": [
      "((4) + (((x1) - (7)) + ((x2) - (5)))) - (4)\n"
     ]
    }
   ],
   "source": [
    "testtree = tree(node(\"-\"))\n",
    "testtree.root.leftnode = node(\"+\" , father=testtree.root)\n",
    "testtree.root.rightnode = node(4 , father=testtree.root)\n",
    "testtree.root.leftnode.leftnode = node(4 , father=testtree.root.leftnode)\n",
    "testtree.root.leftnode.rightnode = node(\"+\" , father = testtree.root.leftnode)\n",
    "testtree.root.leftnode.rightnode.leftnode = node(\"-\" , father=testtree.root.leftnode.rightnode)\n",
    "testtree.root.leftnode.rightnode.leftnode.leftnode = node(\"x1\" , father=testtree.root.leftnode.rightnode.leftnode)\n",
    "testtree.root.leftnode.rightnode.leftnode.rightnode = node(7, father=testtree.root.leftnode.rightnode.leftnode)\n",
    "testtree.root.leftnode.rightnode.rightnode = node(\"-\" , father=testtree.root.leftnode.rightnode)\n",
    "testtree.root.leftnode.rightnode.rightnode.leftnode = node(\"x2\" , father=testtree.root.leftnode.rightnode.rightnode)\n",
    "testtree.root.leftnode.rightnode.rightnode.rightnode = node(5 , father=testtree.root.leftnode.rightnode.rightnode)\n",
    "testtree.numnerOfNodes = 11\n",
    "print(showtree(testtree.root))"
   ]
  },
  {
   "cell_type": "code",
   "execution_count": 17,
   "metadata": {},
   "outputs": [],
   "source": [
    "Mutation(testtree)"
   ]
  },
  {
   "cell_type": "code",
   "execution_count": 18,
   "metadata": {},
   "outputs": [
    {
     "name": "stdout",
     "output_type": "stream",
     "text": [
      "((4) + (((x1) - (7)) + ((x1) - (5)))) - (4)\n"
     ]
    }
   ],
   "source": [
    "print(showtree(testtree.root))"
   ]
  },
  {
   "cell_type": "markdown",
   "metadata": {},
   "source": [
    "**test the iterate**\n"
   ]
  },
  {
   "cell_type": "code",
   "execution_count": 31,
   "metadata": {},
   "outputs": [
    {
     "name": "stdout",
     "output_type": "stream",
     "text": [
      "(2) + (5)\n",
      "5\n"
     ]
    }
   ],
   "source": [
    "testtree2 = tree(node(\"+\"))\n",
    "testtree2.addNodeInSurf(node(x1))\n",
    "testtree2.addNodeInSurf(node(x2))\n",
    "print(showtree(testtree2.root))\n",
    "print(iterate(testtree2.root , 1 , [] ).operator)"
   ]
  },
  {
   "cell_type": "code",
   "execution_count": 12,
   "metadata": {},
   "outputs": [],
   "source": [
    "import copy\n",
    "\n",
    "def CrossOver (x , y) :\n",
    "    maxOfNodes = 0 \n",
    "    if x.numnerOfNodes > y.numnerOfNodes :\n",
    "        maxOfNodes = y.numnerOfNodes\n",
    "    else :\n",
    "        maxOfNodes = x.numnerOfNodes\n",
    "    rnd = random.randint( 1 , maxOfNodes - 1 )\n",
    "    # print(rnd)\n",
    "    \n",
    "    temptree = copy.deepcopy(x)\n",
    "    temptree1 = copy.deepcopy(y)\n",
    "    \n",
    "    firstNode = iterate(temptree.root , rnd , [])\n",
    "    secondNode = iterate(temptree1.root , rnd , [])\n",
    "    firstFather =  firstNode.father \n",
    "    secondFather =  secondNode.father \n",
    "    \n",
    "    temp = copy.deepcopy(firstNode)\n",
    "    # print(temp.operator)\n",
    "    temp1 = copy.deepcopy(secondNode)\n",
    "    # print(temp1.operator)\n",
    "    \n",
    "    \n",
    "    if firstFather.leftnode == firstNode :\n",
    "        firstFather.leftnode = temp1\n",
    "    else :\n",
    "        firstFather.rightnode = temp1\n",
    "    \n",
    "    if secondFather.leftnode == secondNode :\n",
    "        secondFather.leftnode = temp\n",
    "    else :\n",
    "        secondFather.rightnode = temp\n",
    "    \n",
    "    temp1.father = firstFather\n",
    "    temp.father = secondFather\n",
    "    \n",
    "    del firstNode\n",
    "    del secondNode\n",
    "    \n",
    "    return temptree , temptree1"
   ]
  },
  {
   "cell_type": "markdown",
   "metadata": {},
   "source": [
    "**test the CrossOver**"
   ]
  },
  {
   "cell_type": "code",
   "execution_count": 28,
   "metadata": {},
   "outputs": [
    {
     "name": "stdout",
     "output_type": "stream",
     "text": [
      "(5) - (2)\n",
      "(2) + (5)\n",
      "(5) - (5)\n",
      "(2) + (2)\n"
     ]
    }
   ],
   "source": [
    "testtree = tree(node(\"-\")) # check the cross over\n",
    "testtree.addNodeInSurf(node(x2))\n",
    "testtree.addNodeInSurf(node(x1))\n",
    "print(showtree(testtree.root))\n",
    "testtree2 = tree(node(\"+\"))\n",
    "testtree2.addNodeInSurf(node(x1))\n",
    "testtree2.addNodeInSurf(node(x2))\n",
    "print(showtree(testtree2.root))\n",
    "temptest , temptest1 = CrossOver(testtree , testtree2)\n",
    "print(showtree(temptest.root))\n",
    "print(showtree(temptest1.root))\n"
   ]
  },
  {
   "cell_type": "code",
   "execution_count": 13,
   "metadata": {},
   "outputs": [],
   "source": [
    "def Mutation (tree) :\n",
    "    rnd = random.randint( 1 , tree.numnerOfNodes - 1 )\n",
    "    #print(showtree(tree.root))\n",
    "    changeNode = iterate(  tree.root , rnd , [] )\n",
    "    if changeNode.operator in allOperators :\n",
    "        changeNode.operator = allOperators[random.randint(0 , len(allOperators) - 1)]        \n",
    "        if changeNode.operator in singleOperators :\n",
    "            changeNode.rightnode = None\n",
    "        elif changeNode.rightnode == None :\n",
    "            changeNode.rightnode = node( listOfInputs[random.randint(0 , len(listOfInputs) - 1)] , father=changeNode )           \n",
    "    else:\n",
    "        if rnd % 2 == 0 :\n",
    "            changeNode.operator = listOfInputs[random.randint(0 , len(listOfInputs) - 1)]\n",
    "        else :\n",
    "            changeNode.operator =  round( random.uniform(-1 * CoefficientsRagne , CoefficientsRagne) , presicionInCeo ) "
   ]
  },
  {
   "cell_type": "code",
   "execution_count": 19,
   "metadata": {},
   "outputs": [],
   "source": [
    "AllData = []"
   ]
  },
  {
   "cell_type": "code",
   "execution_count": 14,
   "metadata": {},
   "outputs": [],
   "source": [
    "def general_algorithm(NumOfFirstPop , maxOfDepth , numsOfGenereations , inputValue , trueValue , AllMses):\n",
    "    # first create a population \n",
    "    allTrees = []\n",
    "    bests = []\n",
    "    population = []\n",
    "    for _ in range(0 , NumOfFirstPop):\n",
    "        population.append(createRandomTree(maxOfDepth , CoefficientsRagne))\n",
    "    # main loop\n",
    "    AllMses = []\n",
    "    counter = 0 \n",
    "    while counter != numsOfGenereations :\n",
    "        # fitness values\n",
    "        mses = []\n",
    "        if counter == 0 :\n",
    "            for i in range(0 , NumOfFirstPop):\n",
    "                mses.append(mean_squared_error(trueValue , calculateValue(inputValue , population[i].root ) ))    \n",
    "        elif avg_of_legends_inside[counter - 1] >= 1 :\n",
    "            print(avg_of_legends_inside[counter - 1])\n",
    "            for i in range(0 , NumOfFirstPop):\n",
    "                mses.append(mean_squared_error(trueValue , calculateValue(inputValue , population[i].root ) )) \n",
    "        else:\n",
    "            print(avg_of_legends_inside[counter - 1])\n",
    "            for i in range(0 , NumOfFirstPop):\n",
    "                mses.append(math.pow( mean_absolute_error(trueValue , calculateValue(inputValue , population[i].root )) , 0.9) ) \n",
    "        #print(mses)\n",
    "        # keep bests alive!\n",
    "        newPopulation = []\n",
    "        if counter >= 0 :\n",
    "            tempList = [X for _ , X in sorted(zip( mses , population ) , key= lambda elem : elem[0])]\n",
    "            sortedmses = [x for x in sorted(mses)]\n",
    "            templegends = []\n",
    "            for i in range(math.floor( len(population) * 0.2)) :\n",
    "                newPopulation.append(tempList[i])\n",
    "                templegends.append(sortedmses[i])\n",
    "            bests.append(templegends)\n",
    "        # change the mse up to it is negetive fitness\n",
    "        AllMses.append(mses)\n",
    "        MaxOfmses = max( mses )\n",
    "        # info for changing way of calculate mses \n",
    "        legends_inside = np.transpose(bests)\n",
    "        avg_of_legends_inside = legends_inside.mean(axis=0)\n",
    "        #print(avg_of_legends_inside[counter])\n",
    "        # change the fitness func with situation\n",
    "        if avg_of_legends_inside[counter] >= 1000 :\n",
    "            for i in range(0 , NumOfFirstPop):\n",
    "                if mses[i] != 0 :\n",
    "                    mses[i] = 1 / mses[i]\n",
    "        else:\n",
    "            for i in range(0 , NumOfFirstPop):\n",
    "                mses[i] = mses[i] * -1 + MaxOfmses\n",
    "        if counter >= 5 :\n",
    "            for i in range(math.floor( len(population) * 0.04)):\n",
    "                newPopulation.append(createRandomTree(maxOfDepth , CoefficientsRagne))\n",
    "        # select randomly with their fitness\n",
    "        for _ in range(math.floor( (len(population) - len(newPopulation)) / 2)):\n",
    "            # random select each tree for crossover\n",
    "            firstNode = RandomSelection(mses , population)    \n",
    "            secondNode = RandomSelection(mses , population)\n",
    "            firstNewTree , secondNewTree = CrossOver(firstNode , secondNode)\n",
    "            # mutations !\n",
    "            rnd = random.randint(1 , 100)\n",
    "            if rnd % 20 == 0 : \n",
    "                Mutation(firstNewTree) \n",
    "            rnd = random.randint(1 , 100)\n",
    "            if rnd % 20 == 1 : \n",
    "                Mutation(secondNewTree) \n",
    "            newPopulation.append(firstNewTree)\n",
    "            newPopulation.append(secondNewTree)\n",
    "        allTrees.append(population)\n",
    "        population = newPopulation\n",
    "        counter = counter + 1\n",
    "    # return the best\n",
    "    indexOfBest = 0 \n",
    "    MaxOfmses = 0  \n",
    "    for index , mse in enumerate (mses) :\n",
    "        if mse > MaxOfmses : \n",
    "            indexOfBest = index \n",
    "            MaxOfmses = mse\n",
    "    #print(-1 * (max(mses) - MaxOfmses))\n",
    "    return  AllMses , bests , population[indexOfBest] , allTrees"
   ]
  },
  {
   "cell_type": "markdown",
   "metadata": {},
   "source": [
    "**create the test for the Main Algorithm**"
   ]
  },
  {
   "cell_type": "code",
   "execution_count": 305,
   "metadata": {},
   "outputs": [
    {
     "data": {
      "text/plain": [
       "'(x1) ^ (2)'"
      ]
     },
     "execution_count": 305,
     "metadata": {},
     "output_type": "execute_result"
    }
   ],
   "source": [
    "#create a simple power tree\n",
    "powertree = tree(node(\"^\"))\n",
    "powertree.root.leftnode = node(\"x1\")\n",
    "powertree.root.rightnode = node(2)\n",
    "showtree(powertree.root)"
   ]
  },
  {
   "cell_type": "code",
   "execution_count": 327,
   "metadata": {},
   "outputs": [
    {
     "data": {
      "text/plain": [
       "'(sin(x2)) * (x1)'"
      ]
     },
     "execution_count": 327,
     "metadata": {},
     "output_type": "execute_result"
    }
   ],
   "source": [
    "finaltree = tree(node(\"*\"))\n",
    "finaltree.root.leftnode = node(\"sin\")\n",
    "finaltree.root.rightnode = node(\"x1\")\n",
    "finaltree.root.leftnode.leftnode = node(\"x2\")\n",
    "showtree(finaltree.root)"
   ]
  },
  {
   "cell_type": "code",
   "execution_count": 355,
   "metadata": {},
   "outputs": [],
   "source": [
    "x1valuse = [x for x in range(0 , 300)]\n",
    "x2values = [x for x in range(-150 , 150)]\n",
    "inputValue = list( zip(x1valuse , x2values) )\n",
    "trueValues = []\n",
    "trueValues = calculateValue(inputValue , finaltree.root)"
   ]
  },
  {
   "cell_type": "code",
   "execution_count": 40,
   "metadata": {},
   "outputs": [
    {
     "name": "stdout",
     "output_type": "stream",
     "text": [
      "(cos(sin(sin((7.34) - (x2))))) - ((-0.15) - (x1))\n"
     ]
    }
   ],
   "source": [
    "# test \n",
    "# test tree with 5 depth\n",
    "testMain1 = createRandomTree(5 , CoefficientsRagne )\n",
    "# 300 input values\n",
    "x1valuse = [x for x in range(0 , 300)]\n",
    "x2values = [x for x in range(-150 , 150)]\n",
    "inputValue = list( zip(x1valuse , x2values) )\n",
    "trueValues = []\n",
    "trueValues = calculateValue(inputValue , testMain1.root)\n",
    "print(showtree(testMain1.root))"
   ]
  },
  {
   "cell_type": "code",
   "execution_count": 38,
   "metadata": {},
   "outputs": [
    {
     "data": {
      "text/plain": [
       "[-3.03,\n",
       " -2.4660517236874777,\n",
       " -0.984132741849492,\n",
       " 0.8641228495124125,\n",
       " 2.3907146841054794,\n",
       " 3.0273795053280366,\n",
       " 2.537123234950857,\n",
       " 1.1024403803208809,\n",
       " -0.742618284354826,\n",
       " -2.31124242664105,\n",
       " -3.019522553980349,\n",
       " -2.6038062855414275,\n",
       " -1.2188411282689782,\n",
       " 0.6198292127566771,\n",
       " 2.2277724144144893,\n",
       " 3.006442736121388,\n",
       " 2.665985533823033,\n",
       " 1.333133647383677,\n",
       " -0.4959680229079934,\n",
       " -2.1404490254603243,\n",
       " -2.988162675904957,\n",
       " -2.7235534283839016,\n",
       " -1.4451202459571275,\n",
       " 0.37124895744116154,\n",
       " 2.0494233029967024,\n",
       " 2.964713992341219,\n",
       " 2.7764103940682756,\n",
       " 1.5546072208309987,\n",
       " -0.24588774285555318,\n",
       " -1.9548526941660216,\n",
       " -2.936137244605321,\n",
       " -2.824465004211506,\n",
       " -1.661405192444674,\n",
       " 0.120101216375525,\n",
       " 1.8569007776986757,\n",
       " 2.9024818618821984,\n",
       " 2.8676341387806836,\n",
       " 1.7653294324050335,\n",
       " 0.005893049112836267,\n",
       " -1.7557369809710588,\n",
       " -2.8638060578689584,\n",
       " -2.905843128147347,\n",
       " -1.8662001830110273,\n",
       " -0.1318771213973572,\n",
       " 1.65153628694707,\n",
       " 2.8201767300826575,\n",
       " 2.939025882243466,\n",
       " 1.963842968180447,\n",
       " 0.2576330858970865,\n",
       " -1.5444789315102019,\n",
       " -2.7716693441477296,\n",
       " -2.9671250048774187,\n",
       " -2.0580888952411605,\n",
       " -0.3829434225889405,\n",
       " 1.4347500917096487,\n",
       " 2.7183678032631104,\n",
       " 2.9900918930121456,\n",
       " 2.148774947064658,\n",
       " 0.5075913822520437,\n",
       " -1.3225395654596506,\n",
       " -2.660364303074935,\n",
       " -3.00788682083379,\n",
       " -2.2357442640366347,\n",
       " -0.631361361378694,\n",
       " 1.2080414432461226,\n",
       " 2.5977591722057665,\n",
       " 3.020479008465425,\n",
       " 2.3188464153770734,\n",
       " 0.7540392751036649,\n",
       " -1.0914537724084779,\n",
       " -2.5306606987162725,\n",
       " -3.027846675206988,\n",
       " -2.397937659340221,\n",
       " -0.8754129275065948,\n",
       " 0.9729782145772422,\n",
       " 2.4591849427993644,\n",
       " 3.029977077209342,\n",
       " 2.4728811918446216,\n",
       " 0.9952723786472815,\n",
       " -0.8528196968600218,\n",
       " -2.3834555360309864,\n",
       " -3.026866529517308,\n",
       " -2.543547383103076,\n",
       " -1.113410307698597,\n",
       " 0.731186057379279,\n",
       " 2.3036034675246344,\n",
       " 3.018520412443529,\n",
       " 2.6098140018431644,\n",
       " 1.229622371549231,\n",
       " -0.6082876857747238,\n",
       " -2.219766857359546,\n",
       " -3.0049531622621464,\n",
       " -2.6715664267306813,\n",
       " -1.3437075582558764,\n",
       " 0.48433715929254917,\n",
       " 2.1320907176745303,\n",
       " 2.986188246238379,\n",
       " 2.7286978446300507,\n",
       " 1.4554685347334027,\n",
       " -0.3595488750906651,\n",
       " -2.040726701840466,\n",
       " -2.962258122037224,\n",
       " -2.7811094353589585,\n",
       " -1.5647119880819,\n",
       " 0.23413867939605132,\n",
       " 1.94583284214559,\n",
       " 2.933204181581431,\n",
       " 2.8287105426175665,\n",
       " 1.6712489599598377,\n",
       " -0.10832349415563536,\n",
       " -1.8475732764472004,\n",
       " -2.899076679455919,\n",
       " -2.8714188307966726,\n",
       " -1.774895173425133,\n",
       " -0.017679058173416497,\n",
       " 1.7461179642623132,\n",
       " 2.8599346459824813,\n",
       " 2.9091604273935365,\n",
       " 1.8754713516790749,\n",
       " 0.1436510310451654,\n",
       " -1.6416423927890338,\n",
       " -2.815845785114997,\n",
       " -2.9418700507891775,\n",
       " -1.9728035281610394,\n",
       " -0.2693745308070723,\n",
       " 1.5343272733661653,\n",
       " 2.766886357332041,\n",
       " 2.9694911231658723,\n",
       " 2.06672334745863,\n",
       " 0.39463209359022844,\n",
       " -1.4243582288971546,\n",
       " -2.7131410477290565,\n",
       " -2.991975868369821,\n",
       " -2.1570683565117066,\n",
       " -0.5192070614568338,\n",
       " 1.3119254727781549,\n",
       " 2.6547028195387057,\n",
       " 3.0092853945495484,\n",
       " 2.24368228560746,\n",
       " 0.6428839571530144,\n",
       " -1.1972234798858965,\n",
       " -2.5916727533323716,\n",
       " -3.021389761427071,\n",
       " -2.326415318680132,\n",
       " -0.7654488568198395,\n",
       " 1.0804506501948723,\n",
       " 2.524159872181078,\n",
       " 3.0282680320856237,\n",
       " 2.4051243524475785,\n",
       " 0.8866897600174278,\n",
       " -0.961808965604696,\n",
       " -2.4522809530784992,\n",
       " -3.029908309184204,\n",
       " -2.479673243937165,\n",
       " -1.0063969564217012,\n",
       " 0.8415036405723979,\n",
       " 2.376160324951671,\n",
       " 3.026307755536412,\n",
       " 2.549933045972,\n",
       " 1.124363388560548,\n",
       " -0.7197427671529747,\n",
       " -2.2959296536094853,\n",
       " -3.017472599017923,\n",
       " -2.615782230210883,\n",
       " -1.2403850099607319,\n",
       " 0.596736955062547,\n",
       " 2.21172771400034,\n",
       " 3.003418121794143,\n",
       " 2.6771068973558716,\n",
       " 1.354261138087091,\n",
       " -0.47269896738714184,\n",
       " -2.1237001501730988,\n",
       " -2.9841686338866356,\n",
       " -2.73380097416368,\n",
       " -1.4657948014631232,\n",
       " 0.34784335256616256,\n",
       " 2.0319992233568613,\n",
       " 2.959757431124117,\n",
       " 2.78576639692068,\n",
       " 1.5747930803721701,\n",
       " -0.22238607328836626,\n",
       " -1.9367835485945593,\n",
       " -2.930226737550675,\n",
       " -2.8329132810635107,\n",
       " -1.6810674405508519,\n",
       " 0.09654413294119311,\n",
       " 1.8382178203868185,\n",
       " 2.895627632390822,\n",
       " 2.8751600766524246,\n",
       " 1.7844340592964143,\n",
       " 0.029464799740004346,\n",
       " -1.7364725278198836,\n",
       " -2.8560199616978528,\n",
       " -2.9124337094282113,\n",
       " -1.884714143424875,\n",
       " -0.15542276717315273,\n",
       " 1.631723659670628,\n",
       " 2.8114722348381322,\n",
       " 2.944669707208605,\n",
       " 1.9817342385295957,\n",
       " 0.28111189993091246,\n",
       " -1.5241523999991098,\n",
       " -2.7620615059904314,\n",
       " -2.9718123114058863,\n",
       " -2.0753265290050336,\n",
       " -0.40631479358900574,\n",
       " 1.4139448147543152,\n",
       " 2.7078732408654673,\n",
       " 2.9938145734723913,\n",
       " 2.1653291283175413,\n",
       " 0.5308148847707028,\n",
       " -1.3012915299362435,\n",
       " -2.649001168875771,\n",
       " -3.010638436107464,\n",
       " -2.2515863590203082,\n",
       " -0.6543968257362495,\n",
       " 1.1863874018700729,\n",
       " 2.5855471210121044,\n",
       " 3.0222547990850916,\n",
       " 2.3339490220285017,\n",
       " 0.7768468568700708,\n",
       " -1.0694311801633984,\n",
       " -2.5176208537063753,\n",
       " -3.0286435695885805,\n",
       " -2.412274654688932,\n",
       " -0.8979531764201564,\n",
       " 0.9506251639288228,\n",
       " 2.4453398589860686,\n",
       " 3.029793696965083,\n",
       " 2.4864277771975956,\n",
       " 1.017506306851772,\n",
       " -0.8301748518677716,\n",
       " -2.368829161248147,\n",
       " -3.025703191839909,\n",
       " -2.5562801269389728,\n",
       " -1.1352994571805526,\n",
       " 0.7082885868191838,\n",
       " 2.2882211010047175,\n",
       " 3.016379129557532,\n",
       " 2.6217108803419893,\n",
       " 1.251128880658677,\n",
       " -0.585177195389096,\n",
       " -2.203655105973527,\n",
       " -3.0018376379433866,\n",
       " -2.682606861868196,\n",
       " -1.3647942271958213,\n",
       " 0.4610536232840623,\n",
       " 2.1152774499099607,\n",
       " 2.9821038694075703,\n",
       " 2.7388627397716316,\n",
       " 1.4760988899041245,\n",
       " -0.33613256697874244,\n",
       " -2.023240999597472,\n",
       " -2.957211957438734,\n",
       " -2.7903812082910324,\n",
       " -1.584850345169335,\n",
       " 0.21063010235603552,\n",
       " 1.9277049504337374,\n",
       " 2.927204957563428,\n",
       " 2.8370731559595286,\n",
       " 1.6908604856587195,\n",
       " -0.08476331096040508,\n",
       " -1.828834551070841,\n",
       " -2.8921347728728932,\n",
       " -2.878857819740821,\n",
       " -1.7939459456901445,\n",
       " -0.04125009548786548,\n",
       " 1.7268008175845224,\n",
       " 2.8520620642464416,\n",
       " 2.915662924724772,\n",
       " 1.8939284183998777,\n",
       " 0.1671921516684303,\n",
       " -1.621780237667825,\n",
       " -2.8070561454262815,\n",
       " -2.947424809141407,\n",
       " -1.9906349641594467,\n",
       " -0.2928450156757206,\n",
       " 1.5139544653605062,\n",
       " 2.757194863125598,\n",
       " 2.97408853447661,\n",
       " 2.083898309709508,\n",
       " 0.4179913458194536,\n",
       " -1.4035100068418451,\n",
       " -2.7025644623771727,\n",
       " -2.995607980499229,\n",
       " -2.1735571374922364,\n",
       " -0.5424146765607794,\n",
       " 1.2906378978314499,\n",
       " 2.643259437355248,\n",
       " 3.01194592503527,\n",
       " 2.2594563646821633,\n",
       " 0.6658997929325191,\n",
       " -1.175533373154585,\n",
       " -2.579382367929225,\n",
       " -3.023074108350982,\n",
       " -2.3414474114330845,\n",
       " -0.7882331027962938,\n",
       " 1.058395529044672,\n",
       " 2.5110437422311787,\n",
       " 3.0289732820337654]"
      ]
     },
     "execution_count": 38,
     "metadata": {},
     "output_type": "execute_result"
    }
   ],
   "source": [
    "trueValues"
   ]
  },
  {
   "cell_type": "code",
   "execution_count": 41,
   "metadata": {},
   "outputs": [
    {
     "name": "stdout",
     "output_type": "stream",
     "text": [
      "18386.435526481062\n",
      "33.78016641502246\n",
      "25.186505786236538\n",
      "20.15152562580969\n",
      "13.005546371603094\n",
      "3.04837854940486\n",
      "1.327202332841835\n",
      "1.1229569003124673\n",
      "1.034276737129226\n",
      "0.9743908390579789\n",
      "0.8255537487490819\n",
      "0.7666479843371773\n",
      "0.6851726457549056\n",
      "0.5645242075433966\n",
      "0.37952878482932056\n",
      "0.29909505420111143\n",
      "0.21866132357290238\n",
      "0.21866132357290238\n",
      "0.21866132357290238\n"
     ]
    }
   ],
   "source": [
    "AllData , legends , bestNode , allTrees = general_algorithm(100 , 5 , 20 , inputValue , trueValues , AllData) "
   ]
  },
  {
   "cell_type": "code",
   "execution_count": 42,
   "metadata": {},
   "outputs": [
    {
     "data": {
      "text/plain": [
       "(20, 100)"
      ]
     },
     "execution_count": 42,
     "metadata": {},
     "output_type": "execute_result"
    }
   ],
   "source": [
    "np.shape(AllData)"
   ]
  },
  {
   "cell_type": "code",
   "execution_count": 43,
   "metadata": {},
   "outputs": [],
   "source": [
    "legends = np.transpose(legends)\n",
    "np.shape(legends)\n",
    "avg_of_legends = legends.mean(axis=0)"
   ]
  },
  {
   "cell_type": "code",
   "execution_count": 44,
   "metadata": {},
   "outputs": [
    {
     "data": {
      "text/plain": [
       "array([1.83864355e+04, 3.37801664e+01, 2.51865058e+01, 2.01515256e+01,\n",
       "       1.30055464e+01, 3.04837855e+00, 1.32720233e+00, 1.12295690e+00,\n",
       "       1.03427674e+00, 9.74390839e-01, 8.25553749e-01, 7.66647984e-01,\n",
       "       6.85172646e-01, 5.64524208e-01, 3.79528785e-01, 2.99095054e-01,\n",
       "       2.18661324e-01, 2.18661324e-01, 2.18661324e-01, 2.18661324e-01])"
      ]
     },
     "execution_count": 44,
     "metadata": {},
     "output_type": "execute_result"
    }
   ],
   "source": [
    "avg_of_legends"
   ]
  },
  {
   "cell_type": "code",
   "execution_count": 45,
   "metadata": {},
   "outputs": [
    {
     "data": {
      "application/vnd.plotly.v1+json": {
       "config": {
        "plotlyServerURL": "https://plot.ly"
       },
       "data": [
        {
         "hovertemplate": "variable=0<br>index=%{x}<br>value=%{y}<extra></extra>",
         "legendgroup": "0",
         "line": {
          "color": "#636efa",
          "dash": "solid"
         },
         "marker": {
          "symbol": "circle"
         },
         "mode": "lines",
         "name": "0",
         "orientation": "v",
         "showlegend": true,
         "type": "scatter",
         "x": [
          0,
          1,
          2,
          3,
          4,
          5,
          6,
          7,
          8,
          9,
          10,
          11,
          12,
          13,
          14,
          15,
          16,
          17,
          18,
          19
         ],
         "xaxis": "x",
         "y": [
          18386.435526481062,
          33.78016641502246,
          25.186505786236538,
          20.15152562580969,
          13.005546371603094,
          3.04837854940486,
          1.327202332841835,
          1.1229569003124673,
          1.034276737129226,
          0.9743908390579789,
          0.8255537487490819,
          0.7666479843371773,
          0.6851726457549056,
          0.5645242075433966,
          0.37952878482932056,
          0.29909505420111143,
          0.21866132357290238,
          0.21866132357290238,
          0.21866132357290238,
          0.21866132357290238
         ],
         "yaxis": "y"
        }
       ],
       "layout": {
        "legend": {
         "title": {
          "text": "variable"
         },
         "tracegroupgap": 0
        },
        "margin": {
         "t": 60
        },
        "template": {
         "data": {
          "bar": [
           {
            "error_x": {
             "color": "#2a3f5f"
            },
            "error_y": {
             "color": "#2a3f5f"
            },
            "marker": {
             "line": {
              "color": "#E5ECF6",
              "width": 0.5
             },
             "pattern": {
              "fillmode": "overlay",
              "size": 10,
              "solidity": 0.2
             }
            },
            "type": "bar"
           }
          ],
          "barpolar": [
           {
            "marker": {
             "line": {
              "color": "#E5ECF6",
              "width": 0.5
             },
             "pattern": {
              "fillmode": "overlay",
              "size": 10,
              "solidity": 0.2
             }
            },
            "type": "barpolar"
           }
          ],
          "carpet": [
           {
            "aaxis": {
             "endlinecolor": "#2a3f5f",
             "gridcolor": "white",
             "linecolor": "white",
             "minorgridcolor": "white",
             "startlinecolor": "#2a3f5f"
            },
            "baxis": {
             "endlinecolor": "#2a3f5f",
             "gridcolor": "white",
             "linecolor": "white",
             "minorgridcolor": "white",
             "startlinecolor": "#2a3f5f"
            },
            "type": "carpet"
           }
          ],
          "choropleth": [
           {
            "colorbar": {
             "outlinewidth": 0,
             "ticks": ""
            },
            "type": "choropleth"
           }
          ],
          "contour": [
           {
            "colorbar": {
             "outlinewidth": 0,
             "ticks": ""
            },
            "colorscale": [
             [
              0,
              "#0d0887"
             ],
             [
              0.1111111111111111,
              "#46039f"
             ],
             [
              0.2222222222222222,
              "#7201a8"
             ],
             [
              0.3333333333333333,
              "#9c179e"
             ],
             [
              0.4444444444444444,
              "#bd3786"
             ],
             [
              0.5555555555555556,
              "#d8576b"
             ],
             [
              0.6666666666666666,
              "#ed7953"
             ],
             [
              0.7777777777777778,
              "#fb9f3a"
             ],
             [
              0.8888888888888888,
              "#fdca26"
             ],
             [
              1,
              "#f0f921"
             ]
            ],
            "type": "contour"
           }
          ],
          "contourcarpet": [
           {
            "colorbar": {
             "outlinewidth": 0,
             "ticks": ""
            },
            "type": "contourcarpet"
           }
          ],
          "heatmap": [
           {
            "colorbar": {
             "outlinewidth": 0,
             "ticks": ""
            },
            "colorscale": [
             [
              0,
              "#0d0887"
             ],
             [
              0.1111111111111111,
              "#46039f"
             ],
             [
              0.2222222222222222,
              "#7201a8"
             ],
             [
              0.3333333333333333,
              "#9c179e"
             ],
             [
              0.4444444444444444,
              "#bd3786"
             ],
             [
              0.5555555555555556,
              "#d8576b"
             ],
             [
              0.6666666666666666,
              "#ed7953"
             ],
             [
              0.7777777777777778,
              "#fb9f3a"
             ],
             [
              0.8888888888888888,
              "#fdca26"
             ],
             [
              1,
              "#f0f921"
             ]
            ],
            "type": "heatmap"
           }
          ],
          "heatmapgl": [
           {
            "colorbar": {
             "outlinewidth": 0,
             "ticks": ""
            },
            "colorscale": [
             [
              0,
              "#0d0887"
             ],
             [
              0.1111111111111111,
              "#46039f"
             ],
             [
              0.2222222222222222,
              "#7201a8"
             ],
             [
              0.3333333333333333,
              "#9c179e"
             ],
             [
              0.4444444444444444,
              "#bd3786"
             ],
             [
              0.5555555555555556,
              "#d8576b"
             ],
             [
              0.6666666666666666,
              "#ed7953"
             ],
             [
              0.7777777777777778,
              "#fb9f3a"
             ],
             [
              0.8888888888888888,
              "#fdca26"
             ],
             [
              1,
              "#f0f921"
             ]
            ],
            "type": "heatmapgl"
           }
          ],
          "histogram": [
           {
            "marker": {
             "pattern": {
              "fillmode": "overlay",
              "size": 10,
              "solidity": 0.2
             }
            },
            "type": "histogram"
           }
          ],
          "histogram2d": [
           {
            "colorbar": {
             "outlinewidth": 0,
             "ticks": ""
            },
            "colorscale": [
             [
              0,
              "#0d0887"
             ],
             [
              0.1111111111111111,
              "#46039f"
             ],
             [
              0.2222222222222222,
              "#7201a8"
             ],
             [
              0.3333333333333333,
              "#9c179e"
             ],
             [
              0.4444444444444444,
              "#bd3786"
             ],
             [
              0.5555555555555556,
              "#d8576b"
             ],
             [
              0.6666666666666666,
              "#ed7953"
             ],
             [
              0.7777777777777778,
              "#fb9f3a"
             ],
             [
              0.8888888888888888,
              "#fdca26"
             ],
             [
              1,
              "#f0f921"
             ]
            ],
            "type": "histogram2d"
           }
          ],
          "histogram2dcontour": [
           {
            "colorbar": {
             "outlinewidth": 0,
             "ticks": ""
            },
            "colorscale": [
             [
              0,
              "#0d0887"
             ],
             [
              0.1111111111111111,
              "#46039f"
             ],
             [
              0.2222222222222222,
              "#7201a8"
             ],
             [
              0.3333333333333333,
              "#9c179e"
             ],
             [
              0.4444444444444444,
              "#bd3786"
             ],
             [
              0.5555555555555556,
              "#d8576b"
             ],
             [
              0.6666666666666666,
              "#ed7953"
             ],
             [
              0.7777777777777778,
              "#fb9f3a"
             ],
             [
              0.8888888888888888,
              "#fdca26"
             ],
             [
              1,
              "#f0f921"
             ]
            ],
            "type": "histogram2dcontour"
           }
          ],
          "mesh3d": [
           {
            "colorbar": {
             "outlinewidth": 0,
             "ticks": ""
            },
            "type": "mesh3d"
           }
          ],
          "parcoords": [
           {
            "line": {
             "colorbar": {
              "outlinewidth": 0,
              "ticks": ""
             }
            },
            "type": "parcoords"
           }
          ],
          "pie": [
           {
            "automargin": true,
            "type": "pie"
           }
          ],
          "scatter": [
           {
            "fillpattern": {
             "fillmode": "overlay",
             "size": 10,
             "solidity": 0.2
            },
            "type": "scatter"
           }
          ],
          "scatter3d": [
           {
            "line": {
             "colorbar": {
              "outlinewidth": 0,
              "ticks": ""
             }
            },
            "marker": {
             "colorbar": {
              "outlinewidth": 0,
              "ticks": ""
             }
            },
            "type": "scatter3d"
           }
          ],
          "scattercarpet": [
           {
            "marker": {
             "colorbar": {
              "outlinewidth": 0,
              "ticks": ""
             }
            },
            "type": "scattercarpet"
           }
          ],
          "scattergeo": [
           {
            "marker": {
             "colorbar": {
              "outlinewidth": 0,
              "ticks": ""
             }
            },
            "type": "scattergeo"
           }
          ],
          "scattergl": [
           {
            "marker": {
             "colorbar": {
              "outlinewidth": 0,
              "ticks": ""
             }
            },
            "type": "scattergl"
           }
          ],
          "scattermapbox": [
           {
            "marker": {
             "colorbar": {
              "outlinewidth": 0,
              "ticks": ""
             }
            },
            "type": "scattermapbox"
           }
          ],
          "scatterpolar": [
           {
            "marker": {
             "colorbar": {
              "outlinewidth": 0,
              "ticks": ""
             }
            },
            "type": "scatterpolar"
           }
          ],
          "scatterpolargl": [
           {
            "marker": {
             "colorbar": {
              "outlinewidth": 0,
              "ticks": ""
             }
            },
            "type": "scatterpolargl"
           }
          ],
          "scatterternary": [
           {
            "marker": {
             "colorbar": {
              "outlinewidth": 0,
              "ticks": ""
             }
            },
            "type": "scatterternary"
           }
          ],
          "surface": [
           {
            "colorbar": {
             "outlinewidth": 0,
             "ticks": ""
            },
            "colorscale": [
             [
              0,
              "#0d0887"
             ],
             [
              0.1111111111111111,
              "#46039f"
             ],
             [
              0.2222222222222222,
              "#7201a8"
             ],
             [
              0.3333333333333333,
              "#9c179e"
             ],
             [
              0.4444444444444444,
              "#bd3786"
             ],
             [
              0.5555555555555556,
              "#d8576b"
             ],
             [
              0.6666666666666666,
              "#ed7953"
             ],
             [
              0.7777777777777778,
              "#fb9f3a"
             ],
             [
              0.8888888888888888,
              "#fdca26"
             ],
             [
              1,
              "#f0f921"
             ]
            ],
            "type": "surface"
           }
          ],
          "table": [
           {
            "cells": {
             "fill": {
              "color": "#EBF0F8"
             },
             "line": {
              "color": "white"
             }
            },
            "header": {
             "fill": {
              "color": "#C8D4E3"
             },
             "line": {
              "color": "white"
             }
            },
            "type": "table"
           }
          ]
         },
         "layout": {
          "annotationdefaults": {
           "arrowcolor": "#2a3f5f",
           "arrowhead": 0,
           "arrowwidth": 1
          },
          "autotypenumbers": "strict",
          "coloraxis": {
           "colorbar": {
            "outlinewidth": 0,
            "ticks": ""
           }
          },
          "colorscale": {
           "diverging": [
            [
             0,
             "#8e0152"
            ],
            [
             0.1,
             "#c51b7d"
            ],
            [
             0.2,
             "#de77ae"
            ],
            [
             0.3,
             "#f1b6da"
            ],
            [
             0.4,
             "#fde0ef"
            ],
            [
             0.5,
             "#f7f7f7"
            ],
            [
             0.6,
             "#e6f5d0"
            ],
            [
             0.7,
             "#b8e186"
            ],
            [
             0.8,
             "#7fbc41"
            ],
            [
             0.9,
             "#4d9221"
            ],
            [
             1,
             "#276419"
            ]
           ],
           "sequential": [
            [
             0,
             "#0d0887"
            ],
            [
             0.1111111111111111,
             "#46039f"
            ],
            [
             0.2222222222222222,
             "#7201a8"
            ],
            [
             0.3333333333333333,
             "#9c179e"
            ],
            [
             0.4444444444444444,
             "#bd3786"
            ],
            [
             0.5555555555555556,
             "#d8576b"
            ],
            [
             0.6666666666666666,
             "#ed7953"
            ],
            [
             0.7777777777777778,
             "#fb9f3a"
            ],
            [
             0.8888888888888888,
             "#fdca26"
            ],
            [
             1,
             "#f0f921"
            ]
           ],
           "sequentialminus": [
            [
             0,
             "#0d0887"
            ],
            [
             0.1111111111111111,
             "#46039f"
            ],
            [
             0.2222222222222222,
             "#7201a8"
            ],
            [
             0.3333333333333333,
             "#9c179e"
            ],
            [
             0.4444444444444444,
             "#bd3786"
            ],
            [
             0.5555555555555556,
             "#d8576b"
            ],
            [
             0.6666666666666666,
             "#ed7953"
            ],
            [
             0.7777777777777778,
             "#fb9f3a"
            ],
            [
             0.8888888888888888,
             "#fdca26"
            ],
            [
             1,
             "#f0f921"
            ]
           ]
          },
          "colorway": [
           "#636efa",
           "#EF553B",
           "#00cc96",
           "#ab63fa",
           "#FFA15A",
           "#19d3f3",
           "#FF6692",
           "#B6E880",
           "#FF97FF",
           "#FECB52"
          ],
          "font": {
           "color": "#2a3f5f"
          },
          "geo": {
           "bgcolor": "white",
           "lakecolor": "white",
           "landcolor": "#E5ECF6",
           "showlakes": true,
           "showland": true,
           "subunitcolor": "white"
          },
          "hoverlabel": {
           "align": "left"
          },
          "hovermode": "closest",
          "mapbox": {
           "style": "light"
          },
          "paper_bgcolor": "white",
          "plot_bgcolor": "#E5ECF6",
          "polar": {
           "angularaxis": {
            "gridcolor": "white",
            "linecolor": "white",
            "ticks": ""
           },
           "bgcolor": "#E5ECF6",
           "radialaxis": {
            "gridcolor": "white",
            "linecolor": "white",
            "ticks": ""
           }
          },
          "scene": {
           "xaxis": {
            "backgroundcolor": "#E5ECF6",
            "gridcolor": "white",
            "gridwidth": 2,
            "linecolor": "white",
            "showbackground": true,
            "ticks": "",
            "zerolinecolor": "white"
           },
           "yaxis": {
            "backgroundcolor": "#E5ECF6",
            "gridcolor": "white",
            "gridwidth": 2,
            "linecolor": "white",
            "showbackground": true,
            "ticks": "",
            "zerolinecolor": "white"
           },
           "zaxis": {
            "backgroundcolor": "#E5ECF6",
            "gridcolor": "white",
            "gridwidth": 2,
            "linecolor": "white",
            "showbackground": true,
            "ticks": "",
            "zerolinecolor": "white"
           }
          },
          "shapedefaults": {
           "line": {
            "color": "#2a3f5f"
           }
          },
          "ternary": {
           "aaxis": {
            "gridcolor": "white",
            "linecolor": "white",
            "ticks": ""
           },
           "baxis": {
            "gridcolor": "white",
            "linecolor": "white",
            "ticks": ""
           },
           "bgcolor": "#E5ECF6",
           "caxis": {
            "gridcolor": "white",
            "linecolor": "white",
            "ticks": ""
           }
          },
          "title": {
           "x": 0.05
          },
          "xaxis": {
           "automargin": true,
           "gridcolor": "white",
           "linecolor": "white",
           "ticks": "",
           "title": {
            "standoff": 15
           },
           "zerolinecolor": "white",
           "zerolinewidth": 2
          },
          "yaxis": {
           "automargin": true,
           "gridcolor": "white",
           "linecolor": "white",
           "ticks": "",
           "title": {
            "standoff": 15
           },
           "zerolinecolor": "white",
           "zerolinewidth": 2
          }
         }
        },
        "xaxis": {
         "anchor": "y",
         "domain": [
          0,
          1
         ],
         "title": {
          "text": "index"
         }
        },
        "yaxis": {
         "anchor": "x",
         "domain": [
          0,
          1
         ],
         "title": {
          "text": "value"
         }
        }
       }
      }
     },
     "metadata": {},
     "output_type": "display_data"
    }
   ],
   "source": [
    "# line plot of growing the bests\n",
    "px.line(avg_of_legends)"
   ]
  },
  {
   "cell_type": "code",
   "execution_count": 511,
   "metadata": {},
   "outputs": [
    {
     "data": {
      "text/plain": [
       "'cos((-2.08) - (sin(x1)))'"
      ]
     },
     "execution_count": 511,
     "metadata": {},
     "output_type": "execute_result"
    }
   ],
   "source": [
    "showtree( allTrees[-1][-1].root )"
   ]
  },
  {
   "cell_type": "code",
   "execution_count": 46,
   "metadata": {},
   "outputs": [
    {
     "data": {
      "text/plain": [
       "'(x1) - (-1.15)'"
      ]
     },
     "execution_count": 46,
     "metadata": {},
     "output_type": "execute_result"
    }
   ],
   "source": [
    "showtree(bestNode.root)"
   ]
  },
  {
   "cell_type": "code",
   "execution_count": 47,
   "metadata": {},
   "outputs": [
    {
     "data": {
      "text/plain": [
       "'(cos(sin(sin((7.34) - (x2))))) - ((-0.15) - (x1))'"
      ]
     },
     "execution_count": 47,
     "metadata": {},
     "output_type": "execute_result"
    }
   ],
   "source": [
    "showtree(testMain1.root )"
   ]
  },
  {
   "cell_type": "code",
   "execution_count": 49,
   "metadata": {},
   "outputs": [
    {
     "data": {
      "image/png": "[encoded data removed]",
      "text/plain": [
       "<Figure size 640x480 with 1 Axes>"
      ]
     },
     "metadata": {},
     "output_type": "display_data"
    }
   ],
   "source": [
    "fig = plt.figure()\n",
    "ax = fig.add_subplot(111,projection='3d')\n",
    "\n",
    "ax.scatter(x1valuse , x2values , calculateValue(inputValue , bestNode.root) , color = 'r' , marker =\"^\" )\n",
    "ax.scatter(x1valuse , x2values , trueValues , color = 'b' , marker =\"o\" )\n",
    "ax.set_xlabel('X1_Axis')\n",
    "ax.set_ylabel('X2_Axis')\n",
    "ax.set_zlabel('Z_Axis')\n",
    "plt.show()"
   ]
  },
  {
   "cell_type": "code",
   "execution_count": 50,
   "metadata": {},
   "outputs": [
    {
     "data": {
      "application/vnd.plotly.v1+json": {
       "config": {
        "plotlyServerURL": "https://plot.ly"
       },
       "data": [
        {
         "hovertemplate": "x=%{x}<br>y=%{y}<br>z=%{z}<extra></extra>",
         "legendgroup": "",
         "marker": {
          "color": "#636efa",
          "symbol": "circle"
         },
         "mode": "markers",
         "name": "",
         "scene": "scene",
         "showlegend": false,
         "type": "scatter3d",
         "x": [
          0,
          1,
          2,
          3,
          4,
          5,
          6,
          7,
          8,
          9,
          10,
          11,
          12,
          13,
          14,
          15,
          16,
          17,
          18,
          19,
          20,
          21,
          22,
          23,
          24,
          25,
          26,
          27,
          28,
          29,
          30,
          31,
          32,
          33,
          34,
          35,
          36,
          37,
          38,
          39,
          40,
          41,
          42,
          43,
          44,
          45,
          46,
          47,
          48,
          49,
          50,
          51,
          52,
          53,
          54,
          55,
          56,
          57,
          58,
          59,
          60,
          61,
          62,
          63,
          64,
          65,
          66,
          67,
          68,
          69,
          70,
          71,
          72,
          73,
          74,
          75,
          76,
          77,
          78,
          79,
          80,
          81,
          82,
          83,
          84,
          85,
          86,
          87,
          88,
          89,
          90,
          91,
          92,
          93,
          94,
          95,
          96,
          97,
          98,
          99,
          100,
          101,
          102,
          103,
          104,
          105,
          106,
          107,
          108,
          109,
          110,
          111,
          112,
          113,
          114,
          115,
          116,
          117,
          118,
          119,
          120,
          121,
          122,
          123,
          124,
          125,
          126,
          127,
          128,
          129,
          130,
          131,
          132,
          133,
          134,
          135,
          136,
          137,
          138,
          139,
          140,
          141,
          142,
          143,
          144,
          145,
          146,
          147,
          148,
          149,
          150,
          151,
          152,
          153,
          154,
          155,
          156,
          157,
          158,
          159,
          160,
          161,
          162,
          163,
          164,
          165,
          166,
          167,
          168,
          169,
          170,
          171,
          172,
          173,
          174,
          175,
          176,
          177,
          178,
          179,
          180,
          181,
          182,
          183,
          184,
          185,
          186,
          187,
          188,
          189,
          190,
          191,
          192,
          193,
          194,
          195,
          196,
          197,
          198,
          199,
          200,
          201,
          202,
          203,
          204,
          205,
          206,
          207,
          208,
          209,
          210,
          211,
          212,
          213,
          214,
          215,
          216,
          217,
          218,
          219,
          220,
          221,
          222,
          223,
          224,
          225,
          226,
          227,
          228,
          229,
          230,
          231,
          232,
          233,
          234,
          235,
          236,
          237,
          238,
          239,
          240,
          241,
          242,
          243,
          244,
          245,
          246,
          247,
          248,
          249,
          250,
          251,
          252,
          253,
          254,
          255,
          256,
          257,
          258,
          259,
          260,
          261,
          262,
          263,
          264,
          265,
          266,
          267,
          268,
          269,
          270,
          271,
          272,
          273,
          274,
          275,
          276,
          277,
          278,
          279,
          280,
          281,
          282,
          283,
          284,
          285,
          286,
          287,
          288,
          289,
          290,
          291,
          292,
          293,
          294,
          295,
          296,
          297,
          298,
          299
         ],
         "y": [
          -150,
          -149,
          -148,
          -147,
          -146,
          -145,
          -144,
          -143,
          -142,
          -141,
          -140,
          -139,
          -138,
          -137,
          -136,
          -135,
          -134,
          -133,
          -132,
          -131,
          -130,
          -129,
          -128,
          -127,
          -126,
          -125,
          -124,
          -123,
          -122,
          -121,
          -120,
          -119,
          -118,
          -117,
          -116,
          -115,
          -114,
          -113,
          -112,
          -111,
          -110,
          -109,
          -108,
          -107,
          -106,
          -105,
          -104,
          -103,
          -102,
          -101,
          -100,
          -99,
          -98,
          -97,
          -96,
          -95,
          -94,
          -93,
          -92,
          -91,
          -90,
          -89,
          -88,
          -87,
          -86,
          -85,
          -84,
          -83,
          -82,
          -81,
          -80,
          -79,
          -78,
          -77,
          -76,
          -75,
          -74,
          -73,
          -72,
          -71,
          -70,
          -69,
          -68,
          -67,
          -66,
          -65,
          -64,
          -63,
          -62,
          -61,
          -60,
          -59,
          -58,
          -57,
          -56,
          -55,
          -54,
          -53,
          -52,
          -51,
          -50,
          -49,
          -48,
          -47,
          -46,
          -45,
          -44,
          -43,
          -42,
          -41,
          -40,
          -39,
          -38,
          -37,
          -36,
          -35,
          -34,
          -33,
          -32,
          -31,
          -30,
          -29,
          -28,
          -27,
          -26,
          -25,
          -24,
          -23,
          -22,
          -21,
          -20,
          -19,
          -18,
          -17,
          -16,
          -15,
          -14,
          -13,
          -12,
          -11,
          -10,
          -9,
          -8,
          -7,
          -6,
          -5,
          -4,
          -3,
          -2,
          -1,
          0,
          1,
          2,
          3,
          4,
          5,
          6,
          7,
          8,
          9,
          10,
          11,
          12,
          13,
          14,
          15,
          16,
          17,
          18,
          19,
          20,
          21,
          22,
          23,
          24,
          25,
          26,
          27,
          28,
          29,
          30,
          31,
          32,
          33,
          34,
          35,
          36,
          37,
          38,
          39,
          40,
          41,
          42,
          43,
          44,
          45,
          46,
          47,
          48,
          49,
          50,
          51,
          52,
          53,
          54,
          55,
          56,
          57,
          58,
          59,
          60,
          61,
          62,
          63,
          64,
          65,
          66,
          67,
          68,
          69,
          70,
          71,
          72,
          73,
          74,
          75,
          76,
          77,
          78,
          79,
          80,
          81,
          82,
          83,
          84,
          85,
          86,
          87,
          88,
          89,
          90,
          91,
          92,
          93,
          94,
          95,
          96,
          97,
          98,
          99,
          100,
          101,
          102,
          103,
          104,
          105,
          106,
          107,
          108,
          109,
          110,
          111,
          112,
          113,
          114,
          115,
          116,
          117,
          118,
          119,
          120,
          121,
          122,
          123,
          124,
          125,
          126,
          127,
          128,
          129,
          130,
          131,
          132,
          133,
          134,
          135,
          136,
          137,
          138,
          139,
          140,
          141,
          142,
          143,
          144,
          145,
          146,
          147,
          148,
          149
         ],
         "z": [
          1.15,
          2.15,
          3.15,
          4.15,
          5.15,
          6.15,
          7.15,
          8.15,
          9.15,
          10.15,
          11.15,
          12.15,
          13.15,
          14.15,
          15.15,
          16.15,
          17.15,
          18.15,
          19.15,
          20.15,
          21.15,
          22.15,
          23.15,
          24.15,
          25.15,
          26.15,
          27.15,
          28.15,
          29.15,
          30.15,
          31.15,
          32.15,
          33.15,
          34.15,
          35.15,
          36.15,
          37.15,
          38.15,
          39.15,
          40.15,
          41.15,
          42.15,
          43.15,
          44.15,
          45.15,
          46.15,
          47.15,
          48.15,
          49.15,
          50.15,
          51.15,
          52.15,
          53.15,
          54.15,
          55.15,
          56.15,
          57.15,
          58.15,
          59.15,
          60.15,
          61.15,
          62.15,
          63.15,
          64.15,
          65.15,
          66.15,
          67.15,
          68.15,
          69.15,
          70.15,
          71.15,
          72.15,
          73.15,
          74.15,
          75.15,
          76.15,
          77.15,
          78.15,
          79.15,
          80.15,
          81.15,
          82.15,
          83.15,
          84.15,
          85.15,
          86.15,
          87.15,
          88.15,
          89.15,
          90.15,
          91.15,
          92.15,
          93.15,
          94.15,
          95.15,
          96.15,
          97.15,
          98.15,
          99.15,
          100.15,
          101.15,
          102.15,
          103.15,
          104.15,
          105.15,
          106.15,
          107.15,
          108.15,
          109.15,
          110.15,
          111.15,
          112.15,
          113.15,
          114.15,
          115.15,
          116.15,
          117.15,
          118.15,
          119.15,
          120.15,
          121.15,
          122.15,
          123.15,
          124.15,
          125.15,
          126.15,
          127.15,
          128.15,
          129.15,
          130.15,
          131.15,
          132.15,
          133.15,
          134.15,
          135.15,
          136.15,
          137.15,
          138.15,
          139.15,
          140.15,
          141.15,
          142.15,
          143.15,
          144.15,
          145.15,
          146.15,
          147.15,
          148.15,
          149.15,
          150.15,
          151.15,
          152.15,
          153.15,
          154.15,
          155.15,
          156.15,
          157.15,
          158.15,
          159.15,
          160.15,
          161.15,
          162.15,
          163.15,
          164.15,
          165.15,
          166.15,
          167.15,
          168.15,
          169.15,
          170.15,
          171.15,
          172.15,
          173.15,
          174.15,
          175.15,
          176.15,
          177.15,
          178.15,
          179.15,
          180.15,
          181.15,
          182.15,
          183.15,
          184.15,
          185.15,
          186.15,
          187.15,
          188.15,
          189.15,
          190.15,
          191.15,
          192.15,
          193.15,
          194.15,
          195.15,
          196.15,
          197.15,
          198.15,
          199.15,
          200.15,
          201.15,
          202.15,
          203.15,
          204.15,
          205.15,
          206.15,
          207.15,
          208.15,
          209.15,
          210.15,
          211.15,
          212.15,
          213.15,
          214.15,
          215.15,
          216.15,
          217.15,
          218.15,
          219.15,
          220.15,
          221.15,
          222.15,
          223.15,
          224.15,
          225.15,
          226.15,
          227.15,
          228.15,
          229.15,
          230.15,
          231.15,
          232.15,
          233.15,
          234.15,
          235.15,
          236.15,
          237.15,
          238.15,
          239.15,
          240.15,
          241.15,
          242.15,
          243.15,
          244.15,
          245.15,
          246.15,
          247.15,
          248.15,
          249.15,
          250.15,
          251.15,
          252.15,
          253.15,
          254.15,
          255.15,
          256.15,
          257.15,
          258.15,
          259.15,
          260.15,
          261.15,
          262.15,
          263.15,
          264.15,
          265.15,
          266.15,
          267.15,
          268.15,
          269.15,
          270.15,
          271.15,
          272.15,
          273.15,
          274.15,
          275.15,
          276.15,
          277.15,
          278.15,
          279.15,
          280.15,
          281.15,
          282.15,
          283.15,
          284.15,
          285.15,
          286.15,
          287.15,
          288.15,
          289.15,
          290.15,
          291.15,
          292.15,
          293.15,
          294.15,
          295.15,
          296.15,
          297.15,
          298.15,
          299.15,
          300.15
         ]
        },
        {
         "mode": "markers",
         "type": "scatter3d",
         "x": [
          0,
          1,
          2,
          3,
          4,
          5,
          6,
          7,
          8,
          9,
          10,
          11,
          12,
          13,
          14,
          15,
          16,
          17,
          18,
          19,
          20,
          21,
          22,
          23,
          24,
          25,
          26,
          27,
          28,
          29,
          30,
          31,
          32,
          33,
          34,
          35,
          36,
          37,
          38,
          39,
          40,
          41,
          42,
          43,
          44,
          45,
          46,
          47,
          48,
          49,
          50,
          51,
          52,
          53,
          54,
          55,
          56,
          57,
          58,
          59,
          60,
          61,
          62,
          63,
          64,
          65,
          66,
          67,
          68,
          69,
          70,
          71,
          72,
          73,
          74,
          75,
          76,
          77,
          78,
          79,
          80,
          81,
          82,
          83,
          84,
          85,
          86,
          87,
          88,
          89,
          90,
          91,
          92,
          93,
          94,
          95,
          96,
          97,
          98,
          99,
          100,
          101,
          102,
          103,
          104,
          105,
          106,
          107,
          108,
          109,
          110,
          111,
          112,
          113,
          114,
          115,
          116,
          117,
          118,
          119,
          120,
          121,
          122,
          123,
          124,
          125,
          126,
          127,
          128,
          129,
          130,
          131,
          132,
          133,
          134,
          135,
          136,
          137,
          138,
          139,
          140,
          141,
          142,
          143,
          144,
          145,
          146,
          147,
          148,
          149,
          150,
          151,
          152,
          153,
          154,
          155,
          156,
          157,
          158,
          159,
          160,
          161,
          162,
          163,
          164,
          165,
          166,
          167,
          168,
          169,
          170,
          171,
          172,
          173,
          174,
          175,
          176,
          177,
          178,
          179,
          180,
          181,
          182,
          183,
          184,
          185,
          186,
          187,
          188,
          189,
          190,
          191,
          192,
          193,
          194,
          195,
          196,
          197,
          198,
          199,
          200,
          201,
          202,
          203,
          204,
          205,
          206,
          207,
          208,
          209,
          210,
          211,
          212,
          213,
          214,
          215,
          216,
          217,
          218,
          219,
          220,
          221,
          222,
          223,
          224,
          225,
          226,
          227,
          228,
          229,
          230,
          231,
          232,
          233,
          234,
          235,
          236,
          237,
          238,
          239,
          240,
          241,
          242,
          243,
          244,
          245,
          246,
          247,
          248,
          249,
          250,
          251,
          252,
          253,
          254,
          255,
          256,
          257,
          258,
          259,
          260,
          261,
          262,
          263,
          264,
          265,
          266,
          267,
          268,
          269,
          270,
          271,
          272,
          273,
          274,
          275,
          276,
          277,
          278,
          279,
          280,
          281,
          282,
          283,
          284,
          285,
          286,
          287,
          288,
          289,
          290,
          291,
          292,
          293,
          294,
          295,
          296,
          297,
          298,
          299
         ],
         "y": [
          -150,
          -149,
          -148,
          -147,
          -146,
          -145,
          -144,
          -143,
          -142,
          -141,
          -140,
          -139,
          -138,
          -137,
          -136,
          -135,
          -134,
          -133,
          -132,
          -131,
          -130,
          -129,
          -128,
          -127,
          -126,
          -125,
          -124,
          -123,
          -122,
          -121,
          -120,
          -119,
          -118,
          -117,
          -116,
          -115,
          -114,
          -113,
          -112,
          -111,
          -110,
          -109,
          -108,
          -107,
          -106,
          -105,
          -104,
          -103,
          -102,
          -101,
          -100,
          -99,
          -98,
          -97,
          -96,
          -95,
          -94,
          -93,
          -92,
          -91,
          -90,
          -89,
          -88,
          -87,
          -86,
          -85,
          -84,
          -83,
          -82,
          -81,
          -80,
          -79,
          -78,
          -77,
          -76,
          -75,
          -74,
          -73,
          -72,
          -71,
          -70,
          -69,
          -68,
          -67,
          -66,
          -65,
          -64,
          -63,
          -62,
          -61,
          -60,
          -59,
          -58,
          -57,
          -56,
          -55,
          -54,
          -53,
          -52,
          -51,
          -50,
          -49,
          -48,
          -47,
          -46,
          -45,
          -44,
          -43,
          -42,
          -41,
          -40,
          -39,
          -38,
          -37,
          -36,
          -35,
          -34,
          -33,
          -32,
          -31,
          -30,
          -29,
          -28,
          -27,
          -26,
          -25,
          -24,
          -23,
          -22,
          -21,
          -20,
          -19,
          -18,
          -17,
          -16,
          -15,
          -14,
          -13,
          -12,
          -11,
          -10,
          -9,
          -8,
          -7,
          -6,
          -5,
          -4,
          -3,
          -2,
          -1,
          0,
          1,
          2,
          3,
          4,
          5,
          6,
          7,
          8,
          9,
          10,
          11,
          12,
          13,
          14,
          15,
          16,
          17,
          18,
          19,
          20,
          21,
          22,
          23,
          24,
          25,
          26,
          27,
          28,
          29,
          30,
          31,
          32,
          33,
          34,
          35,
          36,
          37,
          38,
          39,
          40,
          41,
          42,
          43,
          44,
          45,
          46,
          47,
          48,
          49,
          50,
          51,
          52,
          53,
          54,
          55,
          56,
          57,
          58,
          59,
          60,
          61,
          62,
          63,
          64,
          65,
          66,
          67,
          68,
          69,
          70,
          71,
          72,
          73,
          74,
          75,
          76,
          77,
          78,
          79,
          80,
          81,
          82,
          83,
          84,
          85,
          86,
          87,
          88,
          89,
          90,
          91,
          92,
          93,
          94,
          95,
          96,
          97,
          98,
          99,
          100,
          101,
          102,
          103,
          104,
          105,
          106,
          107,
          108,
          109,
          110,
          111,
          112,
          113,
          114,
          115,
          116,
          117,
          118,
          119,
          120,
          121,
          122,
          123,
          124,
          125,
          126,
          127,
          128,
          129,
          130,
          131,
          132,
          133,
          134,
          135,
          136,
          137,
          138,
          139,
          140,
          141,
          142,
          143,
          144,
          145,
          146,
          147,
          148,
          149
         ],
         "z": [
          1.1177637610038844,
          1.9614722699913933,
          2.8221381316508527,
          4.078174526265223,
          5.010907468261183,
          5.816516272047621,
          7.03023895816775,
          8.060365963140349,
          8.81900689250895,
          9.98016472794277,
          11.10392130942613,
          11.829711178564818,
          12.933122238376237,
          14.135322408817563,
          14.848982384196924,
          15.892615720117167,
          17.149498901189038,
          17.877147384013966,
          18.86047413211776,
          20.144012818455007,
          20.91404979181981,
          21.837248260675672,
          23.119818426941993,
          23.958496136833553,
          24.822762529106143,
          26.08096034754638,
          27.007760749079477,
          27.816629244939314,
          29.033359482767114,
          30.057381200291672,
          30.81861319110102,
          31.983252086786056,
          33.101492374069075,
          33.82879529894495,
          34.93589893370333,
          36.133822189701064,
          36.847519124376475,
          37.89491427300597,
          39.14918004095372,
          39.87512500735412,
          40.86222304615969,
          42.14493115225657,
          42.91150260256207,
          43.83844024048164,
          45.121815164564474,
          45.95553942050999,
          46.823419508834895,
          48.08371191438473,
          49.004615906262956,
          49.81677382720264,
          51.036470557916026,
          52.05437506367515,
          52.81825143287639,
          53.98635077174948,
          55.0990170479829,
          55.82791279249656,
          56.938701082994,
          58.13225478635862,
          58.8460907160428,
          59.89724566766995,
          61.14878341508075,
          61.87313723626616,
          62.86400701868946,
          64.14577469254786,
          64.90898584534467,
          65.83966653309379,
          67.12375267721458,
          67.95260298578388,
          68.82410916482392,
          70.08642764950476,
          71.00147422996973,
          71.81695004379132,
          73.03957070894315,
          74.05134911256715,
          74.81792155834476,
          75.98945966564136,
          77.09649683893329,
          77.82706355352497,
          78.94152801017934,
          80.13062125349613,
          80.84469709588481,
          81.89960961526495,
          83.1483093024521,
          83.87118417755948,
          84.86582602143396,
          86.14654285197533,
          86.90649993811255,
          87.84092723041283,
          89.12562969932353,
          89.94968766950748,
          90.82483159364517,
          92.08910598116191,
          92.99833698651284,
          93.81715792498505,
          95.04265844554794,
          96.04830489732538,
          96.81762351272516,
          97.99257762474842,
          99.09393326953368,
          99.82624747711648,
          100.94437901207458,
          102.12892268531608,
          102.84333819451328,
          103.90200580602936,
          105.14775803604499,
          105.86926592322651,
          106.86768001404198,
          108.1472350945043,
          108.90404527555968,
          109.84222242060149,
          111.12744499792424,
          111.94679428068463,
          112.82558689417618,
          114.09174534470483,
          114.99520541779748,
          115.81739750631583,
          117.04573226285183,
          118.0452439581452,
          118.81735724608326,
          119.99570347919087,
          121.09132787562487,
          121.82546445947636,
          122.94725335817253,
          124.12716021416087,
          124.84201393696044,
          125.90443390877948,
          127.14713000249083,
          127.8673825510097,
          128.8695689435208,
          130.14785093612284,
          130.9016222295867,
          131.8435521876178,
          133.12919737413813,
          133.9439236005647,
          134.82637516730833,
          136.09434418415435,
          136.99208074080187,
          137.8176688284809,
          139.0487906424909,
          140.04216782385384,
          140.81712271345566,
          141.99883603331946,
          143.08868220466195,
          143.82471439825477,
          144.95015029046465,
          146.12533500911803,
          146.8407242431714,
          147.90689357041555,
          149.14642564156412,
          149.86553412496838,
          150.87149274367087,
          152.14838994547884,
          152.89923114977216,
          153.8449166107394,
          155.13088566463202,
          155.9410763827677,
          156.82719651564273,
          158.09690095379662,
          158.98896414710154,
          159.81797193724273,
          161.05183205374925,
          162.03907801074334,
          162.81691987496092,
          164.00197406615504,
          165.0859978141108,
          165.8239971928609,
          166.9530690232911,
          168.1234482745908,
          168.8394690284872,
          169.90938441543977,
          171.1456454456023,
          171.8637206960452,
          172.87345133451933,
          174.1488517444493,
          174.89687236385637,
          175.8463157640792,
          177.13250874304237,
          177.9382533534389,
          178.8280510431744,
          180.09941411978818,
          180.9858568024365,
          181.81830688331584,
          183.05485495473215,
          184.0359760214438,
          184.81674869589767,
          186.0051163318713,
          187.08327626985718,
          187.82331274476502,
          188.95600874322062,
          190.12150124883607,
          190.8382482041191,
          191.91190604548734,
          193.14478995885793,
          193.8619423026311,
          194.87544462175313,
          196.14923600864032,
          196.89454617823725,
          197.84774971609247,
          199.13406552136408,
          199.9354552114321,
          200.82893885496426,
          202.10188216177056,
          202.98275984632093,
          203.81867372224033,
          205.05785779357797,
          206.03286334383708,
          206.81660914682945,
          208.00826156032062,
          209.08051914463016,
          209.8226609577883,
          210.95896860896124,
          212.11949520247325,
          212.83706167761383,
          213.9144580388709,
          215.14385977678435,
          215.86019897112834,
          216.87747249615194,
          218.14954246781699,
          218.89225287847646,
          219.8492185290762,
          221.13555495130092,
          221.93268262852075,
          222.8298600567994,
          224.10430357449138,
          224.97967439169472,
          225.81907251424263,
          227.06083900970785,
          228.02974145001244,
          228.81650120365623,
          230.01140845760406,
          231.07772801644273,
          231.82204173838034,
          232.96194775130334,
          234.11743143696648,
          234.83590935330946,
          235.91703995014024,
          237.14285554525682,
          237.85849071651137,
          238.87953483302235,
          240.1497709062618,
          240.88999272981567,
          241.85072225866057,
          243.13697602557525,
          243.9299362496352,
          244.8308147548417,
          246.10667686942998,
          246.97660152461637,
          247.81950332408303,
          249.06379703511192,
          250.02661179526427,
          250.81642484767303,
          252.01455570668506,
          253.0749044670518,
          253.82145499588452,
          254.96494527309534,
          256.1153112830831,
          256.8347911327816,
          257.91965130965787,
          259.14177795973023,
          259.8568175428841,
          260.8816314916332,
          262.1499211630614,
          262.88776597770163,
          263.8522609532932,
          265.13832777919396,
          265.9272166931258,
          266.8318030552651,
          268.1090005764242,
          268.9735423039965,
          269.81996622089014,
          271.0667302956703,
          272.02347581713263,
          272.8163800656151,
          274.01770196804756,
          275.0720500804393,
          275.82090064279055,
          276.96796024925357,
          278.11313609933154,
          278.83370691528,
          279.9222916231912,
          281.14062776433565,
          281.8551794440338,
          282.8837623146534,
          284.14999313232056,
          284.885572848319,
          285.85383465371655,
          287.1396092906684,
          287.92452455104996,
          288.83282506388133,
          290.1112732452964,
          290.9704977613713,
          291.82046127798276,
          293.0696372125087,
          294.0203349344876,
          294.8163668496898,
          296.02084588039855,
          297.0691664413171,
          297.8203785949746,
          298.970991726807,
          300.1109072703814
         ]
        }
       ],
       "layout": {
        "legend": {
         "tracegroupgap": 0
        },
        "margin": {
         "t": 60
        },
        "scene": {
         "domain": {
          "x": [
           0,
           1
          ],
          "y": [
           0,
           1
          ]
         },
         "xaxis": {
          "title": {
           "text": "x"
          }
         },
         "yaxis": {
          "title": {
           "text": "y"
          }
         },
         "zaxis": {
          "title": {
           "text": "z"
          }
         }
        },
        "template": {
         "data": {
          "bar": [
           {
            "error_x": {
             "color": "#2a3f5f"
            },
            "error_y": {
             "color": "#2a3f5f"
            },
            "marker": {
             "line": {
              "color": "#E5ECF6",
              "width": 0.5
             },
             "pattern": {
              "fillmode": "overlay",
              "size": 10,
              "solidity": 0.2
             }
            },
            "type": "bar"
           }
          ],
          "barpolar": [
           {
            "marker": {
             "line": {
              "color": "#E5ECF6",
              "width": 0.5
             },
             "pattern": {
              "fillmode": "overlay",
              "size": 10,
              "solidity": 0.2
             }
            },
            "type": "barpolar"
           }
          ],
          "carpet": [
           {
            "aaxis": {
             "endlinecolor": "#2a3f5f",
             "gridcolor": "white",
             "linecolor": "white",
             "minorgridcolor": "white",
             "startlinecolor": "#2a3f5f"
            },
            "baxis": {
             "endlinecolor": "#2a3f5f",
             "gridcolor": "white",
             "linecolor": "white",
             "minorgridcolor": "white",
             "startlinecolor": "#2a3f5f"
            },
            "type": "carpet"
           }
          ],
          "choropleth": [
           {
            "colorbar": {
             "outlinewidth": 0,
             "ticks": ""
            },
            "type": "choropleth"
           }
          ],
          "contour": [
           {
            "colorbar": {
             "outlinewidth": 0,
             "ticks": ""
            },
            "colorscale": [
             [
              0,
              "#0d0887"
             ],
             [
              0.1111111111111111,
              "#46039f"
             ],
             [
              0.2222222222222222,
              "#7201a8"
             ],
             [
              0.3333333333333333,
              "#9c179e"
             ],
             [
              0.4444444444444444,
              "#bd3786"
             ],
             [
              0.5555555555555556,
              "#d8576b"
             ],
             [
              0.6666666666666666,
              "#ed7953"
             ],
             [
              0.7777777777777778,
              "#fb9f3a"
             ],
             [
              0.8888888888888888,
              "#fdca26"
             ],
             [
              1,
              "#f0f921"
             ]
            ],
            "type": "contour"
           }
          ],
          "contourcarpet": [
           {
            "colorbar": {
             "outlinewidth": 0,
             "ticks": ""
            },
            "type": "contourcarpet"
           }
          ],
          "heatmap": [
           {
            "colorbar": {
             "outlinewidth": 0,
             "ticks": ""
            },
            "colorscale": [
             [
              0,
              "#0d0887"
             ],
             [
              0.1111111111111111,
              "#46039f"
             ],
             [
              0.2222222222222222,
              "#7201a8"
             ],
             [
              0.3333333333333333,
              "#9c179e"
             ],
             [
              0.4444444444444444,
              "#bd3786"
             ],
             [
              0.5555555555555556,
              "#d8576b"
             ],
             [
              0.6666666666666666,
              "#ed7953"
             ],
             [
              0.7777777777777778,
              "#fb9f3a"
             ],
             [
              0.8888888888888888,
              "#fdca26"
             ],
             [
              1,
              "#f0f921"
             ]
            ],
            "type": "heatmap"
           }
          ],
          "heatmapgl": [
           {
            "colorbar": {
             "outlinewidth": 0,
             "ticks": ""
            },
            "colorscale": [
             [
              0,
              "#0d0887"
             ],
             [
              0.1111111111111111,
              "#46039f"
             ],
             [
              0.2222222222222222,
              "#7201a8"
             ],
             [
              0.3333333333333333,
              "#9c179e"
             ],
             [
              0.4444444444444444,
              "#bd3786"
             ],
             [
              0.5555555555555556,
              "#d8576b"
             ],
             [
              0.6666666666666666,
              "#ed7953"
             ],
             [
              0.7777777777777778,
              "#fb9f3a"
             ],
             [
              0.8888888888888888,
              "#fdca26"
             ],
             [
              1,
              "#f0f921"
             ]
            ],
            "type": "heatmapgl"
           }
          ],
          "histogram": [
           {
            "marker": {
             "pattern": {
              "fillmode": "overlay",
              "size": 10,
              "solidity": 0.2
             }
            },
            "type": "histogram"
           }
          ],
          "histogram2d": [
           {
            "colorbar": {
             "outlinewidth": 0,
             "ticks": ""
            },
            "colorscale": [
             [
              0,
              "#0d0887"
             ],
             [
              0.1111111111111111,
              "#46039f"
             ],
             [
              0.2222222222222222,
              "#7201a8"
             ],
             [
              0.3333333333333333,
              "#9c179e"
             ],
             [
              0.4444444444444444,
              "#bd3786"
             ],
             [
              0.5555555555555556,
              "#d8576b"
             ],
             [
              0.6666666666666666,
              "#ed7953"
             ],
             [
              0.7777777777777778,
              "#fb9f3a"
             ],
             [
              0.8888888888888888,
              "#fdca26"
             ],
             [
              1,
              "#f0f921"
             ]
            ],
            "type": "histogram2d"
           }
          ],
          "histogram2dcontour": [
           {
            "colorbar": {
             "outlinewidth": 0,
             "ticks": ""
            },
            "colorscale": [
             [
              0,
              "#0d0887"
             ],
             [
              0.1111111111111111,
              "#46039f"
             ],
             [
              0.2222222222222222,
              "#7201a8"
             ],
             [
              0.3333333333333333,
              "#9c179e"
             ],
             [
              0.4444444444444444,
              "#bd3786"
             ],
             [
              0.5555555555555556,
              "#d8576b"
             ],
             [
              0.6666666666666666,
              "#ed7953"
             ],
             [
              0.7777777777777778,
              "#fb9f3a"
             ],
             [
              0.8888888888888888,
              "#fdca26"
             ],
             [
              1,
              "#f0f921"
             ]
            ],
            "type": "histogram2dcontour"
           }
          ],
          "mesh3d": [
           {
            "colorbar": {
             "outlinewidth": 0,
             "ticks": ""
            },
            "type": "mesh3d"
           }
          ],
          "parcoords": [
           {
            "line": {
             "colorbar": {
              "outlinewidth": 0,
              "ticks": ""
             }
            },
            "type": "parcoords"
           }
          ],
          "pie": [
           {
            "automargin": true,
            "type": "pie"
           }
          ],
          "scatter": [
           {
            "fillpattern": {
             "fillmode": "overlay",
             "size": 10,
             "solidity": 0.2
            },
            "type": "scatter"
           }
          ],
          "scatter3d": [
           {
            "line": {
             "colorbar": {
              "outlinewidth": 0,
              "ticks": ""
             }
            },
            "marker": {
             "colorbar": {
              "outlinewidth": 0,
              "ticks": ""
             }
            },
            "type": "scatter3d"
           }
          ],
          "scattercarpet": [
           {
            "marker": {
             "colorbar": {
              "outlinewidth": 0,
              "ticks": ""
             }
            },
            "type": "scattercarpet"
           }
          ],
          "scattergeo": [
           {
            "marker": {
             "colorbar": {
              "outlinewidth": 0,
              "ticks": ""
             }
            },
            "type": "scattergeo"
           }
          ],
          "scattergl": [
           {
            "marker": {
             "colorbar": {
              "outlinewidth": 0,
              "ticks": ""
             }
            },
            "type": "scattergl"
           }
          ],
          "scattermapbox": [
           {
            "marker": {
             "colorbar": {
              "outlinewidth": 0,
              "ticks": ""
             }
            },
            "type": "scattermapbox"
           }
          ],
          "scatterpolar": [
           {
            "marker": {
             "colorbar": {
              "outlinewidth": 0,
              "ticks": ""
             }
            },
            "type": "scatterpolar"
           }
          ],
          "scatterpolargl": [
           {
            "marker": {
             "colorbar": {
              "outlinewidth": 0,
              "ticks": ""
             }
            },
            "type": "scatterpolargl"
           }
          ],
          "scatterternary": [
           {
            "marker": {
             "colorbar": {
              "outlinewidth": 0,
              "ticks": ""
             }
            },
            "type": "scatterternary"
           }
          ],
          "surface": [
           {
            "colorbar": {
             "outlinewidth": 0,
             "ticks": ""
            },
            "colorscale": [
             [
              0,
              "#0d0887"
             ],
             [
              0.1111111111111111,
              "#46039f"
             ],
             [
              0.2222222222222222,
              "#7201a8"
             ],
             [
              0.3333333333333333,
              "#9c179e"
             ],
             [
              0.4444444444444444,
              "#bd3786"
             ],
             [
              0.5555555555555556,
              "#d8576b"
             ],
             [
              0.6666666666666666,
              "#ed7953"
             ],
             [
              0.7777777777777778,
              "#fb9f3a"
             ],
             [
              0.8888888888888888,
              "#fdca26"
             ],
             [
              1,
              "#f0f921"
             ]
            ],
            "type": "surface"
           }
          ],
          "table": [
           {
            "cells": {
             "fill": {
              "color": "#EBF0F8"
             },
             "line": {
              "color": "white"
             }
            },
            "header": {
             "fill": {
              "color": "#C8D4E3"
             },
             "line": {
              "color": "white"
             }
            },
            "type": "table"
           }
          ]
         },
         "layout": {
          "annotationdefaults": {
           "arrowcolor": "#2a3f5f",
           "arrowhead": 0,
           "arrowwidth": 1
          },
          "autotypenumbers": "strict",
          "coloraxis": {
           "colorbar": {
            "outlinewidth": 0,
            "ticks": ""
           }
          },
          "colorscale": {
           "diverging": [
            [
             0,
             "#8e0152"
            ],
            [
             0.1,
             "#c51b7d"
            ],
            [
             0.2,
             "#de77ae"
            ],
            [
             0.3,
             "#f1b6da"
            ],
            [
             0.4,
             "#fde0ef"
            ],
            [
             0.5,
             "#f7f7f7"
            ],
            [
             0.6,
             "#e6f5d0"
            ],
            [
             0.7,
             "#b8e186"
            ],
            [
             0.8,
             "#7fbc41"
            ],
            [
             0.9,
             "#4d9221"
            ],
            [
             1,
             "#276419"
            ]
           ],
           "sequential": [
            [
             0,
             "#0d0887"
            ],
            [
             0.1111111111111111,
             "#46039f"
            ],
            [
             0.2222222222222222,
             "#7201a8"
            ],
            [
             0.3333333333333333,
             "#9c179e"
            ],
            [
             0.4444444444444444,
             "#bd3786"
            ],
            [
             0.5555555555555556,
             "#d8576b"
            ],
            [
             0.6666666666666666,
             "#ed7953"
            ],
            [
             0.7777777777777778,
             "#fb9f3a"
            ],
            [
             0.8888888888888888,
             "#fdca26"
            ],
            [
             1,
             "#f0f921"
            ]
           ],
           "sequentialminus": [
            [
             0,
             "#0d0887"
            ],
            [
             0.1111111111111111,
             "#46039f"
            ],
            [
             0.2222222222222222,
             "#7201a8"
            ],
            [
             0.3333333333333333,
             "#9c179e"
            ],
            [
             0.4444444444444444,
             "#bd3786"
            ],
            [
             0.5555555555555556,
             "#d8576b"
            ],
            [
             0.6666666666666666,
             "#ed7953"
            ],
            [
             0.7777777777777778,
             "#fb9f3a"
            ],
            [
             0.8888888888888888,
             "#fdca26"
            ],
            [
             1,
             "#f0f921"
            ]
           ]
          },
          "colorway": [
           "#636efa",
           "#EF553B",
           "#00cc96",
           "#ab63fa",
           "#FFA15A",
           "#19d3f3",
           "#FF6692",
           "#B6E880",
           "#FF97FF",
           "#FECB52"
          ],
          "font": {
           "color": "#2a3f5f"
          },
          "geo": {
           "bgcolor": "white",
           "lakecolor": "white",
           "landcolor": "#E5ECF6",
           "showlakes": true,
           "showland": true,
           "subunitcolor": "white"
          },
          "hoverlabel": {
           "align": "left"
          },
          "hovermode": "closest",
          "mapbox": {
           "style": "light"
          },
          "paper_bgcolor": "white",
          "plot_bgcolor": "#E5ECF6",
          "polar": {
           "angularaxis": {
            "gridcolor": "white",
            "linecolor": "white",
            "ticks": ""
           },
           "bgcolor": "#E5ECF6",
           "radialaxis": {
            "gridcolor": "white",
            "linecolor": "white",
            "ticks": ""
           }
          },
          "scene": {
           "xaxis": {
            "backgroundcolor": "#E5ECF6",
            "gridcolor": "white",
            "gridwidth": 2,
            "linecolor": "white",
            "showbackground": true,
            "ticks": "",
            "zerolinecolor": "white"
           },
           "yaxis": {
            "backgroundcolor": "#E5ECF6",
            "gridcolor": "white",
            "gridwidth": 2,
            "linecolor": "white",
            "showbackground": true,
            "ticks": "",
            "zerolinecolor": "white"
           },
           "zaxis": {
            "backgroundcolor": "#E5ECF6",
            "gridcolor": "white",
            "gridwidth": 2,
            "linecolor": "white",
            "showbackground": true,
            "ticks": "",
            "zerolinecolor": "white"
           }
          },
          "shapedefaults": {
           "line": {
            "color": "#2a3f5f"
           }
          },
          "ternary": {
           "aaxis": {
            "gridcolor": "white",
            "linecolor": "white",
            "ticks": ""
           },
           "baxis": {
            "gridcolor": "white",
            "linecolor": "white",
            "ticks": ""
           },
           "bgcolor": "#E5ECF6",
           "caxis": {
            "gridcolor": "white",
            "linecolor": "white",
            "ticks": ""
           }
          },
          "title": {
           "x": 0.05
          },
          "xaxis": {
           "automargin": true,
           "gridcolor": "white",
           "linecolor": "white",
           "ticks": "",
           "title": {
            "standoff": 15
           },
           "zerolinecolor": "white",
           "zerolinewidth": 2
          },
          "yaxis": {
           "automargin": true,
           "gridcolor": "white",
           "linecolor": "white",
           "ticks": "",
           "title": {
            "standoff": 15
           },
           "zerolinecolor": "white",
           "zerolinewidth": 2
          }
         }
        }
       }
      }
     },
     "metadata": {},
     "output_type": "display_data"
    }
   ],
   "source": [
    "figScatter = px.scatter_3d(x=x1valuse , y = x2values , z = calculateValue(inputValue , bestNode.root))\n",
    "figScatter.add_scatter3d(x=x1valuse , y = x2values , z = trueValues , mode = \"markers\")\n",
    "figScatter.show()"
   ]
  },
  {
   "cell_type": "code",
   "execution_count": null,
   "metadata": {},
   "outputs": [],
   "source": []
  }
 ],
 "metadata": {
  "kernelspec": {
   "display_name": "Python 3.9.12 ('insta')",
   "language": "python",
   "name": "python3"
  },
  "language_info": {
   "codemirror_mode": {
    "name": "ipython",
    "version": 3
   },
   "file_extension": ".py",
   "mimetype": "text/x-python",
   "name": "python",
   "nbconvert_exporter": "python",
   "pygments_lexer": "ipython3",
   "version": "3.9.12"
  },
  "orig_nbformat": 4,
  "vscode": {
   "interpreter": {
    "hash": "b0616622e670fd58f9292b36f2e3689d12ca973b5ecffe1ed42939b0efd1bc58"
   }
  }
 },
 "nbformat": 4,
 "nbformat_minor": 2
}
