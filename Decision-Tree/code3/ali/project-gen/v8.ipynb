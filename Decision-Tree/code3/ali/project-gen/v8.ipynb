{
 "cells": [
  {
   "cell_type": "markdown",
   "metadata": {},
   "source": [
    "**version 8 :** \n",
    "trying to get better resault in main Algorithm & solved somethings!\n",
    "<br>\n",
    "**changes :**\n",
    "- changed the way of calculate fitness , for higher avg use 1 / mse for fitness , for lower use absoulute mean_squared_error powerd by 0.9 , and in mutation we can have countinous numbers."
   ]
  },
  {
   "cell_type": "markdown",
   "metadata": {},
   "source": [
    "**insights :**\n",
    "<br>\n",
    "- problem in the end of way, in low differences mses , progress is going to dead . => a little solved by change the way of calculate fitness\n"
   ]
  },
  {
   "cell_type": "markdown",
   "metadata": {},
   "source": [
    "setups:\n",
    "- number of gens : 20 \n",
    "- number of each popluations : 100\n",
    "- chance of mutation : 5 % \n",
    "- percentege of saves per population : 20 % (from first of way .)\n",
    "- maximum number of depth : 5 \n",
    "- complex way of calculate mse"
   ]
  },
  {
   "cell_type": "code",
   "execution_count": 218,
   "metadata": {},
   "outputs": [],
   "source": [
    "import random\n",
    "import plotly.express as px\n",
    "import matplotlib.pyplot as plt\n",
    "import pandas as pd\n",
    "import numpy as np\n",
    "from sklearn.metrics import mean_squared_error\n",
    "from sklearn.metrics import mean_absolute_error\n",
    "import math\n",
    "operators = [\"+\" , \"-\" , \"*\" , \"/\" ] # can add pow to the set \"^\"\n",
    "singleOperators = [\"sin\" , \"cos\"] # in sin & cos , right node is always NULL\n",
    "epsilon = 0.0000001\n",
    "x1 = 2\n",
    "x2 = 5\n",
    "defaultValues = (x1 , x2 )\n",
    "listOfInputs = [\"x1\" , \"x2\"]\n",
    "CoefficientsRagne = 10\n",
    "presicionInCeo = 2\n",
    "allOperators = []\n",
    "allOperators.extend(operators)\n",
    "allOperators.extend(singleOperators)"
   ]
  },
  {
   "cell_type": "code",
   "execution_count": 2,
   "metadata": {},
   "outputs": [],
   "source": [
    "class node ():\n",
    "    def __init__(self , operator , rightnode = None , leftnode = None  , father = None):\n",
    "        self.father = father\n",
    "        self.leaf = False\n",
    "        self.rightnode = rightnode\n",
    "        self.leftnode = leftnode\n",
    "        if operator in operators or operator in singleOperators  :\n",
    "            self.operator = operator\n",
    "        elif (type (operator) is int) or (type (operator) is float) or operator in listOfInputs : # this is the way we know the leaf and nodes\n",
    "            self.leaf = True\n",
    "            self.operator = operator \n",
    "        else :\n",
    "            print(\"operator not assigned - wrong input\")\n",
    "        \n",
    "    def assignOperator (self ):\n",
    "        x = input()\n",
    "        while (x not in operators and x not in singleOperators ) and not x.isnumeric():\n",
    "            print(\"x is not true ! try again !\")\n",
    "            x = input()\n",
    "        self.operator = x\n",
    "        if x.isnumeric() : # clear the down nodes\n",
    "            self.leaf = True\n",
    "            self.leftnode = None\n",
    "            self.rightnode = None\n",
    "    def addNode (self , node):\n",
    "        if self.leaf == False :\n",
    "            if self.leftnode == None :\n",
    "                self.leftnode = node\n",
    "                node.father = self\n",
    "                return True\n",
    "            elif self.rightnode == None and self.operator not in singleOperators:\n",
    "                self.rightnode = node\n",
    "                node.father = self\n",
    "                return True\n",
    "            else:\n",
    "                if self.leftnode.addNode(node) :\n",
    "                    return True\n",
    "                if self.operator not in singleOperators:\n",
    "                    if self.rightnode.addNode(node) :\n",
    "                        return True\n",
    "            return False\n",
    "        return False"
   ]
  },
  {
   "cell_type": "code",
   "execution_count": 3,
   "metadata": {},
   "outputs": [
    {
     "name": "stdout",
     "output_type": "stream",
     "text": [
      "operator not assigned - wrong input\n"
     ]
    }
   ],
   "source": [
    "test = node(\"\")"
   ]
  },
  {
   "cell_type": "code",
   "execution_count": 4,
   "metadata": {},
   "outputs": [],
   "source": [
    "test.assignOperator()"
   ]
  },
  {
   "cell_type": "code",
   "execution_count": 5,
   "metadata": {},
   "outputs": [
    {
     "data": {
      "text/plain": [
       "<__main__.node at 0x21ac496b160>"
      ]
     },
     "execution_count": 5,
     "metadata": {},
     "output_type": "execute_result"
    }
   ],
   "source": [
    "test"
   ]
  },
  {
   "cell_type": "code",
   "execution_count": 6,
   "metadata": {},
   "outputs": [
    {
     "data": {
      "text/plain": [
       "'+'"
      ]
     },
     "execution_count": 6,
     "metadata": {},
     "output_type": "execute_result"
    }
   ],
   "source": [
    "test.operator"
   ]
  },
  {
   "cell_type": "code",
   "execution_count": 3,
   "metadata": {},
   "outputs": [],
   "source": [
    "class tree ():\n",
    "    def __init__(self , root):\n",
    "        self.numnerOfNodes = 1\n",
    "        self.LeafList = []\n",
    "        self.LeafList.append(root)\n",
    "        if type( root ) is node :\n",
    "            self.root = root\n",
    "        else:\n",
    "            print(\"try another time plz . \")\n",
    "    def calculateFather(self,node):\n",
    "        counter = 1 \n",
    "        temp = node.father\n",
    "        if temp != None :\n",
    "            while temp.father != None :\n",
    "                temp = temp.father\n",
    "                counter = counter + 1\n",
    "        return counter\n",
    "    def addNodeInSurf (self , node ):\n",
    "        MaxNumsOfFather = 1000\n",
    "        nodeTemp = None\n",
    "        for item in self.LeafList : \n",
    "            temp = self.calculateFather(item)\n",
    "            if temp < MaxNumsOfFather :\n",
    "                MaxNumsOfFather = temp\n",
    "                nodeTemp = item\n",
    "        if nodeTemp.leftnode == None :\n",
    "            nodeTemp.leftnode = node\n",
    "            node.father = nodeTemp\n",
    "            self.LeafList.append(node)\n",
    "            if nodeTemp.rightnode != None or nodeTemp.operator in singleOperators :\n",
    "                self.LeafList.remove(nodeTemp)\n",
    "        elif nodeTemp.rightnode == None and nodeTemp.operator not in singleOperators:\n",
    "            nodeTemp.rightnode = node\n",
    "            node.father = nodeTemp\n",
    "            self.LeafList.append(node)\n",
    "            if nodeTemp.leftnode != None : \n",
    "                self.LeafList.remove(nodeTemp)\n",
    "        self.numnerOfNodes = self.numnerOfNodes + 1\n",
    "    def addNodeIndepth (self , node):    \n",
    "        if self.root.addNode(node) :\n",
    "            self.LeafList.append(node)\n",
    "            if node.father.operator in singleOperators :\n",
    "                self.LeafList.remove(node.father)\n",
    "        self.numnerOfNodes = self.numnerOfNodes + 1\n",
    "    def isComplete(self):\n",
    "        for item in self.LeafList :\n",
    "            if item.leaf == False:\n",
    "                return False\n",
    "        return True\n",
    "    def PostorderTraversal(self, root):\n",
    "        res = []\n",
    "        if root:\n",
    "            res = self.PostorderTraversal(root.left)\n",
    "            res = res + self.PostorderTraversal(root.right)\n",
    "            res.append(root.data)\n",
    "        return res"
   ]
  },
  {
   "cell_type": "code",
   "execution_count": 10,
   "metadata": {},
   "outputs": [],
   "source": [
    "# test1 = node(\"-\")\n",
    "# test.addNode(test1)\n",
    "# test.addNode(node(2))"
   ]
  },
  {
   "cell_type": "code",
   "execution_count": 4,
   "metadata": {},
   "outputs": [],
   "source": [
    "def calculate (node , args = defaultValues):\n",
    "    if node.leaf == True:\n",
    "        # if node.operator == \"x1\" :\n",
    "        #    return args[0]\n",
    "        # if node.operator == \"x2\" :\n",
    "        #    return args[1]\n",
    "        for x , y  in zip(args , listOfInputs) :\n",
    "            if y == node.operator :\n",
    "                return x\n",
    "        return node.operator\n",
    "    if node.operator == \"+\" :\n",
    "        return calculate(node.leftnode , args) + calculate(node.rightnode , args)\n",
    "    elif node.operator == \"-\" :\n",
    "        return calculate(node.leftnode , args) - calculate(node.rightnode , args)\n",
    "    elif node.operator == \"/\" :\n",
    "        divded = calculate(node.rightnode , args)\n",
    "        if divded == 0 :\n",
    "            divded = epsilon \n",
    "        return calculate(node.leftnode , args) / divded\n",
    "    elif node.operator == \"*\" :\n",
    "        return calculate(node.leftnode , args) * calculate(node.rightnode , args)\n",
    "    elif node.operator == \"^\" :\n",
    "        return pow( calculate(node.leftnode , args) , calculate(node.rightnode , args) )\n",
    "    elif node.operator == \"sin\" :\n",
    "        return math.sin(calculate(node.leftnode , args))\n",
    "    elif node.operator == \"cos\" :\n",
    "        # print(node.leftnode.operator)\n",
    "        return math.cos(calculate(node.leftnode , args))"
   ]
  },
  {
   "cell_type": "code",
   "execution_count": 5,
   "metadata": {},
   "outputs": [],
   "source": [
    "def showtree(node) :\n",
    "    if node.leaf == True:\n",
    "        return  f\"{node.operator}\"\n",
    "    if node.operator == \"+\" :\n",
    "        return f\"({showtree(node.leftnode)}) + ({showtree(node.rightnode)})\"\n",
    "    elif node.operator == \"-\" :\n",
    "        return f\"({showtree(node.leftnode)}) - ({showtree(node.rightnode)})\"\n",
    "    elif node.operator == \"/\" :\n",
    "        return f\"({showtree(node.leftnode)}) / ({showtree(node.rightnode)})\"\n",
    "    elif node.operator == \"*\" :\n",
    "        return f\"({showtree(node.leftnode)}) * ({showtree(node.rightnode)})\"\n",
    "    elif node.operator == \"^\" :\n",
    "        return f\"({showtree(node.leftnode)}) ^ ({showtree(node.rightnode)})\"\n",
    "    elif node.operator == \"sin\" :\n",
    "        return f\"sin({showtree(node.leftnode)})\"\n",
    "    elif node.operator == \"cos\" :\n",
    "        return f\"cos({showtree(node.leftnode)})\""
   ]
  },
  {
   "cell_type": "code",
   "execution_count": 6,
   "metadata": {},
   "outputs": [],
   "source": [
    "def createRandomTree(max , Coefficients):\n",
    "    numberOfDepth = random.randint(1 , max)\n",
    "    # create the root\n",
    "    firstOperator = random.randint(0 , len(allOperators) - 1)\n",
    "    temptree = tree(node(allOperators[firstOperator]))\n",
    "    # create the tree structure \n",
    "    for _ in range (0 , (2 ^ numberOfDepth) - 1) :\n",
    "        firstOperator = random.randint(0 , len(allOperators) - 1)\n",
    "        randomnode = temptree.LeafList[random.randint(1 , len(temptree.LeafList)) - 1]\n",
    "        if temptree.calculateFather(randomnode) <= max :\n",
    "            if firstOperator % 2 == 0 :\n",
    "                if randomnode.rightnode == None and randomnode.operator not in singleOperators: \n",
    "                    randomnode.rightnode = node(allOperators[random.randint(0 , len(allOperators) - 1)] , father=randomnode)\n",
    "                    temptree.numnerOfNodes = temptree.numnerOfNodes + 1\n",
    "                    temptree.LeafList.append(randomnode.rightnode)\n",
    "                elif randomnode.leftnode != None :\n",
    "                    temptree.LeafList.remove(randomnode)\n",
    "                else :\n",
    "                    randomnode.leftnode = node(allOperators[random.randint(0 , len(allOperators) - 1)] , father=randomnode)\n",
    "                    temptree.numnerOfNodes = temptree.numnerOfNodes + 1\n",
    "                    temptree.LeafList.append(randomnode.leftnode)\n",
    "                    temptree.LeafList.remove(randomnode)\n",
    "            else:\n",
    "                if randomnode.leftnode == None : \n",
    "                    randomnode.leftnode = node(allOperators[random.randint(0 , len(allOperators) - 1)] , father=randomnode)\n",
    "                    temptree.numnerOfNodes = temptree.numnerOfNodes + 1\n",
    "                    temptree.LeafList.append(randomnode.leftnode)\n",
    "                elif randomnode.rightnode != None or randomnode.operator in singleOperators:\n",
    "                    temptree.LeafList.remove(randomnode)\n",
    "                else :\n",
    "                    randomnode.rightnode = node(allOperators[random.randint(0 , len(allOperators) - 1)] , father=randomnode)\n",
    "                    temptree.numnerOfNodes = temptree.numnerOfNodes + 1\n",
    "                    temptree.LeafList.remove(randomnode)\n",
    "                    temptree.LeafList.append(randomnode.rightnode)\n",
    "            \n",
    "    # fill the leafs\n",
    "    templist = temptree.LeafList.copy()\n",
    "    for lastnode in templist :\n",
    "        firstOperator = random.randint(0 , len(allOperators) - 1)\n",
    "        if lastnode.rightnode == None :\n",
    "            if firstOperator % 2 == 0 :\n",
    "                lastnode.rightnode = node( listOfInputs[random.randint(0 , len(listOfInputs) - 1)] , father=lastnode )\n",
    "                temptree.numnerOfNodes = temptree.numnerOfNodes + 1\n",
    "                temptree.LeafList.append(lastnode.rightnode)\n",
    "            else :\n",
    "                lastnode.rightnode = node( round( random.uniform(-1 * Coefficients , Coefficients) , presicionInCeo ) , father=lastnode )\n",
    "                temptree.numnerOfNodes = temptree.numnerOfNodes + 1\n",
    "                temptree.LeafList.append(lastnode.rightnode)\n",
    "            if lastnode.leftnode != None :\n",
    "                temptree.LeafList.remove(lastnode)\n",
    "                #templist.remove(lastnode)\n",
    "        if lastnode.leftnode == None :\n",
    "            if firstOperator % 2 == 1 :\n",
    "                lastnode.leftnode = node( listOfInputs[random.randint(0 , len(listOfInputs) - 1)] , father=lastnode )\n",
    "                temptree.numnerOfNodes = temptree.numnerOfNodes + 1\n",
    "                temptree.LeafList.append(lastnode.leftnode)\n",
    "            else :\n",
    "                lastnode.leftnode = node( round( random.uniform (-1 * Coefficients , Coefficients ) , presicionInCeo ) , father=lastnode )\n",
    "                temptree.numnerOfNodes = temptree.numnerOfNodes + 1\n",
    "                temptree.LeafList.append(lastnode.leftnode)\n",
    "            if lastnode.rightnode != None :\n",
    "                temptree.LeafList.remove(lastnode)\n",
    "                #templist.remove(lastnode)\n",
    "    return temptree\n",
    "        \n",
    "        "
   ]
  },
  {
   "cell_type": "markdown",
   "metadata": {},
   "source": [
    "**test the add in surf**"
   ]
  },
  {
   "cell_type": "code",
   "execution_count": 114,
   "metadata": {},
   "outputs": [],
   "source": [
    "testtree2= tree(test)"
   ]
  },
  {
   "cell_type": "code",
   "execution_count": 115,
   "metadata": {},
   "outputs": [
    {
     "data": {
      "text/plain": [
       "[<__main__.node at 0x2080deda1c0>]"
      ]
     },
     "execution_count": 115,
     "metadata": {},
     "output_type": "execute_result"
    }
   ],
   "source": [
    "testtree2.LeafList"
   ]
  },
  {
   "cell_type": "code",
   "execution_count": 116,
   "metadata": {},
   "outputs": [],
   "source": [
    "testtree2.addNodeInSurf(node(\"+\"))"
   ]
  },
  {
   "cell_type": "code",
   "execution_count": 117,
   "metadata": {},
   "outputs": [],
   "source": [
    "testtree2.addNodeInSurf(node(\"+\"))"
   ]
  },
  {
   "cell_type": "code",
   "execution_count": 118,
   "metadata": {},
   "outputs": [],
   "source": [
    "testtree2.addNodeInSurf(node(\"-\"))"
   ]
  },
  {
   "cell_type": "code",
   "execution_count": 119,
   "metadata": {},
   "outputs": [],
   "source": [
    "testtree2.addNodeInSurf(node(\"-\"))"
   ]
  },
  {
   "cell_type": "markdown",
   "metadata": {},
   "source": [
    "**test add in depth**"
   ]
  },
  {
   "cell_type": "code",
   "execution_count": 120,
   "metadata": {},
   "outputs": [],
   "source": [
    "testtree2.addNodeIndepth(node(\"-\"))"
   ]
  },
  {
   "cell_type": "code",
   "execution_count": 121,
   "metadata": {},
   "outputs": [],
   "source": [
    "testtree2.addNodeIndepth(node(\"-\"))"
   ]
  },
  {
   "cell_type": "markdown",
   "metadata": {},
   "source": [
    "**test the calculate**"
   ]
  },
  {
   "cell_type": "code",
   "execution_count": 11,
   "metadata": {},
   "outputs": [],
   "source": [
    "testtree = tree(node(\"sin\"))"
   ]
  },
  {
   "cell_type": "code",
   "execution_count": 12,
   "metadata": {},
   "outputs": [
    {
     "name": "stdout",
     "output_type": "stream",
     "text": [
      "-0.9589242746631385\n"
     ]
    }
   ],
   "source": [
    "#simple test with \n",
    "testtree.addNodeInSurf(node(\"/\"))\n",
    "testtree.addNodeInSurf(node(\"*\"))\n",
    "testtree.addNodeInSurf(node(x1))\n",
    "testtree.addNodeInSurf(node(x2))\n",
    "testtree.addNodeInSurf(node(x1))\n",
    "testtree.addNodeInSurf(node(x2))\n",
    "print( calculate(testtree.root , (2 , 5)) )"
   ]
  },
  {
   "cell_type": "markdown",
   "metadata": {},
   "source": [
    "**test the showtree**"
   ]
  },
  {
   "cell_type": "code",
   "execution_count": 13,
   "metadata": {},
   "outputs": [
    {
     "name": "stdout",
     "output_type": "stream",
     "text": [
      "sin(((5) * (2)) / (2))\n"
     ]
    }
   ],
   "source": [
    "print(showtree(testtree.root))"
   ]
  },
  {
   "cell_type": "markdown",
   "metadata": {},
   "source": [
    "**test the random creation**"
   ]
  },
  {
   "cell_type": "code",
   "execution_count": 20,
   "metadata": {},
   "outputs": [],
   "source": [
    "testRandom1 =  createRandomTree(10 , 5)"
   ]
  },
  {
   "cell_type": "code",
   "execution_count": 21,
   "metadata": {},
   "outputs": [
    {
     "name": "stdout",
     "output_type": "stream",
     "text": [
      "((-4) - (((2) / (x1)) / ((cos(x1)) * (x1)))) * (sin(cos(cos((3) + (x1)))))\n"
     ]
    }
   ],
   "source": [
    "print(showtree(testRandom1.root))"
   ]
  },
  {
   "cell_type": "code",
   "execution_count": 22,
   "metadata": {},
   "outputs": [
    {
     "name": "stdout",
     "output_type": "stream",
     "text": [
      "-2.0481313613372\n"
     ]
    }
   ],
   "source": [
    "print(calculate( testRandom1.root , (3 , 6)))"
   ]
  },
  {
   "cell_type": "code",
   "execution_count": 23,
   "metadata": {},
   "outputs": [
    {
     "data": {
      "text/plain": [
       "19"
      ]
     },
     "execution_count": 23,
     "metadata": {},
     "output_type": "execute_result"
    }
   ],
   "source": [
    "testRandom1.numnerOfNodes"
   ]
  },
  {
   "cell_type": "markdown",
   "metadata": {},
   "source": [
    "**the main function**"
   ]
  },
  {
   "cell_type": "code",
   "execution_count": 7,
   "metadata": {},
   "outputs": [],
   "source": [
    "def calculateValue(inputValues , root):\n",
    "    predicted = []\n",
    "    for tupleIn in inputValues:\n",
    "        predicted.append( calculate(root , tupleIn))\n",
    "    return predicted"
   ]
  },
  {
   "cell_type": "code",
   "execution_count": 8,
   "metadata": {},
   "outputs": [],
   "source": [
    "def RandomSelection(mses , population):\n",
    "    total = []\n",
    "    cumsum = 0 \n",
    "    for i in mses :\n",
    "        cumsum = cumsum + i\n",
    "        total.append(cumsum)\n",
    "    rnd = random.random() * cumsum\n",
    "    for i, uptotal in enumerate(total):\n",
    "        if rnd < uptotal:\n",
    "            return population[i]\n",
    "    return population[-1] # if something goes wrong !"
   ]
  },
  {
   "cell_type": "code",
   "execution_count": 9,
   "metadata": {},
   "outputs": [],
   "source": [
    "import copy\n",
    "def iterate ( node , numberOfrotate , visited):\n",
    "    # temp = copy.deepcopy(node)\n",
    "    # print(numberOfrotate)\n",
    "    visited = []\n",
    "    counter = 0 \n",
    "    while counter != numberOfrotate:\n",
    "        if node.rightnode != None and node.rightnode not in visited:\n",
    "            counter = counter + 1\n",
    "            visited.append(node.rightnode)\n",
    "            node = node.rightnode\n",
    "        elif node.leftnode != None and node.leftnode not in visited :\n",
    "            counter = counter + 1\n",
    "            visited.append(node.leftnode)\n",
    "            node = node.leftnode\n",
    "        else :\n",
    "            if node.father != None :\n",
    "                node = node.father\n",
    "            else :\n",
    "                node = node.leftnode\n",
    "                counter = counter + 1\n",
    "    return node   "
   ]
  },
  {
   "cell_type": "code",
   "execution_count": 10,
   "metadata": {},
   "outputs": [
    {
     "name": "stdout",
     "output_type": "stream",
     "text": [
      "((4) + (((x1) - (7)) + ((x2) - (5)))) - (4)\n"
     ]
    }
   ],
   "source": [
    "testtree = tree(node(\"-\"))\n",
    "testtree.root.leftnode = node(\"+\" , father=testtree.root)\n",
    "testtree.root.rightnode = node(4 , father=testtree.root)\n",
    "testtree.root.leftnode.leftnode = node(4 , father=testtree.root.leftnode)\n",
    "testtree.root.leftnode.rightnode = node(\"+\" , father = testtree.root.leftnode)\n",
    "testtree.root.leftnode.rightnode.leftnode = node(\"-\" , father=testtree.root.leftnode.rightnode)\n",
    "testtree.root.leftnode.rightnode.leftnode.leftnode = node(\"x1\" , father=testtree.root.leftnode.rightnode.leftnode)\n",
    "testtree.root.leftnode.rightnode.leftnode.rightnode = node(7, father=testtree.root.leftnode.rightnode.leftnode)\n",
    "testtree.root.leftnode.rightnode.rightnode = node(\"-\" , father=testtree.root.leftnode.rightnode)\n",
    "testtree.root.leftnode.rightnode.rightnode.leftnode = node(\"x2\" , father=testtree.root.leftnode.rightnode.rightnode)\n",
    "testtree.root.leftnode.rightnode.rightnode.rightnode = node(5 , father=testtree.root.leftnode.rightnode.rightnode)\n",
    "testtree.numnerOfNodes = 11\n",
    "print(showtree(testtree.root))"
   ]
  },
  {
   "cell_type": "code",
   "execution_count": 17,
   "metadata": {},
   "outputs": [],
   "source": [
    "Mutation(testtree)"
   ]
  },
  {
   "cell_type": "code",
   "execution_count": 18,
   "metadata": {},
   "outputs": [
    {
     "name": "stdout",
     "output_type": "stream",
     "text": [
      "((4) + (((x1) - (7)) + ((x1) - (5)))) - (4)\n"
     ]
    }
   ],
   "source": [
    "print(showtree(testtree.root))"
   ]
  },
  {
   "cell_type": "markdown",
   "metadata": {},
   "source": [
    "**test the iterate**\n"
   ]
  },
  {
   "cell_type": "code",
   "execution_count": 31,
   "metadata": {},
   "outputs": [
    {
     "name": "stdout",
     "output_type": "stream",
     "text": [
      "(2) + (5)\n",
      "5\n"
     ]
    }
   ],
   "source": [
    "testtree2 = tree(node(\"+\"))\n",
    "testtree2.addNodeInSurf(node(x1))\n",
    "testtree2.addNodeInSurf(node(x2))\n",
    "print(showtree(testtree2.root))\n",
    "print(iterate(testtree2.root , 1 , [] ).operator)"
   ]
  },
  {
   "cell_type": "code",
   "execution_count": 10,
   "metadata": {},
   "outputs": [],
   "source": [
    "import copy\n",
    "\n",
    "def CrossOver (x , y) :\n",
    "    maxOfNodes = 0 \n",
    "    if x.numnerOfNodes > y.numnerOfNodes :\n",
    "        maxOfNodes = y.numnerOfNodes\n",
    "    else :\n",
    "        maxOfNodes = x.numnerOfNodes\n",
    "    rnd = random.randint( 1 , maxOfNodes - 1 )\n",
    "    # print(rnd)\n",
    "    \n",
    "    temptree = copy.deepcopy(x)\n",
    "    temptree1 = copy.deepcopy(y)\n",
    "    \n",
    "    firstNode = iterate(temptree.root , rnd , [])\n",
    "    secondNode = iterate(temptree1.root , rnd , [])\n",
    "    firstFather =  firstNode.father \n",
    "    secondFather =  secondNode.father \n",
    "    \n",
    "    temp = copy.deepcopy(firstNode)\n",
    "    # print(temp.operator)\n",
    "    temp1 = copy.deepcopy(secondNode)\n",
    "    # print(temp1.operator)\n",
    "    \n",
    "    \n",
    "    if firstFather.leftnode == firstNode :\n",
    "        firstFather.leftnode = temp1\n",
    "    else :\n",
    "        firstFather.rightnode = temp1\n",
    "    \n",
    "    if secondFather.leftnode == secondNode :\n",
    "        secondFather.leftnode = temp\n",
    "    else :\n",
    "        secondFather.rightnode = temp\n",
    "    \n",
    "    temp1.father = firstFather\n",
    "    temp.father = secondFather\n",
    "    \n",
    "    del firstNode\n",
    "    del secondNode\n",
    "    \n",
    "    return temptree , temptree1"
   ]
  },
  {
   "cell_type": "markdown",
   "metadata": {},
   "source": [
    "**test the CrossOver**"
   ]
  },
  {
   "cell_type": "code",
   "execution_count": 28,
   "metadata": {},
   "outputs": [
    {
     "name": "stdout",
     "output_type": "stream",
     "text": [
      "(5) - (2)\n",
      "(2) + (5)\n",
      "(5) - (5)\n",
      "(2) + (2)\n"
     ]
    }
   ],
   "source": [
    "testtree = tree(node(\"-\")) # check the cross over\n",
    "testtree.addNodeInSurf(node(x2))\n",
    "testtree.addNodeInSurf(node(x1))\n",
    "print(showtree(testtree.root))\n",
    "testtree2 = tree(node(\"+\"))\n",
    "testtree2.addNodeInSurf(node(x1))\n",
    "testtree2.addNodeInSurf(node(x2))\n",
    "print(showtree(testtree2.root))\n",
    "temptest , temptest1 = CrossOver(testtree , testtree2)\n",
    "print(showtree(temptest.root))\n",
    "print(showtree(temptest1.root))\n"
   ]
  },
  {
   "cell_type": "code",
   "execution_count": 413,
   "metadata": {},
   "outputs": [],
   "source": [
    "def Mutation (tree) :\n",
    "    rnd = random.randint( 1 , tree.numnerOfNodes - 1 )\n",
    "    #print(showtree(tree.root))\n",
    "    changeNode = iterate(  tree.root , rnd , [] )\n",
    "    if changeNode.operator in allOperators :\n",
    "        changeNode.operator = allOperators[random.randint(0 , len(allOperators) - 1)]        \n",
    "        if changeNode.operator in singleOperators :\n",
    "            changeNode.rightnode = None\n",
    "        elif changeNode.rightnode == None :\n",
    "            changeNode.rightnode = node( listOfInputs[random.randint(0 , len(listOfInputs) - 1)] , father=changeNode )           \n",
    "    else:\n",
    "        if rnd % 2 == 0 :\n",
    "            changeNode.operator = listOfInputs[random.randint(0 , len(listOfInputs) - 1)]\n",
    "        else :\n",
    "            changeNode.operator =  round( random.uniform(-1 * CoefficientsRagne , CoefficientsRagne) , presicionInCeo ) "
   ]
  },
  {
   "cell_type": "code",
   "execution_count": 12,
   "metadata": {},
   "outputs": [],
   "source": [
    "AllData = []"
   ]
  },
  {
   "cell_type": "code",
   "execution_count": 469,
   "metadata": {},
   "outputs": [],
   "source": [
    "def general_algorithm(NumOfFirstPop , maxOfDepth , numsOfGenereations , inputValue , trueValue , AllMses):\n",
    "    # first create a population \n",
    "    bests = []\n",
    "    population = []\n",
    "    for _ in range(0 , NumOfFirstPop):\n",
    "        population.append(createRandomTree(maxOfDepth , CoefficientsRagne))\n",
    "    # main loop\n",
    "    AllMses = []\n",
    "    counter = 0 \n",
    "    while counter != numsOfGenereations :\n",
    "        # fitness values\n",
    "        mses = []\n",
    "        if counter == 0 :\n",
    "            for i in range(0 , NumOfFirstPop):\n",
    "                mses.append(mean_squared_error(trueValue , calculateValue(inputValue , population[i].root ) ))    \n",
    "        elif avg_of_legends_inside[counter - 1] >= 1 :\n",
    "            print(avg_of_legends_inside[counter - 1])\n",
    "            for i in range(0 , NumOfFirstPop):\n",
    "                mses.append(mean_squared_error(trueValue , calculateValue(inputValue , population[i].root ) )) \n",
    "        else:\n",
    "            print(avg_of_legends_inside[counter - 1])\n",
    "            for i in range(0 , NumOfFirstPop):\n",
    "                mses.append(math.pow( mean_absolute_error(trueValue , calculateValue(inputValue , population[i].root )) , 0.9) ) \n",
    "        #print(mses)\n",
    "        # keep bests alive!\n",
    "        newPopulation = []\n",
    "        if counter >= 0 :\n",
    "            tempList = [X for _ , X in sorted(zip( mses , population ) , key= lambda elem : elem[0])]\n",
    "            sortedmses = [x for x in sorted(mses)]\n",
    "            templegends = []\n",
    "            for i in range(math.floor( len(population) * 0.2)) :\n",
    "                newPopulation.append(tempList[i])\n",
    "                templegends.append(sortedmses[i])\n",
    "            bests.append(templegends)\n",
    "        # change the mse up to it is negetive fitness\n",
    "        AllMses.append(mses)\n",
    "        MaxOfmses = max( mses )\n",
    "        # info for changing way of calculate mses \n",
    "        legends_inside = np.transpose(bests)\n",
    "        avg_of_legends_inside = legends_inside.mean(axis=0)\n",
    "        #print(avg_of_legends_inside[counter])\n",
    "        # change the fitness func with situation\n",
    "        if avg_of_legends_inside[counter] >= 1000 :\n",
    "            for i in range(0 , NumOfFirstPop):\n",
    "                if mses[i] != 0 :\n",
    "                    mses[i] = 1 / mses[i]\n",
    "        else:\n",
    "            for i in range(0 , NumOfFirstPop):\n",
    "                mses[i] = mses[i] * -1 + MaxOfmses\n",
    "        # select randomly with their fitness\n",
    "        for _ in range(math.floor( (len(population) - len(newPopulation)) / 2)):\n",
    "            # random select each tree for crossover\n",
    "            firstNode = RandomSelection(mses , population)    \n",
    "            secondNode = RandomSelection(mses , population)\n",
    "            firstNewTree , secondNewTree = CrossOver(firstNode , secondNode)\n",
    "            # mutations !\n",
    "            rnd = random.randint(1 , 100)\n",
    "            if rnd % 20 == 0 : \n",
    "                Mutation(firstNewTree) \n",
    "            rnd = random.randint(1 , 100)\n",
    "            if rnd % 20 == 1 : \n",
    "                Mutation(secondNewTree) \n",
    "            newPopulation.append(firstNewTree)\n",
    "            newPopulation.append(secondNewTree)\n",
    "        population = newPopulation\n",
    "        counter = counter + 1\n",
    "    # return the best\n",
    "    indexOfBest = 0 \n",
    "    MaxOfmses = 0  \n",
    "    for index , mse in enumerate (mses) :\n",
    "        if mse > MaxOfmses : \n",
    "            indexOfBest = index \n",
    "            MaxOfmses = mse\n",
    "    #print(-1 * (max(mses) - MaxOfmses))\n",
    "    return  AllMses , bests , population[indexOfBest]"
   ]
  },
  {
   "cell_type": "markdown",
   "metadata": {},
   "source": [
    "**create the test for the Main Algorithm**"
   ]
  },
  {
   "cell_type": "code",
   "execution_count": 305,
   "metadata": {},
   "outputs": [
    {
     "data": {
      "text/plain": [
       "'(x1) ^ (2)'"
      ]
     },
     "execution_count": 305,
     "metadata": {},
     "output_type": "execute_result"
    }
   ],
   "source": [
    "#create a simple power tree\n",
    "powertree = tree(node(\"^\"))\n",
    "powertree.root.leftnode = node(\"x1\")\n",
    "powertree.root.rightnode = node(2)\n",
    "showtree(powertree.root)"
   ]
  },
  {
   "cell_type": "code",
   "execution_count": 327,
   "metadata": {},
   "outputs": [
    {
     "data": {
      "text/plain": [
       "'(sin(x2)) * (x1)'"
      ]
     },
     "execution_count": 327,
     "metadata": {},
     "output_type": "execute_result"
    }
   ],
   "source": [
    "finaltree = tree(node(\"*\"))\n",
    "finaltree.root.leftnode = node(\"sin\")\n",
    "finaltree.root.rightnode = node(\"x1\")\n",
    "finaltree.root.leftnode.leftnode = node(\"x2\")\n",
    "showtree(finaltree.root)"
   ]
  },
  {
   "cell_type": "code",
   "execution_count": 355,
   "metadata": {},
   "outputs": [],
   "source": [
    "x1valuse = [x for x in range(0 , 300)]\n",
    "x2values = [x for x in range(-150 , 150)]\n",
    "inputValue = list( zip(x1valuse , x2values) )\n",
    "trueValues = []\n",
    "trueValues = calculateValue(inputValue , finaltree.root)"
   ]
  },
  {
   "cell_type": "code",
   "execution_count": 482,
   "metadata": {},
   "outputs": [
    {
     "name": "stdout",
     "output_type": "stream",
     "text": [
      "cos((sin(-0.76)) - (x1))\n"
     ]
    }
   ],
   "source": [
    "# test \n",
    "# test tree with 5 depth\n",
    "testMain1 = createRandomTree(5 , CoefficientsRagne )\n",
    "# 300 input values\n",
    "x1valuse = [x for x in range(0 , 300)]\n",
    "x2values = [x for x in range(-150 , 150)]\n",
    "inputValue = list( zip(x1valuse , x2values) )\n",
    "trueValues = []\n",
    "trueValues = calculateValue(inputValue , testMain1.root)\n",
    "print(showtree(testMain1.root))"
   ]
  },
  {
   "cell_type": "code",
   "execution_count": 483,
   "metadata": {},
   "outputs": [
    {
     "data": {
      "text/plain": [
       "[0.7719321065664624,\n",
       " -0.11785059924702607,\n",
       " -0.8992820076086828,\n",
       " -0.8539176854263766,\n",
       " -0.023465381306228744,\n",
       " 0.8285608861707153,\n",
       " 0.9188120960066022,\n",
       " 0.16431170209309615,\n",
       " -0.7412561129625648,\n",
       " -0.9653164762381522,\n",
       " -0.30186932304539704,\n",
       " 0.6391150936135874,\n",
       " 0.9925000406345035,\n",
       " 0.43338502744450186,\n",
       " -0.5241821813205207,\n",
       " -0.9998187099694392,\n",
       " -0.5562265275726729,\n",
       " 0.3987577591043521,\n",
       " 0.9871260010264602,\n",
       " 0.667935149969632,\n",
       " -0.26535219762851237,\n",
       " -0.9546759584613591,\n",
       " -0.7662750457985851,\n",
       " 0.1266356101129794,\n",
       " 0.903118070096708,\n",
       " 0.8492779413758917,\n",
       " 0.014615589999974185,\n",
       " -0.833484267418673,\n",
       " -0.9152825331822266,\n",
       " -0.15557425897970528,\n",
       " 0.7471682714613028,\n",
       " 0.9629677388638135,\n",
       " 0.2934191081081913,\n",
       " -0.645897697470556,\n",
       " -0.9913791387047183,\n",
       " -0.42539117179290326,\n",
       " 0.5316994766734072,\n",
       " 0.9999480783439534,\n",
       " 0.5488490282818993,\n",
       " -0.40685928723555737,\n",
       " -0.9885030503963781,\n",
       " -0.6613216677381487,\n",
       " 0.27387580639740716,\n",
       " 0.9572731271741793,\n",
       " 0.7605579495182209,\n",
       " -0.13541069943210138,\n",
       " -0.9068833758029848,\n",
       " -0.8445716587675695,\n",
       " -0.005764653603010017,\n",
       " 0.8383423474990946,\n",
       " 0.9116812605243503,\n",
       " 0.14682462705706267,\n",
       " -0.7530218914100291,\n",
       " -0.9605435556531159,\n",
       " -0.2849459046022915,\n",
       " 0.6526296970445137,\n",
       " 0.9901805649846439,\n",
       " 0.4173639879295273,\n",
       " -0.5391751148553519,\n",
       " -0.9999991035756587,\n",
       " -0.5414285282006502,\n",
       " 0.4149289390764498,\n",
       " 0.9898026533095036,\n",
       " 0.6546563727986056,\n",
       " -0.28237795776078545,\n",
       " -0.9597952962075826,\n",
       " -0.7547812656439167,\n",
       " 0.14417517970062044,\n",
       " 0.910577629726314,\n",
       " 0.8397992063255247,\n",
       " -0.0030867344384847466,\n",
       " -0.8431347457949565,\n",
       " -0.9080085601826409,\n",
       " -0.13806349183442426,\n",
       " 0.7588165141939478,\n",
       " 0.9580441165340523,\n",
       " 0.27645037637955855,\n",
       " -0.6593105649020711,\n",
       " -0.9889044133791881,\n",
       " -0.40930410476183965,\n",
       " 0.5466085101709549,\n",
       " 0.9999717816668706,\n",
       " 0.5339656087044093,\n",
       " -0.4229660823923162,\n",
       " -0.9910247079455734,\n",
       " -0.6479397873582698,\n",
       " 0.29085798559880277,\n",
       " 0.9622422679566605,\n",
       " 0.7489454467627412,\n",
       " -0.15292836424595407,\n",
       " -0.9142005424322047,\n",
       " -0.8349609579580947,\n",
       " 0.011937880642946003,\n",
       " 0.8478610868352193,\n",
       " 0.9042647199029261,\n",
       " 0.1292915397222976,\n",
       " -0.7645516858205269,\n",
       " -0.955469617330706,\n",
       " -0.2679331890409321,\n",
       " 0.6659397776158664,\n",
       " 0.9875507838712697,\n",
       " 0.4012121537592054,\n",
       " -0.5539990802344271,\n",
       " -0.9998661147581844,\n",
       " -0.526460854492103,\n",
       " 0.43097008749539556,\n",
       " 0.9921691185600153,\n",
       " 0.6411724376428763,\n",
       " -0.29931522552493106,\n",
       " -0.9646138507080014,\n",
       " -0.7430509500948261,\n",
       " 0.1616695672805082,\n",
       " 0.917751830075552,\n",
       " 0.8300572927285437,\n",
       " -0.02078809154775691,\n",
       " -0.8525210003242457,\n",
       " -0.9004500330046492,\n",
       " -0.12050945797866322,\n",
       " 0.7702269569550664,\n",
       " 0.9528202597479087,\n",
       " 0.25939500988428343,\n",
       " -0.6725168158055742,\n",
       " -0.9861197825139849,\n",
       " -0.3930887689034148,\n",
       " 0.5613462460152183,\n",
       " 0.9996821111283077,\n",
       " 0.5189148535402909,\n",
       " -0.43894032729421345,\n",
       " -0.9932357954914481,\n",
       " -0.6343548538554103,\n",
       " 0.3077490149379982,\n",
       " 0.9669098586547084,\n",
       " 0.7370982374575537,\n",
       " -0.17039810395539262,\n",
       " -0.9212312144228689,\n",
       " -0.8250885948253728,\n",
       " 0.029636673763564533,\n",
       " 0.8571141211708043,\n",
       " 0.8965647983578948,\n",
       " 0.11171793465514428,\n",
       " -0.7758418829558935,\n",
       " -0.9500962513554416,\n",
       " -0.25083650785214795,\n",
       " 0.6790411641785871,\n",
       " 0.9846115214223011,\n",
       " 0.38493458663902613,\n",
       " -0.5686494318833711,\n",
       " -0.9994197851934122,\n",
       " -0.5113281970571119,\n",
       " 0.4468761773427001,\n",
       " 0.9942246551687131,\n",
       " 0.6274875701345234,\n",
       " -0.316158693074155,\n",
       " -0.9691301119109702,\n",
       " -0.731087775229336,\n",
       " 0.17911329041413324,\n",
       " 0.9246384228741079,\n",
       " 0.8200552535321879,\n",
       " -0.0384829340286618,\n",
       " -0.8616400895167029,\n",
       " -0.892609320359948,\n",
       " -0.10291765854304297,\n",
       " 0.781396023909236,\n",
       " 0.9472978055717555,\n",
       " 0.24225835347926034,\n",
       " -0.685512311570429,\n",
       " -0.9830261187642632,\n",
       " -0.37675024582344935,\n",
       " 0.5759080656546669,\n",
       " 0.9990791575060024,\n",
       " 0.5037014794359159,\n",
       " -0.45477701588916486,\n",
       " -0.9951356201174107,\n",
       " -0.6205711245127514,\n",
       " 0.32454360105856267,\n",
       " 0.9712744365261335,\n",
       " 0.7250200343131334,\n",
       " -0.18781444384616597,\n",
       " -0.9279731884839849,\n",
       " -0.8149576631972477,\n",
       " 0.047326179263217374,\n",
       " 0.8660985507649384,\n",
       " 0.8885839089114831,\n",
       " 0.09410931911946037,\n",
       " -0.786888944663633,\n",
       " -0.9444251416472762,\n",
       " -0.2336612188401026,\n",
       " 0.6919297509847413,\n",
       " 0.9813636987517494,\n",
       " 0.36853638767697205,\n",
       " -0.5831215786353842,\n",
       " -0.9986602547533077,\n",
       " -0.4960352982087678,\n",
       " 0.4626422239249326,\n",
       " 0.9959686189659784,\n",
       " 0.613606058874317,\n",
       " -0.3329030819570685,\n",
       " -0.9733426644983458,\n",
       " -0.7188954900995221,\n",
       " 0.19650088254038936,\n",
       " 0.9312352499829158,\n",
       " 0.8097962232025365,\n",
       " -0.05616571662363337,\n",
       " -0.8704891556075077,\n",
       " -0.8844888793922593,\n",
       " -0.08529360649322147,\n",
       " 0.7923202148640647,\n",
       " 0.9414784846472096,\n",
       " 0.22504577749619395,\n",
       " -0.6982929796330458,\n",
       " -0.9796243916307311,\n",
       " -0.3602936557324693,\n",
       " 0.5902894056669014,\n",
       " 0.9981631097551904,\n",
       " 0.48833025399958346,\n",
       " -0.47047118523289183,\n",
       " -0.9967235864512797,\n",
       " -0.6065929189126853,\n",
       " 0.34123648082766106,\n",
       " 0.9753346337877142,\n",
       " 0.7127146224294582,\n",
       " -0.20517192593856057,\n",
       " -0.9344243517974812,\n",
       " -0.8045713379324811,\n",
       " 0.0650008535568135,\n",
       " 0.8748115600527684,\n",
       " 0.8803245526364172,\n",
       " 0.07647121135082109,\n",
       " -0.7976894089856601,\n",
       " -0.9384580654339125,\n",
       " -0.21641270444333288,\n",
       " 0.7046014989741266,\n",
       " 0.9778083336710696,\n",
       " 0.3520226957849978,\n",
       " -0.5974109851699636,\n",
       " -0.9975877614615745,\n",
       " -0.4805869504770852,\n",
       " 0.4782632864357612,\n",
       " 0.997400463423718,\n",
       " 0.5995322540878107,\n",
       " -0.34954314477178283,\n",
       " -0.9772501883290012,\n",
       " -0.7064779155566835,\n",
       " 0.21382689468861527,\n",
       " 0.9375402440704489,\n",
       " 0.7992834167422689,\n",
       " -0.07383089785442265,\n",
       " -0.8790654254523881,\n",
       " -0.8760912549073425,\n",
       " -0.06764282490231055,\n",
       " 0.8029961063670361,\n",
       " 0.9353641206488057,\n",
       " 0.20776267605871304,\n",
       " -0.7108548147530898,\n",
       " -0.9759156671558404,\n",
       " -0.3437241558411993,\n",
       " 0.6044857591887035,\n",
       " 0.9969342549493916,\n",
       " 0.4728059943074809,\n",
       " -0.4860179170441707,\n",
       " -0.9979991968518722,\n",
       " -0.5924246175830654,\n",
       " 0.35782242298551,\n",
       " 0.9790891780438572,\n",
       " 0.7001858581097653,\n",
       " -0.22246511069792066,\n",
       " -0.9405826826803603,\n",
       " -0.7939328739257582,\n",
       " 0.08265515770714786,\n",
       " 0.8832504185278917,\n",
       " 0.8717893178720908,\n",
       " 0.05880913882711493,\n",
       " -0.8082398912432713,\n",
       " -0.9321968926938228,\n",
       " -0.19909637004790326,\n",
       " 0.7170524370401057,\n",
       " 0.9739465403701797,\n",
       " 0.33539868606850487,\n",
       " -0.6115131734342647,\n",
       " -0.9962026414190586,\n",
       " -0.4649879951070331,\n",
       " 0.49373446950439204,\n",
       " 0.9985197398266445,\n",
       " 0.5852705662619899,\n",
       " -0.3660736668104345,\n",
       " -0.9808514588525556,\n",
       " -0.6938389430538947,\n",
       " 0.2310858971862913,\n",
       " 0.9435514292606167,\n",
       " 0.7885201286830891,\n",
       " -0.09147294175878627,\n",
       " -0.8873662113967176,\n",
       " -0.867419078575457,\n",
       " -0.04997084521995538,\n",
       " 0.8134203527784134,\n",
       " 0.9289566297124602,\n",
       " 0.19041446539186238,\n",
       " -0.7231938802687154,\n",
       " -0.9719011075896911,\n",
       " -0.3270469387443026]"
      ]
     },
     "execution_count": 483,
     "metadata": {},
     "output_type": "execute_result"
    }
   ],
   "source": [
    "trueValues"
   ]
  },
  {
   "cell_type": "code",
   "execution_count": 484,
   "metadata": {},
   "outputs": [
    {
     "name": "stdout",
     "output_type": "stream",
     "text": [
      "0.4804960150706125\n",
      "0.446512645341069\n",
      "0.3750459872042224\n",
      "0.3290610928849649\n",
      "0.15744038125686438\n",
      "0.09152491936105282\n",
      "0.08967579932136356\n",
      "0.08967579932136356\n",
      "0.08967579932136356\n",
      "0.08967579932136356\n",
      "0.08967579932136356\n",
      "0.08967579932136356\n",
      "0.08967579932136356\n",
      "0.08967579932136356\n",
      "0.08967579932136356\n",
      "0.08967579932136356\n",
      "0.08967579932136356\n",
      "0.08967579932136356\n",
      "0.08967579932136356\n"
     ]
    }
   ],
   "source": [
    "AllData , legends , bestNode = general_algorithm(100 , 5 , 20 , inputValue , trueValues , AllData) "
   ]
  },
  {
   "cell_type": "code",
   "execution_count": 485,
   "metadata": {},
   "outputs": [
    {
     "data": {
      "text/plain": [
       "(20, 100)"
      ]
     },
     "execution_count": 485,
     "metadata": {},
     "output_type": "execute_result"
    }
   ],
   "source": [
    "np.shape(AllData)"
   ]
  },
  {
   "cell_type": "code",
   "execution_count": 486,
   "metadata": {},
   "outputs": [],
   "source": [
    "legends = np.transpose(legends)\n",
    "np.shape(legends)\n",
    "avg_of_legends = legends.mean(axis=0)"
   ]
  },
  {
   "cell_type": "code",
   "execution_count": 487,
   "metadata": {},
   "outputs": [
    {
     "data": {
      "text/plain": [
       "array([0.48049602, 0.44651265, 0.37504599, 0.32906109, 0.15744038,\n",
       "       0.09152492, 0.0896758 , 0.0896758 , 0.0896758 , 0.0896758 ,\n",
       "       0.0896758 , 0.0896758 , 0.0896758 , 0.0896758 , 0.0896758 ,\n",
       "       0.0896758 , 0.0896758 , 0.0896758 , 0.0896758 , 0.0896758 ])"
      ]
     },
     "execution_count": 487,
     "metadata": {},
     "output_type": "execute_result"
    }
   ],
   "source": [
    "avg_of_legends"
   ]
  },
  {
   "cell_type": "code",
   "execution_count": 488,
   "metadata": {},
   "outputs": [
    {
     "data": {
      "application/vnd.plotly.v1+json": {
       "config": {
        "plotlyServerURL": "https://plot.ly"
       },
       "data": [
        {
         "hovertemplate": "variable=0<br>index=%{x}<br>value=%{y}<extra></extra>",
         "legendgroup": "0",
         "line": {
          "color": "#636efa",
          "dash": "solid"
         },
         "marker": {
          "symbol": "circle"
         },
         "mode": "lines",
         "name": "0",
         "orientation": "v",
         "showlegend": true,
         "type": "scatter",
         "x": [
          0,
          1,
          2,
          3,
          4,
          5,
          6,
          7,
          8,
          9,
          10,
          11,
          12,
          13,
          14,
          15,
          16,
          17,
          18,
          19
         ],
         "xaxis": "x",
         "y": [
          0.4804960150706125,
          0.446512645341069,
          0.3750459872042224,
          0.3290610928849649,
          0.15744038125686438,
          0.09152491936105282,
          0.08967579932136356,
          0.08967579932136356,
          0.08967579932136356,
          0.08967579932136356,
          0.08967579932136356,
          0.08967579932136356,
          0.08967579932136356,
          0.08967579932136356,
          0.08967579932136356,
          0.08967579932136356,
          0.08967579932136356,
          0.08967579932136356,
          0.08967579932136356,
          0.08967579932136356
         ],
         "yaxis": "y"
        }
       ],
       "layout": {
        "legend": {
         "title": {
          "text": "variable"
         },
         "tracegroupgap": 0
        },
        "margin": {
         "t": 60
        },
        "template": {
         "data": {
          "bar": [
           {
            "error_x": {
             "color": "#2a3f5f"
            },
            "error_y": {
             "color": "#2a3f5f"
            },
            "marker": {
             "line": {
              "color": "#E5ECF6",
              "width": 0.5
             },
             "pattern": {
              "fillmode": "overlay",
              "size": 10,
              "solidity": 0.2
             }
            },
            "type": "bar"
           }
          ],
          "barpolar": [
           {
            "marker": {
             "line": {
              "color": "#E5ECF6",
              "width": 0.5
             },
             "pattern": {
              "fillmode": "overlay",
              "size": 10,
              "solidity": 0.2
             }
            },
            "type": "barpolar"
           }
          ],
          "carpet": [
           {
            "aaxis": {
             "endlinecolor": "#2a3f5f",
             "gridcolor": "white",
             "linecolor": "white",
             "minorgridcolor": "white",
             "startlinecolor": "#2a3f5f"
            },
            "baxis": {
             "endlinecolor": "#2a3f5f",
             "gridcolor": "white",
             "linecolor": "white",
             "minorgridcolor": "white",
             "startlinecolor": "#2a3f5f"
            },
            "type": "carpet"
           }
          ],
          "choropleth": [
           {
            "colorbar": {
             "outlinewidth": 0,
             "ticks": ""
            },
            "type": "choropleth"
           }
          ],
          "contour": [
           {
            "colorbar": {
             "outlinewidth": 0,
             "ticks": ""
            },
            "colorscale": [
             [
              0,
              "#0d0887"
             ],
             [
              0.1111111111111111,
              "#46039f"
             ],
             [
              0.2222222222222222,
              "#7201a8"
             ],
             [
              0.3333333333333333,
              "#9c179e"
             ],
             [
              0.4444444444444444,
              "#bd3786"
             ],
             [
              0.5555555555555556,
              "#d8576b"
             ],
             [
              0.6666666666666666,
              "#ed7953"
             ],
             [
              0.7777777777777778,
              "#fb9f3a"
             ],
             [
              0.8888888888888888,
              "#fdca26"
             ],
             [
              1,
              "#f0f921"
             ]
            ],
            "type": "contour"
           }
          ],
          "contourcarpet": [
           {
            "colorbar": {
             "outlinewidth": 0,
             "ticks": ""
            },
            "type": "contourcarpet"
           }
          ],
          "heatmap": [
           {
            "colorbar": {
             "outlinewidth": 0,
             "ticks": ""
            },
            "colorscale": [
             [
              0,
              "#0d0887"
             ],
             [
              0.1111111111111111,
              "#46039f"
             ],
             [
              0.2222222222222222,
              "#7201a8"
             ],
             [
              0.3333333333333333,
              "#9c179e"
             ],
             [
              0.4444444444444444,
              "#bd3786"
             ],
             [
              0.5555555555555556,
              "#d8576b"
             ],
             [
              0.6666666666666666,
              "#ed7953"
             ],
             [
              0.7777777777777778,
              "#fb9f3a"
             ],
             [
              0.8888888888888888,
              "#fdca26"
             ],
             [
              1,
              "#f0f921"
             ]
            ],
            "type": "heatmap"
           }
          ],
          "heatmapgl": [
           {
            "colorbar": {
             "outlinewidth": 0,
             "ticks": ""
            },
            "colorscale": [
             [
              0,
              "#0d0887"
             ],
             [
              0.1111111111111111,
              "#46039f"
             ],
             [
              0.2222222222222222,
              "#7201a8"
             ],
             [
              0.3333333333333333,
              "#9c179e"
             ],
             [
              0.4444444444444444,
              "#bd3786"
             ],
             [
              0.5555555555555556,
              "#d8576b"
             ],
             [
              0.6666666666666666,
              "#ed7953"
             ],
             [
              0.7777777777777778,
              "#fb9f3a"
             ],
             [
              0.8888888888888888,
              "#fdca26"
             ],
             [
              1,
              "#f0f921"
             ]
            ],
            "type": "heatmapgl"
           }
          ],
          "histogram": [
           {
            "marker": {
             "pattern": {
              "fillmode": "overlay",
              "size": 10,
              "solidity": 0.2
             }
            },
            "type": "histogram"
           }
          ],
          "histogram2d": [
           {
            "colorbar": {
             "outlinewidth": 0,
             "ticks": ""
            },
            "colorscale": [
             [
              0,
              "#0d0887"
             ],
             [
              0.1111111111111111,
              "#46039f"
             ],
             [
              0.2222222222222222,
              "#7201a8"
             ],
             [
              0.3333333333333333,
              "#9c179e"
             ],
             [
              0.4444444444444444,
              "#bd3786"
             ],
             [
              0.5555555555555556,
              "#d8576b"
             ],
             [
              0.6666666666666666,
              "#ed7953"
             ],
             [
              0.7777777777777778,
              "#fb9f3a"
             ],
             [
              0.8888888888888888,
              "#fdca26"
             ],
             [
              1,
              "#f0f921"
             ]
            ],
            "type": "histogram2d"
           }
          ],
          "histogram2dcontour": [
           {
            "colorbar": {
             "outlinewidth": 0,
             "ticks": ""
            },
            "colorscale": [
             [
              0,
              "#0d0887"
             ],
             [
              0.1111111111111111,
              "#46039f"
             ],
             [
              0.2222222222222222,
              "#7201a8"
             ],
             [
              0.3333333333333333,
              "#9c179e"
             ],
             [
              0.4444444444444444,
              "#bd3786"
             ],
             [
              0.5555555555555556,
              "#d8576b"
             ],
             [
              0.6666666666666666,
              "#ed7953"
             ],
             [
              0.7777777777777778,
              "#fb9f3a"
             ],
             [
              0.8888888888888888,
              "#fdca26"
             ],
             [
              1,
              "#f0f921"
             ]
            ],
            "type": "histogram2dcontour"
           }
          ],
          "mesh3d": [
           {
            "colorbar": {
             "outlinewidth": 0,
             "ticks": ""
            },
            "type": "mesh3d"
           }
          ],
          "parcoords": [
           {
            "line": {
             "colorbar": {
              "outlinewidth": 0,
              "ticks": ""
             }
            },
            "type": "parcoords"
           }
          ],
          "pie": [
           {
            "automargin": true,
            "type": "pie"
           }
          ],
          "scatter": [
           {
            "fillpattern": {
             "fillmode": "overlay",
             "size": 10,
             "solidity": 0.2
            },
            "type": "scatter"
           }
          ],
          "scatter3d": [
           {
            "line": {
             "colorbar": {
              "outlinewidth": 0,
              "ticks": ""
             }
            },
            "marker": {
             "colorbar": {
              "outlinewidth": 0,
              "ticks": ""
             }
            },
            "type": "scatter3d"
           }
          ],
          "scattercarpet": [
           {
            "marker": {
             "colorbar": {
              "outlinewidth": 0,
              "ticks": ""
             }
            },
            "type": "scattercarpet"
           }
          ],
          "scattergeo": [
           {
            "marker": {
             "colorbar": {
              "outlinewidth": 0,
              "ticks": ""
             }
            },
            "type": "scattergeo"
           }
          ],
          "scattergl": [
           {
            "marker": {
             "colorbar": {
              "outlinewidth": 0,
              "ticks": ""
             }
            },
            "type": "scattergl"
           }
          ],
          "scattermapbox": [
           {
            "marker": {
             "colorbar": {
              "outlinewidth": 0,
              "ticks": ""
             }
            },
            "type": "scattermapbox"
           }
          ],
          "scatterpolar": [
           {
            "marker": {
             "colorbar": {
              "outlinewidth": 0,
              "ticks": ""
             }
            },
            "type": "scatterpolar"
           }
          ],
          "scatterpolargl": [
           {
            "marker": {
             "colorbar": {
              "outlinewidth": 0,
              "ticks": ""
             }
            },
            "type": "scatterpolargl"
           }
          ],
          "scatterternary": [
           {
            "marker": {
             "colorbar": {
              "outlinewidth": 0,
              "ticks": ""
             }
            },
            "type": "scatterternary"
           }
          ],
          "surface": [
           {
            "colorbar": {
             "outlinewidth": 0,
             "ticks": ""
            },
            "colorscale": [
             [
              0,
              "#0d0887"
             ],
             [
              0.1111111111111111,
              "#46039f"
             ],
             [
              0.2222222222222222,
              "#7201a8"
             ],
             [
              0.3333333333333333,
              "#9c179e"
             ],
             [
              0.4444444444444444,
              "#bd3786"
             ],
             [
              0.5555555555555556,
              "#d8576b"
             ],
             [
              0.6666666666666666,
              "#ed7953"
             ],
             [
              0.7777777777777778,
              "#fb9f3a"
             ],
             [
              0.8888888888888888,
              "#fdca26"
             ],
             [
              1,
              "#f0f921"
             ]
            ],
            "type": "surface"
           }
          ],
          "table": [
           {
            "cells": {
             "fill": {
              "color": "#EBF0F8"
             },
             "line": {
              "color": "white"
             }
            },
            "header": {
             "fill": {
              "color": "#C8D4E3"
             },
             "line": {
              "color": "white"
             }
            },
            "type": "table"
           }
          ]
         },
         "layout": {
          "annotationdefaults": {
           "arrowcolor": "#2a3f5f",
           "arrowhead": 0,
           "arrowwidth": 1
          },
          "autotypenumbers": "strict",
          "coloraxis": {
           "colorbar": {
            "outlinewidth": 0,
            "ticks": ""
           }
          },
          "colorscale": {
           "diverging": [
            [
             0,
             "#8e0152"
            ],
            [
             0.1,
             "#c51b7d"
            ],
            [
             0.2,
             "#de77ae"
            ],
            [
             0.3,
             "#f1b6da"
            ],
            [
             0.4,
             "#fde0ef"
            ],
            [
             0.5,
             "#f7f7f7"
            ],
            [
             0.6,
             "#e6f5d0"
            ],
            [
             0.7,
             "#b8e186"
            ],
            [
             0.8,
             "#7fbc41"
            ],
            [
             0.9,
             "#4d9221"
            ],
            [
             1,
             "#276419"
            ]
           ],
           "sequential": [
            [
             0,
             "#0d0887"
            ],
            [
             0.1111111111111111,
             "#46039f"
            ],
            [
             0.2222222222222222,
             "#7201a8"
            ],
            [
             0.3333333333333333,
             "#9c179e"
            ],
            [
             0.4444444444444444,
             "#bd3786"
            ],
            [
             0.5555555555555556,
             "#d8576b"
            ],
            [
             0.6666666666666666,
             "#ed7953"
            ],
            [
             0.7777777777777778,
             "#fb9f3a"
            ],
            [
             0.8888888888888888,
             "#fdca26"
            ],
            [
             1,
             "#f0f921"
            ]
           ],
           "sequentialminus": [
            [
             0,
             "#0d0887"
            ],
            [
             0.1111111111111111,
             "#46039f"
            ],
            [
             0.2222222222222222,
             "#7201a8"
            ],
            [
             0.3333333333333333,
             "#9c179e"
            ],
            [
             0.4444444444444444,
             "#bd3786"
            ],
            [
             0.5555555555555556,
             "#d8576b"
            ],
            [
             0.6666666666666666,
             "#ed7953"
            ],
            [
             0.7777777777777778,
             "#fb9f3a"
            ],
            [
             0.8888888888888888,
             "#fdca26"
            ],
            [
             1,
             "#f0f921"
            ]
           ]
          },
          "colorway": [
           "#636efa",
           "#EF553B",
           "#00cc96",
           "#ab63fa",
           "#FFA15A",
           "#19d3f3",
           "#FF6692",
           "#B6E880",
           "#FF97FF",
           "#FECB52"
          ],
          "font": {
           "color": "#2a3f5f"
          },
          "geo": {
           "bgcolor": "white",
           "lakecolor": "white",
           "landcolor": "#E5ECF6",
           "showlakes": true,
           "showland": true,
           "subunitcolor": "white"
          },
          "hoverlabel": {
           "align": "left"
          },
          "hovermode": "closest",
          "mapbox": {
           "style": "light"
          },
          "paper_bgcolor": "white",
          "plot_bgcolor": "#E5ECF6",
          "polar": {
           "angularaxis": {
            "gridcolor": "white",
            "linecolor": "white",
            "ticks": ""
           },
           "bgcolor": "#E5ECF6",
           "radialaxis": {
            "gridcolor": "white",
            "linecolor": "white",
            "ticks": ""
           }
          },
          "scene": {
           "xaxis": {
            "backgroundcolor": "#E5ECF6",
            "gridcolor": "white",
            "gridwidth": 2,
            "linecolor": "white",
            "showbackground": true,
            "ticks": "",
            "zerolinecolor": "white"
           },
           "yaxis": {
            "backgroundcolor": "#E5ECF6",
            "gridcolor": "white",
            "gridwidth": 2,
            "linecolor": "white",
            "showbackground": true,
            "ticks": "",
            "zerolinecolor": "white"
           },
           "zaxis": {
            "backgroundcolor": "#E5ECF6",
            "gridcolor": "white",
            "gridwidth": 2,
            "linecolor": "white",
            "showbackground": true,
            "ticks": "",
            "zerolinecolor": "white"
           }
          },
          "shapedefaults": {
           "line": {
            "color": "#2a3f5f"
           }
          },
          "ternary": {
           "aaxis": {
            "gridcolor": "white",
            "linecolor": "white",
            "ticks": ""
           },
           "baxis": {
            "gridcolor": "white",
            "linecolor": "white",
            "ticks": ""
           },
           "bgcolor": "#E5ECF6",
           "caxis": {
            "gridcolor": "white",
            "linecolor": "white",
            "ticks": ""
           }
          },
          "title": {
           "x": 0.05
          },
          "xaxis": {
           "automargin": true,
           "gridcolor": "white",
           "linecolor": "white",
           "ticks": "",
           "title": {
            "standoff": 15
           },
           "zerolinecolor": "white",
           "zerolinewidth": 2
          },
          "yaxis": {
           "automargin": true,
           "gridcolor": "white",
           "linecolor": "white",
           "ticks": "",
           "title": {
            "standoff": 15
           },
           "zerolinecolor": "white",
           "zerolinewidth": 2
          }
         }
        },
        "xaxis": {
         "anchor": "y",
         "domain": [
          0,
          1
         ],
         "title": {
          "text": "index"
         }
        },
        "yaxis": {
         "anchor": "x",
         "domain": [
          0,
          1
         ],
         "title": {
          "text": "value"
         }
        }
       }
      }
     },
     "metadata": {},
     "output_type": "display_data"
    }
   ],
   "source": [
    "# line plot of growing the bests\n",
    "px.line(avg_of_legends)"
   ]
  },
  {
   "cell_type": "code",
   "execution_count": 489,
   "metadata": {},
   "outputs": [
    {
     "data": {
      "text/plain": [
       "'cos(x2)'"
      ]
     },
     "execution_count": 489,
     "metadata": {},
     "output_type": "execute_result"
    }
   ],
   "source": [
    "showtree(bestNode.root)"
   ]
  },
  {
   "cell_type": "code",
   "execution_count": 490,
   "metadata": {},
   "outputs": [
    {
     "data": {
      "text/plain": [
       "'cos((sin(-0.76)) - (x1))'"
      ]
     },
     "execution_count": 490,
     "metadata": {},
     "output_type": "execute_result"
    }
   ],
   "source": [
    "showtree(testMain1.root )"
   ]
  },
  {
   "cell_type": "code",
   "execution_count": 215,
   "metadata": {},
   "outputs": [
    {
     "data": {
      "image/png": "[encoded data removed]",
      "text/plain": [
       "<Figure size 640x480 with 1 Axes>"
      ]
     },
     "metadata": {},
     "output_type": "display_data"
    }
   ],
   "source": [
    "plt.plot(inputValue , trueValues)\n",
    "plt.plot(inputValue , calculateValue(inputValue , bestNode.root) , '-.')\n",
    "plt.xlabel(\"X-axis data\")\n",
    "plt.ylabel(\"Y-axis data\")\n",
    "plt.title(\"compare best vs realOne!\")\n",
    "plt.show()"
   ]
  },
  {
   "cell_type": "code",
   "execution_count": 216,
   "metadata": {},
   "outputs": [
    {
     "data": {
      "image/png": "[encoded data removed]",
      "text/plain": [
       "<Figure size 640x480 with 1 Axes>"
      ]
     },
     "metadata": {},
     "output_type": "display_data"
    }
   ],
   "source": [
    "fig = plt.figure()\n",
    "ax = fig.add_subplot(111,projection='3d')\n",
    "\n",
    "ax.scatter(x1valuse , x2values , calculateValue(inputValue , bestNode.root) , color = 'r' , marker =\"^\" )\n",
    "ax.scatter(x1valuse , x2values , trueValues , color = 'b' , marker =\"o\" )\n",
    "ax.set_xlabel('X1_Axis')\n",
    "ax.set_ylabel('X2_Axis')\n",
    "ax.set_zlabel('Z_Axis')\n",
    "plt.show()"
   ]
  },
  {
   "cell_type": "code",
   "execution_count": 217,
   "metadata": {},
   "outputs": [
    {
     "data": {
      "application/vnd.plotly.v1+json": {
       "config": {
        "plotlyServerURL": "https://plot.ly"
       },
       "data": [
        {
         "hovertemplate": "x=%{x}<br>y=%{y}<br>z=%{z}<extra></extra>",
         "legendgroup": "",
         "marker": {
          "color": "#636efa",
          "symbol": "circle"
         },
         "mode": "markers",
         "name": "",
         "scene": "scene",
         "showlegend": false,
         "type": "scatter3d",
         "x": [
          0,
          1,
          2,
          3,
          4,
          5,
          6,
          7,
          8,
          9,
          10,
          11,
          12,
          13,
          14,
          15,
          16,
          17,
          18,
          19,
          20,
          21,
          22,
          23,
          24,
          25,
          26,
          27,
          28,
          29,
          30,
          31,
          32,
          33,
          34,
          35,
          36,
          37,
          38,
          39,
          40,
          41,
          42,
          43,
          44,
          45,
          46,
          47,
          48,
          49,
          50,
          51,
          52,
          53,
          54,
          55,
          56,
          57,
          58,
          59,
          60,
          61,
          62,
          63,
          64,
          65,
          66,
          67,
          68,
          69,
          70,
          71,
          72,
          73,
          74,
          75,
          76,
          77,
          78,
          79,
          80,
          81,
          82,
          83,
          84,
          85,
          86,
          87,
          88,
          89,
          90,
          91,
          92,
          93,
          94,
          95,
          96,
          97,
          98,
          99,
          100,
          101,
          102,
          103,
          104,
          105,
          106,
          107,
          108,
          109,
          110,
          111,
          112,
          113,
          114,
          115,
          116,
          117,
          118,
          119,
          120,
          121,
          122,
          123,
          124,
          125,
          126,
          127,
          128,
          129,
          130,
          131,
          132,
          133,
          134,
          135,
          136,
          137,
          138,
          139,
          140,
          141,
          142,
          143,
          144,
          145,
          146,
          147,
          148,
          149,
          150,
          151,
          152,
          153,
          154,
          155,
          156,
          157,
          158,
          159,
          160,
          161,
          162,
          163,
          164,
          165,
          166,
          167,
          168,
          169,
          170,
          171,
          172,
          173,
          174,
          175,
          176,
          177,
          178,
          179,
          180,
          181,
          182,
          183,
          184,
          185,
          186,
          187,
          188,
          189,
          190,
          191,
          192,
          193,
          194,
          195,
          196,
          197,
          198,
          199,
          200,
          201,
          202,
          203,
          204,
          205,
          206,
          207,
          208,
          209,
          210,
          211,
          212,
          213,
          214,
          215,
          216,
          217,
          218,
          219,
          220,
          221,
          222,
          223,
          224,
          225,
          226,
          227,
          228,
          229,
          230,
          231,
          232,
          233,
          234,
          235,
          236,
          237,
          238,
          239,
          240,
          241,
          242,
          243,
          244,
          245,
          246,
          247,
          248,
          249,
          250,
          251,
          252,
          253,
          254,
          255,
          256,
          257,
          258,
          259,
          260,
          261,
          262,
          263,
          264,
          265,
          266,
          267,
          268,
          269,
          270,
          271,
          272,
          273,
          274,
          275,
          276,
          277,
          278,
          279,
          280,
          281,
          282,
          283,
          284,
          285,
          286,
          287,
          288,
          289,
          290,
          291,
          292,
          293,
          294,
          295,
          296,
          297,
          298,
          299
         ],
         "y": [
          -150,
          -149,
          -148,
          -147,
          -146,
          -145,
          -144,
          -143,
          -142,
          -141,
          -140,
          -139,
          -138,
          -137,
          -136,
          -135,
          -134,
          -133,
          -132,
          -131,
          -130,
          -129,
          -128,
          -127,
          -126,
          -125,
          -124,
          -123,
          -122,
          -121,
          -120,
          -119,
          -118,
          -117,
          -116,
          -115,
          -114,
          -113,
          -112,
          -111,
          -110,
          -109,
          -108,
          -107,
          -106,
          -105,
          -104,
          -103,
          -102,
          -101,
          -100,
          -99,
          -98,
          -97,
          -96,
          -95,
          -94,
          -93,
          -92,
          -91,
          -90,
          -89,
          -88,
          -87,
          -86,
          -85,
          -84,
          -83,
          -82,
          -81,
          -80,
          -79,
          -78,
          -77,
          -76,
          -75,
          -74,
          -73,
          -72,
          -71,
          -70,
          -69,
          -68,
          -67,
          -66,
          -65,
          -64,
          -63,
          -62,
          -61,
          -60,
          -59,
          -58,
          -57,
          -56,
          -55,
          -54,
          -53,
          -52,
          -51,
          -50,
          -49,
          -48,
          -47,
          -46,
          -45,
          -44,
          -43,
          -42,
          -41,
          -40,
          -39,
          -38,
          -37,
          -36,
          -35,
          -34,
          -33,
          -32,
          -31,
          -30,
          -29,
          -28,
          -27,
          -26,
          -25,
          -24,
          -23,
          -22,
          -21,
          -20,
          -19,
          -18,
          -17,
          -16,
          -15,
          -14,
          -13,
          -12,
          -11,
          -10,
          -9,
          -8,
          -7,
          -6,
          -5,
          -4,
          -3,
          -2,
          -1,
          0,
          1,
          2,
          3,
          4,
          5,
          6,
          7,
          8,
          9,
          10,
          11,
          12,
          13,
          14,
          15,
          16,
          17,
          18,
          19,
          20,
          21,
          22,
          23,
          24,
          25,
          26,
          27,
          28,
          29,
          30,
          31,
          32,
          33,
          34,
          35,
          36,
          37,
          38,
          39,
          40,
          41,
          42,
          43,
          44,
          45,
          46,
          47,
          48,
          49,
          50,
          51,
          52,
          53,
          54,
          55,
          56,
          57,
          58,
          59,
          60,
          61,
          62,
          63,
          64,
          65,
          66,
          67,
          68,
          69,
          70,
          71,
          72,
          73,
          74,
          75,
          76,
          77,
          78,
          79,
          80,
          81,
          82,
          83,
          84,
          85,
          86,
          87,
          88,
          89,
          90,
          91,
          92,
          93,
          94,
          95,
          96,
          97,
          98,
          99,
          100,
          101,
          102,
          103,
          104,
          105,
          106,
          107,
          108,
          109,
          110,
          111,
          112,
          113,
          114,
          115,
          116,
          117,
          118,
          119,
          120,
          121,
          122,
          123,
          124,
          125,
          126,
          127,
          128,
          129,
          130,
          131,
          132,
          133,
          134,
          135,
          136,
          137,
          138,
          139,
          140,
          141,
          142,
          143,
          144,
          145,
          146,
          147,
          148,
          149
         ],
         "z": [
          0.004765842864194431,
          0.9808649160203478,
          0.678701999153391,
          -1.8305469466248327,
          -3.9910365370040886,
          -2.340947349822177,
          2.9482585158444166,
          6.992357481762375,
          4.7044683608082885,
          -3.269725758119729,
          -9.805300147896718,
          -7.65875772081447,
          2.7371873839088723,
          12.254802355593904,
          11.067687560417706,
          -1.32569666393337,
          -14.17633022966206,
          -14.773803346093407,
          -0.9555827246760833,
          15.421570278154626,
          18.603294567372984,
          4.063168530346624,
          -15.863618650681033,
          -22.371484887807313,
          -7.920094957535343,
          15.401562623048273,
          25.888697640266983,
          12.417757237664409,
          -13.964338934213403,
          -28.96634152134631,
          -17.418719833481035,
          11.51375965142098,
          31.423051603695786,
          22.76041983751479,
          -8.046613720478534,
          -33.09071652203098,
          -28.25967316614409,
          3.5957752448313007,
          33.820223657600934,
          33.71786885899722,
          1.7697248459946047,
          -33.4867598494558,
          -38.9267172895206,
          -7.945679989735016,
          31.994515235622348,
          43.67440195504091,
          14.794730569859762,
          -29.280651945354265,
          -47.75197215100473,
          -22.1493887564695,
          25.318417158380445,
          50.959805555028375,
          29.815999613409485,
          -20.119301084846263,
          -53.11396577148453,
          -37.57954704415784,
          13.734164194848377,
          54.052280338629075,
          45.20918979882208,
          -6.253283967566079,
          -53.63996959662136,
          -52.46439208868872,
          -2.194701089438745,
          51.77466606932627,
          59.10149588652006,
          11.444944047688091,
          -48.39067743336035,
          -64.88056819005759,
          -21.299604157839532,
          43.46236344047207,
          69.57234676774951,
          31.532060801212566,
          -37.00651793429056,
          -72.96510246959986,
          -41.892037364607084,
          29.083670882755186,
          74.87123525011357,
          52.11152071494393,
          -19.79825157959624,
          -75.13342468529571,
          -61.9113395787791,
          9.297582234533222,
          73.63016393260641,
          71.00824586087042,
          2.2302995949565902,
          -70.2805186331503,
          -79.12232727315288,
          -14.559961579074034,
          65.04796893374063,
          85.98456801620155,
          27.43298260324186,
          -57.94321325564693,
          -91.34436699231935,
          -40.5633581040578,
          49.0258362055101,
          94.97682036420132,
          53.643791901419824,
          -38.40476957653998,
          -96.68957732939454,
          -66.35273723812573,
          26.237504116809973,
          96.32908477057993,
          78.36202827693262,
          -12.728039979703478,
          -93.78604786422162,
          -89.34492537785732,
          -1.8764051906533084,
          88.99994957293342,
          98.98438356649777,
          17.28988048597756,
          -81.96249188989623,
          -106.98134409849557,
          -33.19329780415274,
          72.71984532552108,
          113.06284421704655,
          49.24103030447489,
          -61.373619913649634,
          -116.98974027281656,
          -65.06837693832246,
          48.08050037204923,
          118.56384439867072,
          80.29973270818684,
          -33.05051931677229,
          -117.63428485908733,
          -94.55728369883482,
          16.543974885719404,
          114.10291486353893,
          107.47002928587725,
          1.1329679801374946,
          -107.92861376826134,
          -118.68292171500445,
          -19.633920792612017,
          99.13034780690307,
          127.86590581740026,
          38.579056059412885,
          -87.78888430192326,
          -134.72263923367504,
          -57.56290029251204,
          74.04708313895931,
          138.99867629587038,
          76.16297568658449,
          -58.108721481022506,
          -140.48890668149977,
          -93.94910697386045,
          40.23584153949934,
          139.04405300124358,
          110.49319014665117,
          -20.74464593750168,
          -134.5760493890556,
          -125.37920433385034,
          0,
          127.06214559022978,
          138.21323755451084,
          21.591365626773133,
          -116.54760753994526,
          -148.63329167558982,
          -43.58882609262807,
          103.14691544185125,
          156.31863188258464,
          65.52685104998199,
          -87.04339325402691,
          -160.99845142023582,
          -86.92482764615535,
          68.48723855317061,
          162.45963324011967,
          107.2975110785604,
          -47.791958201910795,
          -160.55340634157704,
          -126.16587691064913,
          25.3292522702521,
          155.20071572734417,
          143.06813511956156,
          -1.5224254168470905,
          -146.39615061221406,
          -157.57065688041214,
          -23.16155943063876,
          134.21030530794476,
          169.27856168119072,
          48.22123658083881,
          -118.790480445715,
          -177.8457146778365,
          -73.13082284024777,
          100.3596681860601,
          182.98389228454363,
          97.3512257022763,
          -79.21380302963782,
          -184.47088776237484,
          -120.34164443484296,
          55.71729894813189,
          182.15734780186318,
          141.57151563552958,
          -30.296932932494116,
          -175.97215544722874,
          -160.5325417186006,
          3.4341738157517785,
          165.92620371468422,
          176.7505333773438,
          24.34390751936712,
          -152.11443733631717,
          -189.79679559206244,
          -52.474975560132094,
          134.71607653476104,
          199.29879136213097,
          80.37281254863743,
          -113.9929758360398,
          -204.94982802820522,
          -107.43951546662316,
          90.28611182161504,
          206.5175276794803,
          133.0782542139449,
          -64.01023551591345,
          -203.85086543670405,
          -156.706319790878,
          35.646766878942664,
          196.8855869590822,
          177.76817925577365,
          -5.735049688084736,
          -185.64784881283745,
          -195.74824830144493,
          -25.137875980808708,
          170.25596171773563,
          210.18309271064675,
          56.348790326685275,
          -150.92015641105888,
          -220.67277680954632,
          -87.25087361088617,
          127.94033410615762,
          226.8910902924115,
          117.18709525215962,
          -101.70180737621487,
          -228.59440425201223,
          -145.50413537974615,
          72.66908181512582,
          225.6289325887245,
          171.56654477135257,
          -41.3777730392814,
          -217.9362057218893,
          -194.77083807376883,
          8.424796511610678,
          205.55659909747132,
          214.55921071558754,
          25.542991678524515,
          -188.6307986687476,
          -230.4325721803536,
          -59.84148749447982,
          167.39912851238765,
          241.9625973748296,
          93.76311613327594,
          -142.1987111365971,
          -248.80251361184807,
          -126.59141626002052,
          113.45847788028085,
          250.69636299192294,
          157.61613094351972,
          -81.6920940855695,
          -247.48650832766745,
          -186.14848821748842,
          47.48891041903865,
          239.11918468562126,
          211.5363441155651,
          -11.503096785763388,
          -225.64793746672504,
          -233.17885792662506,
          -25.558842288395773,
          207.23483093729143,
          250.54037346891835,
          62.95193310764833,
          -184.14935738264532,
          -263.1631914125261,
          -99.90770708214967,
          156.7650256269994,
          270.67893595802525,
          135.64998284526365,
          -125.5536575224163,
          -272.8182442176375,
          -169.4111323027427,
          91.07747109065932,
          269.41853800433046,
          200.44849042229666,
          -53.9790782178007,
          -260.42967483095237,
          -228.06055939164725,
          14.96957206918849,
          245.9173170387299,
          251.6026560043808,
          25.185076344929552,
          -226.06390427597233,
          -270.5016569289035,
          -65.6790527717383,
          201.16716409427883,
          284.26950986759374,
          105.68287049917616,
          -171.6361471976876,
          -292.51519934775814,
          -144.36035281315927,
          137.98482678399043,
          294.9548836676087,
          180.8860796135046,
          -100.82335433075096,
          -291.4199538561674
         ]
        },
        {
         "mode": "lines",
         "type": "scatter3d",
         "x": [
          0,
          1,
          2,
          3,
          4,
          5,
          6,
          7,
          8,
          9,
          10,
          11,
          12,
          13,
          14,
          15,
          16,
          17,
          18,
          19,
          20,
          21,
          22,
          23,
          24,
          25,
          26,
          27,
          28,
          29,
          30,
          31,
          32,
          33,
          34,
          35,
          36,
          37,
          38,
          39,
          40,
          41,
          42,
          43,
          44,
          45,
          46,
          47,
          48,
          49,
          50,
          51,
          52,
          53,
          54,
          55,
          56,
          57,
          58,
          59,
          60,
          61,
          62,
          63,
          64,
          65,
          66,
          67,
          68,
          69,
          70,
          71,
          72,
          73,
          74,
          75,
          76,
          77,
          78,
          79,
          80,
          81,
          82,
          83,
          84,
          85,
          86,
          87,
          88,
          89,
          90,
          91,
          92,
          93,
          94,
          95,
          96,
          97,
          98,
          99,
          100,
          101,
          102,
          103,
          104,
          105,
          106,
          107,
          108,
          109,
          110,
          111,
          112,
          113,
          114,
          115,
          116,
          117,
          118,
          119,
          120,
          121,
          122,
          123,
          124,
          125,
          126,
          127,
          128,
          129,
          130,
          131,
          132,
          133,
          134,
          135,
          136,
          137,
          138,
          139,
          140,
          141,
          142,
          143,
          144,
          145,
          146,
          147,
          148,
          149,
          150,
          151,
          152,
          153,
          154,
          155,
          156,
          157,
          158,
          159,
          160,
          161,
          162,
          163,
          164,
          165,
          166,
          167,
          168,
          169,
          170,
          171,
          172,
          173,
          174,
          175,
          176,
          177,
          178,
          179,
          180,
          181,
          182,
          183,
          184,
          185,
          186,
          187,
          188,
          189,
          190,
          191,
          192,
          193,
          194,
          195,
          196,
          197,
          198,
          199,
          200,
          201,
          202,
          203,
          204,
          205,
          206,
          207,
          208,
          209,
          210,
          211,
          212,
          213,
          214,
          215,
          216,
          217,
          218,
          219,
          220,
          221,
          222,
          223,
          224,
          225,
          226,
          227,
          228,
          229,
          230,
          231,
          232,
          233,
          234,
          235,
          236,
          237,
          238,
          239,
          240,
          241,
          242,
          243,
          244,
          245,
          246,
          247,
          248,
          249,
          250,
          251,
          252,
          253,
          254,
          255,
          256,
          257,
          258,
          259,
          260,
          261,
          262,
          263,
          264,
          265,
          266,
          267,
          268,
          269,
          270,
          271,
          272,
          273,
          274,
          275,
          276,
          277,
          278,
          279,
          280,
          281,
          282,
          283,
          284,
          285,
          286,
          287,
          288,
          289,
          290,
          291,
          292,
          293,
          294,
          295,
          296,
          297,
          298,
          299
         ],
         "y": [
          -150,
          -149,
          -148,
          -147,
          -146,
          -145,
          -144,
          -143,
          -142,
          -141,
          -140,
          -139,
          -138,
          -137,
          -136,
          -135,
          -134,
          -133,
          -132,
          -131,
          -130,
          -129,
          -128,
          -127,
          -126,
          -125,
          -124,
          -123,
          -122,
          -121,
          -120,
          -119,
          -118,
          -117,
          -116,
          -115,
          -114,
          -113,
          -112,
          -111,
          -110,
          -109,
          -108,
          -107,
          -106,
          -105,
          -104,
          -103,
          -102,
          -101,
          -100,
          -99,
          -98,
          -97,
          -96,
          -95,
          -94,
          -93,
          -92,
          -91,
          -90,
          -89,
          -88,
          -87,
          -86,
          -85,
          -84,
          -83,
          -82,
          -81,
          -80,
          -79,
          -78,
          -77,
          -76,
          -75,
          -74,
          -73,
          -72,
          -71,
          -70,
          -69,
          -68,
          -67,
          -66,
          -65,
          -64,
          -63,
          -62,
          -61,
          -60,
          -59,
          -58,
          -57,
          -56,
          -55,
          -54,
          -53,
          -52,
          -51,
          -50,
          -49,
          -48,
          -47,
          -46,
          -45,
          -44,
          -43,
          -42,
          -41,
          -40,
          -39,
          -38,
          -37,
          -36,
          -35,
          -34,
          -33,
          -32,
          -31,
          -30,
          -29,
          -28,
          -27,
          -26,
          -25,
          -24,
          -23,
          -22,
          -21,
          -20,
          -19,
          -18,
          -17,
          -16,
          -15,
          -14,
          -13,
          -12,
          -11,
          -10,
          -9,
          -8,
          -7,
          -6,
          -5,
          -4,
          -3,
          -2,
          -1,
          0,
          1,
          2,
          3,
          4,
          5,
          6,
          7,
          8,
          9,
          10,
          11,
          12,
          13,
          14,
          15,
          16,
          17,
          18,
          19,
          20,
          21,
          22,
          23,
          24,
          25,
          26,
          27,
          28,
          29,
          30,
          31,
          32,
          33,
          34,
          35,
          36,
          37,
          38,
          39,
          40,
          41,
          42,
          43,
          44,
          45,
          46,
          47,
          48,
          49,
          50,
          51,
          52,
          53,
          54,
          55,
          56,
          57,
          58,
          59,
          60,
          61,
          62,
          63,
          64,
          65,
          66,
          67,
          68,
          69,
          70,
          71,
          72,
          73,
          74,
          75,
          76,
          77,
          78,
          79,
          80,
          81,
          82,
          83,
          84,
          85,
          86,
          87,
          88,
          89,
          90,
          91,
          92,
          93,
          94,
          95,
          96,
          97,
          98,
          99,
          100,
          101,
          102,
          103,
          104,
          105,
          106,
          107,
          108,
          109,
          110,
          111,
          112,
          113,
          114,
          115,
          116,
          117,
          118,
          119,
          120,
          121,
          122,
          123,
          124,
          125,
          126,
          127,
          128,
          129,
          130,
          131,
          132,
          133,
          134,
          135,
          136,
          137,
          138,
          139,
          140,
          141,
          142,
          143,
          144,
          145,
          146,
          147,
          148,
          149
         ],
         "z": [
          0,
          0.9746486480944947,
          0.676666788648553,
          -1.8271320656498773,
          -3.985876692487095,
          -2.338725810225667,
          2.9461295633908158,
          6.988417526117425,
          4.702360057339252,
          -3.268542288359331,
          -9.802396594403115,
          -7.656881443472157,
          2.7366271140103344,
          12.252687909257261,
          11.066064894120442,
          -1.3255302915600216,
          -14.174797063359174,
          -14.772417855642006,
          -0.9555045686290484,
          15.42046435559731,
          18.602119003735236,
          4.062941232807838,
          -15.862829631038096,
          -22.370491546575384,
          -7.919779816170768,
          15.401011479716411,
          25.887861659118666,
          12.417394248618963,
          -13.963968309099034,
          -28.965641516983805,
          -17.41833552636943,
          11.513527144580797,
          31.422469409410674,
          22.76003205086784,
          -8.046487374385725,
          -33.09023669086696,
          -28.259293992527176,
          3.595730518048734,
          33.81983296593967,
          33.71750649581372,
          1.7697071234028385,
          -33.486446872089,
          -38.92637722754697,
          -7.9456150161087,
          31.994270003557514,
          43.67408775918681,
          14.794630545476423,
          -29.280465677790396,
          -47.75168598520351,
          -22.149263571739176,
          25.31828205548794,
          50.95954854350404,
          29.81585734350199,
          -20.11921016845865,
          -53.11373825345463,
          -37.579394310486656,
          13.734111186188644,
          54.05208205238699,
          45.20903203771667,
          -6.253263193318254,
          -53.639799816033474,
          -52.46423375455964,
          -2.1946947694869623,
          51.77452370774182,
          59.101340608259825,
          11.444915296658161,
          -48.390561124837284,
          -64.88041889371242,
          -21.29955720544979,
          43.462271604937314,
          69.57220577463626,
          31.531999478233093,
          -37.00644883110254,
          -72.96497157639338,
          -41.891965130465344,
          29.083622655707284,
          74.8711157955868,
          52.11144068032269,
          -19.79822229543883,
          -75.13331760709559,
          -61.911254524631126,
          9.297569916438166,
          73.63006981652188,
          71.00815825495175,
          2.2302969380132107,
          -70.28043775665878,
          -79.122239284924,
          -14.559945926344202,
          65.0479013051316,
          85.98448153074698,
          27.432955899199502,
          -57.94315864966155,
          -91.34428362377741,
          -40.56332223804772,
          49.02579419616971,
          94.97674146906888,
          53.643748689755164,
          -38.40473956763791,
          -96.68950401996756,
          -66.3526884084941,
          26.237485370392875,
          96.32901792870666,
          78.36197545501402,
          -12.728031642758072,
          -93.78598815547616,
          -89.34487007608243,
          -1.8764040611738393,
          88.99989746126002,
          98.98432717488845,
          17.28987089971328,
          -81.96244765272837,
          -106.98128787753375,
          -33.19328081545115,
          72.71980906934094,
          113.0627892925152,
          49.241006992057365,
          -61.37359158992277,
          -116.98968763255026,
          -65.06834838651949,
          48.08047979344474,
          118.56379489114342,
          80.29969998976907,
          -33.050506173560024,
          -117.63423919375387,
          -94.55724785947073,
          16.543968762221628,
          114.1028736128346,
          107.46999133024667,
          1.1329675891716962,
          -107.92857737115123,
          -118.6828825945916,
          -19.633914465846757,
          99.13031657386125,
          127.86586641998106,
          38.57904443311875,
          -87.78885842121078,
          -134.72260037450238,
          -57.5628840452498,
          74.04706268406002,
          138.9986387105478,
          76.16295552451177,
          -58.10870641908768,
          -140.4888710205202,
          -93.94908361678684,
          40.235831740645324,
          139.04401982615508,
          110.49316431495751,
          -20.744641184800482,
          -134.57601917020088,
          -125.37917673637658,
          0,
          127.06211870599238,
          138.21320887750363,
          21.591361233159684,
          -116.54758427742094,
          -148.63326257278646,
          -43.588817719032434,
          103.14689599884989,
          156.31860296649432,
          65.5268391534393,
          -87.04337774229916,
          -160.99842325466327,
          -86.92481271607046,
          68.48722700274247,
          162.45960633395873,
          107.29749362592428,
          -47.79195056640084,
          -160.55338114388599,
          -126.1658574576416,
          25.329248433038945,
          155.2006926236967,
          143.06811418966558,
          -1.5224251979494667,
          -146.3961299223045,
          -157.57063498915255,
          -23.16155626711028,
          134.21028728441007,
          169.27853932759703,
          48.22123031880069,
          -118.79046527412119,
          -177.84569233671513,
          -73.13081380347477,
          100.35965598598769,
          182.9838703996299,
          97.35121424608438,
          -79.21379385678794,
          -184.47086674041952,
          -120.34163093775891,
          55.71729279736444,
          182.1573280076926,
          141.57150049107628,
          -30.296929741699415,
          -175.9721371998017,
          -160.53252532731946,
          3.4341734704502342,
          165.9261872841531,
          176.75051613916662,
          24.343905180809127,
          -152.11442294208604,
          -189.7967778991349,
          -52.47497074078575,
          134.71606434451832,
          199.29877359217804,
          80.37280548691234,
          -113.99296596572972,
          -204.94981053851706,
          -107.43950642990384,
          90.28610433629976,
          206.5175108015837,
          133.07824349207982,
          -64.0102304314655,
          -203.8508494717709,
          -156.70630768963522,
          35.646764164497874,
          196.8855721741132,
          177.76816609037223,
          -5.735049269176828,
          -185.64783543764494,
          -195.7482343902655,
          -25.137874218518,
          170.2559499427356,
          210.1830783692168,
          56.34878653317205,
          -150.9201463858696,
          -220.67276234488742,
          -87.25086796712185,
          127.94032593898875,
          226.891075997826,
          117.18708796515803,
          -101.70180113401942,
          -228.5943904023763,
          -145.50412667739883,
          72.66907752447575,
          225.62891943634318,
          171.56653489715038,
          -41.377770687917966,
          -217.9361934929581,
          -194.77082728150495,
          8.424796050611242,
          205.5565879891763,
          214.5591992641339,
          25.5429903320288,
          -188.63078884702472,
          -230.4325603285972,
          -59.84148445410766,
          167.39912011034963,
          241.96258537684884,
          93.76311153979786,
          -142.19870425362487,
          -248.80250171240206,
          -126.59141027743969,
          113.45847258176599,
          250.6963514223184,
          157.61612375491427,
          -81.69209040328286,
          -247.4864973020586,
          -186.14848002069826,
          47.488908352091535,
          239.11917439778853,
          211.53633511880608,
          -11.50309630211845,
          -225.64792808736877,
          -233.17884834411032,
          -25.55884124991397,
          207.23482261186598,
          250.54036351656413,
          62.95193063490009,
          -184.14935022974888,
          -263.1631813038144,
          -99.90770328684627,
          156.76501973732485,
          270.67892590009006,
          135.6499778598192,
          -125.55365295825841,
          -272.81823440763515,
          -169.41112627688054,
          91.07746788596384,
          269.418528626147,
          200.44848351948139,
          -53.97907637873271,
          -260.4296660522933,
          -228.06055178541285,
          14.969571575188425,
          245.9173090086287,
          251.60264787462535,
          25.18507553964041,
          -226.06389712274617,
          -270.501648458218,
          -65.67905073624803,
          201.1671579239503,
          284.26950123769035,
          105.68286732361837,
          -171.6361420928827,
          -292.51519073605795,
          -144.36034860614998,
          137.98482280331436,
          294.954875244045,
          180.88607449933784,
          -100.8233515086344,
          -291.4199457802539
         ]
        }
       ],
       "layout": {
        "legend": {
         "tracegroupgap": 0
        },
        "margin": {
         "t": 60
        },
        "scene": {
         "domain": {
          "x": [
           0,
           1
          ],
          "y": [
           0,
           1
          ]
         },
         "xaxis": {
          "title": {
           "text": "x"
          }
         },
         "yaxis": {
          "title": {
           "text": "y"
          }
         },
         "zaxis": {
          "title": {
           "text": "z"
          }
         }
        },
        "template": {
         "data": {
          "bar": [
           {
            "error_x": {
             "color": "#2a3f5f"
            },
            "error_y": {
             "color": "#2a3f5f"
            },
            "marker": {
             "line": {
              "color": "#E5ECF6",
              "width": 0.5
             },
             "pattern": {
              "fillmode": "overlay",
              "size": 10,
              "solidity": 0.2
             }
            },
            "type": "bar"
           }
          ],
          "barpolar": [
           {
            "marker": {
             "line": {
              "color": "#E5ECF6",
              "width": 0.5
             },
             "pattern": {
              "fillmode": "overlay",
              "size": 10,
              "solidity": 0.2
             }
            },
            "type": "barpolar"
           }
          ],
          "carpet": [
           {
            "aaxis": {
             "endlinecolor": "#2a3f5f",
             "gridcolor": "white",
             "linecolor": "white",
             "minorgridcolor": "white",
             "startlinecolor": "#2a3f5f"
            },
            "baxis": {
             "endlinecolor": "#2a3f5f",
             "gridcolor": "white",
             "linecolor": "white",
             "minorgridcolor": "white",
             "startlinecolor": "#2a3f5f"
            },
            "type": "carpet"
           }
          ],
          "choropleth": [
           {
            "colorbar": {
             "outlinewidth": 0,
             "ticks": ""
            },
            "type": "choropleth"
           }
          ],
          "contour": [
           {
            "colorbar": {
             "outlinewidth": 0,
             "ticks": ""
            },
            "colorscale": [
             [
              0,
              "#0d0887"
             ],
             [
              0.1111111111111111,
              "#46039f"
             ],
             [
              0.2222222222222222,
              "#7201a8"
             ],
             [
              0.3333333333333333,
              "#9c179e"
             ],
             [
              0.4444444444444444,
              "#bd3786"
             ],
             [
              0.5555555555555556,
              "#d8576b"
             ],
             [
              0.6666666666666666,
              "#ed7953"
             ],
             [
              0.7777777777777778,
              "#fb9f3a"
             ],
             [
              0.8888888888888888,
              "#fdca26"
             ],
             [
              1,
              "#f0f921"
             ]
            ],
            "type": "contour"
           }
          ],
          "contourcarpet": [
           {
            "colorbar": {
             "outlinewidth": 0,
             "ticks": ""
            },
            "type": "contourcarpet"
           }
          ],
          "heatmap": [
           {
            "colorbar": {
             "outlinewidth": 0,
             "ticks": ""
            },
            "colorscale": [
             [
              0,
              "#0d0887"
             ],
             [
              0.1111111111111111,
              "#46039f"
             ],
             [
              0.2222222222222222,
              "#7201a8"
             ],
             [
              0.3333333333333333,
              "#9c179e"
             ],
             [
              0.4444444444444444,
              "#bd3786"
             ],
             [
              0.5555555555555556,
              "#d8576b"
             ],
             [
              0.6666666666666666,
              "#ed7953"
             ],
             [
              0.7777777777777778,
              "#fb9f3a"
             ],
             [
              0.8888888888888888,
              "#fdca26"
             ],
             [
              1,
              "#f0f921"
             ]
            ],
            "type": "heatmap"
           }
          ],
          "heatmapgl": [
           {
            "colorbar": {
             "outlinewidth": 0,
             "ticks": ""
            },
            "colorscale": [
             [
              0,
              "#0d0887"
             ],
             [
              0.1111111111111111,
              "#46039f"
             ],
             [
              0.2222222222222222,
              "#7201a8"
             ],
             [
              0.3333333333333333,
              "#9c179e"
             ],
             [
              0.4444444444444444,
              "#bd3786"
             ],
             [
              0.5555555555555556,
              "#d8576b"
             ],
             [
              0.6666666666666666,
              "#ed7953"
             ],
             [
              0.7777777777777778,
              "#fb9f3a"
             ],
             [
              0.8888888888888888,
              "#fdca26"
             ],
             [
              1,
              "#f0f921"
             ]
            ],
            "type": "heatmapgl"
           }
          ],
          "histogram": [
           {
            "marker": {
             "pattern": {
              "fillmode": "overlay",
              "size": 10,
              "solidity": 0.2
             }
            },
            "type": "histogram"
           }
          ],
          "histogram2d": [
           {
            "colorbar": {
             "outlinewidth": 0,
             "ticks": ""
            },
            "colorscale": [
             [
              0,
              "#0d0887"
             ],
             [
              0.1111111111111111,
              "#46039f"
             ],
             [
              0.2222222222222222,
              "#7201a8"
             ],
             [
              0.3333333333333333,
              "#9c179e"
             ],
             [
              0.4444444444444444,
              "#bd3786"
             ],
             [
              0.5555555555555556,
              "#d8576b"
             ],
             [
              0.6666666666666666,
              "#ed7953"
             ],
             [
              0.7777777777777778,
              "#fb9f3a"
             ],
             [
              0.8888888888888888,
              "#fdca26"
             ],
             [
              1,
              "#f0f921"
             ]
            ],
            "type": "histogram2d"
           }
          ],
          "histogram2dcontour": [
           {
            "colorbar": {
             "outlinewidth": 0,
             "ticks": ""
            },
            "colorscale": [
             [
              0,
              "#0d0887"
             ],
             [
              0.1111111111111111,
              "#46039f"
             ],
             [
              0.2222222222222222,
              "#7201a8"
             ],
             [
              0.3333333333333333,
              "#9c179e"
             ],
             [
              0.4444444444444444,
              "#bd3786"
             ],
             [
              0.5555555555555556,
              "#d8576b"
             ],
             [
              0.6666666666666666,
              "#ed7953"
             ],
             [
              0.7777777777777778,
              "#fb9f3a"
             ],
             [
              0.8888888888888888,
              "#fdca26"
             ],
             [
              1,
              "#f0f921"
             ]
            ],
            "type": "histogram2dcontour"
           }
          ],
          "mesh3d": [
           {
            "colorbar": {
             "outlinewidth": 0,
             "ticks": ""
            },
            "type": "mesh3d"
           }
          ],
          "parcoords": [
           {
            "line": {
             "colorbar": {
              "outlinewidth": 0,
              "ticks": ""
             }
            },
            "type": "parcoords"
           }
          ],
          "pie": [
           {
            "automargin": true,
            "type": "pie"
           }
          ],
          "scatter": [
           {
            "fillpattern": {
             "fillmode": "overlay",
             "size": 10,
             "solidity": 0.2
            },
            "type": "scatter"
           }
          ],
          "scatter3d": [
           {
            "line": {
             "colorbar": {
              "outlinewidth": 0,
              "ticks": ""
             }
            },
            "marker": {
             "colorbar": {
              "outlinewidth": 0,
              "ticks": ""
             }
            },
            "type": "scatter3d"
           }
          ],
          "scattercarpet": [
           {
            "marker": {
             "colorbar": {
              "outlinewidth": 0,
              "ticks": ""
             }
            },
            "type": "scattercarpet"
           }
          ],
          "scattergeo": [
           {
            "marker": {
             "colorbar": {
              "outlinewidth": 0,
              "ticks": ""
             }
            },
            "type": "scattergeo"
           }
          ],
          "scattergl": [
           {
            "marker": {
             "colorbar": {
              "outlinewidth": 0,
              "ticks": ""
             }
            },
            "type": "scattergl"
           }
          ],
          "scattermapbox": [
           {
            "marker": {
             "colorbar": {
              "outlinewidth": 0,
              "ticks": ""
             }
            },
            "type": "scattermapbox"
           }
          ],
          "scatterpolar": [
           {
            "marker": {
             "colorbar": {
              "outlinewidth": 0,
              "ticks": ""
             }
            },
            "type": "scatterpolar"
           }
          ],
          "scatterpolargl": [
           {
            "marker": {
             "colorbar": {
              "outlinewidth": 0,
              "ticks": ""
             }
            },
            "type": "scatterpolargl"
           }
          ],
          "scatterternary": [
           {
            "marker": {
             "colorbar": {
              "outlinewidth": 0,
              "ticks": ""
             }
            },
            "type": "scatterternary"
           }
          ],
          "surface": [
           {
            "colorbar": {
             "outlinewidth": 0,
             "ticks": ""
            },
            "colorscale": [
             [
              0,
              "#0d0887"
             ],
             [
              0.1111111111111111,
              "#46039f"
             ],
             [
              0.2222222222222222,
              "#7201a8"
             ],
             [
              0.3333333333333333,
              "#9c179e"
             ],
             [
              0.4444444444444444,
              "#bd3786"
             ],
             [
              0.5555555555555556,
              "#d8576b"
             ],
             [
              0.6666666666666666,
              "#ed7953"
             ],
             [
              0.7777777777777778,
              "#fb9f3a"
             ],
             [
              0.8888888888888888,
              "#fdca26"
             ],
             [
              1,
              "#f0f921"
             ]
            ],
            "type": "surface"
           }
          ],
          "table": [
           {
            "cells": {
             "fill": {
              "color": "#EBF0F8"
             },
             "line": {
              "color": "white"
             }
            },
            "header": {
             "fill": {
              "color": "#C8D4E3"
             },
             "line": {
              "color": "white"
             }
            },
            "type": "table"
           }
          ]
         },
         "layout": {
          "annotationdefaults": {
           "arrowcolor": "#2a3f5f",
           "arrowhead": 0,
           "arrowwidth": 1
          },
          "autotypenumbers": "strict",
          "coloraxis": {
           "colorbar": {
            "outlinewidth": 0,
            "ticks": ""
           }
          },
          "colorscale": {
           "diverging": [
            [
             0,
             "#8e0152"
            ],
            [
             0.1,
             "#c51b7d"
            ],
            [
             0.2,
             "#de77ae"
            ],
            [
             0.3,
             "#f1b6da"
            ],
            [
             0.4,
             "#fde0ef"
            ],
            [
             0.5,
             "#f7f7f7"
            ],
            [
             0.6,
             "#e6f5d0"
            ],
            [
             0.7,
             "#b8e186"
            ],
            [
             0.8,
             "#7fbc41"
            ],
            [
             0.9,
             "#4d9221"
            ],
            [
             1,
             "#276419"
            ]
           ],
           "sequential": [
            [
             0,
             "#0d0887"
            ],
            [
             0.1111111111111111,
             "#46039f"
            ],
            [
             0.2222222222222222,
             "#7201a8"
            ],
            [
             0.3333333333333333,
             "#9c179e"
            ],
            [
             0.4444444444444444,
             "#bd3786"
            ],
            [
             0.5555555555555556,
             "#d8576b"
            ],
            [
             0.6666666666666666,
             "#ed7953"
            ],
            [
             0.7777777777777778,
             "#fb9f3a"
            ],
            [
             0.8888888888888888,
             "#fdca26"
            ],
            [
             1,
             "#f0f921"
            ]
           ],
           "sequentialminus": [
            [
             0,
             "#0d0887"
            ],
            [
             0.1111111111111111,
             "#46039f"
            ],
            [
             0.2222222222222222,
             "#7201a8"
            ],
            [
             0.3333333333333333,
             "#9c179e"
            ],
            [
             0.4444444444444444,
             "#bd3786"
            ],
            [
             0.5555555555555556,
             "#d8576b"
            ],
            [
             0.6666666666666666,
             "#ed7953"
            ],
            [
             0.7777777777777778,
             "#fb9f3a"
            ],
            [
             0.8888888888888888,
             "#fdca26"
            ],
            [
             1,
             "#f0f921"
            ]
           ]
          },
          "colorway": [
           "#636efa",
           "#EF553B",
           "#00cc96",
           "#ab63fa",
           "#FFA15A",
           "#19d3f3",
           "#FF6692",
           "#B6E880",
           "#FF97FF",
           "#FECB52"
          ],
          "font": {
           "color": "#2a3f5f"
          },
          "geo": {
           "bgcolor": "white",
           "lakecolor": "white",
           "landcolor": "#E5ECF6",
           "showlakes": true,
           "showland": true,
           "subunitcolor": "white"
          },
          "hoverlabel": {
           "align": "left"
          },
          "hovermode": "closest",
          "mapbox": {
           "style": "light"
          },
          "paper_bgcolor": "white",
          "plot_bgcolor": "#E5ECF6",
          "polar": {
           "angularaxis": {
            "gridcolor": "white",
            "linecolor": "white",
            "ticks": ""
           },
           "bgcolor": "#E5ECF6",
           "radialaxis": {
            "gridcolor": "white",
            "linecolor": "white",
            "ticks": ""
           }
          },
          "scene": {
           "xaxis": {
            "backgroundcolor": "#E5ECF6",
            "gridcolor": "white",
            "gridwidth": 2,
            "linecolor": "white",
            "showbackground": true,
            "ticks": "",
            "zerolinecolor": "white"
           },
           "yaxis": {
            "backgroundcolor": "#E5ECF6",
            "gridcolor": "white",
            "gridwidth": 2,
            "linecolor": "white",
            "showbackground": true,
            "ticks": "",
            "zerolinecolor": "white"
           },
           "zaxis": {
            "backgroundcolor": "#E5ECF6",
            "gridcolor": "white",
            "gridwidth": 2,
            "linecolor": "white",
            "showbackground": true,
            "ticks": "",
            "zerolinecolor": "white"
           }
          },
          "shapedefaults": {
           "line": {
            "color": "#2a3f5f"
           }
          },
          "ternary": {
           "aaxis": {
            "gridcolor": "white",
            "linecolor": "white",
            "ticks": ""
           },
           "baxis": {
            "gridcolor": "white",
            "linecolor": "white",
            "ticks": ""
           },
           "bgcolor": "#E5ECF6",
           "caxis": {
            "gridcolor": "white",
            "linecolor": "white",
            "ticks": ""
           }
          },
          "title": {
           "x": 0.05
          },
          "xaxis": {
           "automargin": true,
           "gridcolor": "white",
           "linecolor": "white",
           "ticks": "",
           "title": {
            "standoff": 15
           },
           "zerolinecolor": "white",
           "zerolinewidth": 2
          },
          "yaxis": {
           "automargin": true,
           "gridcolor": "white",
           "linecolor": "white",
           "ticks": "",
           "title": {
            "standoff": 15
           },
           "zerolinecolor": "white",
           "zerolinewidth": 2
          }
         }
        }
       }
      }
     },
     "metadata": {},
     "output_type": "display_data"
    }
   ],
   "source": [
    "figScatter = px.scatter_3d(x=x1valuse , y = x2values , z = calculateValue(inputValue , bestNode.root))\n",
    "figScatter.add_scatter3d(x=x1valuse , y = x2values , z = trueValues , mode = \"lines\")\n",
    "figScatter.show()"
   ]
  },
  {
   "cell_type": "code",
   "execution_count": null,
   "metadata": {},
   "outputs": [],
   "source": []
  }
 ],
 "metadata": {
  "kernelspec": {
   "display_name": "Python 3.9.12 ('insta')",
   "language": "python",
   "name": "python3"
  },
  "language_info": {
   "codemirror_mode": {
    "name": "ipython",
    "version": 3
   },
   "file_extension": ".py",
   "mimetype": "text/x-python",
   "name": "python",
   "nbconvert_exporter": "python",
   "pygments_lexer": "ipython3",
   "version": "3.9.12"
  },
  "orig_nbformat": 4,
  "vscode": {
   "interpreter": {
    "hash": "b0616622e670fd58f9292b36f2e3689d12ca973b5ecffe1ed42939b0efd1bc58"
   }
  }
 },
 "nbformat": 4,
 "nbformat_minor": 2
}
